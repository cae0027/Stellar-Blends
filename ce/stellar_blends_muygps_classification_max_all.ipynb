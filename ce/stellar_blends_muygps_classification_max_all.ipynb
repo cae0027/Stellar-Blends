{
 "cells": [
  {
   "cell_type": "markdown",
   "metadata": {},
   "source": [
    "# Stellar Blends Classification\n",
    "\n",
    "### In this notebook we run the un-normalized and normalized datasets through the MuyGPyS classifier (a python classifying function that uses the MuyGPS  Gaussian process hyperparameter estimation method), and compare the resulting accuracies.\n",
    "\n",
    "**Note:** Must have run `data_normalization.ipynb` to continue."
   ]
  },
  {
   "cell_type": "code",
   "execution_count": 1,
   "metadata": {},
   "outputs": [
    {
     "name": "stderr",
     "output_type": "stream",
     "text": [
      "/home/eleh/miniconda3/envs/muygps/lib/python3.8/site-packages/scipy/__init__.py:146: UserWarning: A NumPy version >=1.16.5 and <1.23.0 is required for this version of SciPy (detected version 1.24.3\n",
      "  warnings.warn(f\"A NumPy version >={np_minversion} and <{np_maxversion}\"\n",
      "No GPU/TPU found, falling back to CPU. (Set TF_CPP_MIN_LOG_LEVEL=0 and rerun for more info.)\n"
     ]
    }
   ],
   "source": [
    "# from MuyGPyS import config\n",
    "# config.update(\"muygpys_jax_enabled\", False)\n",
    "\n",
    "import numpy as np\n",
    "import pandas as pd\n",
    "import random\n",
    "from tqdm import tqdm\n",
    "import matplotlib.pyplot as plt\n",
    "from sklearn.model_selection import train_test_split\n",
    "\n",
    "from MuyGPyS.examples.classify import do_classify\n",
    "from MuyGPyS.gp.deformation import F2, Isotropy\n",
    "from MuyGPyS.gp.hyperparameter import Parameter, Parameter as ScalarParam\n",
    "from MuyGPyS.gp.kernels import RBF, Matern\n",
    "from MuyGPyS.gp.noise import HomoscedasticNoise\n",
    "from MuyGPyS.optimize import Bayes_optimize\n",
    "from MuyGPyS.optimize.loss import LossFn, cross_entropy_fn\n",
    "\n"
   ]
  },
  {
   "cell_type": "markdown",
   "metadata": {},
   "source": [
    "### Read in all flattened data (normalized and un-normalized):"
   ]
  },
  {
   "cell_type": "code",
   "execution_count": 2,
   "metadata": {},
   "outputs": [],
   "source": [
    "from glob import glob\n",
    "\n",
    "# read normalized data csv file names from the data directory\n",
    "norm_data_names = glob('../data/data-norm/max-pixel-all/*.csv')\n",
    "# get rid of \"../data/data-norm/max-pixel-all/\"\n",
    "norm_data_names = [name.split('/')[-1] for name in norm_data_names]\n",
    "# norm_data_names[:10]"
   ]
  },
  {
   "cell_type": "code",
   "execution_count": 3,
   "metadata": {},
   "outputs": [
    {
     "data": {
      "text/plain": [
       "['nthroot_0.0_data.csv',\n",
       " 'nthroot_0.03448_data.csv',\n",
       " 'nthroot_0.06897_data.csv',\n",
       " 'nthroot_0.1034_data.csv',\n",
       " 'nthroot_0.1379_data.csv',\n",
       " 'nthroot_0.1724_data.csv',\n",
       " 'nthroot_0.2069_data.csv',\n",
       " 'nthroot_0.2414_data.csv',\n",
       " 'nthroot_0.2759_data.csv',\n",
       " 'nthroot_0.3103_data.csv']"
      ]
     },
     "execution_count": 3,
     "metadata": {},
     "output_type": "execute_result"
    }
   ],
   "source": [
    "# sort the names by their numbers\n",
    "norm_data_names.sort(key=lambda x: x.split('_')[1])\n",
    "norm_data_names[:10]"
   ]
  },
  {
   "cell_type": "markdown",
   "metadata": {},
   "source": [
    "### Define a function that generates \"one-hot\" values.\n",
    "\n",
    "This essentially just takes our truth labels of 0 and 1, and does the following conversions for use in the classifier:\n",
    "- 0 to [1., -1.]\n",
    "- 1 to [-1., 1.]"
   ]
  },
  {
   "cell_type": "code",
   "execution_count": 4,
   "metadata": {},
   "outputs": [],
   "source": [
    "def generate_onehot_value(values):\n",
    "    onehot = []\n",
    "    for val in values:\n",
    "        if val == 0:\n",
    "            onehot.append([1., -1.])\n",
    "        elif val == 1:\n",
    "            onehot.append([-1., 1.])\n",
    "    return onehot"
   ]
  },
  {
   "cell_type": "markdown",
   "metadata": {},
   "source": [
    "### Run the classifier on each dataset\n",
    "\n",
    "For each dataset (un-normalized and normalized) in `data_files`, this for loop does the following:\n",
    "- Separate labels from data\n",
    "- Split up data between training and testing\n",
    "    - `test_size` is the fraction of the data you want to use for testing, where 0.5 means half of the data is used for testing and half for training.\n",
    "    - `random_state` makes each dataset get trained and tested on the same number of stars and galaxies.\n",
    "- Gets the one-hot values for the testing and training labels\n",
    "- Gets `train` and `test` into the proper format for the classifier, a dictionary with the keys: \n",
    "    - 'input': \n",
    "    - 'output':\n",
    "    - 'lookup':\n",
    "- Does the classification (`do_classify`)\n",
    "- Computes the accuracy of the classifier for the given dataset, by compairing predicted labels to truth labels."
   ]
  },
  {
   "cell_type": "code",
   "execution_count": 5,
   "metadata": {},
   "outputs": [],
   "source": [
    "nn_kwargs_exact = {\"nn_method\": \"exact\", \"algorithm\": \"ball_tree\"}\n",
    "\n",
    "nn_kwargs_hnsw = {\"nn_method\": \"hnsw\"}\n",
    "\n",
    "k_kwargs_rbf ={\n",
    "            \"kernel\": RBF(\n",
    "                 deformation=Isotropy(\n",
    "                     metric=F2,\n",
    "                 length_scale=Parameter(1.0, (1e-2, 1e2)),\n",
    "                 ),\n",
    "            ),\n",
    "            \"noise\": HomoscedasticNoise(1e-5),\n",
    "            }\n",
    "k_kwargs_mattern= { \"kernel\": Matern(\n",
    "             smoothness=ScalarParam(0.5),\n",
    "             deformation=Isotropy(\n",
    "                 metric=F2,\n",
    "                 length_scale=Parameter(1.0, (1e-2, 1e2)),\n",
    "             ),\n",
    "         ),\n",
    "         \"noise\": HomoscedasticNoise(1e-5),\n",
    "         }"
   ]
  },
  {
   "cell_type": "code",
   "execution_count": 6,
   "metadata": {},
   "outputs": [
    {
     "name": "stdout",
     "output_type": "stream",
     "text": [
      "===============  nthroot_00_data  ===============\n",
      "Training data: 12072 single stars and 9729 blended stars\n",
      "Testing data: 3037 single stars and 2414 blended stars\n",
      "Running Classifier on nthroot_00_data\n"
     ]
    },
    {
     "name": "stdout",
     "output_type": "stream",
     "text": [
      "Total accuracy for nthroot_00_data : 44.285 %\n",
      "===============  nthroot_003448_data  ===============\n",
      "Training data: 12072 single stars and 9729 blended stars\n",
      "Testing data: 3037 single stars and 2414 blended stars\n",
      "Running Classifier on nthroot_003448_data\n",
      "Total accuracy for nthroot_003448_data : 74.537 %\n",
      "===============  nthroot_006897_data  ===============\n",
      "Training data: 12072 single stars and 9729 blended stars\n",
      "Testing data: 3037 single stars and 2414 blended stars\n",
      "Running Classifier on nthroot_006897_data\n",
      "Total accuracy for nthroot_006897_data : 79.692 %\n",
      "===============  nthroot_01034_data  ===============\n",
      "Training data: 12072 single stars and 9729 blended stars\n",
      "Testing data: 3037 single stars and 2414 blended stars\n",
      "Running Classifier on nthroot_01034_data\n",
      "Total accuracy for nthroot_01034_data : 80.793 %\n",
      "===============  nthroot_01379_data  ===============\n",
      "Training data: 12072 single stars and 9729 blended stars\n",
      "Testing data: 3037 single stars and 2414 blended stars\n",
      "Running Classifier on nthroot_01379_data\n",
      "Total accuracy for nthroot_01379_data : 78.903 %\n",
      "===============  nthroot_01724_data  ===============\n",
      "Training data: 12072 single stars and 9729 blended stars\n",
      "Testing data: 3037 single stars and 2414 blended stars\n",
      "Running Classifier on nthroot_01724_data\n",
      "Total accuracy for nthroot_01724_data : 75.161 %\n",
      "===============  nthroot_02069_data  ===============\n",
      "Training data: 12072 single stars and 9729 blended stars\n",
      "Testing data: 3037 single stars and 2414 blended stars\n",
      "Running Classifier on nthroot_02069_data\n",
      "Total accuracy for nthroot_02069_data : 79.93 %\n",
      "===============  nthroot_02414_data  ===============\n",
      "Training data: 12072 single stars and 9729 blended stars\n",
      "Testing data: 3037 single stars and 2414 blended stars\n",
      "Running Classifier on nthroot_02414_data\n",
      "Total accuracy for nthroot_02414_data : 81.196 %\n",
      "===============  nthroot_02759_data  ===============\n",
      "Training data: 12072 single stars and 9729 blended stars\n",
      "Testing data: 3037 single stars and 2414 blended stars\n",
      "Running Classifier on nthroot_02759_data\n",
      "Total accuracy for nthroot_02759_data : 73.271 %\n",
      "===============  nthroot_03103_data  ===============\n",
      "Training data: 12072 single stars and 9729 blended stars\n",
      "Testing data: 3037 single stars and 2414 blended stars\n",
      "Running Classifier on nthroot_03103_data\n",
      "Total accuracy for nthroot_03103_data : 80.297 %\n",
      "===============  nthroot_03448_data  ===============\n",
      "Training data: 12072 single stars and 9729 blended stars\n",
      "Testing data: 3037 single stars and 2414 blended stars\n",
      "Running Classifier on nthroot_03448_data\n",
      "Total accuracy for nthroot_03448_data : 77.215 %\n",
      "===============  nthroot_03793_data  ===============\n",
      "Training data: 12072 single stars and 9729 blended stars\n",
      "Testing data: 3037 single stars and 2414 blended stars\n",
      "Running Classifier on nthroot_03793_data\n",
      "Total accuracy for nthroot_03793_data : 78.554 %\n",
      "===============  nthroot_04138_data  ===============\n",
      "Training data: 12072 single stars and 9729 blended stars\n",
      "Testing data: 3037 single stars and 2414 blended stars\n",
      "Running Classifier on nthroot_04138_data\n",
      "\u001b[91mData point [100.] is not unique. 1 duplicates registered. Continuing ...\u001b[0m\n",
      "\u001b[91mData point [100.] is not unique. 2 duplicates registered. Continuing ...\u001b[0m\n",
      "\u001b[91mData point [100.] is not unique. 3 duplicates registered. Continuing ...\u001b[0m\n",
      "\u001b[91mData point [100.] is not unique. 4 duplicates registered. Continuing ...\u001b[0m\n",
      "\u001b[91mData point [100.] is not unique. 5 duplicates registered. Continuing ...\u001b[0m\n",
      "\u001b[91mData point [100.] is not unique. 6 duplicates registered. Continuing ...\u001b[0m\n",
      "\u001b[91mData point [100.] is not unique. 7 duplicates registered. Continuing ...\u001b[0m\n",
      "\u001b[91mData point [100.] is not unique. 8 duplicates registered. Continuing ...\u001b[0m\n",
      "\u001b[91mData point [100.] is not unique. 9 duplicates registered. Continuing ...\u001b[0m\n",
      "Total accuracy for nthroot_04138_data : 70.996 %\n",
      "===============  nthroot_04483_data  ===============\n",
      "Training data: 12072 single stars and 9729 blended stars\n",
      "Testing data: 3037 single stars and 2414 blended stars\n",
      "Running Classifier on nthroot_04483_data\n",
      "Total accuracy for nthroot_04483_data : 80.572 %\n",
      "===============  nthroot_04828_data  ===============\n",
      "Training data: 12072 single stars and 9729 blended stars\n",
      "Testing data: 3037 single stars and 2414 blended stars\n",
      "Running Classifier on nthroot_04828_data\n",
      "Total accuracy for nthroot_04828_data : 79.582 %\n",
      "===============  nthroot_05172_data  ===============\n",
      "Training data: 12072 single stars and 9729 blended stars\n",
      "Testing data: 3037 single stars and 2414 blended stars\n",
      "Running Classifier on nthroot_05172_data\n",
      "Total accuracy for nthroot_05172_data : 74.041 %\n",
      "===============  nthroot_05517_data  ===============\n",
      "Training data: 12072 single stars and 9729 blended stars\n",
      "Testing data: 3037 single stars and 2414 blended stars\n",
      "Running Classifier on nthroot_05517_data\n",
      "Total accuracy for nthroot_05517_data : 73.069 %\n",
      "===============  nthroot_05862_data  ===============\n",
      "Training data: 12072 single stars and 9729 blended stars\n",
      "Testing data: 3037 single stars and 2414 blended stars\n",
      "Running Classifier on nthroot_05862_data\n",
      "Total accuracy for nthroot_05862_data : 71.693 %\n",
      "===============  nthroot_06207_data  ===============\n",
      "Training data: 12072 single stars and 9729 blended stars\n",
      "Testing data: 3037 single stars and 2414 blended stars\n",
      "Running Classifier on nthroot_06207_data\n",
      "Total accuracy for nthroot_06207_data : 78.353 %\n",
      "===============  nthroot_06552_data  ===============\n",
      "Training data: 12072 single stars and 9729 blended stars\n",
      "Testing data: 3037 single stars and 2414 blended stars\n",
      "Running Classifier on nthroot_06552_data\n",
      "Total accuracy for nthroot_06552_data : 76.445 %\n",
      "===============  nthroot_06897_data  ===============\n",
      "Training data: 12072 single stars and 9729 blended stars\n",
      "Testing data: 3037 single stars and 2414 blended stars\n",
      "Running Classifier on nthroot_06897_data\n",
      "Total accuracy for nthroot_06897_data : 78.096 %\n",
      "===============  nthroot_07241_data  ===============\n",
      "Training data: 12072 single stars and 9729 blended stars\n",
      "Testing data: 3037 single stars and 2414 blended stars\n",
      "Running Classifier on nthroot_07241_data\n",
      "Total accuracy for nthroot_07241_data : 77.674 %\n",
      "===============  nthroot_07586_data  ===============\n",
      "Training data: 12072 single stars and 9729 blended stars\n",
      "Testing data: 3037 single stars and 2414 blended stars\n",
      "Running Classifier on nthroot_07586_data\n",
      "Total accuracy for nthroot_07586_data : 75.674 %\n",
      "===============  nthroot_07931_data  ===============\n",
      "Training data: 12072 single stars and 9729 blended stars\n",
      "Testing data: 3037 single stars and 2414 blended stars\n",
      "Running Classifier on nthroot_07931_data\n",
      "Total accuracy for nthroot_07931_data : 69.033 %\n",
      "===============  nthroot_08276_data  ===============\n",
      "Training data: 12072 single stars and 9729 blended stars\n",
      "Testing data: 3037 single stars and 2414 blended stars\n",
      "Running Classifier on nthroot_08276_data\n",
      "Total accuracy for nthroot_08276_data : 79.307 %\n",
      "===============  nthroot_08621_data  ===============\n",
      "Training data: 12072 single stars and 9729 blended stars\n",
      "Testing data: 3037 single stars and 2414 blended stars\n",
      "Running Classifier on nthroot_08621_data\n",
      "Total accuracy for nthroot_08621_data : 79.435 %\n",
      "===============  nthroot_08966_data  ===============\n",
      "Training data: 12072 single stars and 9729 blended stars\n",
      "Testing data: 3037 single stars and 2414 blended stars\n",
      "Running Classifier on nthroot_08966_data\n",
      "Total accuracy for nthroot_08966_data : 72.959 %\n",
      "===============  nthroot_0931_data  ===============\n",
      "Training data: 12072 single stars and 9729 blended stars\n",
      "Testing data: 3037 single stars and 2414 blended stars\n",
      "Running Classifier on nthroot_0931_data\n",
      "Total accuracy for nthroot_0931_data : 75.326 %\n",
      "===============  nthroot_09655_data  ===============\n",
      "Training data: 12072 single stars and 9729 blended stars\n",
      "Testing data: 3037 single stars and 2414 blended stars\n",
      "Running Classifier on nthroot_09655_data\n",
      "\u001b[91mData point [100.] is not unique. 1 duplicates registered. Continuing ...\u001b[0m\n",
      "\u001b[91mData point [100.] is not unique. 2 duplicates registered. Continuing ...\u001b[0m\n",
      "\u001b[91mData point [100.] is not unique. 3 duplicates registered. Continuing ...\u001b[0m\n",
      "\u001b[91mData point [100.] is not unique. 4 duplicates registered. Continuing ...\u001b[0m\n",
      "\u001b[91mData point [100.] is not unique. 5 duplicates registered. Continuing ...\u001b[0m\n",
      "\u001b[91mData point [100.] is not unique. 6 duplicates registered. Continuing ...\u001b[0m\n",
      "Total accuracy for nthroot_09655_data : 69.015 %\n",
      "===============  norm_1_datacsv  ===============\n",
      "Training data: 12072 single stars and 9729 blended stars\n",
      "Testing data: 3037 single stars and 2414 blended stars\n",
      "Running Classifier on norm_1_datacsv\n",
      "Total accuracy for norm_1_datacsv : 78.389 %\n",
      "===============  nthroot_10_data  ===============\n",
      "Training data: 12072 single stars and 9729 blended stars\n",
      "Testing data: 3037 single stars and 2414 blended stars\n",
      "Running Classifier on nthroot_10_data\n",
      "Total accuracy for nthroot_10_data : 69.088 %\n",
      "===============  norm_2_datacsv  ===============\n",
      "Training data: 12072 single stars and 9729 blended stars\n",
      "Testing data: 3037 single stars and 2414 blended stars\n",
      "Running Classifier on norm_2_datacsv\n",
      "Total accuracy for norm_2_datacsv : 77.986 %\n",
      "===============  norm_21_datacsv  ===============\n",
      "Training data: 12072 single stars and 9729 blended stars\n",
      "Testing data: 3037 single stars and 2414 blended stars\n",
      "Running Classifier on norm_21_datacsv\n",
      "Total accuracy for norm_21_datacsv : 81.691 %\n",
      "===============  norm_3_datacsv  ===============\n",
      "Training data: 12072 single stars and 9729 blended stars\n",
      "Testing data: 3037 single stars and 2414 blended stars\n",
      "Running Classifier on norm_3_datacsv\n",
      "\u001b[91mData point [100.] is not unique. 1 duplicates registered. Continuing ...\u001b[0m\n",
      "\u001b[91mData point [100.] is not unique. 2 duplicates registered. Continuing ...\u001b[0m\n",
      "\u001b[91mData point [100.] is not unique. 3 duplicates registered. Continuing ...\u001b[0m\n",
      "\u001b[91mData point [100.] is not unique. 4 duplicates registered. Continuing ...\u001b[0m\n",
      "\u001b[91mData point [100.] is not unique. 5 duplicates registered. Continuing ...\u001b[0m\n",
      "\u001b[91mData point [100.] is not unique. 6 duplicates registered. Continuing ...\u001b[0m\n",
      "Total accuracy for norm_3_datacsv : 69.033 %\n",
      "===============  norm_31_datacsv  ===============\n",
      "Training data: 12072 single stars and 9729 blended stars\n",
      "Testing data: 3037 single stars and 2414 blended stars\n",
      "Running Classifier on norm_31_datacsv\n",
      "Total accuracy for norm_31_datacsv : 69.29 %\n",
      "===============  norm_4_datacsv  ===============\n",
      "Training data: 12072 single stars and 9729 blended stars\n",
      "Testing data: 3037 single stars and 2414 blended stars\n",
      "Running Classifier on norm_4_datacsv\n",
      "Total accuracy for norm_4_datacsv : 77.087 %\n",
      "===============  norm_41_datacsv  ===============\n",
      "Training data: 12072 single stars and 9729 blended stars\n",
      "Testing data: 3037 single stars and 2414 blended stars\n",
      "Running Classifier on norm_41_datacsv\n",
      "Total accuracy for norm_41_datacsv : 69.18 %\n",
      "===============  norm_5_datacsv  ===============\n",
      "Training data: 12072 single stars and 9729 blended stars\n",
      "Testing data: 3037 single stars and 2414 blended stars\n",
      "Running Classifier on norm_5_datacsv\n",
      "Total accuracy for norm_5_datacsv : 74.463 %\n",
      "===============  norm_51_datacsv  ===============\n",
      "Training data: 12072 single stars and 9729 blended stars\n",
      "Testing data: 3037 single stars and 2414 blended stars\n",
      "Running Classifier on norm_51_datacsv\n",
      "Total accuracy for norm_51_datacsv : 77.912 %\n",
      "===============  nthroot_log_datacsv  ===============\n",
      "Training data: 12072 single stars and 9729 blended stars\n",
      "Testing data: 3037 single stars and 2414 blended stars\n",
      "Running Classifier on nthroot_log_datacsv\n",
      "Total accuracy for nthroot_log_datacsv : 78.132 %\n"
     ]
    }
   ],
   "source": [
    "for path in norm_data_names:\n",
    "    path1 = '../data/data-norm/max-pixel-all/' + path\n",
    "    data = pd.read_csv(path1,na_values='-')\n",
    "    data.fillna(0,inplace=True)\n",
    "    data_label = ''.join(path.split('.')[:2])\n",
    "    truth_labels = data.iloc[:, 0].values\n",
    "    image_data = data.iloc[:, 1:].values\n",
    "\n",
    "    X_train, X_test, y_train, y_test = train_test_split(image_data, truth_labels, test_size=0.2, random_state=42)\n",
    "\n",
    "    print(\"=============== \", data_label, \" ===============\")\n",
    "    print('Training data:', len(y_train[y_train==0]), 'single stars and', len(y_train[y_train==1]), 'blended stars')\n",
    "    print('Testing data:', len(y_test[y_test==0]), 'single stars and', len(y_test[y_test==1]), 'blended stars')\n",
    "\n",
    "    onehot_train, onehot_test = generate_onehot_value(y_train), generate_onehot_value(y_test)\n",
    "\n",
    "    train = {'input': X_train, 'output': onehot_train, 'lookup': y_train}\n",
    "    test = {'input': X_test, 'output': onehot_test, 'lookup': y_test}\n",
    "\n",
    "    print(\"Running Classifier on\", data_label)\n",
    "    #Switch verbose to True for more output\n",
    "\n",
    "\n",
    "    muygps, nbrs_lookup, surrogate_predictions = do_classify(\n",
    "                                test_features=np.array(test['input']), \n",
    "                                train_features=np.array(train['input']), \n",
    "                                train_labels=np.array(train['output']), \n",
    "                                nn_count=30,\n",
    "                                batch_count=200,\n",
    "                                loss_fn=cross_entropy_fn,\n",
    "                                opt_fn=Bayes_optimize,\n",
    "                                k_kwargs=k_kwargs_mattern,\n",
    "                                nn_kwargs=nn_kwargs_hnsw,\n",
    "                                verbose=False)\n",
    "    predicted_labels = np.argmax(surrogate_predictions, axis=1)\n",
    "    print(\"Total accuracy for\", data_label, \":\", np.around((np.sum(predicted_labels == np.argmax(test[\"output\"], axis=1))/len(predicted_labels))*100, 3), '%')"
   ]
  },
  {
   "cell_type": "markdown",
   "metadata": {},
   "source": [
    "<u>***Note:*** Each time you run the classifier will result in different accuracies.</u>"
   ]
  },
  {
   "cell_type": "markdown",
   "metadata": {},
   "source": [
    "### As you can see, all 5 normalization techniques do much better than the un-normalized data, with some performing better than others.\n",
    "\n",
    "### Things you can try, to see how they affect the classifier accuracy:\n",
    "- Play around with different values of `test_size`. What does testing on more or less data do?\n",
    "- Play around with different parameters that are passed to `do_classify`. Start with `nn_count` and `embed_dim`(For what those arguments are, and a full list of all of the arguments you can pass to do_classify, look at the function `do_classify` in `/MuyGPyS/examples/classify.py`).\n",
    "- Try generating more cutouts using `generating_ZTF_cutouts_from_ra_dec.ipynb`. How does having more testing and training data affects the classifier?\n",
    "- Play around with the parameters used to make the cutouts. What happens if you remove blend cuts? Can the classifier classify blends? What is you increase the seeing limit? Can the classifier classify images with bad atmoshperic quality?"
   ]
  },
  {
   "cell_type": "markdown",
   "metadata": {},
   "source": [
    "<hr style=\"border:2px solid gray\"> </hr>"
   ]
  },
  {
   "cell_type": "markdown",
   "metadata": {},
   "source": [
    "## <u>**Optional Step:**</u>\n",
    "### Running each dataset through the classifier multiple times, testing and training on varying amounts of data, different random states, and plotting the accuracy outcomes\n",
    "\n",
    "- Each time you run the following steps, you change:\n",
    "    - `test_size`: This is used in `train_test_split`, and changes the size of the testing and training datasets, which effects the accuracy of the classifier.\n",
    "    - `random_state`: This is used in `train_test_split`, and changes the ratio of how many stars-to-galaxies get tested on.\n",
    "- You can set how many times to run the classifier with varying test sizes and random states by setting `num_runs`, and you can manually change the test_size values by editing `test_size_values`."
   ]
  },
  {
   "cell_type": "code",
   "execution_count": 7,
   "metadata": {},
   "outputs": [],
   "source": [
    "test_size_values = [.2, .25, .33, .4, .5, .75]\n",
    "num_runs = 3"
   ]
  },
  {
   "cell_type": "code",
   "execution_count": 8,
   "metadata": {},
   "outputs": [],
   "source": [
    "def run_classifier(image_data, truth_labels, test_size, state):\n",
    "    X_train, X_test, y_train, y_test = train_test_split(image_data, truth_labels, test_size=test_size, random_state=state)\n",
    "    onehot_train, onehot_test = generate_onehot_value(y_train), generate_onehot_value(y_test)\n",
    "    train = {'input': X_train, 'output': onehot_train, 'lookup': y_train}\n",
    "    test = {'input': X_test, 'output': onehot_test, 'lookup': y_test}\n",
    "    #Switch verbose to True for more output\n",
    "    muygps, nbrs_lookup, surrogate_predictions= do_classify(\n",
    "                        test_features=np.array(test['input']),\n",
    "                        train_features=np.array(train['input']), \n",
    "                        train_labels=np.array(train['output']), \n",
    "                        nn_count=20,\n",
    "                        batch_count=200,\n",
    "                        loss_fn=cross_entropy_fn,\n",
    "                        opt_fn=Bayes_optimize,\n",
    "                        k_kwargs=k_kwargs_mattern,\n",
    "                        nn_kwargs=nn_kwargs_hnsw, \n",
    "                        verbose=False) \n",
    "    predicted_labels = np.argmax(surrogate_predictions, axis=1)\n",
    "    accuracy = (np.sum(predicted_labels == np.argmax(test[\"output\"], axis=1))/len(predicted_labels))*100\n",
    "    return accuracy"
   ]
  },
  {
   "cell_type": "code",
   "execution_count": 9,
   "metadata": {
    "scrolled": false
   },
   "outputs": [
    {
     "name": "stderr",
     "output_type": "stream",
     "text": [
      "Running classifier:   6%|▋         | 45/720 [02:23<31:42,  2.82s/it]"
     ]
    },
    {
     "name": "stdout",
     "output_type": "stream",
     "text": [
      "\u001b[91mData point [100.] is not unique. 1 duplicates registered. Continuing ...\u001b[0m\n",
      "\u001b[91mData point [100.] is not unique. 2 duplicates registered. Continuing ...\u001b[0m\n",
      "\u001b[91mData point [100.] is not unique. 3 duplicates registered. Continuing ...\u001b[0m\n",
      "\u001b[91mData point [100.] is not unique. 4 duplicates registered. Continuing ...\u001b[0m\n",
      "\u001b[91mData point [100.] is not unique. 5 duplicates registered. Continuing ...\u001b[0m\n",
      "\u001b[91mData point [100.] is not unique. 6 duplicates registered. Continuing ...\u001b[0m\n",
      "\u001b[91mData point [100.] is not unique. 7 duplicates registered. Continuing ...\u001b[0m\n",
      "\u001b[91mData point [100.] is not unique. 8 duplicates registered. Continuing ...\u001b[0m\n",
      "\u001b[91mData point [100.] is not unique. 9 duplicates registered. Continuing ...\u001b[0m\n",
      "\u001b[91mData point [100.] is not unique. 10 duplicates registered. Continuing ...\u001b[0m\n"
     ]
    },
    {
     "name": "stderr",
     "output_type": "stream",
     "text": [
      "Running classifier:  10%|▉         | 70/720 [03:48<41:43,  3.85s/it]"
     ]
    },
    {
     "name": "stdout",
     "output_type": "stream",
     "text": [
      "\u001b[91mData point [100.] is not unique. 1 duplicates registered. Continuing ...\u001b[0m\n",
      "\u001b[91mData point [100.] is not unique. 2 duplicates registered. Continuing ...\u001b[0m\n",
      "\u001b[91mData point [100.] is not unique. 3 duplicates registered. Continuing ...\u001b[0m\n",
      "\u001b[91mData point [100.] is not unique. 4 duplicates registered. Continuing ...\u001b[0m\n",
      "\u001b[91mData point [100.] is not unique. 5 duplicates registered. Continuing ...\u001b[0m\n"
     ]
    },
    {
     "name": "stderr",
     "output_type": "stream",
     "text": [
      "Running classifier:  13%|█▎        | 97/720 [05:17<30:54,  2.98s/it]"
     ]
    },
    {
     "name": "stdout",
     "output_type": "stream",
     "text": [
      "\u001b[91mData point [0.01] is not unique. 1 duplicates registered. Continuing ...\u001b[0m\n",
      "\u001b[91mData point [0.01] is not unique. 2 duplicates registered. Continuing ...\u001b[0m\n",
      "\u001b[91mData point [0.01] is not unique. 3 duplicates registered. Continuing ...\u001b[0m\n",
      "\u001b[91mData point [0.01] is not unique. 4 duplicates registered. Continuing ...\u001b[0m\n",
      "\u001b[91mData point [0.01] is not unique. 5 duplicates registered. Continuing ...\u001b[0m\n",
      "\u001b[91mData point [0.01] is not unique. 6 duplicates registered. Continuing ...\u001b[0m\n",
      "\u001b[91mData point [0.01] is not unique. 7 duplicates registered. Continuing ...\u001b[0m\n",
      "\u001b[91mData point [0.01] is not unique. 8 duplicates registered. Continuing ...\u001b[0m\n",
      "\u001b[91mData point [0.01] is not unique. 9 duplicates registered. Continuing ...\u001b[0m\n",
      "\u001b[91mData point [0.01] is not unique. 10 duplicates registered. Continuing ...\u001b[0m\n",
      "\u001b[91mData point [0.01] is not unique. 11 duplicates registered. Continuing ...\u001b[0m\n",
      "\u001b[91mData point [0.01] is not unique. 12 duplicates registered. Continuing ...\u001b[0m\n",
      "\u001b[91mData point [0.01] is not unique. 13 duplicates registered. Continuing ...\u001b[0m\n",
      "\u001b[91mData point [0.01] is not unique. 14 duplicates registered. Continuing ...\u001b[0m\n",
      "\u001b[91mData point [0.01] is not unique. 15 duplicates registered. Continuing ...\u001b[0m\n",
      "\u001b[91mData point [0.01] is not unique. 16 duplicates registered. Continuing ...\u001b[0m\n"
     ]
    },
    {
     "name": "stderr",
     "output_type": "stream",
     "text": [
      "Running classifier:  14%|█▍        | 104/720 [05:39<35:17,  3.44s/it]"
     ]
    },
    {
     "name": "stdout",
     "output_type": "stream",
     "text": [
      "\u001b[91mData point [100.] is not unique. 1 duplicates registered. Continuing ...\u001b[0m\n",
      "\u001b[91mData point [100.] is not unique. 2 duplicates registered. Continuing ...\u001b[0m\n",
      "\u001b[91mData point [100.] is not unique. 3 duplicates registered. Continuing ...\u001b[0m\n",
      "\u001b[91mData point [100.] is not unique. 4 duplicates registered. Continuing ...\u001b[0m\n"
     ]
    },
    {
     "name": "stderr",
     "output_type": "stream",
     "text": [
      "Running classifier:  20%|█▉        | 141/720 [07:44<33:50,  3.51s/it]"
     ]
    },
    {
     "name": "stdout",
     "output_type": "stream",
     "text": [
      "\u001b[91mData point [100.] is not unique. 1 duplicates registered. Continuing ...\u001b[0m\n",
      "\u001b[91mData point [100.] is not unique. 2 duplicates registered. Continuing ...\u001b[0m\n",
      "\u001b[91mData point [100.] is not unique. 3 duplicates registered. Continuing ...\u001b[0m\n",
      "\u001b[91mData point [100.] is not unique. 4 duplicates registered. Continuing ...\u001b[0m\n",
      "\u001b[91mData point [100.] is not unique. 5 duplicates registered. Continuing ...\u001b[0m\n",
      "\u001b[91mData point [100.] is not unique. 6 duplicates registered. Continuing ...\u001b[0m\n",
      "\u001b[91mData point [100.] is not unique. 7 duplicates registered. Continuing ...\u001b[0m\n"
     ]
    },
    {
     "name": "stderr",
     "output_type": "stream",
     "text": [
      "Running classifier:  21%|██▏       | 154/720 [08:26<28:57,  3.07s/it]"
     ]
    },
    {
     "name": "stdout",
     "output_type": "stream",
     "text": [
      "\u001b[91mData point [100.] is not unique. 1 duplicates registered. Continuing ...\u001b[0m\n",
      "\u001b[91mData point [100.] is not unique. 2 duplicates registered. Continuing ...\u001b[0m\n",
      "\u001b[91mData point [100.] is not unique. 3 duplicates registered. Continuing ...\u001b[0m\n",
      "\u001b[91mData point [100.] is not unique. 4 duplicates registered. Continuing ...\u001b[0m\n",
      "\u001b[91mData point [100.] is not unique. 5 duplicates registered. Continuing ...\u001b[0m\n",
      "\u001b[91mData point [100.] is not unique. 6 duplicates registered. Continuing ...\u001b[0m\n",
      "\u001b[91mData point [100.] is not unique. 7 duplicates registered. Continuing ...\u001b[0m\n",
      "\u001b[91mData point [100.] is not unique. 8 duplicates registered. Continuing ...\u001b[0m\n",
      "\u001b[91mData point [100.] is not unique. 9 duplicates registered. Continuing ...\u001b[0m\n"
     ]
    },
    {
     "name": "stderr",
     "output_type": "stream",
     "text": [
      "Running classifier:  22%|██▎       | 162/720 [08:57<39:29,  4.25s/it]"
     ]
    },
    {
     "name": "stdout",
     "output_type": "stream",
     "text": [
      "\u001b[91mData point [100.] is not unique. 1 duplicates registered. Continuing ...\u001b[0m\n",
      "\u001b[91mData point [100.] is not unique. 2 duplicates registered. Continuing ...\u001b[0m\n",
      "\u001b[91mData point [100.] is not unique. 3 duplicates registered. Continuing ...\u001b[0m\n",
      "\u001b[91mData point [100.] is not unique. 4 duplicates registered. Continuing ...\u001b[0m\n",
      "\u001b[91mData point [100.] is not unique. 5 duplicates registered. Continuing ...\u001b[0m\n",
      "\u001b[91mData point [100.] is not unique. 6 duplicates registered. Continuing ...\u001b[0m\n",
      "\u001b[91mData point [100.] is not unique. 7 duplicates registered. Continuing ...\u001b[0m\n",
      "\u001b[91mData point [100.] is not unique. 8 duplicates registered. Continuing ...\u001b[0m\n",
      "\u001b[91mData point [100.] is not unique. 9 duplicates registered. Continuing ...\u001b[0m\n",
      "\u001b[91mData point [100.] is not unique. 10 duplicates registered. Continuing ...\u001b[0m\n",
      "\u001b[91mData point [100.] is not unique. 11 duplicates registered. Continuing ...\u001b[0m\n",
      "\u001b[91mData point [100.] is not unique. 12 duplicates registered. Continuing ...\u001b[0m\n",
      "\u001b[91mData point [100.] is not unique. 13 duplicates registered. Continuing ...\u001b[0m\n",
      "\u001b[91mData point [100.] is not unique. 14 duplicates registered. Continuing ...\u001b[0m\n",
      "\u001b[91mData point [100.] is not unique. 15 duplicates registered. Continuing ...\u001b[0m\n",
      "\u001b[91mData point [100.] is not unique. 16 duplicates registered. Continuing ...\u001b[0m\n"
     ]
    },
    {
     "name": "stderr",
     "output_type": "stream",
     "text": [
      "Running classifier:  25%|██▍       | 177/720 [09:42<30:51,  3.41s/it]"
     ]
    },
    {
     "name": "stdout",
     "output_type": "stream",
     "text": [
      "\u001b[91mData point [100.] is not unique. 1 duplicates registered. Continuing ...\u001b[0m\n",
      "\u001b[91mData point [100.] is not unique. 2 duplicates registered. Continuing ...\u001b[0m\n",
      "\u001b[91mData point [100.] is not unique. 3 duplicates registered. Continuing ...\u001b[0m\n",
      "\u001b[91mData point [100.] is not unique. 4 duplicates registered. Continuing ...\u001b[0m\n",
      "\u001b[91mData point [100.] is not unique. 5 duplicates registered. Continuing ...\u001b[0m\n",
      "\u001b[91mData point [100.] is not unique. 6 duplicates registered. Continuing ...\u001b[0m\n",
      "\u001b[91mData point [100.] is not unique. 7 duplicates registered. Continuing ...\u001b[0m\n"
     ]
    },
    {
     "name": "stderr",
     "output_type": "stream",
     "text": [
      "Running classifier:  27%|██▋       | 192/720 [10:32<27:26,  3.12s/it]"
     ]
    },
    {
     "name": "stdout",
     "output_type": "stream",
     "text": [
      "\u001b[91mData point [100.] is not unique. 1 duplicates registered. Continuing ...\u001b[0m\n",
      "\u001b[91mData point [100.] is not unique. 2 duplicates registered. Continuing ...\u001b[0m\n",
      "\u001b[91mData point [100.] is not unique. 3 duplicates registered. Continuing ...\u001b[0m\n",
      "\u001b[91mData point [100.] is not unique. 4 duplicates registered. Continuing ...\u001b[0m\n",
      "\u001b[91mData point [100.] is not unique. 5 duplicates registered. Continuing ...\u001b[0m\n",
      "\u001b[91mData point [100.] is not unique. 6 duplicates registered. Continuing ...\u001b[0m\n",
      "\u001b[91mData point [100.] is not unique. 7 duplicates registered. Continuing ...\u001b[0m\n",
      "\u001b[91mData point [100.] is not unique. 8 duplicates registered. Continuing ...\u001b[0m\n",
      "\u001b[91mData point [100.] is not unique. 9 duplicates registered. Continuing ...\u001b[0m\n",
      "\u001b[91mData point [100.] is not unique. 10 duplicates registered. Continuing ...\u001b[0m\n",
      "\u001b[91mData point [100.] is not unique. 11 duplicates registered. Continuing ...\u001b[0m\n",
      "\u001b[91mData point [100.] is not unique. 12 duplicates registered. Continuing ...\u001b[0m\n",
      "\u001b[91mData point [100.] is not unique. 13 duplicates registered. Continuing ...\u001b[0m\n",
      "\u001b[91mData point [100.] is not unique. 14 duplicates registered. Continuing ...\u001b[0m\n"
     ]
    },
    {
     "name": "stderr",
     "output_type": "stream",
     "text": [
      "Running classifier:  27%|██▋       | 194/720 [10:39<29:38,  3.38s/it]"
     ]
    },
    {
     "name": "stdout",
     "output_type": "stream",
     "text": [
      "\u001b[91mData point [100.] is not unique. 1 duplicates registered. Continuing ...\u001b[0m\n",
      "\u001b[91mData point [100.] is not unique. 2 duplicates registered. Continuing ...\u001b[0m\n",
      "\u001b[91mData point [100.] is not unique. 3 duplicates registered. Continuing ...\u001b[0m\n",
      "\u001b[91mData point [100.] is not unique. 4 duplicates registered. Continuing ...\u001b[0m\n",
      "\u001b[91mData point [100.] is not unique. 5 duplicates registered. Continuing ...\u001b[0m\n",
      "\u001b[91mData point [100.] is not unique. 6 duplicates registered. Continuing ...\u001b[0m\n",
      "\u001b[91mData point [100.] is not unique. 7 duplicates registered. Continuing ...\u001b[0m\n"
     ]
    },
    {
     "name": "stderr",
     "output_type": "stream",
     "text": [
      "Running classifier:  29%|██▉       | 210/720 [11:31<26:45,  3.15s/it]"
     ]
    },
    {
     "name": "stdout",
     "output_type": "stream",
     "text": [
      "\u001b[91mData point [100.] is not unique. 1 duplicates registered. Continuing ...\u001b[0m\n",
      "\u001b[91mData point [100.] is not unique. 2 duplicates registered. Continuing ...\u001b[0m\n",
      "\u001b[91mData point [100.] is not unique. 3 duplicates registered. Continuing ...\u001b[0m\n",
      "\u001b[91mData point [100.] is not unique. 4 duplicates registered. Continuing ...\u001b[0m\n",
      "\u001b[91mData point [100.] is not unique. 5 duplicates registered. Continuing ...\u001b[0m\n",
      "\u001b[91mData point [100.] is not unique. 6 duplicates registered. Continuing ...\u001b[0m\n"
     ]
    },
    {
     "name": "stderr",
     "output_type": "stream",
     "text": [
      "Running classifier:  31%|███       | 222/720 [12:13<24:07,  2.91s/it]"
     ]
    },
    {
     "name": "stdout",
     "output_type": "stream",
     "text": [
      "\u001b[91mData point [0.01] is not unique. 1 duplicates registered. Continuing ...\u001b[0m\n",
      "\u001b[91mData point [0.01] is not unique. 2 duplicates registered. Continuing ...\u001b[0m\n",
      "\u001b[91mData point [0.01] is not unique. 3 duplicates registered. Continuing ...\u001b[0m\n",
      "\u001b[91mData point [0.01] is not unique. 4 duplicates registered. Continuing ...\u001b[0m\n",
      "\u001b[91mData point [0.01] is not unique. 5 duplicates registered. Continuing ...\u001b[0m\n",
      "\u001b[91mData point [0.01] is not unique. 6 duplicates registered. Continuing ...\u001b[0m\n",
      "\u001b[91mData point [0.01] is not unique. 7 duplicates registered. Continuing ...\u001b[0m\n",
      "\u001b[91mData point [0.01] is not unique. 8 duplicates registered. Continuing ...\u001b[0m\n",
      "\u001b[91mData point [0.01] is not unique. 9 duplicates registered. Continuing ...\u001b[0m\n",
      "\u001b[91mData point [0.01] is not unique. 10 duplicates registered. Continuing ...\u001b[0m\n",
      "\u001b[91mData point [0.01] is not unique. 11 duplicates registered. Continuing ...\u001b[0m\n",
      "\u001b[91mData point [0.01] is not unique. 12 duplicates registered. Continuing ...\u001b[0m\n",
      "\u001b[91mData point [0.01] is not unique. 13 duplicates registered. Continuing ...\u001b[0m\n",
      "\u001b[91mData point [0.01] is not unique. 14 duplicates registered. Continuing ...\u001b[0m\n",
      "\u001b[91mData point [0.01] is not unique. 15 duplicates registered. Continuing ...\u001b[0m\n",
      "\u001b[91mData point [0.01] is not unique. 16 duplicates registered. Continuing ...\u001b[0m\n",
      "\u001b[91mData point [0.01] is not unique. 17 duplicates registered. Continuing ...\u001b[0m\n"
     ]
    },
    {
     "name": "stderr",
     "output_type": "stream",
     "text": [
      "Running classifier:  32%|███▏      | 231/720 [12:44<30:07,  3.70s/it]"
     ]
    },
    {
     "name": "stdout",
     "output_type": "stream",
     "text": [
      "\u001b[91mData point [100.] is not unique. 1 duplicates registered. Continuing ...\u001b[0m\n",
      "\u001b[91mData point [100.] is not unique. 2 duplicates registered. Continuing ...\u001b[0m\n",
      "\u001b[91mData point [100.] is not unique. 3 duplicates registered. Continuing ...\u001b[0m\n",
      "\u001b[91mData point [100.] is not unique. 4 duplicates registered. Continuing ...\u001b[0m\n"
     ]
    },
    {
     "name": "stderr",
     "output_type": "stream",
     "text": [
      "Running classifier:  35%|███▍      | 249/720 [13:43<26:32,  3.38s/it]"
     ]
    },
    {
     "name": "stdout",
     "output_type": "stream",
     "text": [
      "\u001b[91mData point [100.] is not unique. 1 duplicates registered. Continuing ...\u001b[0m\n",
      "\u001b[91mData point [100.] is not unique. 2 duplicates registered. Continuing ...\u001b[0m\n",
      "\u001b[91mData point [100.] is not unique. 3 duplicates registered. Continuing ...\u001b[0m\n",
      "\u001b[91mData point [100.] is not unique. 4 duplicates registered. Continuing ...\u001b[0m\n",
      "\u001b[91mData point [100.] is not unique. 5 duplicates registered. Continuing ...\u001b[0m\n",
      "\u001b[91mData point [100.] is not unique. 6 duplicates registered. Continuing ...\u001b[0m\n"
     ]
    },
    {
     "name": "stderr",
     "output_type": "stream",
     "text": [
      "Running classifier:  36%|███▋      | 262/720 [14:25<22:25,  2.94s/it]"
     ]
    },
    {
     "name": "stdout",
     "output_type": "stream",
     "text": [
      "\u001b[91mData point [0.01] is not unique. 1 duplicates registered. Continuing ...\u001b[0m\n"
     ]
    },
    {
     "name": "stderr",
     "output_type": "stream",
     "text": [
      "Running classifier:  38%|███▊      | 270/720 [14:56<31:49,  4.24s/it]"
     ]
    },
    {
     "name": "stdout",
     "output_type": "stream",
     "text": [
      "\u001b[91mData point [100.] is not unique. 1 duplicates registered. Continuing ...\u001b[0m\n",
      "\u001b[91mData point [100.] is not unique. 2 duplicates registered. Continuing ...\u001b[0m\n",
      "\u001b[91mData point [100.] is not unique. 3 duplicates registered. Continuing ...\u001b[0m\n",
      "\u001b[91mData point [100.] is not unique. 4 duplicates registered. Continuing ...\u001b[0m\n",
      "\u001b[91mData point [100.] is not unique. 5 duplicates registered. Continuing ...\u001b[0m\n"
     ]
    },
    {
     "name": "stderr",
     "output_type": "stream",
     "text": [
      "Running classifier:  39%|███▉      | 281/720 [15:27<22:19,  3.05s/it]"
     ]
    },
    {
     "name": "stdout",
     "output_type": "stream",
     "text": [
      "\u001b[91mData point [0.01] is not unique. 1 duplicates registered. Continuing ...\u001b[0m\n"
     ]
    },
    {
     "name": "stderr",
     "output_type": "stream",
     "text": [
      "Running classifier:  43%|████▎     | 313/720 [17:13<18:40,  2.75s/it]"
     ]
    },
    {
     "name": "stdout",
     "output_type": "stream",
     "text": [
      "\u001b[91mData point [0.01] is not unique. 1 duplicates registered. Continuing ...\u001b[0m\n",
      "\u001b[91mData point [0.01] is not unique. 2 duplicates registered. Continuing ...\u001b[0m\n",
      "\u001b[91mData point [0.01] is not unique. 3 duplicates registered. Continuing ...\u001b[0m\n"
     ]
    },
    {
     "name": "stderr",
     "output_type": "stream",
     "text": [
      "Running classifier:  45%|████▍     | 323/720 [17:50<27:50,  4.21s/it]"
     ]
    },
    {
     "name": "stdout",
     "output_type": "stream",
     "text": [
      "\u001b[91mData point [100.] is not unique. 1 duplicates registered. Continuing ...\u001b[0m\n",
      "\u001b[91mData point [100.] is not unique. 2 duplicates registered. Continuing ...\u001b[0m\n",
      "\u001b[91mData point [100.] is not unique. 3 duplicates registered. Continuing ...\u001b[0m\n",
      "\u001b[91mData point [100.] is not unique. 4 duplicates registered. Continuing ...\u001b[0m\n",
      "\u001b[91mData point [100.] is not unique. 5 duplicates registered. Continuing ...\u001b[0m\n",
      "\u001b[91mData point [100.] is not unique. 6 duplicates registered. Continuing ...\u001b[0m\n"
     ]
    },
    {
     "name": "stderr",
     "output_type": "stream",
     "text": [
      "Running classifier:  46%|████▌     | 329/720 [18:08<19:00,  2.92s/it]"
     ]
    },
    {
     "name": "stdout",
     "output_type": "stream",
     "text": [
      "\u001b[91mData point [100.] is not unique. 1 duplicates registered. Continuing ...\u001b[0m\n",
      "\u001b[91mData point [100.] is not unique. 2 duplicates registered. Continuing ...\u001b[0m\n",
      "\u001b[91mData point [100.] is not unique. 3 duplicates registered. Continuing ...\u001b[0m\n",
      "\u001b[91mData point [100.] is not unique. 4 duplicates registered. Continuing ...\u001b[0m\n",
      "\u001b[91mData point [100.] is not unique. 5 duplicates registered. Continuing ...\u001b[0m\n",
      "\u001b[91mData point [100.] is not unique. 6 duplicates registered. Continuing ...\u001b[0m\n",
      "\u001b[91mData point [100.] is not unique. 7 duplicates registered. Continuing ...\u001b[0m\n",
      "\u001b[91mData point [100.] is not unique. 8 duplicates registered. Continuing ...\u001b[0m\n",
      "\u001b[91mData point [100.] is not unique. 9 duplicates registered. Continuing ...\u001b[0m\n",
      "\u001b[91mData point [100.] is not unique. 10 duplicates registered. Continuing ...\u001b[0m\n"
     ]
    },
    {
     "name": "stderr",
     "output_type": "stream",
     "text": [
      "Running classifier:  46%|████▋     | 334/720 [18:23<19:49,  3.08s/it]"
     ]
    },
    {
     "name": "stdout",
     "output_type": "stream",
     "text": [
      "\u001b[91mData point [0.01] is not unique. 1 duplicates registered. Continuing ...\u001b[0m\n",
      "\u001b[91mData point [0.01] is not unique. 2 duplicates registered. Continuing ...\u001b[0m\n",
      "\u001b[91mData point [0.01] is not unique. 3 duplicates registered. Continuing ...\u001b[0m\n",
      "\u001b[91mData point [0.01] is not unique. 4 duplicates registered. Continuing ...\u001b[0m\n"
     ]
    },
    {
     "name": "stderr",
     "output_type": "stream",
     "text": [
      "Running classifier:  49%|████▉     | 355/720 [19:32<20:11,  3.32s/it]"
     ]
    },
    {
     "name": "stdout",
     "output_type": "stream",
     "text": [
      "\u001b[91mData point [100.] is not unique. 1 duplicates registered. Continuing ...\u001b[0m\n",
      "\u001b[91mData point [100.] is not unique. 2 duplicates registered. Continuing ...\u001b[0m\n",
      "\u001b[91mData point [100.] is not unique. 3 duplicates registered. Continuing ...\u001b[0m\n",
      "\u001b[91mData point [100.] is not unique. 4 duplicates registered. Continuing ...\u001b[0m\n"
     ]
    },
    {
     "name": "stderr",
     "output_type": "stream",
     "text": [
      "Running classifier:  50%|█████     | 360/720 [19:54<26:04,  4.34s/it]"
     ]
    },
    {
     "name": "stdout",
     "output_type": "stream",
     "text": [
      "\u001b[91mData point [0.01] is not unique. 1 duplicates registered. Continuing ...\u001b[0m\n"
     ]
    },
    {
     "name": "stderr",
     "output_type": "stream",
     "text": [
      "Running classifier:  50%|█████     | 361/720 [19:56<22:33,  3.77s/it]"
     ]
    },
    {
     "name": "stdout",
     "output_type": "stream",
     "text": [
      "\u001b[91mData point [100.] is not unique. 1 duplicates registered. Continuing ...\u001b[0m\n",
      "\u001b[91mData point [100.] is not unique. 2 duplicates registered. Continuing ...\u001b[0m\n",
      "\u001b[91mData point [100.] is not unique. 3 duplicates registered. Continuing ...\u001b[0m\n",
      "\u001b[91mData point [100.] is not unique. 4 duplicates registered. Continuing ...\u001b[0m\n",
      "\u001b[91mData point [100.] is not unique. 5 duplicates registered. Continuing ...\u001b[0m\n",
      "\u001b[91mData point [100.] is not unique. 6 duplicates registered. Continuing ...\u001b[0m\n"
     ]
    },
    {
     "name": "stderr",
     "output_type": "stream",
     "text": [
      "Running classifier:  50%|█████     | 363/720 [20:01<18:11,  3.06s/it]"
     ]
    },
    {
     "name": "stdout",
     "output_type": "stream",
     "text": [
      "\u001b[91mData point [100.] is not unique. 1 duplicates registered. Continuing ...\u001b[0m\n",
      "\u001b[91mData point [100.] is not unique. 2 duplicates registered. Continuing ...\u001b[0m\n",
      "\u001b[91mData point [100.] is not unique. 3 duplicates registered. Continuing ...\u001b[0m\n",
      "\u001b[91mData point [100.] is not unique. 4 duplicates registered. Continuing ...\u001b[0m\n",
      "\u001b[91mData point [100.] is not unique. 5 duplicates registered. Continuing ...\u001b[0m\n",
      "\u001b[91mData point [100.] is not unique. 6 duplicates registered. Continuing ...\u001b[0m\n",
      "\u001b[91mData point [100.] is not unique. 7 duplicates registered. Continuing ...\u001b[0m\n",
      "\u001b[91mData point [100.] is not unique. 8 duplicates registered. Continuing ...\u001b[0m\n",
      "\u001b[91mData point [100.] is not unique. 9 duplicates registered. Continuing ...\u001b[0m\n",
      "\u001b[91mData point [100.] is not unique. 10 duplicates registered. Continuing ...\u001b[0m\n",
      "\u001b[91mData point [100.] is not unique. 11 duplicates registered. Continuing ...\u001b[0m\n",
      "\u001b[91mData point [100.] is not unique. 12 duplicates registered. Continuing ...\u001b[0m\n",
      "\u001b[91mData point [100.] is not unique. 13 duplicates registered. Continuing ...\u001b[0m\n",
      "\u001b[91mData point [100.] is not unique. 14 duplicates registered. Continuing ...\u001b[0m\n",
      "\u001b[91mData point [100.] is not unique. 15 duplicates registered. Continuing ...\u001b[0m\n",
      "\u001b[91mData point [100.] is not unique. 16 duplicates registered. Continuing ...\u001b[0m\n",
      "\u001b[91mData point [100.] is not unique. 17 duplicates registered. Continuing ...\u001b[0m\n"
     ]
    },
    {
     "name": "stderr",
     "output_type": "stream",
     "text": [
      "Running classifier:  52%|█████▏    | 372/720 [20:26<17:26,  3.01s/it]"
     ]
    },
    {
     "name": "stdout",
     "output_type": "stream",
     "text": [
      "\u001b[91mData point [100.] is not unique. 1 duplicates registered. Continuing ...\u001b[0m\n",
      "\u001b[91mData point [100.] is not unique. 2 duplicates registered. Continuing ...\u001b[0m\n"
     ]
    },
    {
     "name": "stderr",
     "output_type": "stream",
     "text": [
      "Running classifier:  52%|█████▏    | 375/720 [20:37<19:23,  3.37s/it]"
     ]
    },
    {
     "name": "stdout",
     "output_type": "stream",
     "text": [
      "\u001b[91mData point [100.] is not unique. 1 duplicates registered. Continuing ...\u001b[0m\n",
      "\u001b[91mData point [100.] is not unique. 2 duplicates registered. Continuing ...\u001b[0m\n",
      "\u001b[91mData point [100.] is not unique. 3 duplicates registered. Continuing ...\u001b[0m\n",
      "\u001b[91mData point [100.] is not unique. 4 duplicates registered. Continuing ...\u001b[0m\n",
      "\u001b[91mData point [100.] is not unique. 5 duplicates registered. Continuing ...\u001b[0m\n",
      "\u001b[91mData point [100.] is not unique. 6 duplicates registered. Continuing ...\u001b[0m\n",
      "\u001b[91mData point [100.] is not unique. 7 duplicates registered. Continuing ...\u001b[0m\n",
      "\u001b[91mData point [100.] is not unique. 8 duplicates registered. Continuing ...\u001b[0m\n",
      "\u001b[91mData point [100.] is not unique. 9 duplicates registered. Continuing ...\u001b[0m\n",
      "\u001b[91mData point [100.] is not unique. 10 duplicates registered. Continuing ...\u001b[0m\n"
     ]
    },
    {
     "name": "stderr",
     "output_type": "stream",
     "text": [
      "Running classifier:  53%|█████▎    | 379/720 [20:54<21:02,  3.70s/it]"
     ]
    },
    {
     "name": "stdout",
     "output_type": "stream",
     "text": [
      "\u001b[91mData point [0.01] is not unique. 1 duplicates registered. Continuing ...\u001b[0m\n"
     ]
    },
    {
     "name": "stderr",
     "output_type": "stream",
     "text": [
      "Running classifier:  54%|█████▎    | 386/720 [21:12<16:02,  2.88s/it]"
     ]
    },
    {
     "name": "stdout",
     "output_type": "stream",
     "text": [
      "\u001b[91mData point [100.] is not unique. 1 duplicates registered. Continuing ...\u001b[0m\n",
      "\u001b[91mData point [100.] is not unique. 2 duplicates registered. Continuing ...\u001b[0m\n",
      "\u001b[91mData point [100.] is not unique. 3 duplicates registered. Continuing ...\u001b[0m\n",
      "\u001b[91mData point [100.] is not unique. 4 duplicates registered. Continuing ...\u001b[0m\n",
      "\u001b[91mData point [100.] is not unique. 5 duplicates registered. Continuing ...\u001b[0m\n",
      "\u001b[91mData point [100.] is not unique. 6 duplicates registered. Continuing ...\u001b[0m\n",
      "\u001b[91mData point [100.] is not unique. 7 duplicates registered. Continuing ...\u001b[0m\n",
      "\u001b[91mData point [100.] is not unique. 8 duplicates registered. Continuing ...\u001b[0m\n",
      "\u001b[91mData point [100.] is not unique. 9 duplicates registered. Continuing ...\u001b[0m\n",
      "\u001b[91mData point [100.] is not unique. 10 duplicates registered. Continuing ...\u001b[0m\n",
      "\u001b[91mData point [100.] is not unique. 11 duplicates registered. Continuing ...\u001b[0m\n",
      "\u001b[91mData point [100.] is not unique. 12 duplicates registered. Continuing ...\u001b[0m\n",
      "\u001b[91mData point [100.] is not unique. 13 duplicates registered. Continuing ...\u001b[0m\n",
      "\u001b[91mData point [100.] is not unique. 14 duplicates registered. Continuing ...\u001b[0m\n",
      "\u001b[91mData point [100.] is not unique. 15 duplicates registered. Continuing ...\u001b[0m\n"
     ]
    },
    {
     "name": "stderr",
     "output_type": "stream",
     "text": [
      "Running classifier:  55%|█████▍    | 394/720 [21:41<21:49,  4.02s/it]"
     ]
    },
    {
     "name": "stdout",
     "output_type": "stream",
     "text": [
      "\u001b[91mData point [100.] is not unique. 1 duplicates registered. Continuing ...\u001b[0m\n",
      "\u001b[91mData point [100.] is not unique. 2 duplicates registered. Continuing ...\u001b[0m\n",
      "\u001b[91mData point [100.] is not unique. 3 duplicates registered. Continuing ...\u001b[0m\n",
      "\u001b[91mData point [100.] is not unique. 4 duplicates registered. Continuing ...\u001b[0m\n",
      "\u001b[91mData point [100.] is not unique. 5 duplicates registered. Continuing ...\u001b[0m\n",
      "\u001b[91mData point [100.] is not unique. 6 duplicates registered. Continuing ...\u001b[0m\n",
      "\u001b[91mData point [100.] is not unique. 7 duplicates registered. Continuing ...\u001b[0m\n"
     ]
    },
    {
     "name": "stderr",
     "output_type": "stream",
     "text": [
      "Running classifier:  56%|█████▋    | 405/720 [22:14<15:15,  2.91s/it]"
     ]
    },
    {
     "name": "stdout",
     "output_type": "stream",
     "text": [
      "\u001b[91mData point [100.] is not unique. 1 duplicates registered. Continuing ...\u001b[0m\n"
     ]
    },
    {
     "name": "stderr",
     "output_type": "stream",
     "text": [
      "Running classifier:  56%|█████▋    | 406/720 [22:18<15:50,  3.03s/it]"
     ]
    },
    {
     "name": "stdout",
     "output_type": "stream",
     "text": [
      "\u001b[91mData point [100.] is not unique. 1 duplicates registered. Continuing ...\u001b[0m\n",
      "\u001b[91mData point [100.] is not unique. 2 duplicates registered. Continuing ...\u001b[0m\n",
      "\u001b[91mData point [100.] is not unique. 3 duplicates registered. Continuing ...\u001b[0m\n",
      "\u001b[91mData point [100.] is not unique. 4 duplicates registered. Continuing ...\u001b[0m\n",
      "\u001b[91mData point [100.] is not unique. 5 duplicates registered. Continuing ...\u001b[0m\n",
      "\u001b[91mData point [100.] is not unique. 6 duplicates registered. Continuing ...\u001b[0m\n",
      "\u001b[91mData point [100.] is not unique. 7 duplicates registered. Continuing ...\u001b[0m\n",
      "\u001b[91mData point [100.] is not unique. 8 duplicates registered. Continuing ...\u001b[0m\n",
      "\u001b[91mData point [100.] is not unique. 9 duplicates registered. Continuing ...\u001b[0m\n",
      "\u001b[91mData point [100.] is not unique. 10 duplicates registered. Continuing ...\u001b[0m\n",
      "\u001b[91mData point [100.] is not unique. 11 duplicates registered. Continuing ...\u001b[0m\n",
      "\u001b[91mData point [100.] is not unique. 12 duplicates registered. Continuing ...\u001b[0m\n",
      "\u001b[91mData point [100.] is not unique. 13 duplicates registered. Continuing ...\u001b[0m\n",
      "\u001b[91mData point [100.] is not unique. 14 duplicates registered. Continuing ...\u001b[0m\n",
      "\u001b[91mData point [100.] is not unique. 15 duplicates registered. Continuing ...\u001b[0m\n",
      "\u001b[91mData point [100.] is not unique. 16 duplicates registered. Continuing ...\u001b[0m\n",
      "\u001b[91mData point [100.] is not unique. 17 duplicates registered. Continuing ...\u001b[0m\n",
      "\u001b[91mData point [100.] is not unique. 18 duplicates registered. Continuing ...\u001b[0m\n"
     ]
    },
    {
     "name": "stderr",
     "output_type": "stream",
     "text": [
      "Running classifier:  57%|█████▋    | 411/720 [22:36<18:20,  3.56s/it]"
     ]
    },
    {
     "name": "stdout",
     "output_type": "stream",
     "text": [
      "\u001b[91mData point [100.] is not unique. 1 duplicates registered. Continuing ...\u001b[0m\n"
     ]
    },
    {
     "name": "stderr",
     "output_type": "stream",
     "text": [
      "Running classifier:  57%|█████▋    | 412/720 [22:40<20:11,  3.93s/it]"
     ]
    },
    {
     "name": "stdout",
     "output_type": "stream",
     "text": [
      "\u001b[91mData point [100.] is not unique. 1 duplicates registered. Continuing ...\u001b[0m\n",
      "\u001b[91mData point [100.] is not unique. 2 duplicates registered. Continuing ...\u001b[0m\n",
      "\u001b[91mData point [100.] is not unique. 3 duplicates registered. Continuing ...\u001b[0m\n",
      "\u001b[91mData point [100.] is not unique. 4 duplicates registered. Continuing ...\u001b[0m\n",
      "\u001b[91mData point [100.] is not unique. 5 duplicates registered. Continuing ...\u001b[0m\n",
      "\u001b[91mData point [100.] is not unique. 6 duplicates registered. Continuing ...\u001b[0m\n",
      "\u001b[91mData point [100.] is not unique. 7 duplicates registered. Continuing ...\u001b[0m\n"
     ]
    },
    {
     "name": "stderr",
     "output_type": "stream",
     "text": [
      "Running classifier:  58%|█████▊    | 416/720 [22:55<17:26,  3.44s/it]"
     ]
    },
    {
     "name": "stdout",
     "output_type": "stream",
     "text": [
      "\u001b[91mData point [0.01] is not unique. 1 duplicates registered. Continuing ...\u001b[0m\n"
     ]
    },
    {
     "name": "stderr",
     "output_type": "stream",
     "text": [
      "Running classifier:  58%|█████▊    | 417/720 [22:57<15:45,  3.12s/it]"
     ]
    },
    {
     "name": "stdout",
     "output_type": "stream",
     "text": [
      "\u001b[91mData point [100.] is not unique. 1 duplicates registered. Continuing ...\u001b[0m\n",
      "\u001b[91mData point [100.] is not unique. 2 duplicates registered. Continuing ...\u001b[0m\n",
      "\u001b[91mData point [100.] is not unique. 3 duplicates registered. Continuing ...\u001b[0m\n",
      "\u001b[91mData point [100.] is not unique. 4 duplicates registered. Continuing ...\u001b[0m\n",
      "\u001b[91mData point [100.] is not unique. 5 duplicates registered. Continuing ...\u001b[0m\n",
      "\u001b[91mData point [100.] is not unique. 6 duplicates registered. Continuing ...\u001b[0m\n",
      "\u001b[91mData point [100.] is not unique. 7 duplicates registered. Continuing ...\u001b[0m\n",
      "\u001b[91mData point [100.] is not unique. 8 duplicates registered. Continuing ...\u001b[0m\n",
      "\u001b[91mData point [100.] is not unique. 9 duplicates registered. Continuing ...\u001b[0m\n",
      "\u001b[91mData point [100.] is not unique. 10 duplicates registered. Continuing ...\u001b[0m\n",
      "\u001b[91mData point [100.] is not unique. 11 duplicates registered. Continuing ...\u001b[0m\n",
      "\u001b[91mData point [100.] is not unique. 12 duplicates registered. Continuing ...\u001b[0m\n",
      "\u001b[91mData point [100.] is not unique. 13 duplicates registered. Continuing ...\u001b[0m\n",
      "\u001b[91mData point [100.] is not unique. 14 duplicates registered. Continuing ...\u001b[0m\n",
      "\u001b[91mData point [100.] is not unique. 15 duplicates registered. Continuing ...\u001b[0m\n",
      "\u001b[91mData point [100.] is not unique. 16 duplicates registered. Continuing ...\u001b[0m\n",
      "\u001b[91mData point [100.] is not unique. 17 duplicates registered. Continuing ...\u001b[0m\n"
     ]
    },
    {
     "name": "stderr",
     "output_type": "stream",
     "text": [
      "Running classifier:  58%|█████▊    | 418/720 [23:00<15:12,  3.02s/it]"
     ]
    },
    {
     "name": "stdout",
     "output_type": "stream",
     "text": [
      "\u001b[91mData point [100.] is not unique. 1 duplicates registered. Continuing ...\u001b[0m\n",
      "\u001b[91mData point [100.] is not unique. 2 duplicates registered. Continuing ...\u001b[0m\n",
      "\u001b[91mData point [100.] is not unique. 3 duplicates registered. Continuing ...\u001b[0m\n",
      "\u001b[91mData point [100.] is not unique. 4 duplicates registered. Continuing ...\u001b[0m\n",
      "\u001b[91mData point [100.] is not unique. 5 duplicates registered. Continuing ...\u001b[0m\n",
      "\u001b[91mData point [100.] is not unique. 6 duplicates registered. Continuing ...\u001b[0m\n",
      "\u001b[91mData point [100.] is not unique. 7 duplicates registered. Continuing ...\u001b[0m\n",
      "\u001b[91mData point [100.] is not unique. 8 duplicates registered. Continuing ...\u001b[0m\n",
      "\u001b[91mData point [100.] is not unique. 9 duplicates registered. Continuing ...\u001b[0m\n",
      "\u001b[91mData point [100.] is not unique. 10 duplicates registered. Continuing ...\u001b[0m\n",
      "\u001b[91mData point [100.] is not unique. 11 duplicates registered. Continuing ...\u001b[0m\n",
      "\u001b[91mData point [100.] is not unique. 12 duplicates registered. Continuing ...\u001b[0m\n",
      "\u001b[91mData point [100.] is not unique. 13 duplicates registered. Continuing ...\u001b[0m\n"
     ]
    },
    {
     "name": "stderr",
     "output_type": "stream",
     "text": [
      "Running classifier:  60%|█████▉    | 431/720 [23:44<19:21,  4.02s/it]"
     ]
    },
    {
     "name": "stdout",
     "output_type": "stream",
     "text": [
      "\u001b[91mData point [100.] is not unique. 1 duplicates registered. Continuing ...\u001b[0m\n",
      "\u001b[91mData point [100.] is not unique. 2 duplicates registered. Continuing ...\u001b[0m\n"
     ]
    },
    {
     "name": "stderr",
     "output_type": "stream",
     "text": [
      "Running classifier:  61%|██████▏   | 441/720 [24:13<13:32,  2.91s/it]"
     ]
    },
    {
     "name": "stdout",
     "output_type": "stream",
     "text": [
      "\u001b[91mData point [100.] is not unique. 1 duplicates registered. Continuing ...\u001b[0m\n"
     ]
    },
    {
     "name": "stderr",
     "output_type": "stream",
     "text": [
      "Running classifier:  62%|██████▏   | 449/720 [24:43<18:55,  4.19s/it]"
     ]
    },
    {
     "name": "stdout",
     "output_type": "stream",
     "text": [
      "\u001b[91mData point [100.] is not unique. 1 duplicates registered. Continuing ...\u001b[0m\n",
      "\u001b[91mData point [100.] is not unique. 2 duplicates registered. Continuing ...\u001b[0m\n",
      "\u001b[91mData point [100.] is not unique. 3 duplicates registered. Continuing ...\u001b[0m\n",
      "\u001b[91mData point [100.] is not unique. 4 duplicates registered. Continuing ...\u001b[0m\n",
      "\u001b[91mData point [100.] is not unique. 5 duplicates registered. Continuing ...\u001b[0m\n",
      "\u001b[91mData point [100.] is not unique. 6 duplicates registered. Continuing ...\u001b[0m\n",
      "\u001b[91mData point [100.] is not unique. 7 duplicates registered. Continuing ...\u001b[0m\n",
      "\u001b[91mData point [100.] is not unique. 8 duplicates registered. Continuing ...\u001b[0m\n",
      "\u001b[91mData point [100.] is not unique. 9 duplicates registered. Continuing ...\u001b[0m\n",
      "\u001b[91mData point [100.] is not unique. 10 duplicates registered. Continuing ...\u001b[0m\n",
      "\u001b[91mData point [100.] is not unique. 11 duplicates registered. Continuing ...\u001b[0m\n",
      "\u001b[91mData point [100.] is not unique. 12 duplicates registered. Continuing ...\u001b[0m\n",
      "\u001b[91mData point [100.] is not unique. 13 duplicates registered. Continuing ...\u001b[0m\n",
      "\u001b[91mData point [100.] is not unique. 14 duplicates registered. Continuing ...\u001b[0m\n",
      "\u001b[91mData point [100.] is not unique. 15 duplicates registered. Continuing ...\u001b[0m\n"
     ]
    },
    {
     "name": "stderr",
     "output_type": "stream",
     "text": [
      "Running classifier:  63%|██████▎   | 451/720 [24:50<17:11,  3.84s/it]"
     ]
    },
    {
     "name": "stdout",
     "output_type": "stream",
     "text": [
      "\u001b[91mData point [100.] is not unique. 1 duplicates registered. Continuing ...\u001b[0m\n",
      "\u001b[91mData point [100.] is not unique. 2 duplicates registered. Continuing ...\u001b[0m\n",
      "\u001b[91mData point [100.] is not unique. 3 duplicates registered. Continuing ...\u001b[0m\n",
      "\u001b[91mData point [100.] is not unique. 4 duplicates registered. Continuing ...\u001b[0m\n",
      "\u001b[91mData point [100.] is not unique. 5 duplicates registered. Continuing ...\u001b[0m\n",
      "\u001b[91mData point [100.] is not unique. 6 duplicates registered. Continuing ...\u001b[0m\n",
      "\u001b[91mData point [100.] is not unique. 7 duplicates registered. Continuing ...\u001b[0m\n",
      "\u001b[91mData point [100.] is not unique. 8 duplicates registered. Continuing ...\u001b[0m\n",
      "\u001b[91mData point [100.] is not unique. 9 duplicates registered. Continuing ...\u001b[0m\n",
      "\u001b[91mData point [100.] is not unique. 10 duplicates registered. Continuing ...\u001b[0m\n",
      "\u001b[91mData point [100.] is not unique. 11 duplicates registered. Continuing ...\u001b[0m\n",
      "\u001b[91mData point [100.] is not unique. 12 duplicates registered. Continuing ...\u001b[0m\n",
      "\u001b[91mData point [100.] is not unique. 13 duplicates registered. Continuing ...\u001b[0m\n",
      "\u001b[91mData point [100.] is not unique. 14 duplicates registered. Continuing ...\u001b[0m\n",
      "\u001b[91mData point [100.] is not unique. 15 duplicates registered. Continuing ...\u001b[0m\n",
      "\u001b[91mData point [100.] is not unique. 16 duplicates registered. Continuing ...\u001b[0m\n",
      "\u001b[91mData point [100.] is not unique. 17 duplicates registered. Continuing ...\u001b[0m\n"
     ]
    },
    {
     "name": "stderr",
     "output_type": "stream",
     "text": [
      "Running classifier:  63%|██████▎   | 455/720 [25:00<12:12,  2.77s/it]"
     ]
    },
    {
     "name": "stdout",
     "output_type": "stream",
     "text": [
      "\u001b[91mData point [100.] is not unique. 1 duplicates registered. Continuing ...\u001b[0m\n",
      "\u001b[91mData point [100.] is not unique. 2 duplicates registered. Continuing ...\u001b[0m\n",
      "\u001b[91mData point [100.] is not unique. 3 duplicates registered. Continuing ...\u001b[0m\n",
      "\u001b[91mData point [100.] is not unique. 4 duplicates registered. Continuing ...\u001b[0m\n",
      "\u001b[91mData point [100.] is not unique. 5 duplicates registered. Continuing ...\u001b[0m\n",
      "\u001b[91mData point [100.] is not unique. 6 duplicates registered. Continuing ...\u001b[0m\n",
      "\u001b[91mData point [100.] is not unique. 7 duplicates registered. Continuing ...\u001b[0m\n",
      "\u001b[91mData point [100.] is not unique. 8 duplicates registered. Continuing ...\u001b[0m\n",
      "\u001b[91mData point [100.] is not unique. 9 duplicates registered. Continuing ...\u001b[0m\n",
      "\u001b[91mData point [100.] is not unique. 10 duplicates registered. Continuing ...\u001b[0m\n",
      "\u001b[91mData point [100.] is not unique. 11 duplicates registered. Continuing ...\u001b[0m\n",
      "\u001b[91mData point [100.] is not unique. 12 duplicates registered. Continuing ...\u001b[0m\n",
      "\u001b[91mData point [100.] is not unique. 13 duplicates registered. Continuing ...\u001b[0m\n",
      "\u001b[91mData point [100.] is not unique. 14 duplicates registered. Continuing ...\u001b[0m\n",
      "\u001b[91mData point [100.] is not unique. 15 duplicates registered. Continuing ...\u001b[0m\n",
      "\u001b[91mData point [100.] is not unique. 16 duplicates registered. Continuing ...\u001b[0m\n",
      "\u001b[91mData point [100.] is not unique. 17 duplicates registered. Continuing ...\u001b[0m\n",
      "\u001b[91mData point [100.] is not unique. 18 duplicates registered. Continuing ...\u001b[0m\n"
     ]
    },
    {
     "name": "stderr",
     "output_type": "stream",
     "text": [
      "Running classifier:  64%|██████▍   | 459/720 [25:11<12:14,  2.81s/it]"
     ]
    },
    {
     "name": "stdout",
     "output_type": "stream",
     "text": [
      "\u001b[91mData point [100.] is not unique. 1 duplicates registered. Continuing ...\u001b[0m\n"
     ]
    },
    {
     "name": "stderr",
     "output_type": "stream",
     "text": [
      "Running classifier:  65%|██████▌   | 470/720 [25:50<13:34,  3.26s/it]"
     ]
    },
    {
     "name": "stdout",
     "output_type": "stream",
     "text": [
      "\u001b[91mData point [0.01] is not unique. 1 duplicates registered. Continuing ...\u001b[0m\n"
     ]
    },
    {
     "name": "stderr",
     "output_type": "stream",
     "text": [
      "Running classifier:  68%|██████▊   | 488/720 [26:49<12:54,  3.34s/it]"
     ]
    },
    {
     "name": "stdout",
     "output_type": "stream",
     "text": [
      "\u001b[91mData point [100.] is not unique. 1 duplicates registered. Continuing ...\u001b[0m\n",
      "\u001b[91mData point [100.] is not unique. 2 duplicates registered. Continuing ...\u001b[0m\n",
      "\u001b[91mData point [100.] is not unique. 3 duplicates registered. Continuing ...\u001b[0m\n",
      "\u001b[91mData point [100.] is not unique. 4 duplicates registered. Continuing ...\u001b[0m\n",
      "\u001b[91mData point [100.] is not unique. 5 duplicates registered. Continuing ...\u001b[0m\n",
      "\u001b[91mData point [100.] is not unique. 6 duplicates registered. Continuing ...\u001b[0m\n",
      "\u001b[91mData point [100.] is not unique. 7 duplicates registered. Continuing ...\u001b[0m\n",
      "\u001b[91mData point [100.] is not unique. 8 duplicates registered. Continuing ...\u001b[0m\n",
      "\u001b[91mData point [100.] is not unique. 9 duplicates registered. Continuing ...\u001b[0m\n",
      "\u001b[91mData point [100.] is not unique. 10 duplicates registered. Continuing ...\u001b[0m\n",
      "\u001b[91mData point [100.] is not unique. 11 duplicates registered. Continuing ...\u001b[0m\n",
      "\u001b[91mData point [100.] is not unique. 12 duplicates registered. Continuing ...\u001b[0m\n"
     ]
    },
    {
     "name": "stderr",
     "output_type": "stream",
     "text": [
      "Running classifier:  68%|██████▊   | 490/720 [26:54<11:15,  2.94s/it]"
     ]
    },
    {
     "name": "stdout",
     "output_type": "stream",
     "text": [
      "\u001b[91mData point [0.01] is not unique. 1 duplicates registered. Continuing ...\u001b[0m\n",
      "\u001b[91mData point [0.01] is not unique. 2 duplicates registered. Continuing ...\u001b[0m\n",
      "\u001b[91mData point [0.01] is not unique. 3 duplicates registered. Continuing ...\u001b[0m\n",
      "\u001b[91mData point [0.01] is not unique. 4 duplicates registered. Continuing ...\u001b[0m\n"
     ]
    },
    {
     "name": "stderr",
     "output_type": "stream",
     "text": [
      "Running classifier:  68%|██████▊   | 491/720 [26:56<10:40,  2.80s/it]"
     ]
    },
    {
     "name": "stdout",
     "output_type": "stream",
     "text": [
      "\u001b[91mData point [100.] is not unique. 1 duplicates registered. Continuing ...\u001b[0m\n",
      "\u001b[91mData point [100.] is not unique. 2 duplicates registered. Continuing ...\u001b[0m\n",
      "\u001b[91mData point [100.] is not unique. 3 duplicates registered. Continuing ...\u001b[0m\n",
      "\u001b[91mData point [100.] is not unique. 4 duplicates registered. Continuing ...\u001b[0m\n",
      "\u001b[91mData point [100.] is not unique. 5 duplicates registered. Continuing ...\u001b[0m\n",
      "\u001b[91mData point [100.] is not unique. 6 duplicates registered. Continuing ...\u001b[0m\n",
      "\u001b[91mData point [100.] is not unique. 7 duplicates registered. Continuing ...\u001b[0m\n",
      "\u001b[91mData point [100.] is not unique. 8 duplicates registered. Continuing ...\u001b[0m\n",
      "\u001b[91mData point [100.] is not unique. 9 duplicates registered. Continuing ...\u001b[0m\n",
      "\u001b[91mData point [100.] is not unique. 10 duplicates registered. Continuing ...\u001b[0m\n",
      "\u001b[91mData point [100.] is not unique. 11 duplicates registered. Continuing ...\u001b[0m\n",
      "\u001b[91mData point [100.] is not unique. 12 duplicates registered. Continuing ...\u001b[0m\n",
      "\u001b[91mData point [100.] is not unique. 13 duplicates registered. Continuing ...\u001b[0m\n",
      "\u001b[91mData point [100.] is not unique. 14 duplicates registered. Continuing ...\u001b[0m\n",
      "\u001b[91mData point [100.] is not unique. 15 duplicates registered. Continuing ...\u001b[0m\n",
      "\u001b[91mData point [100.] is not unique. 16 duplicates registered. Continuing ...\u001b[0m\n",
      "\u001b[91mData point [100.] is not unique. 17 duplicates registered. Continuing ...\u001b[0m\n"
     ]
    },
    {
     "name": "stderr",
     "output_type": "stream",
     "text": [
      "Running classifier:  68%|██████▊   | 493/720 [27:02<10:43,  2.83s/it]"
     ]
    },
    {
     "name": "stdout",
     "output_type": "stream",
     "text": [
      "\u001b[91mData point [0.01] is not unique. 1 duplicates registered. Continuing ...\u001b[0m\n"
     ]
    },
    {
     "name": "stderr",
     "output_type": "stream",
     "text": [
      "Running classifier:  69%|██████▊   | 494/720 [27:05<10:39,  2.83s/it]"
     ]
    },
    {
     "name": "stdout",
     "output_type": "stream",
     "text": [
      "\u001b[91mData point [0.01] is not unique. 1 duplicates registered. Continuing ...\u001b[0m\n"
     ]
    },
    {
     "name": "stderr",
     "output_type": "stream",
     "text": [
      "Running classifier:  69%|██████▉   | 500/720 [27:24<12:13,  3.33s/it]"
     ]
    },
    {
     "name": "stdout",
     "output_type": "stream",
     "text": [
      "\u001b[91mData point [100.] is not unique. 1 duplicates registered. Continuing ...\u001b[0m\n",
      "\u001b[91mData point [100.] is not unique. 2 duplicates registered. Continuing ...\u001b[0m\n"
     ]
    },
    {
     "name": "stderr",
     "output_type": "stream",
     "text": [
      "Running classifier:  70%|██████▉   | 502/720 [27:33<13:43,  3.78s/it]"
     ]
    },
    {
     "name": "stdout",
     "output_type": "stream",
     "text": [
      "\u001b[91mData point [100.] is not unique. 1 duplicates registered. Continuing ...\u001b[0m\n",
      "\u001b[91mData point [100.] is not unique. 2 duplicates registered. Continuing ...\u001b[0m\n",
      "\u001b[91mData point [100.] is not unique. 3 duplicates registered. Continuing ...\u001b[0m\n",
      "\u001b[91mData point [100.] is not unique. 4 duplicates registered. Continuing ...\u001b[0m\n",
      "\u001b[91mData point [100.] is not unique. 5 duplicates registered. Continuing ...\u001b[0m\n"
     ]
    },
    {
     "name": "stderr",
     "output_type": "stream",
     "text": [
      "Running classifier:  70%|███████   | 505/720 [27:45<13:33,  3.78s/it]"
     ]
    },
    {
     "name": "stdout",
     "output_type": "stream",
     "text": [
      "\u001b[91mData point [100.] is not unique. 1 duplicates registered. Continuing ...\u001b[0m\n",
      "\u001b[91mData point [100.] is not unique. 2 duplicates registered. Continuing ...\u001b[0m\n",
      "\u001b[91mData point [100.] is not unique. 3 duplicates registered. Continuing ...\u001b[0m\n",
      "\u001b[91mData point [100.] is not unique. 4 duplicates registered. Continuing ...\u001b[0m\n",
      "\u001b[91mData point [100.] is not unique. 5 duplicates registered. Continuing ...\u001b[0m\n",
      "\u001b[91mData point [100.] is not unique. 6 duplicates registered. Continuing ...\u001b[0m\n",
      "\u001b[91mData point [100.] is not unique. 7 duplicates registered. Continuing ...\u001b[0m\n",
      "\u001b[91mData point [100.] is not unique. 8 duplicates registered. Continuing ...\u001b[0m\n",
      "\u001b[91mData point [100.] is not unique. 9 duplicates registered. Continuing ...\u001b[0m\n",
      "\u001b[91mData point [100.] is not unique. 10 duplicates registered. Continuing ...\u001b[0m\n",
      "\u001b[91mData point [100.] is not unique. 11 duplicates registered. Continuing ...\u001b[0m\n",
      "\u001b[91mData point [100.] is not unique. 12 duplicates registered. Continuing ...\u001b[0m\n",
      "\u001b[91mData point [100.] is not unique. 13 duplicates registered. Continuing ...\u001b[0m\n",
      "\u001b[91mData point [100.] is not unique. 14 duplicates registered. Continuing ...\u001b[0m\n"
     ]
    },
    {
     "name": "stderr",
     "output_type": "stream",
     "text": [
      "Running classifier:  75%|███████▍  | 537/720 [29:27<10:24,  3.41s/it]"
     ]
    },
    {
     "name": "stdout",
     "output_type": "stream",
     "text": [
      "\u001b[91mData point [100.] is not unique. 1 duplicates registered. Continuing ...\u001b[0m\n",
      "\u001b[91mData point [100.] is not unique. 2 duplicates registered. Continuing ...\u001b[0m\n",
      "\u001b[91mData point [100.] is not unique. 3 duplicates registered. Continuing ...\u001b[0m\n",
      "\u001b[91mData point [100.] is not unique. 4 duplicates registered. Continuing ...\u001b[0m\n",
      "\u001b[91mData point [100.] is not unique. 5 duplicates registered. Continuing ...\u001b[0m\n",
      "\u001b[91mData point [100.] is not unique. 6 duplicates registered. Continuing ...\u001b[0m\n",
      "\u001b[91mData point [100.] is not unique. 7 duplicates registered. Continuing ...\u001b[0m\n",
      "\u001b[91mData point [100.] is not unique. 8 duplicates registered. Continuing ...\u001b[0m\n",
      "\u001b[91mData point [100.] is not unique. 9 duplicates registered. Continuing ...\u001b[0m\n",
      "\u001b[91mData point [100.] is not unique. 10 duplicates registered. Continuing ...\u001b[0m\n",
      "\u001b[91mData point [100.] is not unique. 11 duplicates registered. Continuing ...\u001b[0m\n",
      "\u001b[91mData point [100.] is not unique. 12 duplicates registered. Continuing ...\u001b[0m\n"
     ]
    },
    {
     "name": "stderr",
     "output_type": "stream",
     "text": [
      "Running classifier:  75%|███████▌  | 541/720 [29:44<11:30,  3.86s/it]"
     ]
    },
    {
     "name": "stdout",
     "output_type": "stream",
     "text": [
      "\u001b[91mData point [100.] is not unique. 1 duplicates registered. Continuing ...\u001b[0m\n",
      "\u001b[91mData point [100.] is not unique. 2 duplicates registered. Continuing ...\u001b[0m\n",
      "\u001b[91mData point [100.] is not unique. 3 duplicates registered. Continuing ...\u001b[0m\n",
      "\u001b[91mData point [100.] is not unique. 4 duplicates registered. Continuing ...\u001b[0m\n",
      "\u001b[91mData point [100.] is not unique. 5 duplicates registered. Continuing ...\u001b[0m\n",
      "\u001b[91mData point [100.] is not unique. 6 duplicates registered. Continuing ...\u001b[0m\n",
      "\u001b[91mData point [100.] is not unique. 7 duplicates registered. Continuing ...\u001b[0m\n",
      "\u001b[91mData point [100.] is not unique. 8 duplicates registered. Continuing ...\u001b[0m\n",
      "\u001b[91mData point [100.] is not unique. 9 duplicates registered. Continuing ...\u001b[0m\n",
      "\u001b[91mData point [100.] is not unique. 10 duplicates registered. Continuing ...\u001b[0m\n",
      "\u001b[91mData point [100.] is not unique. 11 duplicates registered. Continuing ...\u001b[0m\n"
     ]
    },
    {
     "name": "stderr",
     "output_type": "stream",
     "text": [
      "Running classifier:  76%|███████▋  | 549/720 [30:05<07:41,  2.70s/it]"
     ]
    },
    {
     "name": "stdout",
     "output_type": "stream",
     "text": [
      "\u001b[91mData point [100.] is not unique. 1 duplicates registered. Continuing ...\u001b[0m\n",
      "\u001b[91mData point [100.] is not unique. 2 duplicates registered. Continuing ...\u001b[0m\n",
      "\u001b[91mData point [100.] is not unique. 3 duplicates registered. Continuing ...\u001b[0m\n"
     ]
    },
    {
     "name": "stderr",
     "output_type": "stream",
     "text": [
      "Running classifier:  77%|███████▋  | 551/720 [30:11<08:09,  2.90s/it]"
     ]
    },
    {
     "name": "stdout",
     "output_type": "stream",
     "text": [
      "\u001b[91mData point [100.] is not unique. 1 duplicates registered. Continuing ...\u001b[0m\n",
      "\u001b[91mData point [100.] is not unique. 2 duplicates registered. Continuing ...\u001b[0m\n",
      "\u001b[91mData point [100.] is not unique. 3 duplicates registered. Continuing ...\u001b[0m\n",
      "\u001b[91mData point [100.] is not unique. 4 duplicates registered. Continuing ...\u001b[0m\n",
      "\u001b[91mData point [100.] is not unique. 5 duplicates registered. Continuing ...\u001b[0m\n",
      "\u001b[91mData point [100.] is not unique. 6 duplicates registered. Continuing ...\u001b[0m\n"
     ]
    },
    {
     "name": "stderr",
     "output_type": "stream",
     "text": [
      "Running classifier:  77%|███████▋  | 556/720 [30:30<10:27,  3.83s/it]"
     ]
    },
    {
     "name": "stdout",
     "output_type": "stream",
     "text": [
      "\u001b[91mData point [100.] is not unique. 1 duplicates registered. Continuing ...\u001b[0m\n",
      "\u001b[91mData point [100.] is not unique. 2 duplicates registered. Continuing ...\u001b[0m\n",
      "\u001b[91mData point [100.] is not unique. 3 duplicates registered. Continuing ...\u001b[0m\n",
      "\u001b[91mData point [100.] is not unique. 4 duplicates registered. Continuing ...\u001b[0m\n",
      "\u001b[91mData point [100.] is not unique. 5 duplicates registered. Continuing ...\u001b[0m\n",
      "\u001b[91mData point [100.] is not unique. 6 duplicates registered. Continuing ...\u001b[0m\n",
      "\u001b[91mData point [100.] is not unique. 7 duplicates registered. Continuing ...\u001b[0m\n",
      "\u001b[91mData point [100.] is not unique. 8 duplicates registered. Continuing ...\u001b[0m\n",
      "\u001b[91mData point [100.] is not unique. 9 duplicates registered. Continuing ...\u001b[0m\n",
      "\u001b[91mData point [100.] is not unique. 10 duplicates registered. Continuing ...\u001b[0m\n"
     ]
    },
    {
     "name": "stderr",
     "output_type": "stream",
     "text": [
      "Running classifier:  79%|███████▉  | 568/720 [31:07<07:22,  2.91s/it]"
     ]
    },
    {
     "name": "stdout",
     "output_type": "stream",
     "text": [
      "\u001b[91mData point [100.] is not unique. 1 duplicates registered. Continuing ...\u001b[0m\n",
      "\u001b[91mData point [100.] is not unique. 2 duplicates registered. Continuing ...\u001b[0m\n",
      "\u001b[91mData point [100.] is not unique. 3 duplicates registered. Continuing ...\u001b[0m\n",
      "\u001b[91mData point [100.] is not unique. 4 duplicates registered. Continuing ...\u001b[0m\n",
      "\u001b[91mData point [100.] is not unique. 5 duplicates registered. Continuing ...\u001b[0m\n",
      "\u001b[91mData point [100.] is not unique. 6 duplicates registered. Continuing ...\u001b[0m\n",
      "\u001b[91mData point [100.] is not unique. 7 duplicates registered. Continuing ...\u001b[0m\n",
      "\u001b[91mData point [100.] is not unique. 8 duplicates registered. Continuing ...\u001b[0m\n",
      "\u001b[91mData point [100.] is not unique. 9 duplicates registered. Continuing ...\u001b[0m\n",
      "\u001b[91mData point [100.] is not unique. 10 duplicates registered. Continuing ...\u001b[0m\n",
      "\u001b[91mData point [100.] is not unique. 11 duplicates registered. Continuing ...\u001b[0m\n",
      "\u001b[91mData point [100.] is not unique. 12 duplicates registered. Continuing ...\u001b[0m\n",
      "\u001b[91mData point [100.] is not unique. 13 duplicates registered. Continuing ...\u001b[0m\n",
      "\u001b[91mData point [100.] is not unique. 14 duplicates registered. Continuing ...\u001b[0m\n",
      "\u001b[91mData point [100.] is not unique. 15 duplicates registered. Continuing ...\u001b[0m\n",
      "\u001b[91mData point [100.] is not unique. 16 duplicates registered. Continuing ...\u001b[0m\n",
      "\u001b[91mData point [100.] is not unique. 17 duplicates registered. Continuing ...\u001b[0m\n"
     ]
    },
    {
     "name": "stderr",
     "output_type": "stream",
     "text": [
      "Running classifier:  79%|███████▉  | 570/720 [31:13<07:44,  3.10s/it]"
     ]
    },
    {
     "name": "stdout",
     "output_type": "stream",
     "text": [
      "\u001b[91mData point [100.] is not unique. 1 duplicates registered. Continuing ...\u001b[0m\n"
     ]
    },
    {
     "name": "stderr",
     "output_type": "stream",
     "text": [
      "Running classifier:  79%|███████▉  | 571/720 [31:17<08:20,  3.36s/it]"
     ]
    },
    {
     "name": "stdout",
     "output_type": "stream",
     "text": [
      "\u001b[91mData point [100.] is not unique. 1 duplicates registered. Continuing ...\u001b[0m\n",
      "\u001b[91mData point [100.] is not unique. 2 duplicates registered. Continuing ...\u001b[0m\n",
      "\u001b[91mData point [100.] is not unique. 3 duplicates registered. Continuing ...\u001b[0m\n",
      "\u001b[91mData point [100.] is not unique. 4 duplicates registered. Continuing ...\u001b[0m\n",
      "\u001b[91mData point [100.] is not unique. 5 duplicates registered. Continuing ...\u001b[0m\n",
      "\u001b[91mData point [100.] is not unique. 6 duplicates registered. Continuing ...\u001b[0m\n",
      "\u001b[91mData point [100.] is not unique. 7 duplicates registered. Continuing ...\u001b[0m\n",
      "\u001b[91mData point [100.] is not unique. 8 duplicates registered. Continuing ...\u001b[0m\n",
      "\u001b[91mData point [100.] is not unique. 9 duplicates registered. Continuing ...\u001b[0m\n",
      "\u001b[91mData point [100.] is not unique. 10 duplicates registered. Continuing ...\u001b[0m\n",
      "\u001b[91mData point [100.] is not unique. 11 duplicates registered. Continuing ...\u001b[0m\n",
      "\u001b[91mData point [100.] is not unique. 12 duplicates registered. Continuing ...\u001b[0m\n",
      "\u001b[91mData point [100.] is not unique. 13 duplicates registered. Continuing ...\u001b[0m\n",
      "\u001b[91mData point [100.] is not unique. 14 duplicates registered. Continuing ...\u001b[0m\n",
      "\u001b[91mData point [100.] is not unique. 15 duplicates registered. Continuing ...\u001b[0m\n",
      "\u001b[91mData point [100.] is not unique. 16 duplicates registered. Continuing ...\u001b[0m\n",
      "\u001b[91mData point [100.] is not unique. 17 duplicates registered. Continuing ...\u001b[0m\n",
      "\u001b[91mData point [100.] is not unique. 18 duplicates registered. Continuing ...\u001b[0m\n"
     ]
    },
    {
     "name": "stderr",
     "output_type": "stream",
     "text": [
      "Running classifier:  80%|███████▉  | 573/720 [31:25<08:38,  3.53s/it]"
     ]
    },
    {
     "name": "stdout",
     "output_type": "stream",
     "text": [
      "\u001b[91mData point [100.] is not unique. 1 duplicates registered. Continuing ...\u001b[0m\n",
      "\u001b[91mData point [100.] is not unique. 2 duplicates registered. Continuing ...\u001b[0m\n",
      "\u001b[91mData point [100.] is not unique. 3 duplicates registered. Continuing ...\u001b[0m\n",
      "\u001b[91mData point [100.] is not unique. 4 duplicates registered. Continuing ...\u001b[0m\n",
      "\u001b[91mData point [100.] is not unique. 5 duplicates registered. Continuing ...\u001b[0m\n",
      "\u001b[91mData point [100.] is not unique. 6 duplicates registered. Continuing ...\u001b[0m\n",
      "\u001b[91mData point [100.] is not unique. 7 duplicates registered. Continuing ...\u001b[0m\n",
      "\u001b[91mData point [100.] is not unique. 8 duplicates registered. Continuing ...\u001b[0m\n",
      "\u001b[91mData point [100.] is not unique. 9 duplicates registered. Continuing ...\u001b[0m\n"
     ]
    },
    {
     "name": "stderr",
     "output_type": "stream",
     "text": [
      "Running classifier:  80%|███████▉  | 574/720 [31:29<09:29,  3.90s/it]"
     ]
    },
    {
     "name": "stdout",
     "output_type": "stream",
     "text": [
      "\u001b[91mData point [100.] is not unique. 1 duplicates registered. Continuing ...\u001b[0m\n",
      "\u001b[91mData point [100.] is not unique. 2 duplicates registered. Continuing ...\u001b[0m\n",
      "\u001b[91mData point [100.] is not unique. 3 duplicates registered. Continuing ...\u001b[0m\n",
      "\u001b[91mData point [100.] is not unique. 4 duplicates registered. Continuing ...\u001b[0m\n",
      "\u001b[91mData point [100.] is not unique. 5 duplicates registered. Continuing ...\u001b[0m\n",
      "\u001b[91mData point [100.] is not unique. 6 duplicates registered. Continuing ...\u001b[0m\n",
      "\u001b[91mData point [100.] is not unique. 7 duplicates registered. Continuing ...\u001b[0m\n",
      "\u001b[91mData point [100.] is not unique. 8 duplicates registered. Continuing ...\u001b[0m\n",
      "\u001b[91mData point [100.] is not unique. 9 duplicates registered. Continuing ...\u001b[0m\n",
      "\u001b[91mData point [100.] is not unique. 10 duplicates registered. Continuing ...\u001b[0m\n",
      "\u001b[91mData point [100.] is not unique. 11 duplicates registered. Continuing ...\u001b[0m\n",
      "\u001b[91mData point [100.] is not unique. 12 duplicates registered. Continuing ...\u001b[0m\n",
      "\u001b[91mData point [100.] is not unique. 13 duplicates registered. Continuing ...\u001b[0m\n",
      "\u001b[91mData point [100.] is not unique. 14 duplicates registered. Continuing ...\u001b[0m\n",
      "\u001b[91mData point [100.] is not unique. 15 duplicates registered. Continuing ...\u001b[0m\n"
     ]
    },
    {
     "name": "stderr",
     "output_type": "stream",
     "text": [
      "Running classifier:  82%|████████▏ | 591/720 [32:22<07:22,  3.43s/it]"
     ]
    },
    {
     "name": "stdout",
     "output_type": "stream",
     "text": [
      "\u001b[91mData point [100.] is not unique. 1 duplicates registered. Continuing ...\u001b[0m\n",
      "\u001b[91mData point [100.] is not unique. 2 duplicates registered. Continuing ...\u001b[0m\n",
      "\u001b[91mData point [100.] is not unique. 3 duplicates registered. Continuing ...\u001b[0m\n",
      "\u001b[91mData point [100.] is not unique. 4 duplicates registered. Continuing ...\u001b[0m\n",
      "\u001b[91mData point [100.] is not unique. 5 duplicates registered. Continuing ...\u001b[0m\n",
      "\u001b[91mData point [100.] is not unique. 6 duplicates registered. Continuing ...\u001b[0m\n",
      "\u001b[91mData point [100.] is not unique. 7 duplicates registered. Continuing ...\u001b[0m\n",
      "\u001b[91mData point [100.] is not unique. 8 duplicates registered. Continuing ...\u001b[0m\n",
      "\u001b[91mData point [100.] is not unique. 9 duplicates registered. Continuing ...\u001b[0m\n",
      "\u001b[91mData point [100.] is not unique. 10 duplicates registered. Continuing ...\u001b[0m\n"
     ]
    },
    {
     "name": "stderr",
     "output_type": "stream",
     "text": [
      "Running classifier:  82%|████████▏ | 593/720 [32:32<08:43,  4.12s/it]"
     ]
    },
    {
     "name": "stdout",
     "output_type": "stream",
     "text": [
      "\u001b[91mData point [100.] is not unique. 1 duplicates registered. Continuing ...\u001b[0m\n",
      "\u001b[91mData point [100.] is not unique. 2 duplicates registered. Continuing ...\u001b[0m\n"
     ]
    },
    {
     "name": "stderr",
     "output_type": "stream",
     "text": [
      "Running classifier:  83%|████████▎ | 601/720 [32:55<05:25,  2.74s/it]"
     ]
    },
    {
     "name": "stdout",
     "output_type": "stream",
     "text": [
      "\u001b[91mData point [0.01] is not unique. 1 duplicates registered. Continuing ...\u001b[0m\n"
     ]
    },
    {
     "name": "stderr",
     "output_type": "stream",
     "text": [
      "Running classifier:  84%|████████▎ | 602/720 [32:58<05:38,  2.87s/it]"
     ]
    },
    {
     "name": "stdout",
     "output_type": "stream",
     "text": [
      "\u001b[91mData point [100.] is not unique. 1 duplicates registered. Continuing ...\u001b[0m\n",
      "\u001b[91mData point [100.] is not unique. 2 duplicates registered. Continuing ...\u001b[0m\n",
      "\u001b[91mData point [100.] is not unique. 3 duplicates registered. Continuing ...\u001b[0m\n",
      "\u001b[91mData point [100.] is not unique. 4 duplicates registered. Continuing ...\u001b[0m\n",
      "\u001b[91mData point [100.] is not unique. 5 duplicates registered. Continuing ...\u001b[0m\n",
      "\u001b[91mData point [100.] is not unique. 6 duplicates registered. Continuing ...\u001b[0m\n",
      "\u001b[91mData point [100.] is not unique. 7 duplicates registered. Continuing ...\u001b[0m\n",
      "\u001b[91mData point [100.] is not unique. 8 duplicates registered. Continuing ...\u001b[0m\n",
      "\u001b[91mData point [100.] is not unique. 9 duplicates registered. Continuing ...\u001b[0m\n",
      "\u001b[91mData point [100.] is not unique. 10 duplicates registered. Continuing ...\u001b[0m\n",
      "\u001b[91mData point [100.] is not unique. 11 duplicates registered. Continuing ...\u001b[0m\n",
      "\u001b[91mData point [100.] is not unique. 12 duplicates registered. Continuing ...\u001b[0m\n",
      "\u001b[91mData point [100.] is not unique. 13 duplicates registered. Continuing ...\u001b[0m\n",
      "\u001b[91mData point [100.] is not unique. 14 duplicates registered. Continuing ...\u001b[0m\n",
      "\u001b[91mData point [100.] is not unique. 15 duplicates registered. Continuing ...\u001b[0m\n",
      "\u001b[91mData point [100.] is not unique. 16 duplicates registered. Continuing ...\u001b[0m\n",
      "\u001b[91mData point [100.] is not unique. 17 duplicates registered. Continuing ...\u001b[0m\n",
      "\u001b[91mData point [100.] is not unique. 18 duplicates registered. Continuing ...\u001b[0m\n"
     ]
    },
    {
     "name": "stderr",
     "output_type": "stream",
     "text": [
      "Running classifier:  84%|████████▍ | 605/720 [33:07<05:55,  3.09s/it]"
     ]
    },
    {
     "name": "stdout",
     "output_type": "stream",
     "text": [
      "\u001b[91mData point [100.] is not unique. 1 duplicates registered. Continuing ...\u001b[0m\n",
      "\u001b[91mData point [100.] is not unique. 2 duplicates registered. Continuing ...\u001b[0m\n",
      "\u001b[91mData point [100.] is not unique. 3 duplicates registered. Continuing ...\u001b[0m\n",
      "\u001b[91mData point [100.] is not unique. 4 duplicates registered. Continuing ...\u001b[0m\n",
      "\u001b[91mData point [100.] is not unique. 5 duplicates registered. Continuing ...\u001b[0m\n",
      "\u001b[91mData point [100.] is not unique. 6 duplicates registered. Continuing ...\u001b[0m\n",
      "\u001b[91mData point [100.] is not unique. 7 duplicates registered. Continuing ...\u001b[0m\n",
      "\u001b[91mData point [100.] is not unique. 8 duplicates registered. Continuing ...\u001b[0m\n"
     ]
    },
    {
     "name": "stderr",
     "output_type": "stream",
     "text": [
      "Running classifier:  84%|████████▍ | 607/720 [33:15<06:23,  3.39s/it]"
     ]
    },
    {
     "name": "stdout",
     "output_type": "stream",
     "text": [
      "\u001b[91mData point [100.] is not unique. 1 duplicates registered. Continuing ...\u001b[0m\n",
      "\u001b[91mData point [100.] is not unique. 2 duplicates registered. Continuing ...\u001b[0m\n",
      "\u001b[91mData point [100.] is not unique. 3 duplicates registered. Continuing ...\u001b[0m\n",
      "\u001b[91mData point [100.] is not unique. 4 duplicates registered. Continuing ...\u001b[0m\n",
      "\u001b[91mData point [100.] is not unique. 5 duplicates registered. Continuing ...\u001b[0m\n",
      "\u001b[91mData point [100.] is not unique. 6 duplicates registered. Continuing ...\u001b[0m\n",
      "\u001b[91mData point [100.] is not unique. 7 duplicates registered. Continuing ...\u001b[0m\n"
     ]
    },
    {
     "name": "stderr",
     "output_type": "stream",
     "text": [
      "Running classifier:  85%|████████▍ | 611/720 [33:31<07:27,  4.11s/it]"
     ]
    },
    {
     "name": "stdout",
     "output_type": "stream",
     "text": [
      "\u001b[91mData point [100.] is not unique. 1 duplicates registered. Continuing ...\u001b[0m\n",
      "\u001b[91mData point [100.] is not unique. 2 duplicates registered. Continuing ...\u001b[0m\n",
      "\u001b[91mData point [100.] is not unique. 3 duplicates registered. Continuing ...\u001b[0m\n",
      "\u001b[91mData point [100.] is not unique. 4 duplicates registered. Continuing ...\u001b[0m\n",
      "\u001b[91mData point [100.] is not unique. 5 duplicates registered. Continuing ...\u001b[0m\n",
      "\u001b[91mData point [100.] is not unique. 6 duplicates registered. Continuing ...\u001b[0m\n",
      "\u001b[91mData point [100.] is not unique. 7 duplicates registered. Continuing ...\u001b[0m\n",
      "\u001b[91mData point [100.] is not unique. 8 duplicates registered. Continuing ...\u001b[0m\n",
      "\u001b[91mData point [100.] is not unique. 9 duplicates registered. Continuing ...\u001b[0m\n",
      "\u001b[91mData point [100.] is not unique. 10 duplicates registered. Continuing ...\u001b[0m\n",
      "\u001b[91mData point [100.] is not unique. 11 duplicates registered. Continuing ...\u001b[0m\n",
      "\u001b[91mData point [100.] is not unique. 12 duplicates registered. Continuing ...\u001b[0m\n",
      "\u001b[91mData point [100.] is not unique. 13 duplicates registered. Continuing ...\u001b[0m\n",
      "\u001b[91mData point [100.] is not unique. 14 duplicates registered. Continuing ...\u001b[0m\n",
      "\u001b[91mData point [100.] is not unique. 15 duplicates registered. Continuing ...\u001b[0m\n",
      "\u001b[91mData point [100.] is not unique. 16 duplicates registered. Continuing ...\u001b[0m\n",
      "\u001b[91mData point [100.] is not unique. 17 duplicates registered. Continuing ...\u001b[0m\n"
     ]
    },
    {
     "name": "stderr",
     "output_type": "stream",
     "text": [
      "Running classifier:  88%|████████▊ | 632/720 [34:34<04:50,  3.30s/it]"
     ]
    },
    {
     "name": "stdout",
     "output_type": "stream",
     "text": [
      "\u001b[91mData point [100.] is not unique. 1 duplicates registered. Continuing ...\u001b[0m\n",
      "\u001b[91mData point [100.] is not unique. 2 duplicates registered. Continuing ...\u001b[0m\n",
      "\u001b[91mData point [100.] is not unique. 3 duplicates registered. Continuing ...\u001b[0m\n"
     ]
    },
    {
     "name": "stderr",
     "output_type": "stream",
     "text": [
      "Running classifier:  88%|████████▊ | 633/720 [34:37<04:24,  3.04s/it]"
     ]
    },
    {
     "name": "stdout",
     "output_type": "stream",
     "text": [
      "\u001b[91mData point [100.] is not unique. 1 duplicates registered. Continuing ...\u001b[0m\n"
     ]
    },
    {
     "name": "stderr",
     "output_type": "stream",
     "text": [
      "Running classifier:  88%|████████▊ | 636/720 [34:45<03:55,  2.80s/it]"
     ]
    },
    {
     "name": "stdout",
     "output_type": "stream",
     "text": [
      "\u001b[91mData point [100.] is not unique. 1 duplicates registered. Continuing ...\u001b[0m\n",
      "\u001b[91mData point [100.] is not unique. 2 duplicates registered. Continuing ...\u001b[0m\n",
      "\u001b[91mData point [100.] is not unique. 3 duplicates registered. Continuing ...\u001b[0m\n",
      "\u001b[91mData point [100.] is not unique. 4 duplicates registered. Continuing ...\u001b[0m\n",
      "\u001b[91mData point [100.] is not unique. 5 duplicates registered. Continuing ...\u001b[0m\n",
      "\u001b[91mData point [100.] is not unique. 6 duplicates registered. Continuing ...\u001b[0m\n",
      "\u001b[91mData point [100.] is not unique. 7 duplicates registered. Continuing ...\u001b[0m\n"
     ]
    },
    {
     "name": "stderr",
     "output_type": "stream",
     "text": [
      "Running classifier:  89%|████████▉ | 639/720 [34:53<03:47,  2.80s/it]"
     ]
    },
    {
     "name": "stdout",
     "output_type": "stream",
     "text": [
      "\u001b[91mData point [100.] is not unique. 1 duplicates registered. Continuing ...\u001b[0m\n"
     ]
    },
    {
     "name": "stderr",
     "output_type": "stream",
     "text": [
      "Running classifier:  89%|████████▉ | 643/720 [35:07<04:10,  3.26s/it]"
     ]
    },
    {
     "name": "stdout",
     "output_type": "stream",
     "text": [
      "\u001b[91mData point [100.] is not unique. 1 duplicates registered. Continuing ...\u001b[0m\n",
      "\u001b[91mData point [100.] is not unique. 2 duplicates registered. Continuing ...\u001b[0m\n",
      "\u001b[91mData point [100.] is not unique. 3 duplicates registered. Continuing ...\u001b[0m\n",
      "\u001b[91mData point [100.] is not unique. 4 duplicates registered. Continuing ...\u001b[0m\n",
      "\u001b[91mData point [100.] is not unique. 5 duplicates registered. Continuing ...\u001b[0m\n",
      "\u001b[91mData point [100.] is not unique. 6 duplicates registered. Continuing ...\u001b[0m\n",
      "\u001b[91mData point [100.] is not unique. 7 duplicates registered. Continuing ...\u001b[0m\n",
      "\u001b[91mData point [100.] is not unique. 8 duplicates registered. Continuing ...\u001b[0m\n",
      "\u001b[91mData point [100.] is not unique. 9 duplicates registered. Continuing ...\u001b[0m\n",
      "\u001b[91mData point [100.] is not unique. 10 duplicates registered. Continuing ...\u001b[0m\n",
      "\u001b[91mData point [100.] is not unique. 11 duplicates registered. Continuing ...\u001b[0m\n",
      "\u001b[91mData point [100.] is not unique. 12 duplicates registered. Continuing ...\u001b[0m\n",
      "\u001b[91mData point [100.] is not unique. 13 duplicates registered. Continuing ...\u001b[0m\n",
      "\u001b[91mData point [100.] is not unique. 14 duplicates registered. Continuing ...\u001b[0m\n",
      "\u001b[91mData point [100.] is not unique. 15 duplicates registered. Continuing ...\u001b[0m\n",
      "\u001b[91mData point [100.] is not unique. 16 duplicates registered. Continuing ...\u001b[0m\n",
      "\u001b[91mData point [100.] is not unique. 17 duplicates registered. Continuing ...\u001b[0m\n",
      "\u001b[91mData point [100.] is not unique. 18 duplicates registered. Continuing ...\u001b[0m\n"
     ]
    },
    {
     "name": "stderr",
     "output_type": "stream",
     "text": [
      "Running classifier:  96%|█████████▌| 692/720 [37:44<01:21,  2.90s/it]"
     ]
    },
    {
     "name": "stdout",
     "output_type": "stream",
     "text": [
      "\u001b[91mData point [100.] is not unique. 1 duplicates registered. Continuing ...\u001b[0m\n",
      "\u001b[91mData point [100.] is not unique. 2 duplicates registered. Continuing ...\u001b[0m\n",
      "\u001b[91mData point [100.] is not unique. 3 duplicates registered. Continuing ...\u001b[0m\n",
      "\u001b[91mData point [100.] is not unique. 4 duplicates registered. Continuing ...\u001b[0m\n",
      "\u001b[91mData point [100.] is not unique. 5 duplicates registered. Continuing ...\u001b[0m\n",
      "\u001b[91mData point [100.] is not unique. 6 duplicates registered. Continuing ...\u001b[0m\n",
      "\u001b[91mData point [100.] is not unique. 7 duplicates registered. Continuing ...\u001b[0m\n",
      "\u001b[91mData point [100.] is not unique. 8 duplicates registered. Continuing ...\u001b[0m\n",
      "\u001b[91mData point [100.] is not unique. 9 duplicates registered. Continuing ...\u001b[0m\n",
      "\u001b[91mData point [100.] is not unique. 10 duplicates registered. Continuing ...\u001b[0m\n",
      "\u001b[91mData point [100.] is not unique. 11 duplicates registered. Continuing ...\u001b[0m\n",
      "\u001b[91mData point [100.] is not unique. 12 duplicates registered. Continuing ...\u001b[0m\n",
      "\u001b[91mData point [100.] is not unique. 13 duplicates registered. Continuing ...\u001b[0m\n"
     ]
    },
    {
     "name": "stderr",
     "output_type": "stream",
     "text": [
      "Running classifier:  97%|█████████▋| 697/720 [38:00<01:13,  3.19s/it]"
     ]
    },
    {
     "name": "stdout",
     "output_type": "stream",
     "text": [
      "\u001b[91mData point [0.01] is not unique. 1 duplicates registered. Continuing ...\u001b[0m\n",
      "\u001b[91mData point [0.01] is not unique. 2 duplicates registered. Continuing ...\u001b[0m\n"
     ]
    },
    {
     "name": "stderr",
     "output_type": "stream",
     "text": [
      "Running classifier:  97%|█████████▋| 699/720 [38:07<01:10,  3.33s/it]"
     ]
    },
    {
     "name": "stdout",
     "output_type": "stream",
     "text": [
      "\u001b[91mData point [100.] is not unique. 1 duplicates registered. Continuing ...\u001b[0m\n",
      "\u001b[91mData point [100.] is not unique. 2 duplicates registered. Continuing ...\u001b[0m\n",
      "\u001b[91mData point [100.] is not unique. 3 duplicates registered. Continuing ...\u001b[0m\n",
      "\u001b[91mData point [100.] is not unique. 4 duplicates registered. Continuing ...\u001b[0m\n",
      "\u001b[91mData point [100.] is not unique. 5 duplicates registered. Continuing ...\u001b[0m\n",
      "\u001b[91mData point [100.] is not unique. 6 duplicates registered. Continuing ...\u001b[0m\n",
      "\u001b[91mData point [100.] is not unique. 7 duplicates registered. Continuing ...\u001b[0m\n",
      "\u001b[91mData point [100.] is not unique. 8 duplicates registered. Continuing ...\u001b[0m\n",
      "\u001b[91mData point [100.] is not unique. 9 duplicates registered. Continuing ...\u001b[0m\n",
      "\u001b[91mData point [100.] is not unique. 10 duplicates registered. Continuing ...\u001b[0m\n",
      "\u001b[91mData point [100.] is not unique. 11 duplicates registered. Continuing ...\u001b[0m\n",
      "\u001b[91mData point [100.] is not unique. 12 duplicates registered. Continuing ...\u001b[0m\n",
      "\u001b[91mData point [100.] is not unique. 13 duplicates registered. Continuing ...\u001b[0m\n",
      "\u001b[91mData point [100.] is not unique. 14 duplicates registered. Continuing ...\u001b[0m\n",
      "\u001b[91mData point [100.] is not unique. 15 duplicates registered. Continuing ...\u001b[0m\n",
      "\u001b[91mData point [100.] is not unique. 16 duplicates registered. Continuing ...\u001b[0m\n",
      "\u001b[91mData point [100.] is not unique. 17 duplicates registered. Continuing ...\u001b[0m\n",
      "\u001b[91mData point [100.] is not unique. 18 duplicates registered. Continuing ...\u001b[0m\n",
      "\u001b[91mData point [100.] is not unique. 19 duplicates registered. Continuing ...\u001b[0m\n"
     ]
    },
    {
     "name": "stderr",
     "output_type": "stream",
     "text": [
      "Running classifier: 100%|██████████| 720/720 [39:21<00:00,  4.34s/it]"
     ]
    },
    {
     "data": {
      "text/html": [
       "<div>\n",
       "<style scoped>\n",
       "    .dataframe tbody tr th:only-of-type {\n",
       "        vertical-align: middle;\n",
       "    }\n",
       "\n",
       "    .dataframe tbody tr th {\n",
       "        vertical-align: top;\n",
       "    }\n",
       "\n",
       "    .dataframe thead th {\n",
       "        text-align: right;\n",
       "    }\n",
       "</style>\n",
       "<table border=\"1\" class=\"dataframe\">\n",
       "  <thead>\n",
       "    <tr style=\"text-align: right;\">\n",
       "      <th></th>\n",
       "      <th>test_size</th>\n",
       "      <th>nthroot_00_data</th>\n",
       "      <th>nthroot_003448_data</th>\n",
       "      <th>nthroot_006897_data</th>\n",
       "      <th>nthroot_01034_data</th>\n",
       "      <th>nthroot_01379_data</th>\n",
       "      <th>nthroot_01724_data</th>\n",
       "      <th>nthroot_02069_data</th>\n",
       "      <th>nthroot_02414_data</th>\n",
       "      <th>nthroot_02759_data</th>\n",
       "      <th>...</th>\n",
       "      <th>nthroot_10_data</th>\n",
       "      <th>norm_2_datacsv</th>\n",
       "      <th>norm_21_datacsv</th>\n",
       "      <th>norm_3_datacsv</th>\n",
       "      <th>norm_31_datacsv</th>\n",
       "      <th>norm_4_datacsv</th>\n",
       "      <th>norm_41_datacsv</th>\n",
       "      <th>norm_5_datacsv</th>\n",
       "      <th>norm_51_datacsv</th>\n",
       "      <th>nthroot_log_datacsv</th>\n",
       "    </tr>\n",
       "  </thead>\n",
       "  <tbody>\n",
       "    <tr>\n",
       "      <th>0</th>\n",
       "      <td>0.20</td>\n",
       "      <td>55.103039</td>\n",
       "      <td>79.263744</td>\n",
       "      <td>77.392527</td>\n",
       "      <td>80.303308</td>\n",
       "      <td>79.746835</td>\n",
       "      <td>80.523451</td>\n",
       "      <td>78.004036</td>\n",
       "      <td>77.588210</td>\n",
       "      <td>78.554394</td>\n",
       "      <td>...</td>\n",
       "      <td>69.791476</td>\n",
       "      <td>78.352596</td>\n",
       "      <td>80.853666</td>\n",
       "      <td>76.041093</td>\n",
       "      <td>70.451905</td>\n",
       "      <td>72.726717</td>\n",
       "      <td>70.274567</td>\n",
       "      <td>79.031370</td>\n",
       "      <td>74.426711</td>\n",
       "      <td>77.306916</td>\n",
       "    </tr>\n",
       "    <tr>\n",
       "      <th>1</th>\n",
       "      <td>0.25</td>\n",
       "      <td>55.531093</td>\n",
       "      <td>78.629091</td>\n",
       "      <td>78.810118</td>\n",
       "      <td>78.790547</td>\n",
       "      <td>78.154509</td>\n",
       "      <td>77.743530</td>\n",
       "      <td>75.018347</td>\n",
       "      <td>76.520378</td>\n",
       "      <td>78.281716</td>\n",
       "      <td>...</td>\n",
       "      <td>77.259161</td>\n",
       "      <td>78.095797</td>\n",
       "      <td>80.292578</td>\n",
       "      <td>74.211067</td>\n",
       "      <td>70.385048</td>\n",
       "      <td>69.592446</td>\n",
       "      <td>70.766672</td>\n",
       "      <td>79.974558</td>\n",
       "      <td>72.488869</td>\n",
       "      <td>76.153432</td>\n",
       "    </tr>\n",
       "    <tr>\n",
       "      <th>2</th>\n",
       "      <td>0.33</td>\n",
       "      <td>51.508413</td>\n",
       "      <td>75.854273</td>\n",
       "      <td>77.355274</td>\n",
       "      <td>78.737677</td>\n",
       "      <td>77.055074</td>\n",
       "      <td>76.632570</td>\n",
       "      <td>76.313839</td>\n",
       "      <td>77.006893</td>\n",
       "      <td>76.691869</td>\n",
       "      <td>...</td>\n",
       "      <td>77.021718</td>\n",
       "      <td>76.999481</td>\n",
       "      <td>78.645023</td>\n",
       "      <td>72.437180</td>\n",
       "      <td>70.050404</td>\n",
       "      <td>73.574976</td>\n",
       "      <td>69.690905</td>\n",
       "      <td>76.899414</td>\n",
       "      <td>70.728634</td>\n",
       "      <td>75.483656</td>\n",
       "    </tr>\n",
       "    <tr>\n",
       "      <th>3</th>\n",
       "      <td>0.40</td>\n",
       "      <td>55.144788</td>\n",
       "      <td>74.555851</td>\n",
       "      <td>74.858576</td>\n",
       "      <td>74.164450</td>\n",
       "      <td>74.846344</td>\n",
       "      <td>75.766749</td>\n",
       "      <td>76.240712</td>\n",
       "      <td>76.855334</td>\n",
       "      <td>71.724307</td>\n",
       "      <td>...</td>\n",
       "      <td>71.262575</td>\n",
       "      <td>75.794270</td>\n",
       "      <td>77.255909</td>\n",
       "      <td>70.320766</td>\n",
       "      <td>69.776473</td>\n",
       "      <td>70.785555</td>\n",
       "      <td>69.975232</td>\n",
       "      <td>77.112192</td>\n",
       "      <td>74.760725</td>\n",
       "      <td>72.598844</td>\n",
       "    </tr>\n",
       "    <tr>\n",
       "      <th>4</th>\n",
       "      <td>0.50</td>\n",
       "      <td>51.976613</td>\n",
       "      <td>74.568227</td>\n",
       "      <td>74.379862</td>\n",
       "      <td>74.348060</td>\n",
       "      <td>72.992808</td>\n",
       "      <td>72.630755</td>\n",
       "      <td>72.513332</td>\n",
       "      <td>73.868585</td>\n",
       "      <td>73.146925</td>\n",
       "      <td>...</td>\n",
       "      <td>69.303782</td>\n",
       "      <td>74.812858</td>\n",
       "      <td>75.744899</td>\n",
       "      <td>68.956407</td>\n",
       "      <td>69.198591</td>\n",
       "      <td>71.764763</td>\n",
       "      <td>69.355154</td>\n",
       "      <td>75.654386</td>\n",
       "      <td>73.012378</td>\n",
       "      <td>72.085229</td>\n",
       "    </tr>\n",
       "    <tr>\n",
       "      <th>5</th>\n",
       "      <td>0.75</td>\n",
       "      <td>51.806188</td>\n",
       "      <td>70.391572</td>\n",
       "      <td>70.055613</td>\n",
       "      <td>68.773750</td>\n",
       "      <td>69.918620</td>\n",
       "      <td>70.106170</td>\n",
       "      <td>71.523395</td>\n",
       "      <td>69.812613</td>\n",
       "      <td>70.515518</td>\n",
       "      <td>...</td>\n",
       "      <td>68.077368</td>\n",
       "      <td>72.133340</td>\n",
       "      <td>72.873754</td>\n",
       "      <td>68.299167</td>\n",
       "      <td>67.997456</td>\n",
       "      <td>67.317383</td>\n",
       "      <td>67.935483</td>\n",
       "      <td>70.827014</td>\n",
       "      <td>67.423390</td>\n",
       "      <td>66.152943</td>\n",
       "    </tr>\n",
       "  </tbody>\n",
       "</table>\n",
       "<p>6 rows × 41 columns</p>\n",
       "</div>"
      ],
      "text/plain": [
       "   test_size  nthroot_00_data  nthroot_003448_data  nthroot_006897_data  \\\n",
       "0       0.20        55.103039            79.263744            77.392527   \n",
       "1       0.25        55.531093            78.629091            78.810118   \n",
       "2       0.33        51.508413            75.854273            77.355274   \n",
       "3       0.40        55.144788            74.555851            74.858576   \n",
       "4       0.50        51.976613            74.568227            74.379862   \n",
       "5       0.75        51.806188            70.391572            70.055613   \n",
       "\n",
       "   nthroot_01034_data  nthroot_01379_data  nthroot_01724_data  \\\n",
       "0           80.303308           79.746835           80.523451   \n",
       "1           78.790547           78.154509           77.743530   \n",
       "2           78.737677           77.055074           76.632570   \n",
       "3           74.164450           74.846344           75.766749   \n",
       "4           74.348060           72.992808           72.630755   \n",
       "5           68.773750           69.918620           70.106170   \n",
       "\n",
       "   nthroot_02069_data  nthroot_02414_data  nthroot_02759_data  ...  \\\n",
       "0           78.004036           77.588210           78.554394  ...   \n",
       "1           75.018347           76.520378           78.281716  ...   \n",
       "2           76.313839           77.006893           76.691869  ...   \n",
       "3           76.240712           76.855334           71.724307  ...   \n",
       "4           72.513332           73.868585           73.146925  ...   \n",
       "5           71.523395           69.812613           70.515518  ...   \n",
       "\n",
       "   nthroot_10_data  norm_2_datacsv  norm_21_datacsv  norm_3_datacsv  \\\n",
       "0        69.791476       78.352596        80.853666       76.041093   \n",
       "1        77.259161       78.095797        80.292578       74.211067   \n",
       "2        77.021718       76.999481        78.645023       72.437180   \n",
       "3        71.262575       75.794270        77.255909       70.320766   \n",
       "4        69.303782       74.812858        75.744899       68.956407   \n",
       "5        68.077368       72.133340        72.873754       68.299167   \n",
       "\n",
       "   norm_31_datacsv  norm_4_datacsv  norm_41_datacsv  norm_5_datacsv  \\\n",
       "0        70.451905       72.726717        70.274567       79.031370   \n",
       "1        70.385048       69.592446        70.766672       79.974558   \n",
       "2        70.050404       73.574976        69.690905       76.899414   \n",
       "3        69.776473       70.785555        69.975232       77.112192   \n",
       "4        69.198591       71.764763        69.355154       75.654386   \n",
       "5        67.997456       67.317383        67.935483       70.827014   \n",
       "\n",
       "   norm_51_datacsv  nthroot_log_datacsv  \n",
       "0        74.426711            77.306916  \n",
       "1        72.488869            76.153432  \n",
       "2        70.728634            75.483656  \n",
       "3        74.760725            72.598844  \n",
       "4        73.012378            72.085229  \n",
       "5        67.423390            66.152943  \n",
       "\n",
       "[6 rows x 41 columns]"
      ]
     },
     "metadata": {},
     "output_type": "display_data"
    }
   ],
   "source": [
    "accuracies = pd.DataFrame({'test_size': test_size_values})\n",
    "\n",
    "# Setting progress bar for each time the classifier will be run during this step\n",
    "pbar = tqdm(total=len(norm_data_names)*num_runs*len(test_size_values), desc='Running classifier', leave=True)\n",
    "\n",
    "for path in norm_data_names:\n",
    "    path1 = '../data/data-norm/max-pixel-all/' + path\n",
    "    data = pd.read_csv(path1,na_values='-')\n",
    "    data.fillna(0,inplace=True)\n",
    "    data_label = ''.join(path.split('.')[:2])\n",
    "    truth_labels = data.iloc[:, 0].values\n",
    "    image_data = data.iloc[:, 1:].values\n",
    "    all_acc_dataset = []\n",
    "    for test_size in test_size_values:\n",
    "        acc = []\n",
    "        idx = 1\n",
    "        while idx <= num_runs:\n",
    "            accuracy = run_classifier(image_data, truth_labels, test_size, state=random.randint(0, 10000))\n",
    "            acc.append(accuracy)\n",
    "            pbar.update(1)\n",
    "            idx += 1\n",
    "        avg_acc = np.average(acc)\n",
    "        all_acc_dataset.append(avg_acc)\n",
    "    temp_df = pd.DataFrame({str(data_label): all_acc_dataset})\n",
    "    accuracies = pd.concat([accuracies, temp_df], axis=1)\n",
    "display(accuracies)"
   ]
  },
  {
   "cell_type": "code",
   "execution_count": 10,
   "metadata": {},
   "outputs": [
    {
     "data": {
      "image/png": "[encoded data removed]",
      "text/plain": [
       "<Figure size 1200x400 with 1 Axes>"
      ]
     },
     "metadata": {},
     "output_type": "display_data"
    }
   ],
   "source": [
    "plt.figure(figsize=(12,4))\n",
    "\n",
    "for path in norm_data_names:\n",
    "    path1 = '../data/data-norm/max-pixel-all/' + path\n",
    "    data = pd.read_csv(path1,na_values='-')\n",
    "    data.fillna(0,inplace=True)\n",
    "    data_label = ''.join(path.split('.')[:2])\n",
    "    # data_label = 'Normalized {} {}'.format(*path.split('_')[:2])\n",
    "    plt.plot(accuracies['test_size'].values, accuracies[data_label].values, label=data_label)\n",
    "\n",
    "plt.title(\"MuyGPs Stellar Blending 2-class\")    \n",
    "plt.legend(fontsize=10)   \n",
    "plt.tick_params(labelsize=10)\n",
    "plt.xlabel(\"Test size (as a ratio to full data size)\", fontsize=10)\n",
    "plt.ylabel(\"Accuracy [%]\", fontsize=10)\n",
    "plt.savefig(\"muygps_max_all_abs.png\")\n",
    "plt.show()"
   ]
  },
  {
   "cell_type": "code",
   "execution_count": null,
   "metadata": {},
   "outputs": [],
   "source": []
  }
 ],
 "metadata": {
  "kernelspec": {
   "display_name": "Python 3 (ipykernel)",
   "language": "python",
   "name": "python3"
  },
  "language_info": {
   "codemirror_mode": {
    "name": "ipython",
    "version": 3
   },
   "file_extension": ".py",
   "mimetype": "text/x-python",
   "name": "python",
   "nbconvert_exporter": "python",
   "pygments_lexer": "ipython3",
   "version": "3.8.18"
  },
  "vscode": {
   "interpreter": {
    "hash": "611680c3a571b4cc3609a25adc9d467ee0ee0a175b157eb6c71343c892809ab8"
   }
  }
 },
 "nbformat": 4,
 "nbformat_minor": 2
}
