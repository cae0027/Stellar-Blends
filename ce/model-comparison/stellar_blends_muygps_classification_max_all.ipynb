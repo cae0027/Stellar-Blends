{
 "cells": [
  {
   "cell_type": "markdown",
   "metadata": {},
   "source": [
    "# Stellar Blends Classification\n",
    "\n",
    "### In this notebook we run the un-normalized and normalized datasets through the MuyGPyS classifier (a python classifying function that uses the MuyGPS  Gaussian process hyperparameter estimation method), and compare the resulting accuracies.\n",
    "\n",
    "**Note:** Must have run `data_normalization.ipynb` to continue."
   ]
  },
  {
   "cell_type": "code",
   "execution_count": 15,
   "metadata": {},
   "outputs": [],
   "source": [
    "# from MuyGPyS import config\n",
    "# config.update(\"muygpys_jax_enabled\", False)\n",
    "\n",
    "import numpy as np\n",
    "import pandas as pd\n",
    "import random\n",
    "from tqdm import tqdm\n",
    "import matplotlib.pyplot as plt\n",
    "from sklearn.model_selection import train_test_split\n",
    "\n",
    "from MuyGPyS.examples.classify import do_classify\n",
    "from MuyGPyS.gp.deformation import F2, Isotropy\n",
    "from MuyGPyS.gp.hyperparameter import Parameter, Parameter as ScalarParam\n",
    "from MuyGPyS.gp.kernels import RBF, Matern\n",
    "from MuyGPyS.gp.noise import HomoscedasticNoise\n",
    "from MuyGPyS.optimize import Bayes_optimize\n",
    "from MuyGPyS.optimize.loss import LossFn, cross_entropy_fn\n",
    "\n"
   ]
  },
  {
   "cell_type": "markdown",
   "metadata": {},
   "source": [
    "### Read in all flattened data (normalized and un-normalized):"
   ]
  },
  {
   "cell_type": "code",
   "execution_count": 16,
   "metadata": {},
   "outputs": [],
   "source": [
    "from glob import glob\n",
    "\n",
    "# read normalized data csv file names from the data directory\n",
    "norm_data_names = glob('../data/data-norm/max-pixel-all/*.csv')\n",
    "# get rid of \"../data/data-norm/max-pixel-all/\"\n",
    "norm_data_names = [name.split('/')[-1] for name in norm_data_names]\n",
    "# norm_data_names[:10]"
   ]
  },
  {
   "cell_type": "code",
   "execution_count": 17,
   "metadata": {},
   "outputs": [
    {
     "data": {
      "text/plain": [
       "['nthroot_0.0_data.csv',\n",
       " 'nthroot_0.03448_data.csv',\n",
       " 'nthroot_0.03448.csv',\n",
       " 'nthroot_0.06897_data.csv',\n",
       " 'nthroot_0.06897.csv',\n",
       " 'nthroot_0.1034_data.csv',\n",
       " 'nthroot_0.1034.csv',\n",
       " 'nthroot_0.1379_data.csv',\n",
       " 'nthroot_0.1379.csv',\n",
       " 'nthroot_0.1724_data.csv']"
      ]
     },
     "execution_count": 17,
     "metadata": {},
     "output_type": "execute_result"
    }
   ],
   "source": [
    "# sort the names by their numbers\n",
    "norm_data_names.sort(key=lambda x: x.split('_')[1])\n",
    "norm_data_names[:10]"
   ]
  },
  {
   "cell_type": "markdown",
   "metadata": {},
   "source": [
    "### Define a function that generates \"one-hot\" values.\n",
    "\n",
    "This essentially just takes our truth labels of 0 and 1, and does the following conversions for use in the classifier:\n",
    "- 0 to [1., -1.]\n",
    "- 1 to [-1., 1.]"
   ]
  },
  {
   "cell_type": "code",
   "execution_count": 18,
   "metadata": {},
   "outputs": [],
   "source": [
    "def generate_onehot_value(values):\n",
    "    onehot = []\n",
    "    for val in values:\n",
    "        if val == 0:\n",
    "            onehot.append([1., -1.])\n",
    "        elif val == 1:\n",
    "            onehot.append([-1., 1.])\n",
    "    return onehot"
   ]
  },
  {
   "cell_type": "markdown",
   "metadata": {},
   "source": [
    "### Run the classifier on each dataset\n",
    "\n",
    "For each dataset (un-normalized and normalized) in `data_files`, this for loop does the following:\n",
    "- Separate labels from data\n",
    "- Split up data between training and testing\n",
    "    - `test_size` is the fraction of the data you want to use for testing, where 0.5 means half of the data is used for testing and half for training.\n",
    "    - `random_state` makes each dataset get trained and tested on the same number of stars and galaxies.\n",
    "- Gets the one-hot values for the testing and training labels\n",
    "- Gets `train` and `test` into the proper format for the classifier, a dictionary with the keys: \n",
    "    - 'input': \n",
    "    - 'output':\n",
    "    - 'lookup':\n",
    "- Does the classification (`do_classify`)\n",
    "- Computes the accuracy of the classifier for the given dataset, by compairing predicted labels to truth labels."
   ]
  },
  {
   "cell_type": "code",
   "execution_count": 19,
   "metadata": {},
   "outputs": [],
   "source": [
    "nn_kwargs_exact = {\"nn_method\": \"exact\", \"algorithm\": \"ball_tree\"}\n",
    "\n",
    "nn_kwargs_hnsw = {\"nn_method\": \"hnsw\"}\n",
    "\n",
    "k_kwargs_rbf ={\n",
    "            \"kernel\": RBF(\n",
    "                 deformation=Isotropy(\n",
    "                     metric=F2,\n",
    "                 length_scale=Parameter(1.0, (1e-2, 1e2)),\n",
    "                 ),\n",
    "            ),\n",
    "            \"noise\": HomoscedasticNoise(1e-5),\n",
    "            }\n",
    "k_kwargs_mattern= { \"kernel\": Matern(\n",
    "             smoothness=ScalarParam(0.5),\n",
    "             deformation=Isotropy(\n",
    "                 metric=F2,\n",
    "                 length_scale=Parameter(1.0, (1e-2, 1e2)),\n",
    "             ),\n",
    "         ),\n",
    "         \"noise\": HomoscedasticNoise(1e-5),\n",
    "         }"
   ]
  },
  {
   "cell_type": "code",
   "execution_count": 20,
   "metadata": {},
   "outputs": [
    {
     "name": "stderr",
     "output_type": "stream",
     "text": [
      "  0%|          | 0/79 [00:00<?, ?it/s]"
     ]
    },
    {
     "name": "stdout",
     "output_type": "stream",
     "text": [
      "===============  nthroot_00_data  ===============\n",
      "Training data: 12072 single stars and 9729 blended stars\n",
      "Testing data: 3037 single stars and 2414 blended stars\n",
      "Running Classifier on nthroot_00_data\n"
     ]
    },
    {
     "name": "stderr",
     "output_type": "stream",
     "text": [
      "  1%|▏         | 1/79 [00:02<02:49,  2.17s/it]"
     ]
    },
    {
     "name": "stdout",
     "output_type": "stream",
     "text": [
      "Total accuracy for nthroot_00_data : 55.715 %\n",
      "===============  nthroot_003448_data  ===============\n",
      "Training data: 12072 single stars and 9729 blended stars\n",
      "Testing data: 3037 single stars and 2414 blended stars\n",
      "Running Classifier on nthroot_003448_data\n"
     ]
    },
    {
     "name": "stderr",
     "output_type": "stream",
     "text": [
      "  3%|▎         | 2/79 [00:04<02:43,  2.12s/it]"
     ]
    },
    {
     "name": "stdout",
     "output_type": "stream",
     "text": [
      "Total accuracy for nthroot_003448_data : 80.517 %\n",
      "===============  nthroot_003448  ===============\n",
      "Training data: 12122 single stars and 9679 blended stars\n",
      "Testing data: 2987 single stars and 2464 blended stars\n",
      "Running Classifier on nthroot_003448\n"
     ]
    },
    {
     "name": "stderr",
     "output_type": "stream",
     "text": [
      "  4%|▍         | 3/79 [00:06<02:38,  2.09s/it]"
     ]
    },
    {
     "name": "stdout",
     "output_type": "stream",
     "text": [
      "Total accuracy for nthroot_003448 : 78.646 %\n",
      "===============  nthroot_006897_data  ===============\n",
      "Training data: 12072 single stars and 9729 blended stars\n",
      "Testing data: 3037 single stars and 2414 blended stars\n",
      "Running Classifier on nthroot_006897_data\n"
     ]
    },
    {
     "name": "stderr",
     "output_type": "stream",
     "text": [
      "  5%|▌         | 4/79 [00:08<02:37,  2.10s/it]"
     ]
    },
    {
     "name": "stdout",
     "output_type": "stream",
     "text": [
      "Total accuracy for nthroot_006897_data : 80.334 %\n",
      "===============  nthroot_006897  ===============\n",
      "Training data: 12122 single stars and 9679 blended stars\n",
      "Testing data: 2987 single stars and 2464 blended stars\n",
      "Running Classifier on nthroot_006897\n"
     ]
    },
    {
     "name": "stderr",
     "output_type": "stream",
     "text": [
      "  6%|▋         | 5/79 [00:10<02:29,  2.01s/it]"
     ]
    },
    {
     "name": "stdout",
     "output_type": "stream",
     "text": [
      "Total accuracy for nthroot_006897 : 78.848 %\n",
      "===============  nthroot_01034_data  ===============\n",
      "Training data: 12072 single stars and 9729 blended stars\n",
      "Testing data: 3037 single stars and 2414 blended stars\n",
      "Running Classifier on nthroot_01034_data\n"
     ]
    },
    {
     "name": "stderr",
     "output_type": "stream",
     "text": [
      "  8%|▊         | 6/79 [00:12<02:23,  1.97s/it]"
     ]
    },
    {
     "name": "stdout",
     "output_type": "stream",
     "text": [
      "Total accuracy for nthroot_01034_data : 80.646 %\n",
      "===============  nthroot_01034  ===============\n",
      "Training data: 12122 single stars and 9679 blended stars\n",
      "Testing data: 2987 single stars and 2464 blended stars\n",
      "Running Classifier on nthroot_01034\n"
     ]
    },
    {
     "name": "stderr",
     "output_type": "stream",
     "text": [
      "  9%|▉         | 7/79 [00:14<02:19,  1.94s/it]"
     ]
    },
    {
     "name": "stdout",
     "output_type": "stream",
     "text": [
      "Total accuracy for nthroot_01034 : 78.206 %\n",
      "===============  nthroot_01379_data  ===============\n",
      "Training data: 12072 single stars and 9729 blended stars\n",
      "Testing data: 3037 single stars and 2414 blended stars\n",
      "Running Classifier on nthroot_01379_data\n"
     ]
    },
    {
     "name": "stderr",
     "output_type": "stream",
     "text": [
      " 10%|█         | 8/79 [00:15<02:11,  1.85s/it]"
     ]
    },
    {
     "name": "stdout",
     "output_type": "stream",
     "text": [
      "Total accuracy for nthroot_01379_data : 80.646 %\n",
      "===============  nthroot_01379  ===============\n",
      "Training data: 12122 single stars and 9679 blended stars\n",
      "Testing data: 2987 single stars and 2464 blended stars\n",
      "Running Classifier on nthroot_01379\n"
     ]
    },
    {
     "name": "stderr",
     "output_type": "stream",
     "text": [
      " 11%|█▏        | 9/79 [00:17<02:12,  1.90s/it]"
     ]
    },
    {
     "name": "stdout",
     "output_type": "stream",
     "text": [
      "Total accuracy for nthroot_01379 : 78.499 %\n",
      "===============  nthroot_01724_data  ===============\n",
      "Training data: 12072 single stars and 9729 blended stars\n",
      "Testing data: 3037 single stars and 2414 blended stars\n",
      "Running Classifier on nthroot_01724_data\n"
     ]
    },
    {
     "name": "stderr",
     "output_type": "stream",
     "text": [
      " 13%|█▎        | 10/79 [00:20<02:28,  2.15s/it]"
     ]
    },
    {
     "name": "stdout",
     "output_type": "stream",
     "text": [
      "Total accuracy for nthroot_01724_data : 79.435 %\n",
      "===============  nthroot_01724  ===============\n",
      "Training data: 12122 single stars and 9679 blended stars\n",
      "Testing data: 2987 single stars and 2464 blended stars\n",
      "Running Classifier on nthroot_01724\n"
     ]
    },
    {
     "name": "stderr",
     "output_type": "stream",
     "text": [
      " 14%|█▍        | 11/79 [00:22<02:26,  2.15s/it]"
     ]
    },
    {
     "name": "stdout",
     "output_type": "stream",
     "text": [
      "Total accuracy for nthroot_01724 : 78.187 %\n",
      "===============  nthroot_02069_data  ===============\n",
      "Training data: 12072 single stars and 9729 blended stars\n",
      "Testing data: 3037 single stars and 2414 blended stars\n",
      "Running Classifier on nthroot_02069_data\n"
     ]
    },
    {
     "name": "stderr",
     "output_type": "stream",
     "text": [
      " 15%|█▌        | 12/79 [00:24<02:15,  2.02s/it]"
     ]
    },
    {
     "name": "stdout",
     "output_type": "stream",
     "text": [
      "Total accuracy for nthroot_02069_data : 80.664 %\n",
      "===============  nthroot_02069  ===============\n",
      "Training data: 12122 single stars and 9679 blended stars\n",
      "Testing data: 2987 single stars and 2464 blended stars\n",
      "Running Classifier on nthroot_02069\n"
     ]
    },
    {
     "name": "stderr",
     "output_type": "stream",
     "text": [
      " 16%|█▋        | 13/79 [00:26<02:15,  2.05s/it]"
     ]
    },
    {
     "name": "stdout",
     "output_type": "stream",
     "text": [
      "Total accuracy for nthroot_02069 : 78.609 %\n",
      "===============  nthroot_02414_data  ===============\n",
      "Training data: 12072 single stars and 9729 blended stars\n",
      "Testing data: 3037 single stars and 2414 blended stars\n",
      "Running Classifier on nthroot_02414_data\n"
     ]
    },
    {
     "name": "stderr",
     "output_type": "stream",
     "text": [
      " 18%|█▊        | 14/79 [00:28<02:13,  2.06s/it]"
     ]
    },
    {
     "name": "stdout",
     "output_type": "stream",
     "text": [
      "Total accuracy for nthroot_02414_data : 80.279 %\n",
      "===============  nthroot_02414  ===============\n",
      "Training data: 12122 single stars and 9679 blended stars\n",
      "Testing data: 2987 single stars and 2464 blended stars\n",
      "Running Classifier on nthroot_02414\n"
     ]
    },
    {
     "name": "stderr",
     "output_type": "stream",
     "text": [
      " 19%|█▉        | 15/79 [00:30<02:07,  2.00s/it]"
     ]
    },
    {
     "name": "stdout",
     "output_type": "stream",
     "text": [
      "Total accuracy for nthroot_02414 : 79.123 %\n",
      "===============  nthroot_02759_data  ===============\n",
      "Training data: 12072 single stars and 9729 blended stars\n",
      "Testing data: 3037 single stars and 2414 blended stars\n",
      "Running Classifier on nthroot_02759_data\n"
     ]
    },
    {
     "name": "stderr",
     "output_type": "stream",
     "text": [
      " 20%|██        | 16/79 [00:32<02:10,  2.07s/it]"
     ]
    },
    {
     "name": "stdout",
     "output_type": "stream",
     "text": [
      "Total accuracy for nthroot_02759_data : 79.618 %\n",
      "===============  nthroot_02759  ===============\n",
      "Training data: 12122 single stars and 9679 blended stars\n",
      "Testing data: 2987 single stars and 2464 blended stars\n",
      "Running Classifier on nthroot_02759\n"
     ]
    },
    {
     "name": "stderr",
     "output_type": "stream",
     "text": [
      " 22%|██▏       | 17/79 [00:34<02:03,  1.99s/it]"
     ]
    },
    {
     "name": "stdout",
     "output_type": "stream",
     "text": [
      "Total accuracy for nthroot_02759 : 78.481 %\n",
      "===============  nthroot_03103_data  ===============\n",
      "Training data: 12072 single stars and 9729 blended stars\n",
      "Testing data: 3037 single stars and 2414 blended stars\n",
      "Running Classifier on nthroot_03103_data\n"
     ]
    },
    {
     "name": "stderr",
     "output_type": "stream",
     "text": [
      " 23%|██▎       | 18/79 [00:36<02:07,  2.10s/it]"
     ]
    },
    {
     "name": "stdout",
     "output_type": "stream",
     "text": [
      "Total accuracy for nthroot_03103_data : 74.684 %\n",
      "===============  nthroot_03103  ===============\n",
      "Training data: 12122 single stars and 9679 blended stars\n",
      "Testing data: 2987 single stars and 2464 blended stars\n",
      "Running Classifier on nthroot_03103\n"
     ]
    },
    {
     "name": "stderr",
     "output_type": "stream",
     "text": [
      " 24%|██▍       | 19/79 [00:38<02:00,  2.00s/it]"
     ]
    },
    {
     "name": "stdout",
     "output_type": "stream",
     "text": [
      "Total accuracy for nthroot_03103 : 79.362 %\n",
      "===============  nthroot_03448_data  ===============\n",
      "Training data: 12072 single stars and 9729 blended stars\n",
      "Testing data: 3037 single stars and 2414 blended stars\n",
      "Running Classifier on nthroot_03448_data\n"
     ]
    },
    {
     "name": "stderr",
     "output_type": "stream",
     "text": [
      " 25%|██▌       | 20/79 [00:40<01:57,  2.00s/it]"
     ]
    },
    {
     "name": "stdout",
     "output_type": "stream",
     "text": [
      "Total accuracy for nthroot_03448_data : 80.04 %\n",
      "===============  nthroot_03448  ===============\n",
      "Training data: 12122 single stars and 9679 blended stars\n",
      "Testing data: 2987 single stars and 2464 blended stars\n",
      "Running Classifier on nthroot_03448\n"
     ]
    },
    {
     "name": "stderr",
     "output_type": "stream",
     "text": [
      " 27%|██▋       | 21/79 [00:42<02:02,  2.12s/it]"
     ]
    },
    {
     "name": "stdout",
     "output_type": "stream",
     "text": [
      "Total accuracy for nthroot_03448 : 77.399 %\n",
      "===============  nthroot_03793_data  ===============\n",
      "Training data: 12072 single stars and 9729 blended stars\n",
      "Testing data: 3037 single stars and 2414 blended stars\n",
      "Running Classifier on nthroot_03793_data\n"
     ]
    },
    {
     "name": "stderr",
     "output_type": "stream",
     "text": [
      " 28%|██▊       | 22/79 [00:44<01:57,  2.07s/it]"
     ]
    },
    {
     "name": "stdout",
     "output_type": "stream",
     "text": [
      "Total accuracy for nthroot_03793_data : 80.059 %\n",
      "===============  nthroot_03793  ===============\n",
      "Training data: 12122 single stars and 9679 blended stars\n",
      "Testing data: 2987 single stars and 2464 blended stars\n",
      "Running Classifier on nthroot_03793\n"
     ]
    },
    {
     "name": "stderr",
     "output_type": "stream",
     "text": [
      " 29%|██▉       | 23/79 [00:47<02:03,  2.20s/it]"
     ]
    },
    {
     "name": "stdout",
     "output_type": "stream",
     "text": [
      "Total accuracy for nthroot_03793 : 73.454 %\n",
      "===============  nthroot_04138_data  ===============\n",
      "Training data: 12072 single stars and 9729 blended stars\n",
      "Testing data: 3037 single stars and 2414 blended stars\n",
      "Running Classifier on nthroot_04138_data\n"
     ]
    },
    {
     "name": "stderr",
     "output_type": "stream",
     "text": [
      " 30%|███       | 24/79 [00:49<01:56,  2.12s/it]"
     ]
    },
    {
     "name": "stdout",
     "output_type": "stream",
     "text": [
      "Total accuracy for nthroot_04138_data : 80.407 %\n",
      "===============  nthroot_04138  ===============\n",
      "Training data: 12122 single stars and 9679 blended stars\n",
      "Testing data: 2987 single stars and 2464 blended stars\n",
      "Running Classifier on nthroot_04138\n"
     ]
    },
    {
     "name": "stderr",
     "output_type": "stream",
     "text": [
      " 32%|███▏      | 25/79 [00:51<01:55,  2.14s/it]"
     ]
    },
    {
     "name": "stdout",
     "output_type": "stream",
     "text": [
      "Total accuracy for nthroot_04138 : 79.031 %\n",
      "===============  nthroot_04483_data  ===============\n",
      "Training data: 12072 single stars and 9729 blended stars\n",
      "Testing data: 3037 single stars and 2414 blended stars\n",
      "Running Classifier on nthroot_04483_data\n"
     ]
    },
    {
     "name": "stderr",
     "output_type": "stream",
     "text": [
      " 33%|███▎      | 26/79 [00:53<01:51,  2.10s/it]"
     ]
    },
    {
     "name": "stdout",
     "output_type": "stream",
     "text": [
      "Total accuracy for nthroot_04483_data : 79.857 %\n",
      "===============  nthroot_04483  ===============\n",
      "Training data: 12122 single stars and 9679 blended stars\n",
      "Testing data: 2987 single stars and 2464 blended stars\n",
      "Running Classifier on nthroot_04483\n"
     ]
    },
    {
     "name": "stderr",
     "output_type": "stream",
     "text": [
      " 34%|███▍      | 27/79 [00:55<01:46,  2.05s/it]"
     ]
    },
    {
     "name": "stdout",
     "output_type": "stream",
     "text": [
      "Total accuracy for nthroot_04483 : 79.068 %\n",
      "===============  nthroot_04828_data  ===============\n",
      "Training data: 12072 single stars and 9729 blended stars\n",
      "Testing data: 3037 single stars and 2414 blended stars\n",
      "Running Classifier on nthroot_04828_data\n"
     ]
    },
    {
     "name": "stderr",
     "output_type": "stream",
     "text": [
      " 35%|███▌      | 28/79 [00:57<01:47,  2.10s/it]"
     ]
    },
    {
     "name": "stdout",
     "output_type": "stream",
     "text": [
      "Total accuracy for nthroot_04828_data : 76.041 %\n",
      "===============  nthroot_04828  ===============\n",
      "Training data: 12122 single stars and 9679 blended stars\n",
      "Testing data: 2987 single stars and 2464 blended stars\n",
      "Running Classifier on nthroot_04828\n"
     ]
    },
    {
     "name": "stderr",
     "output_type": "stream",
     "text": [
      " 37%|███▋      | 29/79 [01:00<01:50,  2.20s/it]"
     ]
    },
    {
     "name": "stdout",
     "output_type": "stream",
     "text": [
      "Total accuracy for nthroot_04828 : 73.326 %\n",
      "===============  nthroot_05172_data  ===============\n",
      "Training data: 12072 single stars and 9729 blended stars\n",
      "Testing data: 3037 single stars and 2414 blended stars\n",
      "Running Classifier on nthroot_05172_data\n"
     ]
    },
    {
     "name": "stderr",
     "output_type": "stream",
     "text": [
      " 38%|███▊      | 30/79 [01:01<01:43,  2.11s/it]"
     ]
    },
    {
     "name": "stdout",
     "output_type": "stream",
     "text": [
      "Total accuracy for nthroot_05172_data : 77.16 %\n",
      "===============  nthroot_05172  ===============\n",
      "Training data: 12122 single stars and 9679 blended stars\n",
      "Testing data: 2987 single stars and 2464 blended stars\n",
      "Running Classifier on nthroot_05172\n"
     ]
    },
    {
     "name": "stderr",
     "output_type": "stream",
     "text": [
      " 39%|███▉      | 31/79 [01:03<01:38,  2.06s/it]"
     ]
    },
    {
     "name": "stdout",
     "output_type": "stream",
     "text": [
      "Total accuracy for nthroot_05172 : 79.196 %\n",
      "===============  nthroot_05517_data  ===============\n",
      "Training data: 12072 single stars and 9729 blended stars\n",
      "Testing data: 3037 single stars and 2414 blended stars\n",
      "Running Classifier on nthroot_05517_data\n"
     ]
    },
    {
     "name": "stderr",
     "output_type": "stream",
     "text": [
      " 41%|████      | 32/79 [01:05<01:36,  2.05s/it]"
     ]
    },
    {
     "name": "stdout",
     "output_type": "stream",
     "text": [
      "Total accuracy for nthroot_05517_data : 71.583 %\n",
      "===============  nthroot_05517  ===============\n",
      "Training data: 12122 single stars and 9679 blended stars\n",
      "Testing data: 2987 single stars and 2464 blended stars\n",
      "Running Classifier on nthroot_05517\n"
     ]
    },
    {
     "name": "stderr",
     "output_type": "stream",
     "text": [
      " 42%|████▏     | 33/79 [01:07<01:31,  1.98s/it]"
     ]
    },
    {
     "name": "stdout",
     "output_type": "stream",
     "text": [
      "Total accuracy for nthroot_05517 : 78.683 %\n",
      "===============  nthroot_05862_data  ===============\n",
      "Training data: 12072 single stars and 9729 blended stars\n",
      "Testing data: 3037 single stars and 2414 blended stars\n",
      "Running Classifier on nthroot_05862_data\n"
     ]
    },
    {
     "name": "stderr",
     "output_type": "stream",
     "text": [
      " 43%|████▎     | 34/79 [01:10<01:32,  2.05s/it]"
     ]
    },
    {
     "name": "stdout",
     "output_type": "stream",
     "text": [
      "Total accuracy for nthroot_05862_data : 74.17 %\n",
      "===============  nthroot_05862  ===============\n",
      "Training data: 12122 single stars and 9679 blended stars\n",
      "Testing data: 2987 single stars and 2464 blended stars\n",
      "Running Classifier on nthroot_05862\n"
     ]
    },
    {
     "name": "stderr",
     "output_type": "stream",
     "text": [
      " 44%|████▍     | 35/79 [01:11<01:25,  1.95s/it]"
     ]
    },
    {
     "name": "stdout",
     "output_type": "stream",
     "text": [
      "Total accuracy for nthroot_05862 : 78.775 %\n",
      "===============  nthroot_06207_data  ===============\n",
      "Training data: 12072 single stars and 9729 blended stars\n",
      "Testing data: 3037 single stars and 2414 blended stars\n",
      "Running Classifier on nthroot_06207_data\n"
     ]
    },
    {
     "name": "stderr",
     "output_type": "stream",
     "text": [
      " 46%|████▌     | 36/79 [01:13<01:23,  1.93s/it]"
     ]
    },
    {
     "name": "stdout",
     "output_type": "stream",
     "text": [
      "Total accuracy for nthroot_06207_data : 74.39 %\n",
      "===============  nthroot_06207  ===============\n",
      "Training data: 12122 single stars and 9679 blended stars\n",
      "Testing data: 2987 single stars and 2464 blended stars\n",
      "Running Classifier on nthroot_06207\n"
     ]
    },
    {
     "name": "stderr",
     "output_type": "stream",
     "text": [
      " 47%|████▋     | 37/79 [01:15<01:19,  1.90s/it]"
     ]
    },
    {
     "name": "stdout",
     "output_type": "stream",
     "text": [
      "Total accuracy for nthroot_06207 : 70.006 %\n",
      "===============  nthroot_06552_data  ===============\n",
      "Training data: 12072 single stars and 9729 blended stars\n",
      "Testing data: 3037 single stars and 2414 blended stars\n",
      "Running Classifier on nthroot_06552_data\n"
     ]
    },
    {
     "name": "stderr",
     "output_type": "stream",
     "text": [
      " 48%|████▊     | 38/79 [01:17<01:18,  1.91s/it]"
     ]
    },
    {
     "name": "stdout",
     "output_type": "stream",
     "text": [
      "Total accuracy for nthroot_06552_data : 79.857 %\n",
      "===============  nthroot_06552  ===============\n",
      "Training data: 12122 single stars and 9679 blended stars\n",
      "Testing data: 2987 single stars and 2464 blended stars\n",
      "Running Classifier on nthroot_06552\n"
     ]
    },
    {
     "name": "stderr",
     "output_type": "stream",
     "text": [
      " 49%|████▉     | 39/79 [01:19<01:18,  1.97s/it]"
     ]
    },
    {
     "name": "stdout",
     "output_type": "stream",
     "text": [
      "Total accuracy for nthroot_06552 : 75.142 %\n",
      "===============  nthroot_06897_data  ===============\n",
      "Training data: 12072 single stars and 9729 blended stars\n",
      "Testing data: 3037 single stars and 2414 blended stars\n",
      "Running Classifier on nthroot_06897_data\n"
     ]
    },
    {
     "name": "stderr",
     "output_type": "stream",
     "text": [
      " 51%|█████     | 40/79 [01:21<01:16,  1.97s/it]"
     ]
    },
    {
     "name": "stdout",
     "output_type": "stream",
     "text": [
      "Total accuracy for nthroot_06897_data : 78.554 %\n",
      "===============  nthroot_06897  ===============\n",
      "Training data: 12122 single stars and 9679 blended stars\n",
      "Testing data: 2987 single stars and 2464 blended stars\n",
      "Running Classifier on nthroot_06897\n"
     ]
    },
    {
     "name": "stderr",
     "output_type": "stream",
     "text": [
      " 52%|█████▏    | 41/79 [01:23<01:14,  1.95s/it]"
     ]
    },
    {
     "name": "stdout",
     "output_type": "stream",
     "text": [
      "Total accuracy for nthroot_06897 : 78.554 %\n",
      "===============  nthroot_07241_data  ===============\n",
      "Training data: 12072 single stars and 9729 blended stars\n",
      "Testing data: 3037 single stars and 2414 blended stars\n",
      "Running Classifier on nthroot_07241_data\n"
     ]
    },
    {
     "name": "stderr",
     "output_type": "stream",
     "text": [
      " 53%|█████▎    | 42/79 [01:25<01:13,  1.99s/it]"
     ]
    },
    {
     "name": "stdout",
     "output_type": "stream",
     "text": [
      "Total accuracy for nthroot_07241_data : 77.527 %\n",
      "===============  nthroot_07241  ===============\n",
      "Training data: 12122 single stars and 9679 blended stars\n",
      "Testing data: 2987 single stars and 2464 blended stars\n",
      "Running Classifier on nthroot_07241\n"
     ]
    },
    {
     "name": "stderr",
     "output_type": "stream",
     "text": [
      " 54%|█████▍    | 43/79 [01:27<01:11,  1.98s/it]"
     ]
    },
    {
     "name": "stdout",
     "output_type": "stream",
     "text": [
      "Total accuracy for nthroot_07241 : 70.703 %\n",
      "===============  nthroot_07586_data  ===============\n",
      "Training data: 12072 single stars and 9729 blended stars\n",
      "Testing data: 3037 single stars and 2414 blended stars\n",
      "Running Classifier on nthroot_07586_data\n"
     ]
    },
    {
     "name": "stderr",
     "output_type": "stream",
     "text": [
      " 56%|█████▌    | 44/79 [01:29<01:10,  2.03s/it]"
     ]
    },
    {
     "name": "stdout",
     "output_type": "stream",
     "text": [
      "Total accuracy for nthroot_07586_data : 75.197 %\n",
      "===============  nthroot_07586  ===============\n",
      "Training data: 12122 single stars and 9679 blended stars\n",
      "Testing data: 2987 single stars and 2464 blended stars\n",
      "Running Classifier on nthroot_07586\n"
     ]
    },
    {
     "name": "stderr",
     "output_type": "stream",
     "text": [
      " 57%|█████▋    | 45/79 [01:31<01:08,  2.02s/it]"
     ]
    },
    {
     "name": "stdout",
     "output_type": "stream",
     "text": [
      "Total accuracy for nthroot_07586 : 78.536 %\n",
      "===============  nthroot_07931_data  ===============\n",
      "Training data: 12072 single stars and 9729 blended stars\n",
      "Testing data: 3037 single stars and 2414 blended stars\n",
      "Running Classifier on nthroot_07931_data\n"
     ]
    },
    {
     "name": "stderr",
     "output_type": "stream",
     "text": [
      " 58%|█████▊    | 46/79 [01:33<01:04,  1.97s/it]"
     ]
    },
    {
     "name": "stdout",
     "output_type": "stream",
     "text": [
      "Total accuracy for nthroot_07931_data : 79.673 %\n",
      "===============  nthroot_07931  ===============\n",
      "Training data: 12122 single stars and 9679 blended stars\n",
      "Testing data: 2987 single stars and 2464 blended stars\n",
      "Running Classifier on nthroot_07931\n"
     ]
    },
    {
     "name": "stderr",
     "output_type": "stream",
     "text": [
      " 59%|█████▉    | 47/79 [01:35<01:01,  1.93s/it]"
     ]
    },
    {
     "name": "stdout",
     "output_type": "stream",
     "text": [
      "Total accuracy for nthroot_07931 : 73.216 %\n",
      "===============  nthroot_08276_data  ===============\n",
      "Training data: 12072 single stars and 9729 blended stars\n",
      "Testing data: 3037 single stars and 2414 blended stars\n",
      "Running Classifier on nthroot_08276_data\n"
     ]
    },
    {
     "name": "stderr",
     "output_type": "stream",
     "text": [
      " 61%|██████    | 48/79 [01:37<01:00,  1.96s/it]"
     ]
    },
    {
     "name": "stdout",
     "output_type": "stream",
     "text": [
      "Total accuracy for nthroot_08276_data : 75.436 %\n",
      "===============  nthroot_08276  ===============\n",
      "Training data: 12122 single stars and 9679 blended stars\n",
      "Testing data: 2987 single stars and 2464 blended stars\n",
      "Running Classifier on nthroot_08276\n"
     ]
    },
    {
     "name": "stderr",
     "output_type": "stream",
     "text": [
      " 62%|██████▏   | 49/79 [01:39<00:59,  1.97s/it]"
     ]
    },
    {
     "name": "stdout",
     "output_type": "stream",
     "text": [
      "Total accuracy for nthroot_08276 : 76.812 %\n",
      "===============  nthroot_08621_data  ===============\n",
      "Training data: 12072 single stars and 9729 blended stars\n",
      "Testing data: 3037 single stars and 2414 blended stars\n",
      "Running Classifier on nthroot_08621_data\n"
     ]
    },
    {
     "name": "stderr",
     "output_type": "stream",
     "text": [
      " 63%|██████▎   | 50/79 [01:40<00:55,  1.90s/it]"
     ]
    },
    {
     "name": "stdout",
     "output_type": "stream",
     "text": [
      "Total accuracy for nthroot_08621_data : 79.508 %\n",
      "===============  nthroot_08621  ===============\n",
      "Training data: 12122 single stars and 9679 blended stars\n",
      "Testing data: 2987 single stars and 2464 blended stars\n",
      "Running Classifier on nthroot_08621\n"
     ]
    },
    {
     "name": "stderr",
     "output_type": "stream",
     "text": [
      " 65%|██████▍   | 51/79 [01:42<00:53,  1.91s/it]"
     ]
    },
    {
     "name": "stdout",
     "output_type": "stream",
     "text": [
      "Total accuracy for nthroot_08621 : 69.584 %\n",
      "===============  nthroot_08966_data  ===============\n",
      "Training data: 12072 single stars and 9729 blended stars\n",
      "Testing data: 3037 single stars and 2414 blended stars\n",
      "Running Classifier on nthroot_08966_data\n"
     ]
    },
    {
     "name": "stderr",
     "output_type": "stream",
     "text": [
      " 66%|██████▌   | 52/79 [01:44<00:51,  1.91s/it]"
     ]
    },
    {
     "name": "stdout",
     "output_type": "stream",
     "text": [
      "Total accuracy for nthroot_08966_data : 78.628 %\n",
      "===============  nthroot_08966  ===============\n",
      "Training data: 12122 single stars and 9679 blended stars\n",
      "Testing data: 2987 single stars and 2464 blended stars\n",
      "Running Classifier on nthroot_08966\n"
     ]
    },
    {
     "name": "stderr",
     "output_type": "stream",
     "text": [
      " 67%|██████▋   | 53/79 [01:46<00:49,  1.92s/it]"
     ]
    },
    {
     "name": "stdout",
     "output_type": "stream",
     "text": [
      "Total accuracy for nthroot_08966 : 77.839 %\n",
      "===============  nthroot_0931_data  ===============\n",
      "Training data: 12072 single stars and 9729 blended stars\n",
      "Testing data: 3037 single stars and 2414 blended stars\n",
      "Running Classifier on nthroot_0931_data\n",
      "\u001b[91mData point [100.] is not unique. 1 duplicates registered. Continuing ...\u001b[0m\n",
      "\u001b[91mData point [100.] is not unique. 2 duplicates registered. Continuing ...\u001b[0m\n",
      "\u001b[91mData point [100.] is not unique. 3 duplicates registered. Continuing ...\u001b[0m\n",
      "\u001b[91mData point [100.] is not unique. 4 duplicates registered. Continuing ...\u001b[0m\n",
      "\u001b[91mData point [100.] is not unique. 5 duplicates registered. Continuing ...\u001b[0m\n",
      "\u001b[91mData point [100.] is not unique. 6 duplicates registered. Continuing ...\u001b[0m\n",
      "\u001b[91mData point [100.] is not unique. 7 duplicates registered. Continuing ...\u001b[0m\n",
      "\u001b[91mData point [100.] is not unique. 8 duplicates registered. Continuing ...\u001b[0m\n",
      "\u001b[91mData point [100.] is not unique. 9 duplicates registered. Continuing ...\u001b[0m\n"
     ]
    },
    {
     "name": "stderr",
     "output_type": "stream",
     "text": [
      " 68%|██████▊   | 54/79 [01:48<00:49,  1.97s/it]"
     ]
    },
    {
     "name": "stdout",
     "output_type": "stream",
     "text": [
      "Total accuracy for nthroot_0931_data : 69.382 %\n",
      "===============  nthroot_0931  ===============\n",
      "Training data: 12122 single stars and 9679 blended stars\n",
      "Testing data: 2987 single stars and 2464 blended stars\n",
      "Running Classifier on nthroot_0931\n"
     ]
    },
    {
     "name": "stderr",
     "output_type": "stream",
     "text": [
      " 70%|██████▉   | 55/79 [01:50<00:47,  1.98s/it]"
     ]
    },
    {
     "name": "stdout",
     "output_type": "stream",
     "text": [
      "Total accuracy for nthroot_0931 : 69.602 %\n",
      "===============  nthroot_09655_data  ===============\n",
      "Training data: 12072 single stars and 9729 blended stars\n",
      "Testing data: 3037 single stars and 2414 blended stars\n",
      "Running Classifier on nthroot_09655_data\n"
     ]
    },
    {
     "name": "stderr",
     "output_type": "stream",
     "text": [
      " 71%|███████   | 56/79 [01:52<00:46,  2.00s/it]"
     ]
    },
    {
     "name": "stdout",
     "output_type": "stream",
     "text": [
      "Total accuracy for nthroot_09655_data : 70.317 %\n",
      "===============  nthroot_09655  ===============\n",
      "Training data: 12122 single stars and 9679 blended stars\n",
      "Testing data: 2987 single stars and 2464 blended stars\n",
      "Running Classifier on nthroot_09655\n"
     ]
    },
    {
     "name": "stderr",
     "output_type": "stream",
     "text": [
      " 72%|███████▏  | 57/79 [01:54<00:43,  1.96s/it]"
     ]
    },
    {
     "name": "stdout",
     "output_type": "stream",
     "text": [
      "Total accuracy for nthroot_09655 : 77.766 %\n",
      "===============  norm_1_datacsv  ===============\n",
      "Training data: 12072 single stars and 9729 blended stars\n",
      "Testing data: 3037 single stars and 2414 blended stars\n",
      "Running Classifier on norm_1_datacsv\n"
     ]
    },
    {
     "name": "stderr",
     "output_type": "stream",
     "text": [
      " 73%|███████▎  | 58/79 [01:56<00:39,  1.88s/it]"
     ]
    },
    {
     "name": "stdout",
     "output_type": "stream",
     "text": [
      "Total accuracy for norm_1_datacsv : 80.646 %\n",
      "===============  nthroot_10_data  ===============\n",
      "Training data: 12072 single stars and 9729 blended stars\n",
      "Testing data: 3037 single stars and 2414 blended stars\n",
      "Running Classifier on nthroot_10_data\n"
     ]
    },
    {
     "name": "stderr",
     "output_type": "stream",
     "text": [
      " 75%|███████▍  | 59/79 [01:58<00:38,  1.90s/it]"
     ]
    },
    {
     "name": "stdout",
     "output_type": "stream",
     "text": [
      "Total accuracy for nthroot_10_data : 75.142 %\n",
      "===============  nthroot_10  ===============\n",
      "Training data: 12122 single stars and 9679 blended stars\n",
      "Testing data: 2987 single stars and 2464 blended stars\n",
      "Running Classifier on nthroot_10\n"
     ]
    },
    {
     "name": "stderr",
     "output_type": "stream",
     "text": [
      " 76%|███████▌  | 60/79 [02:00<00:36,  1.90s/it]"
     ]
    },
    {
     "name": "stdout",
     "output_type": "stream",
     "text": [
      "Total accuracy for nthroot_10 : 72.097 %\n",
      "===============  norm_1csv  ===============\n",
      "Training data: 12122 single stars and 9679 blended stars\n",
      "Testing data: 2987 single stars and 2464 blended stars\n",
      "Running Classifier on norm_1csv\n"
     ]
    },
    {
     "name": "stderr",
     "output_type": "stream",
     "text": [
      " 77%|███████▋  | 61/79 [02:02<00:35,  1.95s/it]"
     ]
    },
    {
     "name": "stdout",
     "output_type": "stream",
     "text": [
      "Total accuracy for norm_1csv : 80.866 %\n",
      "===============  norm_2_datacsv  ===============\n",
      "Training data: 12072 single stars and 9729 blended stars\n",
      "Testing data: 3037 single stars and 2414 blended stars\n",
      "Running Classifier on norm_2_datacsv\n"
     ]
    },
    {
     "name": "stderr",
     "output_type": "stream",
     "text": [
      " 78%|███████▊  | 62/79 [02:04<00:33,  1.98s/it]"
     ]
    },
    {
     "name": "stdout",
     "output_type": "stream",
     "text": [
      "Total accuracy for norm_2_datacsv : 79.472 %\n",
      "===============  norm_2csv  ===============\n",
      "Training data: 12122 single stars and 9679 blended stars\n",
      "Testing data: 2987 single stars and 2464 blended stars\n",
      "Running Classifier on norm_2csv\n"
     ]
    },
    {
     "name": "stderr",
     "output_type": "stream",
     "text": [
      " 80%|███████▉  | 63/79 [02:06<00:31,  1.94s/it]"
     ]
    },
    {
     "name": "stdout",
     "output_type": "stream",
     "text": [
      "Total accuracy for norm_2csv : 78.628 %\n",
      "===============  norm_21_datacsv  ===============\n",
      "Training data: 12072 single stars and 9729 blended stars\n",
      "Testing data: 3037 single stars and 2414 blended stars\n",
      "Running Classifier on norm_21_datacsv\n"
     ]
    },
    {
     "name": "stderr",
     "output_type": "stream",
     "text": [
      " 81%|████████  | 64/79 [02:08<00:28,  1.90s/it]"
     ]
    },
    {
     "name": "stdout",
     "output_type": "stream",
     "text": [
      "Total accuracy for norm_21_datacsv : 80.426 %\n",
      "===============  norm_21csv  ===============\n",
      "Training data: 12122 single stars and 9679 blended stars\n",
      "Testing data: 2987 single stars and 2464 blended stars\n",
      "Running Classifier on norm_21csv\n"
     ]
    },
    {
     "name": "stderr",
     "output_type": "stream",
     "text": [
      " 82%|████████▏ | 65/79 [02:10<00:27,  1.93s/it]"
     ]
    },
    {
     "name": "stdout",
     "output_type": "stream",
     "text": [
      "Total accuracy for norm_21csv : 80.444 %\n",
      "===============  norm_3_datacsv  ===============\n",
      "Training data: 12072 single stars and 9729 blended stars\n",
      "Testing data: 3037 single stars and 2414 blended stars\n",
      "Running Classifier on norm_3_datacsv\n"
     ]
    },
    {
     "name": "stderr",
     "output_type": "stream",
     "text": [
      " 84%|████████▎ | 66/79 [02:12<00:25,  1.93s/it]"
     ]
    },
    {
     "name": "stdout",
     "output_type": "stream",
     "text": [
      "Total accuracy for norm_3_datacsv : 74.904 %\n",
      "===============  norm_3csv  ===============\n",
      "Training data: 12122 single stars and 9679 blended stars\n",
      "Testing data: 2987 single stars and 2464 blended stars\n",
      "Running Classifier on norm_3csv\n"
     ]
    },
    {
     "name": "stderr",
     "output_type": "stream",
     "text": [
      " 85%|████████▍ | 67/79 [02:13<00:23,  1.94s/it]"
     ]
    },
    {
     "name": "stdout",
     "output_type": "stream",
     "text": [
      "Total accuracy for norm_3csv : 77.527 %\n",
      "===============  norm_31_datacsv  ===============\n",
      "Training data: 12072 single stars and 9729 blended stars\n",
      "Testing data: 3037 single stars and 2414 blended stars\n",
      "Running Classifier on norm_31_datacsv\n"
     ]
    },
    {
     "name": "stderr",
     "output_type": "stream",
     "text": [
      " 86%|████████▌ | 68/79 [02:15<00:20,  1.87s/it]"
     ]
    },
    {
     "name": "stdout",
     "output_type": "stream",
     "text": [
      "Total accuracy for norm_31_datacsv : 68.85 %\n",
      "===============  norm_31csv  ===============\n",
      "Training data: 12122 single stars and 9679 blended stars\n",
      "Testing data: 2987 single stars and 2464 blended stars\n",
      "Running Classifier on norm_31csv\n"
     ]
    },
    {
     "name": "stderr",
     "output_type": "stream",
     "text": [
      " 87%|████████▋ | 69/79 [02:17<00:18,  1.84s/it]"
     ]
    },
    {
     "name": "stdout",
     "output_type": "stream",
     "text": [
      "Total accuracy for norm_31csv : 69.712 %\n",
      "===============  norm_4_datacsv  ===============\n",
      "Training data: 12072 single stars and 9729 blended stars\n",
      "Testing data: 3037 single stars and 2414 blended stars\n",
      "Running Classifier on norm_4_datacsv\n"
     ]
    },
    {
     "name": "stderr",
     "output_type": "stream",
     "text": [
      " 89%|████████▊ | 70/79 [02:19<00:16,  1.84s/it]"
     ]
    },
    {
     "name": "stdout",
     "output_type": "stream",
     "text": [
      "Total accuracy for norm_4_datacsv : 78.334 %\n",
      "===============  norm_4csv  ===============\n",
      "Training data: 12122 single stars and 9679 blended stars\n",
      "Testing data: 2987 single stars and 2464 blended stars\n",
      "Running Classifier on norm_4csv\n"
     ]
    },
    {
     "name": "stderr",
     "output_type": "stream",
     "text": [
      " 90%|████████▉ | 71/79 [02:20<00:14,  1.79s/it]"
     ]
    },
    {
     "name": "stdout",
     "output_type": "stream",
     "text": [
      "Total accuracy for norm_4csv : 77.472 %\n",
      "===============  norm_41_datacsv  ===============\n",
      "Training data: 12072 single stars and 9729 blended stars\n",
      "Testing data: 3037 single stars and 2414 blended stars\n",
      "Running Classifier on norm_41_datacsv\n"
     ]
    },
    {
     "name": "stderr",
     "output_type": "stream",
     "text": [
      " 91%|█████████ | 72/79 [02:22<00:12,  1.74s/it]"
     ]
    },
    {
     "name": "stdout",
     "output_type": "stream",
     "text": [
      "Total accuracy for norm_41_datacsv : 68.96 %\n",
      "===============  norm_41csv  ===============\n",
      "Training data: 12122 single stars and 9679 blended stars\n",
      "Testing data: 2987 single stars and 2464 blended stars\n",
      "Running Classifier on norm_41csv\n"
     ]
    },
    {
     "name": "stderr",
     "output_type": "stream",
     "text": [
      " 92%|█████████▏| 73/79 [02:24<00:10,  1.72s/it]"
     ]
    },
    {
     "name": "stdout",
     "output_type": "stream",
     "text": [
      "Total accuracy for norm_41csv : 68.997 %\n",
      "===============  norm_5_datacsv  ===============\n",
      "Training data: 12072 single stars and 9729 blended stars\n",
      "Testing data: 3037 single stars and 2414 blended stars\n",
      "Running Classifier on norm_5_datacsv\n"
     ]
    },
    {
     "name": "stderr",
     "output_type": "stream",
     "text": [
      " 94%|█████████▎| 74/79 [02:26<00:08,  1.80s/it]"
     ]
    },
    {
     "name": "stdout",
     "output_type": "stream",
     "text": [
      "Total accuracy for norm_5_datacsv : 79.6 %\n",
      "===============  norm_5csv  ===============\n",
      "Training data: 12122 single stars and 9679 blended stars\n",
      "Testing data: 2987 single stars and 2464 blended stars\n",
      "Running Classifier on norm_5csv\n"
     ]
    },
    {
     "name": "stderr",
     "output_type": "stream",
     "text": [
      " 95%|█████████▍| 75/79 [02:28<00:07,  1.81s/it]"
     ]
    },
    {
     "name": "stdout",
     "output_type": "stream",
     "text": [
      "Total accuracy for norm_5csv : 80.499 %\n",
      "===============  norm_51_datacsv  ===============\n",
      "Training data: 12072 single stars and 9729 blended stars\n",
      "Testing data: 3037 single stars and 2414 blended stars\n",
      "Running Classifier on norm_51_datacsv\n"
     ]
    },
    {
     "name": "stderr",
     "output_type": "stream",
     "text": [
      " 96%|█████████▌| 76/79 [02:30<00:05,  1.86s/it]"
     ]
    },
    {
     "name": "stdout",
     "output_type": "stream",
     "text": [
      "Total accuracy for norm_51_datacsv : 76.518 %\n",
      "===============  norm_51csv  ===============\n",
      "Training data: 12122 single stars and 9679 blended stars\n",
      "Testing data: 2987 single stars and 2464 blended stars\n",
      "Running Classifier on norm_51csv\n",
      "\u001b[91mData point [100.] is not unique. 1 duplicates registered. Continuing ...\u001b[0m\n",
      "\u001b[91mData point [100.] is not unique. 2 duplicates registered. Continuing ...\u001b[0m\n",
      "\u001b[91mData point [100.] is not unique. 3 duplicates registered. Continuing ...\u001b[0m\n"
     ]
    },
    {
     "name": "stderr",
     "output_type": "stream",
     "text": [
      " 97%|█████████▋| 77/79 [02:32<00:04,  2.04s/it]"
     ]
    },
    {
     "name": "stdout",
     "output_type": "stream",
     "text": [
      "Total accuracy for norm_51csv : 68.043 %\n",
      "===============  nthroot_log_datacsv  ===============\n",
      "Training data: 12072 single stars and 9729 blended stars\n",
      "Testing data: 3037 single stars and 2414 blended stars\n",
      "Running Classifier on nthroot_log_datacsv\n"
     ]
    },
    {
     "name": "stderr",
     "output_type": "stream",
     "text": [
      " 99%|█████████▊| 78/79 [02:34<00:02,  2.05s/it]"
     ]
    },
    {
     "name": "stdout",
     "output_type": "stream",
     "text": [
      "Total accuracy for nthroot_log_datacsv : 77.747 %\n",
      "===============  nthroot_logcsv  ===============\n",
      "Training data: 12122 single stars and 9679 blended stars\n",
      "Testing data: 2987 single stars and 2464 blended stars\n",
      "Running Classifier on nthroot_logcsv\n"
     ]
    },
    {
     "name": "stderr",
     "output_type": "stream",
     "text": [
      "100%|██████████| 79/79 [02:36<00:00,  1.98s/it]"
     ]
    },
    {
     "name": "stdout",
     "output_type": "stream",
     "text": [
      "Total accuracy for nthroot_logcsv : 77.27 %\n"
     ]
    },
    {
     "name": "stderr",
     "output_type": "stream",
     "text": [
      "\n"
     ]
    }
   ],
   "source": [
    "norm_name = []\n",
    "my_accuracy = []\n",
    "for path in tqdm(norm_data_names):\n",
    "    path1 = '../data/data-norm/max-pixel-all/' + path\n",
    "    data = pd.read_csv(path1,na_values='-')\n",
    "    data.fillna(0,inplace=True)\n",
    "    data_label = ''.join(path.split('.')[:2])\n",
    "    truth_labels = data.iloc[:, 0].values\n",
    "    image_data = data.iloc[:, 1:].values\n",
    "\n",
    "    X_train, X_test, y_train, y_test = train_test_split(image_data, truth_labels, test_size=0.2, random_state=42)\n",
    "\n",
    "    print(\"=============== \", data_label, \" ===============\")\n",
    "    print('Training data:', len(y_train[y_train==0]), 'single stars and', len(y_train[y_train==1]), 'blended stars')\n",
    "    print('Testing data:', len(y_test[y_test==0]), 'single stars and', len(y_test[y_test==1]), 'blended stars')\n",
    "\n",
    "    onehot_train, onehot_test = generate_onehot_value(y_train), generate_onehot_value(y_test)\n",
    "\n",
    "    train = {'input': X_train, 'output': onehot_train, 'lookup': y_train}\n",
    "    test = {'input': X_test, 'output': onehot_test, 'lookup': y_test}\n",
    "\n",
    "    print(\"Running Classifier on\", data_label)\n",
    "    #Switch verbose to True for more output\n",
    "\n",
    "\n",
    "    muygps, nbrs_lookup, surrogate_predictions = do_classify(\n",
    "                                test_features=np.array(test['input']), \n",
    "                                train_features=np.array(train['input']), \n",
    "                                train_labels=np.array(train['output']), \n",
    "                                nn_count=15,\n",
    "                                batch_count=200,\n",
    "                                loss_fn=cross_entropy_fn,\n",
    "                                opt_fn=Bayes_optimize,\n",
    "                                k_kwargs=k_kwargs_mattern,\n",
    "                                nn_kwargs=nn_kwargs_hnsw,\n",
    "                                verbose=False)\n",
    "    predicted_labels = np.argmax(surrogate_predictions, axis=1)\n",
    "    accur = np.around((np.sum(predicted_labels == np.argmax(test[\"output\"], axis=1))/len(predicted_labels))*100, 3)\n",
    "    norm_name.append(''.join(data_label.split('_')[-3:]))\n",
    "    my_accuracy.append(accur)\n",
    "    print(\"Total accuracy for\", data_label, \":\", accur, '%')"
   ]
  },
  {
   "cell_type": "code",
   "execution_count": 21,
   "metadata": {},
   "outputs": [
    {
     "data": {
      "text/html": [
       "<div>\n",
       "<style scoped>\n",
       "    .dataframe tbody tr th:only-of-type {\n",
       "        vertical-align: middle;\n",
       "    }\n",
       "\n",
       "    .dataframe tbody tr th {\n",
       "        vertical-align: top;\n",
       "    }\n",
       "\n",
       "    .dataframe thead th {\n",
       "        text-align: right;\n",
       "    }\n",
       "</style>\n",
       "<table border=\"1\" class=\"dataframe\">\n",
       "  <thead>\n",
       "    <tr style=\"text-align: right;\">\n",
       "      <th></th>\n",
       "      <th>0</th>\n",
       "      <th>76</th>\n",
       "      <th>67</th>\n",
       "      <th>71</th>\n",
       "      <th>72</th>\n",
       "      <th>53</th>\n",
       "      <th>50</th>\n",
       "      <th>54</th>\n",
       "      <th>68</th>\n",
       "      <th>36</th>\n",
       "      <th>...</th>\n",
       "      <th>23</th>\n",
       "      <th>63</th>\n",
       "      <th>64</th>\n",
       "      <th>74</th>\n",
       "      <th>1</th>\n",
       "      <th>5</th>\n",
       "      <th>57</th>\n",
       "      <th>7</th>\n",
       "      <th>11</th>\n",
       "      <th>60</th>\n",
       "    </tr>\n",
       "  </thead>\n",
       "  <tbody>\n",
       "    <tr>\n",
       "      <th>norm_name</th>\n",
       "      <td>nthroot00data</td>\n",
       "      <td>norm51csv</td>\n",
       "      <td>norm31datacsv</td>\n",
       "      <td>norm41datacsv</td>\n",
       "      <td>norm41csv</td>\n",
       "      <td>nthroot0931data</td>\n",
       "      <td>nthroot08621</td>\n",
       "      <td>nthroot0931</td>\n",
       "      <td>norm31csv</td>\n",
       "      <td>nthroot06207</td>\n",
       "      <td>...</td>\n",
       "      <td>nthroot04138data</td>\n",
       "      <td>norm21datacsv</td>\n",
       "      <td>norm21csv</td>\n",
       "      <td>norm5csv</td>\n",
       "      <td>nthroot003448data</td>\n",
       "      <td>nthroot01034data</td>\n",
       "      <td>norm1datacsv</td>\n",
       "      <td>nthroot01379data</td>\n",
       "      <td>nthroot02069data</td>\n",
       "      <td>norm1csv</td>\n",
       "    </tr>\n",
       "    <tr>\n",
       "      <th>accuracy</th>\n",
       "      <td>55.715</td>\n",
       "      <td>68.043</td>\n",
       "      <td>68.85</td>\n",
       "      <td>68.96</td>\n",
       "      <td>68.997</td>\n",
       "      <td>69.382</td>\n",
       "      <td>69.584</td>\n",
       "      <td>69.602</td>\n",
       "      <td>69.712</td>\n",
       "      <td>70.006</td>\n",
       "      <td>...</td>\n",
       "      <td>80.407</td>\n",
       "      <td>80.426</td>\n",
       "      <td>80.444</td>\n",
       "      <td>80.499</td>\n",
       "      <td>80.517</td>\n",
       "      <td>80.646</td>\n",
       "      <td>80.646</td>\n",
       "      <td>80.646</td>\n",
       "      <td>80.664</td>\n",
       "      <td>80.866</td>\n",
       "    </tr>\n",
       "  </tbody>\n",
       "</table>\n",
       "<p>2 rows × 79 columns</p>\n",
       "</div>"
      ],
      "text/plain": [
       "                      0          76             67             71         72  \\\n",
       "norm_name  nthroot00data  norm51csv  norm31datacsv  norm41datacsv  norm41csv   \n",
       "accuracy          55.715     68.043          68.85          68.96     68.997   \n",
       "\n",
       "                        53            50           54         68  \\\n",
       "norm_name  nthroot0931data  nthroot08621  nthroot0931  norm31csv   \n",
       "accuracy            69.382        69.584       69.602     69.712   \n",
       "\n",
       "                     36  ...                23             63         64  \\\n",
       "norm_name  nthroot06207  ...  nthroot04138data  norm21datacsv  norm21csv   \n",
       "accuracy         70.006  ...            80.407         80.426     80.444   \n",
       "\n",
       "                 74                 1                 5             57  \\\n",
       "norm_name  norm5csv  nthroot003448data  nthroot01034data  norm1datacsv   \n",
       "accuracy     80.499             80.517            80.646        80.646   \n",
       "\n",
       "                         7                 11        60  \n",
       "norm_name  nthroot01379data  nthroot02069data  norm1csv  \n",
       "accuracy             80.646            80.664    80.866  \n",
       "\n",
       "[2 rows x 79 columns]"
      ]
     },
     "execution_count": 21,
     "metadata": {},
     "output_type": "execute_result"
    }
   ],
   "source": [
    "accura = pd.DataFrame({'norm_name': norm_name, 'accuracy': my_accuracy})\n",
    "accura.to_csv('../data/muygps-max-all-accuracy.csv', index=False)\n",
    "\n",
    "accura = pd.read_csv('../data/muygps-max-all-accuracy.csv')   \n",
    "accura.sort_values(by=['accuracy'], inplace=True)\n",
    "accura.T"
   ]
  },
  {
   "cell_type": "code",
   "execution_count": 22,
   "metadata": {},
   "outputs": [
    {
     "data": {
      "text/html": [
       "<div>\n",
       "<style scoped>\n",
       "    .dataframe tbody tr th:only-of-type {\n",
       "        vertical-align: middle;\n",
       "    }\n",
       "\n",
       "    .dataframe tbody tr th {\n",
       "        vertical-align: top;\n",
       "    }\n",
       "\n",
       "    .dataframe thead th {\n",
       "        text-align: right;\n",
       "    }\n",
       "</style>\n",
       "<table border=\"1\" class=\"dataframe\">\n",
       "  <thead>\n",
       "    <tr style=\"text-align: right;\">\n",
       "      <th></th>\n",
       "      <th>norm_name</th>\n",
       "      <th>accuracy</th>\n",
       "    </tr>\n",
       "  </thead>\n",
       "  <tbody>\n",
       "    <tr>\n",
       "      <th>60</th>\n",
       "      <td>norm1csv</td>\n",
       "      <td>80.866</td>\n",
       "    </tr>\n",
       "    <tr>\n",
       "      <th>11</th>\n",
       "      <td>nthroot02069data</td>\n",
       "      <td>80.664</td>\n",
       "    </tr>\n",
       "    <tr>\n",
       "      <th>5</th>\n",
       "      <td>nthroot01034data</td>\n",
       "      <td>80.646</td>\n",
       "    </tr>\n",
       "    <tr>\n",
       "      <th>57</th>\n",
       "      <td>norm1datacsv</td>\n",
       "      <td>80.646</td>\n",
       "    </tr>\n",
       "    <tr>\n",
       "      <th>7</th>\n",
       "      <td>nthroot01379data</td>\n",
       "      <td>80.646</td>\n",
       "    </tr>\n",
       "    <tr>\n",
       "      <th>1</th>\n",
       "      <td>nthroot003448data</td>\n",
       "      <td>80.517</td>\n",
       "    </tr>\n",
       "    <tr>\n",
       "      <th>74</th>\n",
       "      <td>norm5csv</td>\n",
       "      <td>80.499</td>\n",
       "    </tr>\n",
       "    <tr>\n",
       "      <th>64</th>\n",
       "      <td>norm21csv</td>\n",
       "      <td>80.444</td>\n",
       "    </tr>\n",
       "    <tr>\n",
       "      <th>63</th>\n",
       "      <td>norm21datacsv</td>\n",
       "      <td>80.426</td>\n",
       "    </tr>\n",
       "    <tr>\n",
       "      <th>23</th>\n",
       "      <td>nthroot04138data</td>\n",
       "      <td>80.407</td>\n",
       "    </tr>\n",
       "  </tbody>\n",
       "</table>\n",
       "</div>"
      ],
      "text/plain": [
       "            norm_name  accuracy\n",
       "60           norm1csv    80.866\n",
       "11   nthroot02069data    80.664\n",
       "5    nthroot01034data    80.646\n",
       "57       norm1datacsv    80.646\n",
       "7    nthroot01379data    80.646\n",
       "1   nthroot003448data    80.517\n",
       "74           norm5csv    80.499\n",
       "64          norm21csv    80.444\n",
       "63      norm21datacsv    80.426\n",
       "23   nthroot04138data    80.407"
      ]
     },
     "execution_count": 22,
     "metadata": {},
     "output_type": "execute_result"
    }
   ],
   "source": [
    "accura.nlargest(10, 'accuracy')"
   ]
  },
  {
   "cell_type": "markdown",
   "metadata": {},
   "source": [
    "<u>***Note:*** Each time you run the classifier will result in different accuracies.</u>"
   ]
  },
  {
   "cell_type": "markdown",
   "metadata": {},
   "source": [
    "### As you can see, all 5 normalization techniques do much better than the un-normalized data, with some performing better than others.\n",
    "\n",
    "### Things you can try, to see how they affect the classifier accuracy:\n",
    "- Play around with different values of `test_size`. What does testing on more or less data do?\n",
    "- Play around with different parameters that are passed to `do_classify`. Start with `nn_count` and `embed_dim`(For what those arguments are, and a full list of all of the arguments you can pass to do_classify, look at the function `do_classify` in `/MuyGPyS/examples/classify.py`).\n",
    "- Try generating more cutouts using `generating_ZTF_cutouts_from_ra_dec.ipynb`. How does having more testing and training data affects the classifier?\n",
    "- Play around with the parameters used to make the cutouts. What happens if you remove blend cuts? Can the classifier classify blends? What is you increase the seeing limit? Can the classifier classify images with bad atmoshperic quality?"
   ]
  },
  {
   "cell_type": "markdown",
   "metadata": {},
   "source": [
    "<hr style=\"border:2px solid gray\"> </hr>"
   ]
  },
  {
   "cell_type": "markdown",
   "metadata": {},
   "source": [
    "## <u>**Optional Step:**</u>\n",
    "### Running each dataset through the classifier multiple times, testing and training on varying amounts of data, different random states, and plotting the accuracy outcomes\n",
    "\n",
    "- Each time you run the following steps, you change:\n",
    "    - `test_size`: This is used in `train_test_split`, and changes the size of the testing and training datasets, which effects the accuracy of the classifier.\n",
    "    - `random_state`: This is used in `train_test_split`, and changes the ratio of how many stars-to-galaxies get tested on.\n",
    "- You can set how many times to run the classifier with varying test sizes and random states by setting `num_runs`, and you can manually change the test_size values by editing `test_size_values`."
   ]
  },
  {
   "cell_type": "code",
   "execution_count": 23,
   "metadata": {},
   "outputs": [],
   "source": [
    "test_size_values = [.2, .25, .33, .4, .5, .75]\n",
    "num_runs = 3"
   ]
  },
  {
   "cell_type": "code",
   "execution_count": 24,
   "metadata": {},
   "outputs": [],
   "source": [
    "# def run_classifier(image_data, truth_labels, test_size, state):\n",
    "#     X_train, X_test, y_train, y_test = train_test_split(image_data, truth_labels, test_size=test_size, random_state=state)\n",
    "#     onehot_train, onehot_test = generate_onehot_value(y_train), generate_onehot_value(y_test)\n",
    "#     train = {'input': X_train, 'output': onehot_train, 'lookup': y_train}\n",
    "#     test = {'input': X_test, 'output': onehot_test, 'lookup': y_test}\n",
    "#     #Switch verbose to True for more output\n",
    "#     muygps, nbrs_lookup, surrogate_predictions= do_classify(\n",
    "#                         test_features=np.array(test['input']),\n",
    "#                         train_features=np.array(train['input']), \n",
    "#                         train_labels=np.array(train['output']), \n",
    "#                         nn_count=20,\n",
    "#                         batch_count=200,\n",
    "#                         loss_fn=cross_entropy_fn,\n",
    "#                         opt_fn=Bayes_optimize,\n",
    "#                         k_kwargs=k_kwargs_mattern,\n",
    "#                         nn_kwargs=nn_kwargs_hnsw, \n",
    "#                         verbose=False) \n",
    "#     predicted_labels = np.argmax(surrogate_predictions, axis=1)\n",
    "#     accuracy = (np.sum(predicted_labels == np.argmax(test[\"output\"], axis=1))/len(predicted_labels))*100\n",
    "#     return accuracy"
   ]
  },
  {
   "cell_type": "code",
   "execution_count": 25,
   "metadata": {
    "scrolled": false
   },
   "outputs": [],
   "source": [
    "# from time import perf_counter\n",
    "# start = perf_counter()\n",
    "\n",
    "# accuracies = pd.DataFrame({'test_size': test_size_values})\n",
    "\n",
    "# # Setting progress bar for each time the classifier will be run during this step\n",
    "# pbar = tqdm(total=len(norm_data_names)*num_runs*len(test_size_values), desc='Running classifier', leave=True)\n",
    "\n",
    "# for path in norm_data_names:\n",
    "#     path1 = '../data/data-norm/max-pixel-all/' + path\n",
    "#     data = pd.read_csv(path1,na_values='-')\n",
    "#     data.fillna(0,inplace=True)\n",
    "#     data_label = ''.join(path.split('.')[:2])\n",
    "#     truth_labels = data.iloc[:, 0].values\n",
    "#     image_data = data.iloc[:, 1:].values\n",
    "#     all_acc_dataset = []\n",
    "#     for test_size in test_size_values:\n",
    "#         acc = []\n",
    "#         idx = 1\n",
    "#         while idx <= num_runs:\n",
    "#             accuracy = run_classifier(image_data, truth_labels, test_size, state=random.randint(0, 10000))\n",
    "#             acc.append(accuracy)\n",
    "#             pbar.update(1)\n",
    "#             idx += 1\n",
    "#         avg_acc = np.average(acc)\n",
    "#         all_acc_dataset.append(avg_acc)\n",
    "#     temp_df = pd.DataFrame({str(data_label): all_acc_dataset})\n",
    "#     accuracies = pd.concat([accuracies, temp_df], axis=1)\n",
    "# end = perf_counter()\n",
    "# print(f\"Time taken to run the classifier on all datasets: {(end-start)/60} minutes\")\n",
    "# accuracies.to_csv('max-all-accuracies.csv', index=False)\n",
    "# display(accuracies)"
   ]
  },
  {
   "cell_type": "code",
   "execution_count": 26,
   "metadata": {},
   "outputs": [],
   "source": [
    "# plt.figure(figsize=(12,4))\n",
    "\n",
    "# for path in norm_data_names:\n",
    "#     path1 = '../data/data-norm/max-pixel-all/' + path\n",
    "#     data = pd.read_csv(path1,na_values='-')\n",
    "#     data.fillna(0,inplace=True)\n",
    "#     data_label = ''.join(path.split('.')[:2])\n",
    "#     # data_label = 'Normalized {} {}'.format(*path.split('_')[:2])\n",
    "#     plt.plot(accuracies['test_size'].values, accuracies[data_label].values, label=data_label)\n",
    "\n",
    "# plt.title(\"MuyGPs Stellar Blending 2-class\")    \n",
    "# plt.legend(fontsize=10)   \n",
    "# plt.tick_params(labelsize=10)\n",
    "# plt.xlabel(\"Test size (as a ratio to full data size)\", fontsize=10)\n",
    "# plt.ylabel(\"Accuracy [%]\", fontsize=10)\n",
    "# plt.savefig(\"muygps_max_all_abs.png\")\n",
    "# plt.show()"
   ]
  },
  {
   "cell_type": "code",
   "execution_count": 27,
   "metadata": {},
   "outputs": [],
   "source": [
    "# accuracies = pd.read_csv('max-all-accuracies.csv')\n",
    "# np.max(accuracies.values, axis=1)"
   ]
  },
  {
   "cell_type": "code",
   "execution_count": 28,
   "metadata": {},
   "outputs": [],
   "source": [
    "# idcs = np.argmax(accuracies.values, axis=1)\n",
    "# accuracies.iloc[:, idcs]"
   ]
  },
  {
   "cell_type": "markdown",
   "metadata": {},
   "source": [
    "There is no benefit to normalization images with a division by maximum over the entire data. All the max accuracies above occur where the max-all normalization is not applied. However, it seems neural net model is in favor of max-all normalization instead of image by image max normalization."
   ]
  }
 ],
 "metadata": {
  "kernelspec": {
   "display_name": "Python 3 (ipykernel)",
   "language": "python",
   "name": "python3"
  },
  "language_info": {
   "codemirror_mode": {
    "name": "ipython",
    "version": 3
   },
   "file_extension": ".py",
   "mimetype": "text/x-python",
   "name": "python",
   "nbconvert_exporter": "python",
   "pygments_lexer": "ipython3",
   "version": "3.8.18"
  },
  "vscode": {
   "interpreter": {
    "hash": "611680c3a571b4cc3609a25adc9d467ee0ee0a175b157eb6c71343c892809ab8"
   }
  }
 },
 "nbformat": 4,
 "nbformat_minor": 2
}
