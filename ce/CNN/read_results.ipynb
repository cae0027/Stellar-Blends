{
 "cells": [
  {
   "cell_type": "markdown",
   "metadata": {},
   "source": []
  },
  {
   "cell_type": "code",
   "execution_count": 3,
   "metadata": {},
   "outputs": [],
   "source": [
    "import pandas as pd"
   ]
  },
  {
   "cell_type": "code",
   "execution_count": 4,
   "metadata": {},
   "outputs": [
    {
     "data": {
      "text/html": [
       "<div>\n",
       "<style scoped>\n",
       "    .dataframe tbody tr th:only-of-type {\n",
       "        vertical-align: middle;\n",
       "    }\n",
       "\n",
       "    .dataframe tbody tr th {\n",
       "        vertical-align: top;\n",
       "    }\n",
       "\n",
       "    .dataframe thead th {\n",
       "        text-align: right;\n",
       "    }\n",
       "</style>\n",
       "<table border=\"1\" class=\"dataframe\">\n",
       "  <thead>\n",
       "    <tr style=\"text-align: right;\">\n",
       "      <th></th>\n",
       "      <th>Unnamed: 0</th>\n",
       "      <th>norm_1_data.csv</th>\n",
       "      <th>nthroot_0.4828.csv</th>\n",
       "      <th>nthroot_0.5172.csv</th>\n",
       "      <th>norm_31.csv</th>\n",
       "      <th>nthroot_0.5862_data.csv</th>\n",
       "      <th>nthroot_0.7931.csv</th>\n",
       "      <th>nthroot_0.5862.csv</th>\n",
       "      <th>nthroot_0.4483_data.csv</th>\n",
       "      <th>nthroot_1.0.csv</th>\n",
       "      <th>...</th>\n",
       "      <th>nthroot_0.2069_data.csv</th>\n",
       "      <th>norm_5_data.csv</th>\n",
       "      <th>nthroot_0.7931_data.csv</th>\n",
       "      <th>nthroot_0.4483.csv</th>\n",
       "      <th>norm_2.csv</th>\n",
       "      <th>nthroot_log.csv</th>\n",
       "      <th>nthroot_0.9655.csv</th>\n",
       "      <th>nthroot_log_data.csv</th>\n",
       "      <th>norm_1.csv</th>\n",
       "      <th>norm_5.csv</th>\n",
       "    </tr>\n",
       "  </thead>\n",
       "  <tbody>\n",
       "    <tr>\n",
       "      <th>0</th>\n",
       "      <td>0</td>\n",
       "      <td>0.765364</td>\n",
       "      <td>0.743717</td>\n",
       "      <td>0.740415</td>\n",
       "      <td>0.547973</td>\n",
       "      <td>0.737296</td>\n",
       "      <td>0.714548</td>\n",
       "      <td>0.728307</td>\n",
       "      <td>0.742983</td>\n",
       "      <td>0.698221</td>\n",
       "      <td>...</td>\n",
       "      <td>0.788112</td>\n",
       "      <td>0.740415</td>\n",
       "      <td>0.709778</td>\n",
       "      <td>0.755825</td>\n",
       "      <td>0.744084</td>\n",
       "      <td>0.773803</td>\n",
       "      <td>0.670336</td>\n",
       "      <td>0.764263</td>\n",
       "      <td>0.765731</td>\n",
       "      <td>0.738213</td>\n",
       "    </tr>\n",
       "    <tr>\n",
       "      <th>1</th>\n",
       "      <td>1</td>\n",
       "      <td>0.768666</td>\n",
       "      <td>0.734361</td>\n",
       "      <td>0.743717</td>\n",
       "      <td>0.547973</td>\n",
       "      <td>0.710328</td>\n",
       "      <td>0.710328</td>\n",
       "      <td>0.733627</td>\n",
       "      <td>0.767199</td>\n",
       "      <td>0.696569</td>\n",
       "      <td>...</td>\n",
       "      <td>0.786278</td>\n",
       "      <td>0.735645</td>\n",
       "      <td>0.717300</td>\n",
       "      <td>0.754174</td>\n",
       "      <td>0.754174</td>\n",
       "      <td>0.773620</td>\n",
       "      <td>0.596588</td>\n",
       "      <td>0.762796</td>\n",
       "      <td>0.759677</td>\n",
       "      <td>0.735828</td>\n",
       "    </tr>\n",
       "    <tr>\n",
       "      <th>2</th>\n",
       "      <td>2</td>\n",
       "      <td>0.771051</td>\n",
       "      <td>0.748120</td>\n",
       "      <td>0.744267</td>\n",
       "      <td>0.547973</td>\n",
       "      <td>0.723904</td>\n",
       "      <td>0.714915</td>\n",
       "      <td>0.734911</td>\n",
       "      <td>0.750688</td>\n",
       "      <td>0.586314</td>\n",
       "      <td>...</td>\n",
       "      <td>0.784627</td>\n",
       "      <td>0.743717</td>\n",
       "      <td>0.709778</td>\n",
       "      <td>0.747019</td>\n",
       "      <td>0.749587</td>\n",
       "      <td>0.765915</td>\n",
       "      <td>0.691800</td>\n",
       "      <td>0.789213</td>\n",
       "      <td>0.770501</td>\n",
       "      <td>0.742616</td>\n",
       "    </tr>\n",
       "  </tbody>\n",
       "</table>\n",
       "<p>3 rows × 80 columns</p>\n",
       "</div>"
      ],
      "text/plain": [
       "   Unnamed: 0  norm_1_data.csv  nthroot_0.4828.csv  nthroot_0.5172.csv  \\\n",
       "0           0         0.765364            0.743717            0.740415   \n",
       "1           1         0.768666            0.734361            0.743717   \n",
       "2           2         0.771051            0.748120            0.744267   \n",
       "\n",
       "   norm_31.csv  nthroot_0.5862_data.csv  nthroot_0.7931.csv  \\\n",
       "0     0.547973                 0.737296            0.714548   \n",
       "1     0.547973                 0.710328            0.710328   \n",
       "2     0.547973                 0.723904            0.714915   \n",
       "\n",
       "   nthroot_0.5862.csv  nthroot_0.4483_data.csv  nthroot_1.0.csv  ...  \\\n",
       "0            0.728307                 0.742983         0.698221  ...   \n",
       "1            0.733627                 0.767199         0.696569  ...   \n",
       "2            0.734911                 0.750688         0.586314  ...   \n",
       "\n",
       "   nthroot_0.2069_data.csv  norm_5_data.csv  nthroot_0.7931_data.csv  \\\n",
       "0                 0.788112         0.740415                 0.709778   \n",
       "1                 0.786278         0.735645                 0.717300   \n",
       "2                 0.784627         0.743717                 0.709778   \n",
       "\n",
       "   nthroot_0.4483.csv  norm_2.csv  nthroot_log.csv  nthroot_0.9655.csv  \\\n",
       "0            0.755825    0.744084         0.773803            0.670336   \n",
       "1            0.754174    0.754174         0.773620            0.596588   \n",
       "2            0.747019    0.749587         0.765915            0.691800   \n",
       "\n",
       "   nthroot_log_data.csv  norm_1.csv  norm_5.csv  \n",
       "0              0.764263    0.765731    0.738213  \n",
       "1              0.762796    0.759677    0.735828  \n",
       "2              0.789213    0.770501    0.742616  \n",
       "\n",
       "[3 rows x 80 columns]"
      ]
     },
     "execution_count": 4,
     "metadata": {},
     "output_type": "execute_result"
    }
   ],
   "source": [
    "# CNN performance on data normalized by max value over entire data\n",
    "results = pd.read_csv('results-max-all.csv')\n",
    "results.head()"
   ]
  },
  {
   "cell_type": "code",
   "execution_count": 5,
   "metadata": {},
   "outputs": [
    {
     "data": {
      "text/plain": [
       "nthroot_0.1379.csv         0.790314\n",
       "nthroot_0.2069_data.csv    0.788112\n",
       "nthroot_0.1724_data.csv    0.785727\n",
       "nthroot_0.2069.csv         0.785727\n",
       "nthroot_0.1034.csv         0.784994\n",
       "nthroot_0.1724.csv         0.784627\n",
       "nthroot_0.2414.csv         0.782609\n",
       "nthroot_0.1379_data.csv    0.781875\n",
       "nthroot_0.2759.csv         0.781141\n",
       "nthroot_0.2414_data.csv    0.775087\n",
       "Name: 0, dtype: float64"
      ]
     },
     "execution_count": 5,
     "metadata": {},
     "output_type": "execute_result"
    }
   ],
   "source": [
    "\n",
    "results.iloc[0].nlargest(10)"
   ]
  },
  {
   "cell_type": "code",
   "execution_count": 9,
   "metadata": {},
   "outputs": [
    {
     "data": {
      "text/plain": [
       "norm_21.csv             0.768850\n",
       "nthroot_mm0.5517.csv    0.768299\n",
       "nthroot_log.csv         0.766281\n",
       "nthroot_0.3103.csv      0.765548\n",
       "nthroot_0.3448.csv      0.763346\n",
       "nthroot_0.2069.csv      0.762429\n",
       "nthroot_mm0.5172.csv    0.761695\n",
       "nthroot_mm0.4138.csv    0.761328\n",
       "nthroot_mm0.6552.csv    0.760411\n",
       "nthroot_0.2414.csv      0.759861\n",
       "Name: 0, dtype: float64"
      ]
     },
     "execution_count": 9,
     "metadata": {},
     "output_type": "execute_result"
    }
   ],
   "source": [
    "# CNN performance on data normalized by max value over each image\n",
    "results = pd.read_csv('results-max-only.csv')\n",
    "\n",
    "results.iloc[0].nlargest(10)"
   ]
  },
  {
   "cell_type": "code",
   "execution_count": null,
   "metadata": {},
   "outputs": [],
   "source": []
  }
 ],
 "metadata": {
  "kernelspec": {
   "display_name": "muygps",
   "language": "python",
   "name": "python3"
  },
  "language_info": {
   "codemirror_mode": {
    "name": "ipython",
    "version": 3
   },
   "file_extension": ".py",
   "mimetype": "text/x-python",
   "name": "python",
   "nbconvert_exporter": "python",
   "pygments_lexer": "ipython3",
   "version": "3.8.18"
  }
 },
 "nbformat": 4,
 "nbformat_minor": 2
}
