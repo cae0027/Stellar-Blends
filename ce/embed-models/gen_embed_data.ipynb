{
 "cells": [
  {
   "cell_type": "markdown",
   "metadata": {},
   "source": [
    "### PCA Embedding"
   ]
  },
  {
   "cell_type": "code",
   "execution_count": 11,
   "metadata": {},
   "outputs": [
    {
     "name": "stderr",
     "output_type": "stream",
     "text": [
      "100%|██████████| 71/71 [00:33<00:00,  2.14it/s]\n",
      "100%|██████████| 71/71 [00:35<00:00,  2.01it/s]\n",
      "100%|██████████| 71/71 [00:37<00:00,  1.92it/s]\n",
      "100%|██████████| 71/71 [00:39<00:00,  1.80it/s]\n",
      "100%|██████████| 71/71 [00:38<00:00,  1.83it/s]\n",
      "100%|██████████| 71/71 [00:41<00:00,  1.73it/s]\n",
      "100%|██████████| 71/71 [00:42<00:00,  1.65it/s]\n",
      "100%|██████████| 71/71 [00:44<00:00,  1.58it/s]\n",
      "100%|██████████| 71/71 [00:45<00:00,  1.56it/s]\n",
      "100%|██████████| 71/71 [00:47<00:00,  1.49it/s]\n",
      "100%|██████████| 71/71 [00:49<00:00,  1.44it/s]\n",
      "100%|██████████| 71/71 [00:51<00:00,  1.38it/s]\n",
      "100%|██████████| 71/71 [00:53<00:00,  1.33it/s]\n",
      "100%|██████████| 71/71 [00:54<00:00,  1.30it/s]\n",
      "100%|██████████| 71/71 [00:57<00:00,  1.24it/s]\n",
      "100%|██████████| 71/71 [00:58<00:00,  1.21it/s]\n",
      "100%|██████████| 71/71 [01:00<00:00,  1.18it/s]\n",
      "100%|██████████| 71/71 [01:02<00:00,  1.13it/s]\n",
      "100%|██████████| 71/71 [01:04<00:00,  1.10it/s]\n",
      "100%|██████████| 71/71 [01:05<00:00,  1.08it/s]\n",
      "100%|██████████| 71/71 [01:06<00:00,  1.07it/s]\n",
      "100%|██████████| 71/71 [01:09<00:00,  1.02it/s]\n",
      "100%|██████████| 71/71 [01:11<00:00,  1.00s/it]\n",
      "100%|██████████| 71/71 [01:12<00:00,  1.02s/it]\n",
      "100%|██████████| 71/71 [01:13<00:00,  1.04s/it]\n",
      "100%|██████████| 71/71 [01:16<00:00,  1.08s/it]\n",
      "100%|██████████| 71/71 [01:18<00:00,  1.11s/it]\n",
      "100%|██████████| 71/71 [01:20<00:00,  1.13s/it]\n",
      "100%|██████████| 71/71 [01:22<00:00,  1.16s/it]\n",
      "100%|██████████| 71/71 [01:23<00:00,  1.18s/it]\n",
      "100%|██████████| 71/71 [01:24<00:00,  1.19s/it]\n",
      "100%|██████████| 71/71 [01:27<00:00,  1.23s/it]\n",
      "100%|██████████| 71/71 [01:27<00:00,  1.23s/it]\n",
      "100%|██████████| 71/71 [01:29<00:00,  1.26s/it]\n",
      "100%|██████████| 71/71 [01:31<00:00,  1.29s/it]\n",
      "100%|██████████| 71/71 [01:34<00:00,  1.33s/it]\n",
      "100%|██████████| 71/71 [01:36<00:00,  1.36s/it]\n",
      "100%|██████████| 71/71 [01:37<00:00,  1.38s/it]\n",
      "100%|██████████| 71/71 [01:39<00:00,  1.41s/it]\n",
      "100%|██████████| 71/71 [01:41<00:00,  1.43s/it]\n",
      "100%|██████████| 71/71 [01:43<00:00,  1.45s/it]\n",
      "100%|██████████| 71/71 [01:45<00:00,  1.49s/it]\n",
      "100%|██████████| 71/71 [01:50<00:00,  1.56s/it]\n",
      "100%|██████████| 71/71 [01:53<00:00,  1.59s/it]\n",
      "100%|██████████| 71/71 [02:04<00:00,  1.75s/it]"
     ]
    },
    {
     "name": "stdout",
     "output_type": "stream",
     "text": [
      "Total time taken for embedding all normalized data is 53.79805501489997 minutes\n"
     ]
    },
    {
     "name": "stderr",
     "output_type": "stream",
     "text": [
      "\n"
     ]
    }
   ],
   "source": [
    "\n",
    "import numpy as np\n",
    "import pandas as pd\n",
    "import matplotlib.pyplot as plt\n",
    "import seaborn as sns\n",
    "\n",
    "from sklearn.decomposition import PCA\n",
    "from sklearn.manifold import TSNE\n",
    "import umap\n",
    "from sklearn.model_selection import train_test_split\n",
    "from time import perf_counter\n",
    "from glob import glob\n",
    "from tqdm import tqdm\n",
    "\n",
    "\n",
    "\n",
    "def pca_embedding(data_path=None, pltt=False, n_comp=2):\n",
    "    assert data_path is not None, \"Please provide a path to the data\"\n",
    "    now = perf_counter()\n",
    "    data = pd.read_csv(data_path)\n",
    "    # count how many rows with NAN values\n",
    "    # print(\"Total number of rows with NAN values: \", np.count_nonzero(data.isnull()))\n",
    "    # drop rows with NAN values\n",
    "    data.dropna(inplace=True)\n",
    "    # get label\n",
    "    label = data.iloc[:, 0].astype(int)\n",
    "    label = np.array([int(x) for x in label])\n",
    "    image_data = data.iloc[:,1:]\n",
    "\n",
    "    # perform pca on data\n",
    "    pca = PCA(n_components=n_comp)\n",
    "    pca_fit = pca.fit_transform(image_data)\n",
    "    data = np.hstack((label.reshape(-1,1), pca_fit))\n",
    "    dat = pd.DataFrame(data)\n",
    "    file_name = data_path.split(\"/\")[-1]\n",
    "    dat.to_csv(f\"../../data/data-norm/pca-embed-max-only/pca-ncomp-{n_comp}/{file_name}\", index=False)\n",
    "\n",
    "    # # scree plot to determine number of components\n",
    "    # plt.plot(np.cumsum(pca.explained_variance_ratio_))\n",
    "    # plt.xlabel(\"Number of components\")\n",
    "    # plt.ylabel(\"Cumulative explained variance\")\n",
    "    # plt.title(\"Scree plot\")\n",
    "    # print(file_name)\n",
    "    # plt.show()\n",
    "    return \n",
    "\n",
    "\n",
    "\n",
    "if __name__ == \"__main__\":\n",
    "    now = perf_counter()\n",
    "    # Read csv file with the labels and image data\n",
    "    data_path = glob(\"../../data/data-norm/max-only/*.csv\")\n",
    "    # print(data_path)\n",
    "    \n",
    "    n = 50      # total number of components\n",
    "    for n in tqdm(range(6, n+1)):\n",
    "        for name in tqdm(data_path):\n",
    "            pca_embedding(data_path=name, n_comp=n)\n",
    "\n",
    "    end = perf_counter()\n",
    "    print(f\"Total time taken for embedding all normalized data is {(end-now)/60} minutes\")\n",
    "\n"
   ]
  },
  {
   "cell_type": "markdown",
   "metadata": {},
   "source": [
    "### Scree Plots for PCA"
   ]
  },
  {
   "cell_type": "code",
   "execution_count": 1,
   "metadata": {},
   "outputs": [
    {
     "name": "stderr",
     "output_type": "stream",
     "text": [
      "/home/eleh/miniconda3/envs/muygps/lib/python3.8/site-packages/scipy/__init__.py:146: UserWarning: A NumPy version >=1.16.5 and <1.23.0 is required for this version of SciPy (detected version 1.24.3\n",
      "  warnings.warn(f\"A NumPy version >={np_minversion} and <{np_maxversion}\"\n",
      "  0%|          | 0/71 [00:00<?, ?it/s]"
     ]
    },
    {
     "name": "stdout",
     "output_type": "stream",
     "text": [
      "raw_image_data.csv\n"
     ]
    },
    {
     "data": {
      "image/png": "[encoded data removed]",
      "text/plain": [
       "<Figure size 640x480 with 1 Axes>"
      ]
     },
     "metadata": {},
     "output_type": "display_data"
    },
    {
     "name": "stderr",
     "output_type": "stream",
     "text": [
      "100%|██████████| 71/71 [00:00<00:00, 87.03it/s]"
     ]
    },
    {
     "name": "stdout",
     "output_type": "stream",
     "text": [
      "Total time taken for embedding all normalized data is 0.01362662500080963 minutes\n"
     ]
    },
    {
     "name": "stderr",
     "output_type": "stream",
     "text": [
      "\n"
     ]
    }
   ],
   "source": [
    "\n",
    "import numpy as np\n",
    "import pandas as pd\n",
    "import matplotlib.pyplot as plt\n",
    "import seaborn as sns\n",
    "\n",
    "from sklearn.decomposition import PCA\n",
    "from sklearn.manifold import TSNE\n",
    "import umap\n",
    "from sklearn.model_selection import train_test_split\n",
    "from time import perf_counter\n",
    "from glob import glob\n",
    "from tqdm import tqdm\n",
    "\n",
    "\n",
    "\n",
    "def pca_embedding(data_path=None, pltt=False, n_comp=2):\n",
    "    assert data_path is not None, \"Please provide a path to the data\"\n",
    "    now = perf_counter()\n",
    "    data = pd.read_csv(data_path)\n",
    "    # count how many rows with NAN values\n",
    "    # print(\"Total number of rows with NAN values: \", np.count_nonzero(data.isnull()))\n",
    "    # drop rows with NAN values\n",
    "    data.dropna(inplace=True)\n",
    "    # get label\n",
    "    label = data.iloc[:, 0].astype(int)\n",
    "    label = np.array([int(x) for x in label])\n",
    "    image_data = data.iloc[:,1:]\n",
    "\n",
    "    # perform pca on data\n",
    "    pca = PCA(n_components=n_comp)\n",
    "    pca_fit = pca.fit_transform(image_data)\n",
    "    data = np.hstack((label.reshape(-1,1), pca_fit))\n",
    "    dat = pd.DataFrame(data)\n",
    "    file_name = data_path.split(\"/\")[-1]\n",
    "    # dat.to_csv(f\"../../data/data-norm/pca-embed/{file_name}\", index=False)\n",
    "\n",
    "    # scree plot to determine number of components\n",
    "    plt.plot(np.cumsum(pca.explained_variance_ratio_))\n",
    "    plt.xlabel(\"Number of components\")\n",
    "    plt.ylabel(\"Cumulative explained variance\")\n",
    "    # plt.title(\"Scree Plot for Raw Data\")\n",
    "    plt.savefig(f\"./Scree-plots/{file_name}-scree.png\", dpi=500)\n",
    "    print(file_name)\n",
    "    plt.show()\n",
    "    return \n",
    "\n",
    "\n",
    "\n",
    "if __name__ == \"__main__\":\n",
    "    now = perf_counter()\n",
    "    # Read csv file with the labels and image data\n",
    "    data_path = glob(\"../../data/data-norm/max-only/*.csv\")\n",
    "    # print(data_path)\n",
    "    for name in tqdm(data_path):\n",
    "        if 'raw' in name:\n",
    "            pca_embedding(data_path=name, n_comp=40)\n",
    "\n",
    "    end = perf_counter()\n",
    "    print(f\"Total time taken for embedding all normalized data is {(end-now)/60} minutes\")\n",
    "\n"
   ]
  },
  {
   "cell_type": "code",
   "execution_count": null,
   "metadata": {},
   "outputs": [],
   "source": []
  },
  {
   "cell_type": "markdown",
   "metadata": {},
   "source": [
    "### UMAP embedding"
   ]
  },
  {
   "cell_type": "code",
   "execution_count": 11,
   "metadata": {},
   "outputs": [
    {
     "name": "stderr",
     "output_type": "stream",
     "text": [
      " 18%|█▊        | 14/80 [02:33<11:54, 10.82s/it]/home/eleh/miniconda3/envs/tenv/lib/python3.8/site-packages/scipy/sparse/_index.py:125: SparseEfficiencyWarning: Changing the sparsity structure of a csr_matrix is expensive. lil_matrix is more efficient.\n",
      "  self._set_arrayXarray(i, j, x)\n",
      " 21%|██▏       | 17/80 [03:08<11:34, 11.02s/it]/home/eleh/miniconda3/envs/tenv/lib/python3.8/site-packages/scipy/sparse/_index.py:125: SparseEfficiencyWarning: Changing the sparsity structure of a csr_matrix is expensive. lil_matrix is more efficient.\n",
      "  self._set_arrayXarray(i, j, x)\n",
      "100%|██████████| 80/80 [14:44<00:00, 11.05s/it]"
     ]
    },
    {
     "name": "stdout",
     "output_type": "stream",
     "text": [
      "Total time taken for embedding all normalized data is 14.739436378499764 minutes\n"
     ]
    },
    {
     "name": "stderr",
     "output_type": "stream",
     "text": [
      "\n"
     ]
    }
   ],
   "source": [
    "import numpy as np\n",
    "import pandas as pd\n",
    "import matplotlib.pyplot as plt\n",
    "\n",
    "from sklearn.decomposition import PCA\n",
    "from sklearn.manifold import TSNE\n",
    "import umap\n",
    "from sklearn.model_selection import train_test_split\n",
    "from time import perf_counter\n",
    "from glob import glob\n",
    "from tqdm import tqdm\n",
    "\n",
    "def umap_embedding(data_path=None, pltt=False, n_comp=2):\n",
    "    assert data_path is not None, \"Please provide a path to the data\"\n",
    "    data = pd.read_csv(data_path)\n",
    "    # count how many rows with NAN values\n",
    "    # print(\"Total number of rows with NAN values: \", np.count_nonzero(data.isnull()))\n",
    "    # drop rows with NAN values\n",
    "    data.dropna(inplace=True)\n",
    "    # get label\n",
    "    label = data.iloc[:, 0].astype(int)\n",
    "    label = np.array([int(x) for x in label])\n",
    "    image_data = data.iloc[:,1:]\n",
    "\n",
    "    # split data for supervised umap\n",
    "    X_train, X_test, y_train, y_test = train_test_split(image_data, label, test_size=0.2, random_state=42)\n",
    "\n",
    "    # perform umap on data\n",
    "    umap_sup = umap.UMAP(n_components=n_comp).fit(X_train, y_train)\n",
    "    X_trained = umap_sup.transform(X_train)\n",
    "    X_test = umap_sup.transform(X_test)\n",
    "    X_trained = np.hstack((y_train.reshape(-1,1), X_trained))\n",
    "    X_train = pd.DataFrame(X_trained)\n",
    "    X_test = np.hstack((y_test.reshape(-1,1), X_test))\n",
    "    X_test = pd.DataFrame(X_test)\n",
    "\n",
    "    file_name = data_path.split(\"/\")[-1]\n",
    "    X_train.to_csv(f\"../../data/data-norm/umap-embed/train_{file_name}\", index=False)\n",
    "    X_test.to_csv(f\"../../data/data-norm/umap-embed/test_{file_name}\", index=False)\n",
    "    # max-all\n",
    "    # X_train.to_csv(f\"../../data/data-norm/umap-embed-max-all/train_{file_name}\", index=False)\n",
    "    # X_test.to_csv(f\"../../data/data-norm/umap-embed-max-all/test_{file_name}\", index=False)\n",
    "\n",
    "    # # scree plot to determine number of components\n",
    "    # plt.plot(np.cumsum(pca.explained_variance_ratio_))\n",
    "    # plt.xlabel(\"Number of components\")\n",
    "    # plt.ylabel(\"Cumulative explained variance\")\n",
    "    # plt.title(\"Scree plot\")\n",
    "    # print(file_name)\n",
    "    # plt.show()\n",
    "    return \n",
    "\n",
    "\n",
    "\n",
    "if __name__ == \"__main__\":\n",
    "    now = perf_counter()\n",
    "    # Read csv file with the labels and image data\n",
    "    # data_path = glob(\"../../data/data-norm/max-only/*.csv\")\n",
    "    # data_path = glob(\"../../data/data-norm/max-pixel-all/*.csv\")\n",
    "    # print(data_path)\n",
    "    for name in tqdm(data_path):\n",
    "        umap_embedding(data_path=name, n_comp=10)\n",
    "\n",
    "    end = perf_counter()\n",
    "    print(f\"Total time taken for embedding all normalized data is {(end-now)/60} minutes\")\n",
    "\n"
   ]
  }
 ],
 "metadata": {
  "kernelspec": {
   "display_name": "tenv",
   "language": "python",
   "name": "python3"
  },
  "language_info": {
   "codemirror_mode": {
    "name": "ipython",
    "version": 3
   },
   "file_extension": ".py",
   "mimetype": "text/x-python",
   "name": "python",
   "nbconvert_exporter": "python",
   "pygments_lexer": "ipython3",
   "version": "3.8.18"
  }
 },
 "nbformat": 4,
 "nbformat_minor": 2
}
