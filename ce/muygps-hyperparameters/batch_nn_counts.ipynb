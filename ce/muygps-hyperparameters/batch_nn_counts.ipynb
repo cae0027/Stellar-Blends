{
 "cells": [
  {
   "cell_type": "code",
   "execution_count": 1,
   "metadata": {},
   "outputs": [
    {
     "name": "stderr",
     "output_type": "stream",
     "text": [
      "/home/eleh/miniconda3/envs/muygps/lib/python3.8/site-packages/scipy/__init__.py:146: UserWarning: A NumPy version >=1.16.5 and <1.23.0 is required for this version of SciPy (detected version 1.24.3\n",
      "  warnings.warn(f\"A NumPy version >={np_minversion} and <{np_maxversion}\"\n",
      "No GPU/TPU found, falling back to CPU. (Set TF_CPP_MIN_LOG_LEVEL=0 and rerun for more info.)\n"
     ]
    }
   ],
   "source": [
    "# from MuyGPyS import config\n",
    "# config.update(\"muygpys_jax_enabled\", False)\n",
    "\n",
    "import numpy as np\n",
    "import pandas as pd\n",
    "import random\n",
    "from tqdm import tqdm\n",
    "import matplotlib.pyplot as plt\n",
    "import seaborn as sns\n",
    "from sklearn.model_selection import train_test_split\n",
    "\n",
    "from MuyGPyS.examples.classify import do_classify\n",
    "from MuyGPyS.gp.deformation import F2, Isotropy, l2\n",
    "from MuyGPyS.gp.hyperparameter import Parameter, Parameter as ScalarParam\n",
    "from MuyGPyS.gp.kernels import RBF, Matern\n",
    "from MuyGPyS.gp.noise import HomoscedasticNoise\n",
    "from MuyGPyS.optimize import Bayes_optimize, OptimizeFn, L_BFGS_B_optimize\n",
    "from MuyGPyS.optimize.loss import LossFn, cross_entropy_fn\n",
    "from time import perf_counter\n",
    "\n"
   ]
  },
  {
   "cell_type": "code",
   "execution_count": 4,
   "metadata": {},
   "outputs": [
    {
     "data": {
      "text/plain": [
       "['norm_2.csv']"
      ]
     },
     "execution_count": 4,
     "metadata": {},
     "output_type": "execute_result"
    }
   ],
   "source": [
    "\n",
    "# data_path = ['norm_11.csv','norm_1.csv', 'norm_21.csv', 'raw_image_data.csv']\n",
    "data_path = [ 'norm_2.csv']\n",
    "# get rid of \"../data/data-norm/\"\n",
    "norm_data_names = data_path\n",
    "norm_data_names"
   ]
  },
  {
   "cell_type": "code",
   "execution_count": 5,
   "metadata": {},
   "outputs": [],
   "source": [
    "def generate_onehot_value(values):\n",
    "    onehot = []\n",
    "    for val in values:\n",
    "        if val == 0:\n",
    "            onehot.append([1., -1.])\n",
    "        elif val == 1:\n",
    "            onehot.append([-1., 1.])\n",
    "    return onehot"
   ]
  },
  {
   "cell_type": "code",
   "execution_count": 6,
   "metadata": {},
   "outputs": [],
   "source": [
    "nn_kwargs_exact = {\"nn_method\": \"exact\", \"algorithm\": \"ball_tree\"}\n",
    "\n",
    "nn_kwargs_hnsw = {\"nn_method\": \"hnsw\"}\n",
    "\n",
    "k_kwargs_rbf ={\n",
    "            \"kernel\": RBF(\n",
    "                 deformation=Isotropy(\n",
    "                     metric=l2,\n",
    "                 length_scale=Parameter(1.0, (1e-2, 1e2)),\n",
    "                 ),\n",
    "            ),\n",
    "            \"noise\": HomoscedasticNoise(1e-5),\n",
    "            }\n",
    "k_kwargs_mattern= { \"kernel\": Matern(\n",
    "             smoothness=ScalarParam(0.5),\n",
    "             deformation=Isotropy(\n",
    "                 metric=l2,\n",
    "                 length_scale=Parameter(1.0, (1e-2, 1e2)),\n",
    "             ),\n",
    "         ),\n",
    "         \"noise\": HomoscedasticNoise(1e-5),\n",
    "         }"
   ]
  },
  {
   "cell_type": "code",
   "execution_count": 7,
   "metadata": {},
   "outputs": [],
   "source": [
    "nn_counts = [5, 10, 15, 20,25,30,35,40 ]\n",
    "batch_counts = [ 5,10,20,40,80,160,320,640]"
   ]
  },
  {
   "cell_type": "code",
   "execution_count": 6,
   "metadata": {},
   "outputs": [
    {
     "name": "stderr",
     "output_type": "stream",
     "text": [
      "  0%|          | 0/8 [00:00<?, ?it/s]"
     ]
    },
    {
     "name": "stdout",
     "output_type": "stream",
     "text": [
      "===============  norm_2csv  ===============\n",
      "Training data: 12073 single stars and 9728 blended stars\n",
      "Testing data: 3036 single stars and 2415 blended stars\n",
      "Running Classifier on norm_2csv\n"
     ]
    },
    {
     "name": "stderr",
     "output_type": "stream",
     "text": []
    },
    {
     "name": "stdout",
     "output_type": "stream",
     "text": [
      "Total accuracy for norm_2csv : 79.563 %\n",
      "===============  norm_2csv  ===============\n",
      "Training data: 12073 single stars and 9728 blended stars\n",
      "Testing data: 3036 single stars and 2415 blended stars\n",
      "Running Classifier on norm_2csv\n"
     ]
    },
    {
     "name": "stderr",
     "output_type": "stream",
     "text": []
    },
    {
     "name": "stdout",
     "output_type": "stream",
     "text": [
      "Total accuracy for norm_2csv : 79.527 %\n",
      "===============  norm_2csv  ===============\n",
      "Training data: 12073 single stars and 9728 blended stars\n",
      "Testing data: 3036 single stars and 2415 blended stars\n",
      "Running Classifier on norm_2csv\n"
     ]
    },
    {
     "name": "stderr",
     "output_type": "stream",
     "text": []
    },
    {
     "name": "stdout",
     "output_type": "stream",
     "text": [
      "Total accuracy for norm_2csv : 79.582 %\n",
      "===============  norm_2csv  ===============\n",
      "Training data: 12073 single stars and 9728 blended stars\n",
      "Testing data: 3036 single stars and 2415 blended stars\n",
      "Running Classifier on norm_2csv\n"
     ]
    },
    {
     "name": "stderr",
     "output_type": "stream",
     "text": []
    },
    {
     "name": "stdout",
     "output_type": "stream",
     "text": [
      "Total accuracy for norm_2csv : 79.747 %\n",
      "===============  norm_2csv  ===============\n",
      "Training data: 12073 single stars and 9728 blended stars\n",
      "Testing data: 3036 single stars and 2415 blended stars\n",
      "Running Classifier on norm_2csv\n",
      "\u001b[91mData point [0.01] is not unique. 1 duplicates registered. Continuing ...\u001b[0m\n",
      "\u001b[91mData point [0.01] is not unique. 2 duplicates registered. Continuing ...\u001b[0m\n",
      "\u001b[91mData point [0.01] is not unique. 3 duplicates registered. Continuing ...\u001b[0m\n",
      "\u001b[91mData point [0.01] is not unique. 4 duplicates registered. Continuing ...\u001b[0m\n",
      "\u001b[91mData point [0.01] is not unique. 5 duplicates registered. Continuing ...\u001b[0m\n",
      "\u001b[91mData point [0.01] is not unique. 6 duplicates registered. Continuing ...\u001b[0m\n",
      "\u001b[91mData point [0.01] is not unique. 7 duplicates registered. Continuing ...\u001b[0m\n",
      "\u001b[91mData point [0.01] is not unique. 8 duplicates registered. Continuing ...\u001b[0m\n",
      "\u001b[91mData point [0.01] is not unique. 9 duplicates registered. Continuing ...\u001b[0m\n",
      "\u001b[91mData point [0.01] is not unique. 10 duplicates registered. Continuing ...\u001b[0m\n",
      "\u001b[91mData point [0.01] is not unique. 11 duplicates registered. Continuing ...\u001b[0m\n",
      "\u001b[91mData point [0.01] is not unique. 12 duplicates registered. Continuing ...\u001b[0m\n",
      "\u001b[91mData point [0.01] is not unique. 13 duplicates registered. Continuing ...\u001b[0m\n",
      "\u001b[91mData point [0.01] is not unique. 14 duplicates registered. Continuing ...\u001b[0m\n",
      "\u001b[91mData point [0.01] is not unique. 15 duplicates registered. Continuing ...\u001b[0m\n",
      "\u001b[91mData point [0.01] is not unique. 16 duplicates registered. Continuing ...\u001b[0m\n",
      "\u001b[91mData point [0.01] is not unique. 17 duplicates registered. Continuing ...\u001b[0m\n",
      "\u001b[91mData point [0.01] is not unique. 18 duplicates registered. Continuing ...\u001b[0m\n"
     ]
    },
    {
     "name": "stderr",
     "output_type": "stream",
     "text": []
    },
    {
     "name": "stdout",
     "output_type": "stream",
     "text": [
      "Total accuracy for norm_2csv : 77.839 %\n",
      "===============  norm_2csv  ===============\n",
      "Training data: 12073 single stars and 9728 blended stars\n",
      "Testing data: 3036 single stars and 2415 blended stars\n",
      "Running Classifier on norm_2csv\n"
     ]
    },
    {
     "name": "stderr",
     "output_type": "stream",
     "text": []
    },
    {
     "name": "stdout",
     "output_type": "stream",
     "text": [
      "Total accuracy for norm_2csv : 79.784 %\n",
      "===============  norm_2csv  ===============\n",
      "Training data: 12073 single stars and 9728 blended stars\n",
      "Testing data: 3036 single stars and 2415 blended stars\n",
      "Running Classifier on norm_2csv\n"
     ]
    },
    {
     "name": "stderr",
     "output_type": "stream",
     "text": []
    },
    {
     "name": "stdout",
     "output_type": "stream",
     "text": [
      "Total accuracy for norm_2csv : 79.728 %\n",
      "===============  norm_2csv  ===============\n",
      "Training data: 12073 single stars and 9728 blended stars\n",
      "Testing data: 3036 single stars and 2415 blended stars\n",
      "Running Classifier on norm_2csv\n"
     ]
    },
    {
     "name": "stderr",
     "output_type": "stream",
     "text": [
      "100%|██████████| 8/8 [00:09<00:00,  1.21s/it]\n",
      " 12%|█▎        | 1/8 [00:09<01:07,  9.65s/it]"
     ]
    },
    {
     "name": "stdout",
     "output_type": "stream",
     "text": [
      "Total accuracy for norm_2csv : 79.49 %\n"
     ]
    },
    {
     "name": "stderr",
     "output_type": "stream",
     "text": []
    },
    {
     "name": "stdout",
     "output_type": "stream",
     "text": [
      "===============  norm_2csv  ===============\n",
      "Training data: 12073 single stars and 9728 blended stars\n",
      "Testing data: 3036 single stars and 2415 blended stars\n",
      "Running Classifier on norm_2csv\n"
     ]
    },
    {
     "name": "stderr",
     "output_type": "stream",
     "text": []
    },
    {
     "name": "stdout",
     "output_type": "stream",
     "text": [
      "Total accuracy for norm_2csv : 81.141 %\n",
      "===============  norm_2csv  ===============\n",
      "Training data: 12073 single stars and 9728 blended stars\n",
      "Testing data: 3036 single stars and 2415 blended stars\n",
      "Running Classifier on norm_2csv\n"
     ]
    },
    {
     "name": "stderr",
     "output_type": "stream",
     "text": []
    },
    {
     "name": "stdout",
     "output_type": "stream",
     "text": [
      "Total accuracy for norm_2csv : 81.031 %\n",
      "===============  norm_2csv  ===============\n",
      "Training data: 12073 single stars and 9728 blended stars\n",
      "Testing data: 3036 single stars and 2415 blended stars\n",
      "Running Classifier on norm_2csv\n"
     ]
    },
    {
     "name": "stderr",
     "output_type": "stream",
     "text": []
    },
    {
     "name": "stdout",
     "output_type": "stream",
     "text": [
      "Total accuracy for norm_2csv : 81.343 %\n",
      "===============  norm_2csv  ===============\n",
      "Training data: 12073 single stars and 9728 blended stars\n",
      "Testing data: 3036 single stars and 2415 blended stars\n",
      "Running Classifier on norm_2csv\n"
     ]
    },
    {
     "name": "stderr",
     "output_type": "stream",
     "text": []
    },
    {
     "name": "stdout",
     "output_type": "stream",
     "text": [
      "Total accuracy for norm_2csv : 81.49 %\n",
      "===============  norm_2csv  ===============\n",
      "Training data: 12073 single stars and 9728 blended stars\n",
      "Testing data: 3036 single stars and 2415 blended stars\n",
      "Running Classifier on norm_2csv\n"
     ]
    },
    {
     "name": "stderr",
     "output_type": "stream",
     "text": []
    },
    {
     "name": "stdout",
     "output_type": "stream",
     "text": [
      "Total accuracy for norm_2csv : 81.49 %\n",
      "===============  norm_2csv  ===============\n",
      "Training data: 12073 single stars and 9728 blended stars\n",
      "Testing data: 3036 single stars and 2415 blended stars\n",
      "Running Classifier on norm_2csv\n"
     ]
    },
    {
     "name": "stderr",
     "output_type": "stream",
     "text": []
    },
    {
     "name": "stdout",
     "output_type": "stream",
     "text": [
      "Total accuracy for norm_2csv : 81.49 %\n",
      "===============  norm_2csv  ===============\n",
      "Training data: 12073 single stars and 9728 blended stars\n",
      "Testing data: 3036 single stars and 2415 blended stars\n",
      "Running Classifier on norm_2csv\n"
     ]
    },
    {
     "name": "stderr",
     "output_type": "stream",
     "text": []
    },
    {
     "name": "stdout",
     "output_type": "stream",
     "text": [
      "Total accuracy for norm_2csv : 81.288 %\n",
      "===============  norm_2csv  ===============\n",
      "Training data: 12073 single stars and 9728 blended stars\n",
      "Testing data: 3036 single stars and 2415 blended stars\n",
      "Running Classifier on norm_2csv\n"
     ]
    },
    {
     "name": "stderr",
     "output_type": "stream",
     "text": [
      "100%|██████████| 8/8 [00:11<00:00,  1.46s/it]\n",
      " 25%|██▌       | 2/8 [00:21<01:05, 10.87s/it]"
     ]
    },
    {
     "name": "stdout",
     "output_type": "stream",
     "text": [
      "Total accuracy for norm_2csv : 81.398 %\n"
     ]
    },
    {
     "name": "stderr",
     "output_type": "stream",
     "text": []
    },
    {
     "name": "stdout",
     "output_type": "stream",
     "text": [
      "===============  norm_2csv  ===============\n",
      "Training data: 12073 single stars and 9728 blended stars\n",
      "Testing data: 3036 single stars and 2415 blended stars\n",
      "Running Classifier on norm_2csv\n"
     ]
    },
    {
     "name": "stderr",
     "output_type": "stream",
     "text": []
    },
    {
     "name": "stdout",
     "output_type": "stream",
     "text": [
      "Total accuracy for norm_2csv : 81.545 %\n",
      "===============  norm_2csv  ===============\n",
      "Training data: 12073 single stars and 9728 blended stars\n",
      "Testing data: 3036 single stars and 2415 blended stars\n",
      "Running Classifier on norm_2csv\n",
      "\u001b[91mData point [100.] is not unique. 1 duplicates registered. Continuing ...\u001b[0m\n",
      "\u001b[91mData point [100.] is not unique. 2 duplicates registered. Continuing ...\u001b[0m\n",
      "\u001b[91mData point [100.] is not unique. 3 duplicates registered. Continuing ...\u001b[0m\n",
      "\u001b[91mData point [100.] is not unique. 4 duplicates registered. Continuing ...\u001b[0m\n",
      "\u001b[91mData point [100.] is not unique. 5 duplicates registered. Continuing ...\u001b[0m\n",
      "\u001b[91mData point [100.] is not unique. 6 duplicates registered. Continuing ...\u001b[0m\n",
      "\u001b[91mData point [100.] is not unique. 7 duplicates registered. Continuing ...\u001b[0m\n",
      "\u001b[91mData point [100.] is not unique. 8 duplicates registered. Continuing ...\u001b[0m\n",
      "\u001b[91mData point [100.] is not unique. 9 duplicates registered. Continuing ...\u001b[0m\n",
      "\u001b[91mData point [100.] is not unique. 10 duplicates registered. Continuing ...\u001b[0m\n"
     ]
    },
    {
     "name": "stderr",
     "output_type": "stream",
     "text": []
    },
    {
     "name": "stdout",
     "output_type": "stream",
     "text": [
      "Total accuracy for norm_2csv : 81.82 %\n",
      "===============  norm_2csv  ===============\n",
      "Training data: 12073 single stars and 9728 blended stars\n",
      "Testing data: 3036 single stars and 2415 blended stars\n",
      "Running Classifier on norm_2csv\n"
     ]
    },
    {
     "name": "stderr",
     "output_type": "stream",
     "text": []
    },
    {
     "name": "stdout",
     "output_type": "stream",
     "text": [
      "Total accuracy for norm_2csv : 81.618 %\n",
      "===============  norm_2csv  ===============\n",
      "Training data: 12073 single stars and 9728 blended stars\n",
      "Testing data: 3036 single stars and 2415 blended stars\n",
      "Running Classifier on norm_2csv\n"
     ]
    },
    {
     "name": "stderr",
     "output_type": "stream",
     "text": []
    },
    {
     "name": "stdout",
     "output_type": "stream",
     "text": [
      "Total accuracy for norm_2csv : 82.058 %\n",
      "===============  norm_2csv  ===============\n",
      "Training data: 12073 single stars and 9728 blended stars\n",
      "Testing data: 3036 single stars and 2415 blended stars\n",
      "Running Classifier on norm_2csv\n"
     ]
    },
    {
     "name": "stderr",
     "output_type": "stream",
     "text": []
    },
    {
     "name": "stdout",
     "output_type": "stream",
     "text": [
      "Total accuracy for norm_2csv : 82.113 %\n",
      "===============  norm_2csv  ===============\n",
      "Training data: 12073 single stars and 9728 blended stars\n",
      "Testing data: 3036 single stars and 2415 blended stars\n",
      "Running Classifier on norm_2csv\n"
     ]
    },
    {
     "name": "stderr",
     "output_type": "stream",
     "text": []
    },
    {
     "name": "stdout",
     "output_type": "stream",
     "text": [
      "Total accuracy for norm_2csv : 81.875 %\n",
      "===============  norm_2csv  ===============\n",
      "Training data: 12073 single stars and 9728 blended stars\n",
      "Testing data: 3036 single stars and 2415 blended stars\n",
      "Running Classifier on norm_2csv\n"
     ]
    },
    {
     "name": "stderr",
     "output_type": "stream",
     "text": []
    },
    {
     "name": "stdout",
     "output_type": "stream",
     "text": [
      "Total accuracy for norm_2csv : 81.765 %\n",
      "===============  norm_2csv  ===============\n",
      "Training data: 12073 single stars and 9728 blended stars\n",
      "Testing data: 3036 single stars and 2415 blended stars\n",
      "Running Classifier on norm_2csv\n"
     ]
    },
    {
     "name": "stderr",
     "output_type": "stream",
     "text": [
      "100%|██████████| 8/8 [00:15<00:00,  1.96s/it]\n",
      " 38%|███▊      | 3/8 [00:37<01:05, 13.08s/it]"
     ]
    },
    {
     "name": "stdout",
     "output_type": "stream",
     "text": [
      "Total accuracy for norm_2csv : 81.93 %\n"
     ]
    },
    {
     "name": "stderr",
     "output_type": "stream",
     "text": []
    },
    {
     "name": "stdout",
     "output_type": "stream",
     "text": [
      "===============  norm_2csv  ===============\n",
      "Training data: 12073 single stars and 9728 blended stars\n",
      "Testing data: 3036 single stars and 2415 blended stars\n",
      "Running Classifier on norm_2csv\n"
     ]
    },
    {
     "name": "stderr",
     "output_type": "stream",
     "text": []
    },
    {
     "name": "stdout",
     "output_type": "stream",
     "text": [
      "Total accuracy for norm_2csv : 82.499 %\n",
      "===============  norm_2csv  ===============\n",
      "Training data: 12073 single stars and 9728 blended stars\n",
      "Testing data: 3036 single stars and 2415 blended stars\n",
      "Running Classifier on norm_2csv\n"
     ]
    },
    {
     "name": "stderr",
     "output_type": "stream",
     "text": []
    },
    {
     "name": "stdout",
     "output_type": "stream",
     "text": [
      "Total accuracy for norm_2csv : 81.691 %\n",
      "===============  norm_2csv  ===============\n",
      "Training data: 12073 single stars and 9728 blended stars\n",
      "Testing data: 3036 single stars and 2415 blended stars\n",
      "Running Classifier on norm_2csv\n"
     ]
    },
    {
     "name": "stderr",
     "output_type": "stream",
     "text": []
    },
    {
     "name": "stdout",
     "output_type": "stream",
     "text": [
      "Total accuracy for norm_2csv : 82.315 %\n",
      "===============  norm_2csv  ===============\n",
      "Training data: 12073 single stars and 9728 blended stars\n",
      "Testing data: 3036 single stars and 2415 blended stars\n",
      "Running Classifier on norm_2csv\n"
     ]
    },
    {
     "name": "stderr",
     "output_type": "stream",
     "text": []
    },
    {
     "name": "stdout",
     "output_type": "stream",
     "text": [
      "Total accuracy for norm_2csv : 82.003 %\n",
      "===============  norm_2csv  ===============\n",
      "Training data: 12073 single stars and 9728 blended stars\n",
      "Testing data: 3036 single stars and 2415 blended stars\n",
      "Running Classifier on norm_2csv\n"
     ]
    },
    {
     "name": "stderr",
     "output_type": "stream",
     "text": []
    },
    {
     "name": "stdout",
     "output_type": "stream",
     "text": [
      "Total accuracy for norm_2csv : 82.058 %\n",
      "===============  norm_2csv  ===============\n",
      "Training data: 12073 single stars and 9728 blended stars\n",
      "Testing data: 3036 single stars and 2415 blended stars\n",
      "Running Classifier on norm_2csv\n"
     ]
    },
    {
     "name": "stderr",
     "output_type": "stream",
     "text": []
    },
    {
     "name": "stdout",
     "output_type": "stream",
     "text": [
      "Total accuracy for norm_2csv : 82.077 %\n",
      "===============  norm_2csv  ===============\n",
      "Training data: 12073 single stars and 9728 blended stars\n",
      "Testing data: 3036 single stars and 2415 blended stars\n",
      "Running Classifier on norm_2csv\n"
     ]
    },
    {
     "name": "stderr",
     "output_type": "stream",
     "text": []
    },
    {
     "name": "stdout",
     "output_type": "stream",
     "text": [
      "Total accuracy for norm_2csv : 82.132 %\n",
      "===============  norm_2csv  ===============\n",
      "Training data: 12073 single stars and 9728 blended stars\n",
      "Testing data: 3036 single stars and 2415 blended stars\n",
      "Running Classifier on norm_2csv\n"
     ]
    },
    {
     "name": "stderr",
     "output_type": "stream",
     "text": [
      "100%|██████████| 8/8 [00:19<00:00,  2.38s/it]\n",
      " 50%|█████     | 4/8 [00:56<01:01, 15.42s/it]"
     ]
    },
    {
     "name": "stdout",
     "output_type": "stream",
     "text": [
      "Total accuracy for norm_2csv : 81.765 %\n"
     ]
    },
    {
     "name": "stderr",
     "output_type": "stream",
     "text": []
    },
    {
     "name": "stdout",
     "output_type": "stream",
     "text": [
      "===============  norm_2csv  ===============\n",
      "Training data: 12073 single stars and 9728 blended stars\n",
      "Testing data: 3036 single stars and 2415 blended stars\n",
      "Running Classifier on norm_2csv\n"
     ]
    },
    {
     "name": "stderr",
     "output_type": "stream",
     "text": []
    },
    {
     "name": "stdout",
     "output_type": "stream",
     "text": [
      "Total accuracy for norm_2csv : 82.168 %\n",
      "===============  norm_2csv  ===============\n",
      "Training data: 12073 single stars and 9728 blended stars\n",
      "Testing data: 3036 single stars and 2415 blended stars\n",
      "Running Classifier on norm_2csv\n"
     ]
    },
    {
     "name": "stderr",
     "output_type": "stream",
     "text": []
    },
    {
     "name": "stdout",
     "output_type": "stream",
     "text": [
      "Total accuracy for norm_2csv : 82.554 %\n",
      "===============  norm_2csv  ===============\n",
      "Training data: 12073 single stars and 9728 blended stars\n",
      "Testing data: 3036 single stars and 2415 blended stars\n",
      "Running Classifier on norm_2csv\n"
     ]
    },
    {
     "name": "stderr",
     "output_type": "stream",
     "text": []
    },
    {
     "name": "stdout",
     "output_type": "stream",
     "text": [
      "Total accuracy for norm_2csv : 82.921 %\n",
      "===============  norm_2csv  ===============\n",
      "Training data: 12073 single stars and 9728 blended stars\n",
      "Testing data: 3036 single stars and 2415 blended stars\n",
      "Running Classifier on norm_2csv\n"
     ]
    },
    {
     "name": "stderr",
     "output_type": "stream",
     "text": []
    },
    {
     "name": "stdout",
     "output_type": "stream",
     "text": [
      "Total accuracy for norm_2csv : 82.205 %\n",
      "===============  norm_2csv  ===============\n",
      "Training data: 12073 single stars and 9728 blended stars\n",
      "Testing data: 3036 single stars and 2415 blended stars\n",
      "Running Classifier on norm_2csv\n"
     ]
    },
    {
     "name": "stderr",
     "output_type": "stream",
     "text": []
    },
    {
     "name": "stdout",
     "output_type": "stream",
     "text": [
      "Total accuracy for norm_2csv : 82.022 %\n",
      "===============  norm_2csv  ===============\n",
      "Training data: 12073 single stars and 9728 blended stars\n",
      "Testing data: 3036 single stars and 2415 blended stars\n",
      "Running Classifier on norm_2csv\n"
     ]
    },
    {
     "name": "stderr",
     "output_type": "stream",
     "text": []
    },
    {
     "name": "stdout",
     "output_type": "stream",
     "text": [
      "Total accuracy for norm_2csv : 82.572 %\n",
      "===============  norm_2csv  ===============\n",
      "Training data: 12073 single stars and 9728 blended stars\n",
      "Testing data: 3036 single stars and 2415 blended stars\n",
      "Running Classifier on norm_2csv\n"
     ]
    },
    {
     "name": "stderr",
     "output_type": "stream",
     "text": []
    },
    {
     "name": "stdout",
     "output_type": "stream",
     "text": [
      "Total accuracy for norm_2csv : 82.407 %\n",
      "===============  norm_2csv  ===============\n",
      "Training data: 12073 single stars and 9728 blended stars\n",
      "Testing data: 3036 single stars and 2415 blended stars\n",
      "Running Classifier on norm_2csv\n"
     ]
    },
    {
     "name": "stderr",
     "output_type": "stream",
     "text": [
      "100%|██████████| 8/8 [00:25<00:00,  3.14s/it]\n",
      " 62%|██████▎   | 5/8 [01:21<00:56, 18.91s/it]"
     ]
    },
    {
     "name": "stdout",
     "output_type": "stream",
     "text": [
      "Total accuracy for norm_2csv : 82.499 %\n"
     ]
    },
    {
     "name": "stderr",
     "output_type": "stream",
     "text": []
    },
    {
     "name": "stdout",
     "output_type": "stream",
     "text": [
      "===============  norm_2csv  ===============\n",
      "Training data: 12073 single stars and 9728 blended stars\n",
      "Testing data: 3036 single stars and 2415 blended stars\n",
      "Running Classifier on norm_2csv\n"
     ]
    },
    {
     "name": "stderr",
     "output_type": "stream",
     "text": []
    },
    {
     "name": "stdout",
     "output_type": "stream",
     "text": [
      "Total accuracy for norm_2csv : 82.829 %\n",
      "===============  norm_2csv  ===============\n",
      "Training data: 12073 single stars and 9728 blended stars\n",
      "Testing data: 3036 single stars and 2415 blended stars\n",
      "Running Classifier on norm_2csv\n"
     ]
    },
    {
     "name": "stderr",
     "output_type": "stream",
     "text": []
    },
    {
     "name": "stdout",
     "output_type": "stream",
     "text": [
      "Total accuracy for norm_2csv : 82.223 %\n",
      "===============  norm_2csv  ===============\n",
      "Training data: 12073 single stars and 9728 blended stars\n",
      "Testing data: 3036 single stars and 2415 blended stars\n",
      "Running Classifier on norm_2csv\n"
     ]
    },
    {
     "name": "stderr",
     "output_type": "stream",
     "text": []
    },
    {
     "name": "stdout",
     "output_type": "stream",
     "text": [
      "Total accuracy for norm_2csv : 83.049 %\n",
      "===============  norm_2csv  ===============\n",
      "Training data: 12073 single stars and 9728 blended stars\n",
      "Testing data: 3036 single stars and 2415 blended stars\n",
      "Running Classifier on norm_2csv\n"
     ]
    },
    {
     "name": "stderr",
     "output_type": "stream",
     "text": []
    },
    {
     "name": "stdout",
     "output_type": "stream",
     "text": [
      "Total accuracy for norm_2csv : 82.902 %\n",
      "===============  norm_2csv  ===============\n",
      "Training data: 12073 single stars and 9728 blended stars\n",
      "Testing data: 3036 single stars and 2415 blended stars\n",
      "Running Classifier on norm_2csv\n"
     ]
    },
    {
     "name": "stderr",
     "output_type": "stream",
     "text": []
    },
    {
     "name": "stdout",
     "output_type": "stream",
     "text": [
      "Total accuracy for norm_2csv : 82.737 %\n",
      "===============  norm_2csv  ===============\n",
      "Training data: 12073 single stars and 9728 blended stars\n",
      "Testing data: 3036 single stars and 2415 blended stars\n",
      "Running Classifier on norm_2csv\n"
     ]
    },
    {
     "name": "stderr",
     "output_type": "stream",
     "text": []
    },
    {
     "name": "stdout",
     "output_type": "stream",
     "text": [
      "Total accuracy for norm_2csv : 82.7 %\n",
      "===============  norm_2csv  ===============\n",
      "Training data: 12073 single stars and 9728 blended stars\n",
      "Testing data: 3036 single stars and 2415 blended stars\n",
      "Running Classifier on norm_2csv\n"
     ]
    },
    {
     "name": "stderr",
     "output_type": "stream",
     "text": []
    },
    {
     "name": "stdout",
     "output_type": "stream",
     "text": [
      "Total accuracy for norm_2csv : 82.664 %\n",
      "===============  norm_2csv  ===============\n",
      "Training data: 12073 single stars and 9728 blended stars\n",
      "Testing data: 3036 single stars and 2415 blended stars\n",
      "Running Classifier on norm_2csv\n"
     ]
    },
    {
     "name": "stderr",
     "output_type": "stream",
     "text": [
      "100%|██████████| 8/8 [00:31<00:00,  3.97s/it]\n",
      " 75%|███████▌  | 6/8 [01:52<00:46, 23.27s/it]"
     ]
    },
    {
     "name": "stdout",
     "output_type": "stream",
     "text": [
      "Total accuracy for norm_2csv : 82.682 %\n"
     ]
    },
    {
     "name": "stderr",
     "output_type": "stream",
     "text": []
    },
    {
     "name": "stdout",
     "output_type": "stream",
     "text": [
      "===============  norm_2csv  ===============\n",
      "Training data: 12073 single stars and 9728 blended stars\n",
      "Testing data: 3036 single stars and 2415 blended stars\n",
      "Running Classifier on norm_2csv\n"
     ]
    },
    {
     "name": "stderr",
     "output_type": "stream",
     "text": []
    },
    {
     "name": "stdout",
     "output_type": "stream",
     "text": [
      "Total accuracy for norm_2csv : 82.37 %\n",
      "===============  norm_2csv  ===============\n",
      "Training data: 12073 single stars and 9728 blended stars\n",
      "Testing data: 3036 single stars and 2415 blended stars\n",
      "Running Classifier on norm_2csv\n"
     ]
    },
    {
     "name": "stderr",
     "output_type": "stream",
     "text": []
    },
    {
     "name": "stdout",
     "output_type": "stream",
     "text": [
      "Total accuracy for norm_2csv : 82.719 %\n",
      "===============  norm_2csv  ===============\n",
      "Training data: 12073 single stars and 9728 blended stars\n",
      "Testing data: 3036 single stars and 2415 blended stars\n",
      "Running Classifier on norm_2csv\n"
     ]
    },
    {
     "name": "stderr",
     "output_type": "stream",
     "text": []
    },
    {
     "name": "stdout",
     "output_type": "stream",
     "text": [
      "Total accuracy for norm_2csv : 82.37 %\n",
      "===============  norm_2csv  ===============\n",
      "Training data: 12073 single stars and 9728 blended stars\n",
      "Testing data: 3036 single stars and 2415 blended stars\n",
      "Running Classifier on norm_2csv\n"
     ]
    },
    {
     "name": "stderr",
     "output_type": "stream",
     "text": []
    },
    {
     "name": "stdout",
     "output_type": "stream",
     "text": [
      "Total accuracy for norm_2csv : 82.407 %\n",
      "===============  norm_2csv  ===============\n",
      "Training data: 12073 single stars and 9728 blended stars\n",
      "Testing data: 3036 single stars and 2415 blended stars\n",
      "Running Classifier on norm_2csv\n"
     ]
    },
    {
     "name": "stderr",
     "output_type": "stream",
     "text": []
    },
    {
     "name": "stdout",
     "output_type": "stream",
     "text": [
      "Total accuracy for norm_2csv : 82.737 %\n",
      "===============  norm_2csv  ===============\n",
      "Training data: 12073 single stars and 9728 blended stars\n",
      "Testing data: 3036 single stars and 2415 blended stars\n",
      "Running Classifier on norm_2csv\n"
     ]
    },
    {
     "name": "stderr",
     "output_type": "stream",
     "text": []
    },
    {
     "name": "stdout",
     "output_type": "stream",
     "text": [
      "Total accuracy for norm_2csv : 82.774 %\n",
      "===============  norm_2csv  ===============\n",
      "Training data: 12073 single stars and 9728 blended stars\n",
      "Testing data: 3036 single stars and 2415 blended stars\n",
      "Running Classifier on norm_2csv\n"
     ]
    },
    {
     "name": "stderr",
     "output_type": "stream",
     "text": []
    },
    {
     "name": "stdout",
     "output_type": "stream",
     "text": [
      "Total accuracy for norm_2csv : 82.81 %\n",
      "===============  norm_2csv  ===============\n",
      "Training data: 12073 single stars and 9728 blended stars\n",
      "Testing data: 3036 single stars and 2415 blended stars\n",
      "Running Classifier on norm_2csv\n"
     ]
    },
    {
     "name": "stderr",
     "output_type": "stream",
     "text": [
      "100%|██████████| 8/8 [00:39<00:00,  4.94s/it]\n",
      " 88%|████████▊ | 7/8 [02:32<00:28, 28.59s/it]"
     ]
    },
    {
     "name": "stdout",
     "output_type": "stream",
     "text": [
      "Total accuracy for norm_2csv : 82.737 %\n"
     ]
    },
    {
     "name": "stderr",
     "output_type": "stream",
     "text": []
    },
    {
     "name": "stdout",
     "output_type": "stream",
     "text": [
      "===============  norm_2csv  ===============\n",
      "Training data: 12073 single stars and 9728 blended stars\n",
      "Testing data: 3036 single stars and 2415 blended stars\n",
      "Running Classifier on norm_2csv\n"
     ]
    },
    {
     "name": "stderr",
     "output_type": "stream",
     "text": []
    },
    {
     "name": "stdout",
     "output_type": "stream",
     "text": [
      "Total accuracy for norm_2csv : 82.902 %\n",
      "===============  norm_2csv  ===============\n",
      "Training data: 12073 single stars and 9728 blended stars\n",
      "Testing data: 3036 single stars and 2415 blended stars\n",
      "Running Classifier on norm_2csv\n"
     ]
    },
    {
     "name": "stderr",
     "output_type": "stream",
     "text": []
    },
    {
     "name": "stdout",
     "output_type": "stream",
     "text": [
      "Total accuracy for norm_2csv : 82.297 %\n",
      "===============  norm_2csv  ===============\n",
      "Training data: 12073 single stars and 9728 blended stars\n",
      "Testing data: 3036 single stars and 2415 blended stars\n",
      "Running Classifier on norm_2csv\n",
      "\u001b[91mData point [100.] is not unique. 1 duplicates registered. Continuing ...\u001b[0m\n",
      "\u001b[91mData point [100.] is not unique. 2 duplicates registered. Continuing ...\u001b[0m\n",
      "\u001b[91mData point [100.] is not unique. 3 duplicates registered. Continuing ...\u001b[0m\n",
      "\u001b[91mData point [100.] is not unique. 4 duplicates registered. Continuing ...\u001b[0m\n"
     ]
    },
    {
     "name": "stderr",
     "output_type": "stream",
     "text": []
    },
    {
     "name": "stdout",
     "output_type": "stream",
     "text": [
      "Total accuracy for norm_2csv : 82.37 %\n",
      "===============  norm_2csv  ===============\n",
      "Training data: 12073 single stars and 9728 blended stars\n",
      "Testing data: 3036 single stars and 2415 blended stars\n",
      "Running Classifier on norm_2csv\n"
     ]
    },
    {
     "name": "stderr",
     "output_type": "stream",
     "text": []
    },
    {
     "name": "stdout",
     "output_type": "stream",
     "text": [
      "Total accuracy for norm_2csv : 82.921 %\n",
      "===============  norm_2csv  ===============\n",
      "Training data: 12073 single stars and 9728 blended stars\n",
      "Testing data: 3036 single stars and 2415 blended stars\n",
      "Running Classifier on norm_2csv\n"
     ]
    },
    {
     "name": "stderr",
     "output_type": "stream",
     "text": []
    },
    {
     "name": "stdout",
     "output_type": "stream",
     "text": [
      "Total accuracy for norm_2csv : 82.957 %\n",
      "===============  norm_2csv  ===============\n",
      "Training data: 12073 single stars and 9728 blended stars\n",
      "Testing data: 3036 single stars and 2415 blended stars\n",
      "Running Classifier on norm_2csv\n"
     ]
    },
    {
     "name": "stderr",
     "output_type": "stream",
     "text": []
    },
    {
     "name": "stdout",
     "output_type": "stream",
     "text": [
      "Total accuracy for norm_2csv : 82.902 %\n",
      "===============  norm_2csv  ===============\n",
      "Training data: 12073 single stars and 9728 blended stars\n",
      "Testing data: 3036 single stars and 2415 blended stars\n",
      "Running Classifier on norm_2csv\n"
     ]
    },
    {
     "name": "stderr",
     "output_type": "stream",
     "text": []
    },
    {
     "name": "stdout",
     "output_type": "stream",
     "text": [
      "Total accuracy for norm_2csv : 82.884 %\n",
      "===============  norm_2csv  ===============\n",
      "Training data: 12073 single stars and 9728 blended stars\n",
      "Testing data: 3036 single stars and 2415 blended stars\n",
      "Running Classifier on norm_2csv\n"
     ]
    },
    {
     "name": "stderr",
     "output_type": "stream",
     "text": [
      "100%|██████████| 8/8 [00:50<00:00,  6.28s/it]\n",
      "100%|██████████| 8/8 [03:22<00:00, 25.34s/it]"
     ]
    },
    {
     "name": "stdout",
     "output_type": "stream",
     "text": [
      "Total accuracy for norm_2csv : 82.81 %\n",
      "Total time taken for Hyperparameter Optimization:  3.3789038850499007 minutes\n"
     ]
    },
    {
     "name": "stderr",
     "output_type": "stream",
     "text": [
      "\n"
     ]
    }
   ],
   "source": [
    "now = perf_counter()\n",
    "accuracies = {name: [] for name in nn_counts}\n",
    "\n",
    "for nn in tqdm(nn_counts):\n",
    "    for batch in tqdm(batch_counts):\n",
    "        for path in norm_data_names:\n",
    "            path1 = '../../data/data-norm/max-only/' + path\n",
    "            data = pd.read_csv(path1,na_values='-')\n",
    "            data.fillna(0,inplace=True)\n",
    "            data_label = ''.join(path.split('.')[:2])\n",
    "            truth_labels = data.iloc[:, 0].values\n",
    "            image_data = data.iloc[:, 1:].values\n",
    "\n",
    "            X_train, X_test, y_train, y_test = train_test_split(image_data, truth_labels, test_size=0.2, random_state=42)\n",
    "\n",
    "            print(\"=============== \", data_label, \" ===============\")\n",
    "            print('Training data:', len(y_train[y_train==0]), 'single stars and', len(y_train[y_train==1]), 'blended stars')\n",
    "            print('Testing data:', len(y_test[y_test==0]), 'single stars and', len(y_test[y_test==1]), 'blended stars')\n",
    "\n",
    "            onehot_train, onehot_test = generate_onehot_value(y_train), generate_onehot_value(y_test)\n",
    "\n",
    "            train = {'input': X_train, 'output': onehot_train, 'lookup': y_train}\n",
    "            test = {'input': X_test, 'output': onehot_test, 'lookup': y_test}\n",
    "\n",
    "            print(\"Running Classifier on\", data_label)\n",
    "            #Switch verbose to True for more output\n",
    "\n",
    "\n",
    "            muygps, nbrs_lookup, surrogate_predictions = do_classify(\n",
    "                                        test_features=np.array(test['input']), \n",
    "                                        train_features=np.array(train['input']), \n",
    "                                        train_labels=np.array(train['output']), \n",
    "                                        nn_count=nn,\n",
    "                                        batch_count=batch,\n",
    "                                        loss_fn=cross_entropy_fn,\n",
    "                                        opt_fn=Bayes_optimize,\n",
    "                                        k_kwargs=k_kwargs_mattern,\n",
    "                                        nn_kwargs=nn_kwargs_hnsw,\n",
    "                                        verbose=False)\n",
    "            predicted_labels = np.argmax(surrogate_predictions, axis=1)\n",
    "            accur = np.around((np.sum(predicted_labels == np.argmax(test[\"output\"], axis=1))/len(predicted_labels))*100, 3),\n",
    "            accuracies[nn].append(accur[0])\n",
    "            print(\"Total accuracy for\", data_label, \":\", accur[0], '%')\n",
    "\n",
    "my_accuracies = pd.DataFrame(accuracies, index=batch_counts)\n",
    "my_accuracies.to_csv('accuracies-nn-batch-counts.csv')\n",
    "end = perf_counter()\n",
    "print(\"Total time taken for Hyperparameter Optimization: \", (end-now)/60, \"minutes\")"
   ]
  },
  {
   "cell_type": "code",
   "execution_count": 8,
   "metadata": {},
   "outputs": [
    {
     "data": {
      "text/html": [
       "<div>\n",
       "<style scoped>\n",
       "    .dataframe tbody tr th:only-of-type {\n",
       "        vertical-align: middle;\n",
       "    }\n",
       "\n",
       "    .dataframe tbody tr th {\n",
       "        vertical-align: top;\n",
       "    }\n",
       "\n",
       "    .dataframe thead th {\n",
       "        text-align: right;\n",
       "    }\n",
       "</style>\n",
       "<table border=\"1\" class=\"dataframe\">\n",
       "  <thead>\n",
       "    <tr style=\"text-align: right;\">\n",
       "      <th></th>\n",
       "      <th>5</th>\n",
       "      <th>10</th>\n",
       "      <th>15</th>\n",
       "      <th>20</th>\n",
       "      <th>25</th>\n",
       "      <th>30</th>\n",
       "      <th>35</th>\n",
       "      <th>40</th>\n",
       "    </tr>\n",
       "  </thead>\n",
       "  <tbody>\n",
       "    <tr>\n",
       "      <th>5</th>\n",
       "      <td>79.563</td>\n",
       "      <td>81.141</td>\n",
       "      <td>81.545</td>\n",
       "      <td>82.499</td>\n",
       "      <td>82.168</td>\n",
       "      <td>82.829</td>\n",
       "      <td>82.370</td>\n",
       "      <td>82.902</td>\n",
       "    </tr>\n",
       "    <tr>\n",
       "      <th>10</th>\n",
       "      <td>79.527</td>\n",
       "      <td>81.031</td>\n",
       "      <td>81.820</td>\n",
       "      <td>81.691</td>\n",
       "      <td>82.554</td>\n",
       "      <td>82.223</td>\n",
       "      <td>82.719</td>\n",
       "      <td>82.297</td>\n",
       "    </tr>\n",
       "    <tr>\n",
       "      <th>20</th>\n",
       "      <td>79.582</td>\n",
       "      <td>81.343</td>\n",
       "      <td>81.618</td>\n",
       "      <td>82.315</td>\n",
       "      <td>82.921</td>\n",
       "      <td>83.049</td>\n",
       "      <td>82.370</td>\n",
       "      <td>82.370</td>\n",
       "    </tr>\n",
       "    <tr>\n",
       "      <th>40</th>\n",
       "      <td>79.747</td>\n",
       "      <td>81.490</td>\n",
       "      <td>82.058</td>\n",
       "      <td>82.003</td>\n",
       "      <td>82.205</td>\n",
       "      <td>82.902</td>\n",
       "      <td>82.407</td>\n",
       "      <td>82.921</td>\n",
       "    </tr>\n",
       "    <tr>\n",
       "      <th>80</th>\n",
       "      <td>77.839</td>\n",
       "      <td>81.490</td>\n",
       "      <td>82.113</td>\n",
       "      <td>82.058</td>\n",
       "      <td>82.022</td>\n",
       "      <td>82.737</td>\n",
       "      <td>82.737</td>\n",
       "      <td>82.957</td>\n",
       "    </tr>\n",
       "    <tr>\n",
       "      <th>160</th>\n",
       "      <td>79.784</td>\n",
       "      <td>81.490</td>\n",
       "      <td>81.875</td>\n",
       "      <td>82.077</td>\n",
       "      <td>82.572</td>\n",
       "      <td>82.700</td>\n",
       "      <td>82.774</td>\n",
       "      <td>82.902</td>\n",
       "    </tr>\n",
       "    <tr>\n",
       "      <th>320</th>\n",
       "      <td>79.728</td>\n",
       "      <td>81.288</td>\n",
       "      <td>81.765</td>\n",
       "      <td>82.132</td>\n",
       "      <td>82.407</td>\n",
       "      <td>82.664</td>\n",
       "      <td>82.810</td>\n",
       "      <td>82.884</td>\n",
       "    </tr>\n",
       "    <tr>\n",
       "      <th>640</th>\n",
       "      <td>79.490</td>\n",
       "      <td>81.398</td>\n",
       "      <td>81.930</td>\n",
       "      <td>81.765</td>\n",
       "      <td>82.499</td>\n",
       "      <td>82.682</td>\n",
       "      <td>82.737</td>\n",
       "      <td>82.810</td>\n",
       "    </tr>\n",
       "  </tbody>\n",
       "</table>\n",
       "</div>"
      ],
      "text/plain": [
       "          5      10      15      20      25      30      35      40\n",
       "5    79.563  81.141  81.545  82.499  82.168  82.829  82.370  82.902\n",
       "10   79.527  81.031  81.820  81.691  82.554  82.223  82.719  82.297\n",
       "20   79.582  81.343  81.618  82.315  82.921  83.049  82.370  82.370\n",
       "40   79.747  81.490  82.058  82.003  82.205  82.902  82.407  82.921\n",
       "80   77.839  81.490  82.113  82.058  82.022  82.737  82.737  82.957\n",
       "160  79.784  81.490  81.875  82.077  82.572  82.700  82.774  82.902\n",
       "320  79.728  81.288  81.765  82.132  82.407  82.664  82.810  82.884\n",
       "640  79.490  81.398  81.930  81.765  82.499  82.682  82.737  82.810"
      ]
     },
     "execution_count": 8,
     "metadata": {},
     "output_type": "execute_result"
    }
   ],
   "source": [
    "results = pd.read_csv('accuracies-nn-batch-counts.csv', index_col=0)\n",
    "results\n"
   ]
  },
  {
   "cell_type": "code",
   "execution_count": 15,
   "metadata": {},
   "outputs": [
    {
     "data": {
      "image/png": "[encoded data removed]",
      "text/plain": [
       "<Figure size 640x480 with 1 Axes>"
      ]
     },
     "metadata": {},
     "output_type": "display_data"
    }
   ],
   "source": [
    "import random\n",
    "# list of matplotlib linestyles\n",
    "linestyles = ['-', '--', '-.', ':']\n",
    "# list of line markers\n",
    "markers = ['o', 'v', '^', 's', 'p', '*', '+', 'x']\n",
    "ncols = len(results.columns)\n",
    "for i in range(ncols):\n",
    "    plt.plot(results.iloc[:, i], marker=random.choice(markers), linestyle=random.choice(linestyles))\n",
    "\n",
    "# results.plot( marker='^', linestyle='--')\n",
    "plt.xlabel('Batch Count')\n",
    "plt.ylabel('Accuracy (%)')\n",
    "# plt.title('Accuracy vs Batch Count for Different NN Counts')\n",
    "plt.legend(title='Number of Nearest Neighbors', loc='lower right', labels=nn_counts)\n",
    "# position the title of the legend vertically\n",
    "plt.gcf().get_axes()[0].get_legend().get_title().set_rotation(90)\n",
    "# put the legend title on right side of legends\n",
    "plt.gcf().get_axes()[0].get_legend().get_title().set_ha('left')\n",
    "# move the legend to the right side\n",
    "plt.gcf().get_axes()[0].get_legend()._set_loc((1.01,-0.02))\n",
    "plt.savefig('batch_nn_counts_accuracy.png', dpi=300, bbox_inches='tight')\n"
   ]
  },
  {
   "cell_type": "code",
   "execution_count": 10,
   "metadata": {},
   "outputs": [],
   "source": [
    "# # list of matplotlib linestyles\n",
    "# linestyles = ['-', '--', '-.', ':']\n",
    "# # list of line markers\n",
    "# markers = ['o', 'v', '^', 's', 'p', '*', '+', 'x']"
   ]
  }
 ],
 "metadata": {
  "kernelspec": {
   "display_name": "muygps",
   "language": "python",
   "name": "python3"
  },
  "language_info": {
   "codemirror_mode": {
    "name": "ipython",
    "version": 3
   },
   "file_extension": ".py",
   "mimetype": "text/x-python",
   "name": "python",
   "nbconvert_exporter": "python",
   "pygments_lexer": "ipython3",
   "version": "3.8.18"
  }
 },
 "nbformat": 4,
 "nbformat_minor": 2
}
