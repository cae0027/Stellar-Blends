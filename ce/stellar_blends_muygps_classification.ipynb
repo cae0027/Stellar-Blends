{
 "cells": [
  {
   "cell_type": "markdown",
   "metadata": {},
   "source": [
    "# Stellar Blends Classification\n",
    "\n",
    "### In this notebook we run the un-normalized and normalized datasets through the MuyGPyS classifier (a python classifying function that uses the MuyGPS  Gaussian process hyperparameter estimation method), and compare the resulting accuracies.\n",
    "\n",
    "**Note:** Must have run `data_normalization.ipynb` to continue."
   ]
  },
  {
   "cell_type": "code",
   "execution_count": 1,
   "metadata": {},
   "outputs": [
    {
     "name": "stderr",
     "output_type": "stream",
     "text": [
      "/home/eleh/miniconda3/envs/muygps/lib/python3.8/site-packages/scipy/__init__.py:146: UserWarning: A NumPy version >=1.16.5 and <1.23.0 is required for this version of SciPy (detected version 1.24.3\n",
      "  warnings.warn(f\"A NumPy version >={np_minversion} and <{np_maxversion}\"\n",
      "No GPU/TPU found, falling back to CPU. (Set TF_CPP_MIN_LOG_LEVEL=0 and rerun for more info.)\n"
     ]
    }
   ],
   "source": [
    "# from MuyGPyS import config\n",
    "# config.update(\"muygpys_jax_enabled\", False)\n",
    "\n",
    "import numpy as np\n",
    "import pandas as pd\n",
    "import random\n",
    "from tqdm import tqdm\n",
    "import matplotlib.pyplot as plt\n",
    "from sklearn.model_selection import train_test_split\n",
    "\n",
    "from MuyGPyS.examples.classify import do_classify\n",
    "from MuyGPyS.gp.deformation import F2, Isotropy\n",
    "from MuyGPyS.gp.hyperparameter import Parameter, Parameter as ScalarParam\n",
    "from MuyGPyS.gp.kernels import RBF, Matern\n",
    "from MuyGPyS.gp.noise import HomoscedasticNoise\n",
    "from MuyGPyS.optimize import Bayes_optimize\n",
    "from MuyGPyS.optimize.loss import LossFn, cross_entropy_fn\n",
    "\n"
   ]
  },
  {
   "cell_type": "markdown",
   "metadata": {},
   "source": [
    "### Read in all flattened data (normalized and un-normalized):"
   ]
  },
  {
   "cell_type": "code",
   "execution_count": 2,
   "metadata": {},
   "outputs": [
    {
     "data": {
      "text/plain": [
       "['norm_1_data.csv', 'nthroot_0.5862_data.csv']"
      ]
     },
     "execution_count": 2,
     "metadata": {},
     "output_type": "execute_result"
    }
   ],
   "source": [
    "from glob import glob\n",
    "\n",
    "# read normalized data csv file names from the data directory\n",
    "norm_data_names = glob('../data/data-norm/*.csv')\n",
    "# get rid of \"../data/data-norm/\"\n",
    "norm_data_names = [name.split('/')[-1] for name in norm_data_names]\n",
    "norm_data_names[:2]"
   ]
  },
  {
   "cell_type": "code",
   "execution_count": 3,
   "metadata": {},
   "outputs": [
    {
     "data": {
      "text/plain": [
       "['nthroot_0.0_data.csv', 'nthroot_0.03448_data.csv']"
      ]
     },
     "execution_count": 3,
     "metadata": {},
     "output_type": "execute_result"
    }
   ],
   "source": [
    "# sort the names by their numbers\n",
    "norm_data_names.sort(key=lambda x: x.split('_')[1])\n",
    "norm_data_names[:2]"
   ]
  },
  {
   "cell_type": "markdown",
   "metadata": {},
   "source": [
    "### Define a function that generates \"one-hot\" values.\n",
    "\n",
    "This essentially just takes our truth labels of 0 and 1, and does the following conversions for use in the classifier:\n",
    "- 0 to [1., -1.]\n",
    "- 1 to [-1., 1.]"
   ]
  },
  {
   "cell_type": "code",
   "execution_count": 4,
   "metadata": {},
   "outputs": [],
   "source": [
    "def generate_onehot_value(values):\n",
    "    onehot = []\n",
    "    for val in values:\n",
    "        if val == 0:\n",
    "            onehot.append([1., -1.])\n",
    "        elif val == 1:\n",
    "            onehot.append([-1., 1.])\n",
    "    return onehot"
   ]
  },
  {
   "cell_type": "markdown",
   "metadata": {},
   "source": [
    "### Run the classifier on each dataset\n",
    "\n",
    "For each dataset (un-normalized and normalized) in `data_files`, this for loop does the following:\n",
    "- Separate labels from data\n",
    "- Split up data between training and testing\n",
    "    - `test_size` is the fraction of the data you want to use for testing, where 0.5 means half of the data is used for testing and half for training.\n",
    "    - `random_state` makes each dataset get trained and tested on the same number of stars and galaxies.\n",
    "- Gets the one-hot values for the testing and training labels\n",
    "- Gets `train` and `test` into the proper format for the classifier, a dictionary with the keys: \n",
    "    - 'input': \n",
    "    - 'output':\n",
    "    - 'lookup':\n",
    "- Does the classification (`do_classify`)\n",
    "- Computes the accuracy of the classifier for the given dataset, by compairing predicted labels to truth labels."
   ]
  },
  {
   "cell_type": "code",
   "execution_count": 5,
   "metadata": {},
   "outputs": [],
   "source": [
    "nn_kwargs_exact = {\"nn_method\": \"exact\", \"algorithm\": \"ball_tree\"}\n",
    "\n",
    "nn_kwargs_hnsw = {\"nn_method\": \"hnsw\"}\n",
    "\n",
    "k_kwargs_rbf ={\n",
    "            \"kernel\": RBF(\n",
    "                 deformation=Isotropy(\n",
    "                     metric=F2,\n",
    "                 length_scale=Parameter(1.0, (1e-2, 1e2)),\n",
    "                 ),\n",
    "            ),\n",
    "            \"noise\": HomoscedasticNoise(1e-5),\n",
    "            }\n",
    "k_kwargs_mattern= { \"kernel\": Matern(\n",
    "             smoothness=ScalarParam(0.5),\n",
    "             deformation=Isotropy(\n",
    "                 metric=F2,\n",
    "                 length_scale=Parameter(1.0, (1e-2, 1e2)),\n",
    "             ),\n",
    "         ),\n",
    "         \"noise\": HomoscedasticNoise(1e-5),\n",
    "         }"
   ]
  },
  {
   "cell_type": "code",
   "execution_count": null,
   "metadata": {},
   "outputs": [],
   "source": [
    "\n"
   ]
  },
  {
   "cell_type": "code",
   "execution_count": 6,
   "metadata": {},
   "outputs": [],
   "source": [
    "# for path in norm_data_names:\n",
    "#     path = '../data/data-norm/' + path\n",
    "#     data = pd.read_csv(path,na_values='-')\n",
    "#     data.fillna(0,inplace=True)\n",
    "#     data_label = 'Normalized {} {}'.format(*path.split('_')[:2])\n",
    "#     truth_labels = data.iloc[:, 0].values\n",
    "#     image_data = data.iloc[:, 1:].values\n",
    "\n",
    "#     X_train, X_test, y_train, y_test = train_test_split(image_data, truth_labels, test_size=0.2, random_state=42)\n",
    "\n",
    "#     print(\"=============== \", data_label, \" ===============\")\n",
    "#     print('Training data:', len(y_train[y_train==0]), 'single stars and', len(y_train[y_train==1]), 'blended stars')\n",
    "#     print('Testing data:', len(y_test[y_test==0]), 'single stars and', len(y_test[y_test==1]), 'blended stars')\n",
    "\n",
    "#     onehot_train, onehot_test = generate_onehot_value(y_train), generate_onehot_value(y_test)\n",
    "\n",
    "#     train = {'input': X_train, 'output': onehot_train, 'lookup': y_train}\n",
    "#     test = {'input': X_test, 'output': onehot_test, 'lookup': y_test}\n",
    "\n",
    "#     print(\"Running Classifier on\", data_label)\n",
    "#     #Switch verbose to True for more output\n",
    "\n",
    "\n",
    "#     muygps, nbrs_lookup, surrogate_predictions = do_classify(\n",
    "#                                 test_features=np.array(test['input']), \n",
    "#                                 train_features=np.array(train['input']), \n",
    "#                                 train_labels=np.array(train['output']), \n",
    "#                                 nn_count=30,\n",
    "#                                 batch_count=200,\n",
    "#                                 loss_fn=cross_entropy_fn,\n",
    "#                                 opt_fn=Bayes_optimize,\n",
    "#                                 k_kwargs=k_kwargs_mattern,\n",
    "#                                 nn_kwargs=nn_kwargs_hnsw,\n",
    "#                                 verbose=False)\n",
    "#     predicted_labels = np.argmax(surrogate_predictions, axis=1)\n",
    "#     print(\"Total accuracy for\", data_label, \":\", np.around((np.sum(predicted_labels == np.argmax(test[\"output\"], axis=1))/len(predicted_labels))*100, 3), '%')"
   ]
  },
  {
   "cell_type": "code",
   "execution_count": null,
   "metadata": {},
   "outputs": [],
   "source": []
  },
  {
   "cell_type": "markdown",
   "metadata": {},
   "source": [
    "<u>***Note:*** Each time you run the classifier will result in different accuracies.</u>"
   ]
  },
  {
   "cell_type": "markdown",
   "metadata": {},
   "source": [
    "### As you can see, all 5 normalization techniques do much better than the un-normalized data, with some performing better than others.\n",
    "\n",
    "### Things you can try, to see how they affect the classifier accuracy:\n",
    "- Play around with different values of `test_size`. What does testing on more or less data do?\n",
    "- Play around with different parameters that are passed to `do_classify`. Start with `nn_count` and `embed_dim`(For what those arguments are, and a full list of all of the arguments you can pass to do_classify, look at the function `do_classify` in `/MuyGPyS/examples/classify.py`).\n",
    "- Try generating more cutouts using `generating_ZTF_cutouts_from_ra_dec.ipynb`. How does having more testing and training data affects the classifier?\n",
    "- Play around with the parameters used to make the cutouts. What happens if you remove blend cuts? Can the classifier classify blends? What is you increase the seeing limit? Can the classifier classify images with bad atmoshperic quality?"
   ]
  },
  {
   "cell_type": "markdown",
   "metadata": {},
   "source": [
    "<hr style=\"border:2px solid gray\"> </hr>"
   ]
  },
  {
   "cell_type": "markdown",
   "metadata": {},
   "source": [
    "## <u>**Optional Step:**</u>\n",
    "### Running each dataset through the classifier multiple times, testing and training on varying amounts of data, different random states, and plotting the accuracy outcomes\n",
    "\n",
    "- Each time you run the following steps, you change:\n",
    "    - `test_size`: This is used in `train_test_split`, and changes the size of the testing and training datasets, which effects the accuracy of the classifier.\n",
    "    - `random_state`: This is used in `train_test_split`, and changes the ratio of how many stars-to-galaxies get tested on.\n",
    "- You can set how many times to run the classifier with varying test sizes and random states by setting `num_runs`, and you can manually change the test_size values by editing `test_size_values`."
   ]
  },
  {
   "cell_type": "code",
   "execution_count": 7,
   "metadata": {},
   "outputs": [],
   "source": [
    "test_size_values = [.2, .25, .33, .4, .5, .75]\n",
    "num_runs = 3"
   ]
  },
  {
   "cell_type": "code",
   "execution_count": 8,
   "metadata": {},
   "outputs": [],
   "source": [
    "def run_classifier(image_data, truth_labels, test_size, state):\n",
    "    X_train, X_test, y_train, y_test = train_test_split(image_data, truth_labels, test_size=test_size, random_state=state)\n",
    "    onehot_train, onehot_test = generate_onehot_value(y_train), generate_onehot_value(y_test)\n",
    "    train = {'input': X_train, 'output': onehot_train, 'lookup': y_train}\n",
    "    test = {'input': X_test, 'output': onehot_test, 'lookup': y_test}\n",
    "    #Switch verbose to True for more output\n",
    "    muygps, nbrs_lookup, surrogate_predictions= do_classify(\n",
    "                        test_features=np.array(test['input']),\n",
    "                        train_features=np.array(train['input']), \n",
    "                        train_labels=np.array(train['output']), \n",
    "                        nn_count=20,\n",
    "                        batch_count=200,\n",
    "                        loss_fn=cross_entropy_fn,\n",
    "                        opt_fn=Bayes_optimize,\n",
    "                        k_kwargs=k_kwargs_mattern,\n",
    "                        nn_kwargs=nn_kwargs_hnsw, \n",
    "                        verbose=False) \n",
    "    predicted_labels = np.argmax(surrogate_predictions, axis=1)\n",
    "    accuracy = (np.sum(predicted_labels == np.argmax(test[\"output\"], axis=1))/len(predicted_labels))*100\n",
    "    return accuracy"
   ]
  },
  {
   "cell_type": "code",
   "execution_count": 9,
   "metadata": {
    "scrolled": false
   },
   "outputs": [
    {
     "name": "stderr",
     "output_type": "stream",
     "text": [
      "Running classifier:   5%|▌         | 38/720 [02:01<36:41,  3.23s/it]"
     ]
    },
    {
     "name": "stdout",
     "output_type": "stream",
     "text": [
      "\u001b[91mData point [0.01] is not unique. 1 duplicates registered. Continuing ...\u001b[0m\n",
      "\u001b[91mData point [0.01] is not unique. 2 duplicates registered. Continuing ...\u001b[0m\n",
      "\u001b[91mData point [0.01] is not unique. 3 duplicates registered. Continuing ...\u001b[0m\n",
      "\u001b[91mData point [0.01] is not unique. 4 duplicates registered. Continuing ...\u001b[0m\n",
      "\u001b[91mData point [0.01] is not unique. 5 duplicates registered. Continuing ...\u001b[0m\n",
      "\u001b[91mData point [0.01] is not unique. 6 duplicates registered. Continuing ...\u001b[0m\n",
      "\u001b[91mData point [0.01] is not unique. 7 duplicates registered. Continuing ...\u001b[0m\n",
      "\u001b[91mData point [0.01] is not unique. 8 duplicates registered. Continuing ...\u001b[0m\n",
      "\u001b[91mData point [0.01] is not unique. 9 duplicates registered. Continuing ...\u001b[0m\n",
      "\u001b[91mData point [0.01] is not unique. 10 duplicates registered. Continuing ...\u001b[0m\n",
      "\u001b[91mData point [0.01] is not unique. 11 duplicates registered. Continuing ...\u001b[0m\n",
      "\u001b[91mData point [0.01] is not unique. 12 duplicates registered. Continuing ...\u001b[0m\n",
      "\u001b[91mData point [0.01] is not unique. 13 duplicates registered. Continuing ...\u001b[0m\n",
      "\u001b[91mData point [0.01] is not unique. 14 duplicates registered. Continuing ...\u001b[0m\n",
      "\u001b[91mData point [0.01] is not unique. 15 duplicates registered. Continuing ...\u001b[0m\n",
      "\u001b[91mData point [0.01] is not unique. 16 duplicates registered. Continuing ...\u001b[0m\n",
      "\u001b[91mData point [0.01] is not unique. 17 duplicates registered. Continuing ...\u001b[0m\n"
     ]
    },
    {
     "name": "stderr",
     "output_type": "stream",
     "text": [
      "Running classifier:  17%|█▋        | 124/720 [06:55<41:01,  4.13s/it]"
     ]
    },
    {
     "name": "stdout",
     "output_type": "stream",
     "text": [
      "\u001b[91mData point [100.] is not unique. 1 duplicates registered. Continuing ...\u001b[0m\n",
      "\u001b[91mData point [100.] is not unique. 2 duplicates registered. Continuing ...\u001b[0m\n",
      "\u001b[91mData point [100.] is not unique. 3 duplicates registered. Continuing ...\u001b[0m\n",
      "\u001b[91mData point [100.] is not unique. 4 duplicates registered. Continuing ...\u001b[0m\n",
      "\u001b[91mData point [100.] is not unique. 5 duplicates registered. Continuing ...\u001b[0m\n",
      "\u001b[91mData point [100.] is not unique. 6 duplicates registered. Continuing ...\u001b[0m\n",
      "\u001b[91mData point [100.] is not unique. 7 duplicates registered. Continuing ...\u001b[0m\n",
      "\u001b[91mData point [100.] is not unique. 8 duplicates registered. Continuing ...\u001b[0m\n",
      "\u001b[91mData point [100.] is not unique. 9 duplicates registered. Continuing ...\u001b[0m\n",
      "\u001b[91mData point [100.] is not unique. 10 duplicates registered. Continuing ...\u001b[0m\n",
      "\u001b[91mData point [100.] is not unique. 11 duplicates registered. Continuing ...\u001b[0m\n",
      "\u001b[91mData point [100.] is not unique. 12 duplicates registered. Continuing ...\u001b[0m\n",
      "\u001b[91mData point [100.] is not unique. 13 duplicates registered. Continuing ...\u001b[0m\n",
      "\u001b[91mData point [100.] is not unique. 14 duplicates registered. Continuing ...\u001b[0m\n",
      "\u001b[91mData point [100.] is not unique. 15 duplicates registered. Continuing ...\u001b[0m\n",
      "\u001b[91mData point [100.] is not unique. 16 duplicates registered. Continuing ...\u001b[0m\n",
      "\u001b[91mData point [100.] is not unique. 17 duplicates registered. Continuing ...\u001b[0m\n"
     ]
    },
    {
     "name": "stderr",
     "output_type": "stream",
     "text": [
      "Running classifier:  17%|█▋        | 125/720 [06:59<42:07,  4.25s/it]"
     ]
    },
    {
     "name": "stdout",
     "output_type": "stream",
     "text": [
      "\u001b[91mData point [100.] is not unique. 1 duplicates registered. Continuing ...\u001b[0m\n",
      "\u001b[91mData point [100.] is not unique. 2 duplicates registered. Continuing ...\u001b[0m\n",
      "\u001b[91mData point [100.] is not unique. 3 duplicates registered. Continuing ...\u001b[0m\n",
      "\u001b[91mData point [100.] is not unique. 4 duplicates registered. Continuing ...\u001b[0m\n",
      "\u001b[91mData point [100.] is not unique. 5 duplicates registered. Continuing ...\u001b[0m\n",
      "\u001b[91mData point [100.] is not unique. 6 duplicates registered. Continuing ...\u001b[0m\n",
      "\u001b[91mData point [100.] is not unique. 7 duplicates registered. Continuing ...\u001b[0m\n",
      "\u001b[91mData point [100.] is not unique. 8 duplicates registered. Continuing ...\u001b[0m\n",
      "\u001b[91mData point [100.] is not unique. 9 duplicates registered. Continuing ...\u001b[0m\n",
      "\u001b[91mData point [100.] is not unique. 10 duplicates registered. Continuing ...\u001b[0m\n",
      "\u001b[91mData point [100.] is not unique. 11 duplicates registered. Continuing ...\u001b[0m\n",
      "\u001b[91mData point [100.] is not unique. 12 duplicates registered. Continuing ...\u001b[0m\n"
     ]
    },
    {
     "name": "stderr",
     "output_type": "stream",
     "text": [
      "Running classifier:  18%|█▊        | 128/720 [07:09<35:18,  3.58s/it]"
     ]
    },
    {
     "name": "stdout",
     "output_type": "stream",
     "text": [
      "\u001b[91mData point [0.01] is not unique. 1 duplicates registered. Continuing ...\u001b[0m\n"
     ]
    },
    {
     "name": "stderr",
     "output_type": "stream",
     "text": [
      "Running classifier:  18%|█▊        | 133/720 [07:25<32:21,  3.31s/it]"
     ]
    },
    {
     "name": "stdout",
     "output_type": "stream",
     "text": [
      "\u001b[91mData point [0.01] is not unique. 1 duplicates registered. Continuing ...\u001b[0m\n",
      "\u001b[91mData point [0.01] is not unique. 2 duplicates registered. Continuing ...\u001b[0m\n"
     ]
    },
    {
     "name": "stderr",
     "output_type": "stream",
     "text": [
      "Running classifier:  20%|█▉        | 142/720 [07:57<38:47,  4.03s/it]"
     ]
    },
    {
     "name": "stdout",
     "output_type": "stream",
     "text": [
      "\u001b[91mData point [100.] is not unique. 1 duplicates registered. Continuing ...\u001b[0m\n",
      "\u001b[91mData point [100.] is not unique. 2 duplicates registered. Continuing ...\u001b[0m\n",
      "\u001b[91mData point [100.] is not unique. 3 duplicates registered. Continuing ...\u001b[0m\n",
      "\u001b[91mData point [100.] is not unique. 4 duplicates registered. Continuing ...\u001b[0m\n",
      "\u001b[91mData point [100.] is not unique. 5 duplicates registered. Continuing ...\u001b[0m\n",
      "\u001b[91mData point [100.] is not unique. 6 duplicates registered. Continuing ...\u001b[0m\n",
      "\u001b[91mData point [100.] is not unique. 7 duplicates registered. Continuing ...\u001b[0m\n",
      "\u001b[91mData point [100.] is not unique. 8 duplicates registered. Continuing ...\u001b[0m\n",
      "\u001b[91mData point [100.] is not unique. 9 duplicates registered. Continuing ...\u001b[0m\n",
      "\u001b[91mData point [100.] is not unique. 10 duplicates registered. Continuing ...\u001b[0m\n",
      "\u001b[91mData point [100.] is not unique. 11 duplicates registered. Continuing ...\u001b[0m\n",
      "\u001b[91mData point [100.] is not unique. 12 duplicates registered. Continuing ...\u001b[0m\n",
      "\u001b[91mData point [100.] is not unique. 13 duplicates registered. Continuing ...\u001b[0m\n",
      "\u001b[91mData point [100.] is not unique. 14 duplicates registered. Continuing ...\u001b[0m\n",
      "\u001b[91mData point [100.] is not unique. 15 duplicates registered. Continuing ...\u001b[0m\n",
      "\u001b[91mData point [100.] is not unique. 16 duplicates registered. Continuing ...\u001b[0m\n"
     ]
    },
    {
     "name": "stderr",
     "output_type": "stream",
     "text": [
      "Running classifier:  25%|██▌       | 180/720 [10:13<40:28,  4.50s/it]"
     ]
    },
    {
     "name": "stdout",
     "output_type": "stream",
     "text": [
      "\u001b[91mData point [0.01] is not unique. 1 duplicates registered. Continuing ...\u001b[0m\n",
      "\u001b[91mData point [0.01] is not unique. 2 duplicates registered. Continuing ...\u001b[0m\n",
      "\u001b[91mData point [0.01] is not unique. 3 duplicates registered. Continuing ...\u001b[0m\n",
      "\u001b[91mData point [0.01] is not unique. 4 duplicates registered. Continuing ...\u001b[0m\n",
      "\u001b[91mData point [0.01] is not unique. 5 duplicates registered. Continuing ...\u001b[0m\n"
     ]
    },
    {
     "name": "stderr",
     "output_type": "stream",
     "text": [
      "Running classifier:  27%|██▋       | 197/720 [11:10<38:54,  4.46s/it]"
     ]
    },
    {
     "name": "stdout",
     "output_type": "stream",
     "text": [
      "\u001b[91mData point [100.] is not unique. 1 duplicates registered. Continuing ...\u001b[0m\n",
      "\u001b[91mData point [100.] is not unique. 2 duplicates registered. Continuing ...\u001b[0m\n"
     ]
    },
    {
     "name": "stderr",
     "output_type": "stream",
     "text": [
      "Running classifier:  30%|██▉       | 213/720 [12:05<32:27,  3.84s/it]"
     ]
    },
    {
     "name": "stdout",
     "output_type": "stream",
     "text": [
      "\u001b[91mData point [100.] is not unique. 1 duplicates registered. Continuing ...\u001b[0m\n",
      "\u001b[91mData point [100.] is not unique. 2 duplicates registered. Continuing ...\u001b[0m\n",
      "\u001b[91mData point [100.] is not unique. 3 duplicates registered. Continuing ...\u001b[0m\n",
      "\u001b[91mData point [100.] is not unique. 4 duplicates registered. Continuing ...\u001b[0m\n",
      "\u001b[91mData point [100.] is not unique. 5 duplicates registered. Continuing ...\u001b[0m\n",
      "\u001b[91mData point [100.] is not unique. 6 duplicates registered. Continuing ...\u001b[0m\n",
      "\u001b[91mData point [100.] is not unique. 7 duplicates registered. Continuing ...\u001b[0m\n",
      "\u001b[91mData point [100.] is not unique. 8 duplicates registered. Continuing ...\u001b[0m\n"
     ]
    },
    {
     "name": "stderr",
     "output_type": "stream",
     "text": [
      "Running classifier:  30%|██▉       | 215/720 [12:14<36:30,  4.34s/it]"
     ]
    },
    {
     "name": "stdout",
     "output_type": "stream",
     "text": [
      "\u001b[91mData point [100.] is not unique. 1 duplicates registered. Continuing ...\u001b[0m\n",
      "\u001b[91mData point [100.] is not unique. 2 duplicates registered. Continuing ...\u001b[0m\n",
      "\u001b[91mData point [100.] is not unique. 3 duplicates registered. Continuing ...\u001b[0m\n",
      "\u001b[91mData point [100.] is not unique. 4 duplicates registered. Continuing ...\u001b[0m\n",
      "\u001b[91mData point [100.] is not unique. 5 duplicates registered. Continuing ...\u001b[0m\n",
      "\u001b[91mData point [100.] is not unique. 6 duplicates registered. Continuing ...\u001b[0m\n",
      "\u001b[91mData point [100.] is not unique. 7 duplicates registered. Continuing ...\u001b[0m\n",
      "\u001b[91mData point [100.] is not unique. 8 duplicates registered. Continuing ...\u001b[0m\n",
      "\u001b[91mData point [100.] is not unique. 9 duplicates registered. Continuing ...\u001b[0m\n",
      "\u001b[91mData point [100.] is not unique. 10 duplicates registered. Continuing ...\u001b[0m\n",
      "\u001b[91mData point [100.] is not unique. 11 duplicates registered. Continuing ...\u001b[0m\n",
      "\u001b[91mData point [100.] is not unique. 12 duplicates registered. Continuing ...\u001b[0m\n",
      "\u001b[91mData point [100.] is not unique. 13 duplicates registered. Continuing ...\u001b[0m\n",
      "\u001b[91mData point [100.] is not unique. 14 duplicates registered. Continuing ...\u001b[0m\n",
      "\u001b[91mData point [100.] is not unique. 15 duplicates registered. Continuing ...\u001b[0m\n",
      "\u001b[91mData point [100.] is not unique. 16 duplicates registered. Continuing ...\u001b[0m\n",
      "\u001b[91mData point [100.] is not unique. 17 duplicates registered. Continuing ...\u001b[0m\n"
     ]
    },
    {
     "name": "stderr",
     "output_type": "stream",
     "text": [
      "Running classifier:  32%|███▏      | 232/720 [13:10<32:23,  3.98s/it]"
     ]
    },
    {
     "name": "stdout",
     "output_type": "stream",
     "text": [
      "\u001b[91mData point [100.] is not unique. 1 duplicates registered. Continuing ...\u001b[0m\n",
      "\u001b[91mData point [100.] is not unique. 2 duplicates registered. Continuing ...\u001b[0m\n",
      "\u001b[91mData point [100.] is not unique. 3 duplicates registered. Continuing ...\u001b[0m\n",
      "\u001b[91mData point [100.] is not unique. 4 duplicates registered. Continuing ...\u001b[0m\n",
      "\u001b[91mData point [100.] is not unique. 5 duplicates registered. Continuing ...\u001b[0m\n",
      "\u001b[91mData point [100.] is not unique. 6 duplicates registered. Continuing ...\u001b[0m\n",
      "\u001b[91mData point [100.] is not unique. 7 duplicates registered. Continuing ...\u001b[0m\n",
      "\u001b[91mData point [100.] is not unique. 8 duplicates registered. Continuing ...\u001b[0m\n",
      "\u001b[91mData point [100.] is not unique. 9 duplicates registered. Continuing ...\u001b[0m\n",
      "\u001b[91mData point [100.] is not unique. 10 duplicates registered. Continuing ...\u001b[0m\n"
     ]
    },
    {
     "name": "stderr",
     "output_type": "stream",
     "text": [
      "Running classifier:  32%|███▏      | 233/720 [13:15<34:39,  4.27s/it]"
     ]
    },
    {
     "name": "stdout",
     "output_type": "stream",
     "text": [
      "\u001b[91mData point [0.01] is not unique. 1 duplicates registered. Continuing ...\u001b[0m\n"
     ]
    },
    {
     "name": "stderr",
     "output_type": "stream",
     "text": [
      "Running classifier:  35%|███▍      | 249/720 [14:06<28:04,  3.58s/it]"
     ]
    },
    {
     "name": "stdout",
     "output_type": "stream",
     "text": [
      "\u001b[91mData point [100.] is not unique. 1 duplicates registered. Continuing ...\u001b[0m\n",
      "\u001b[91mData point [100.] is not unique. 2 duplicates registered. Continuing ...\u001b[0m\n",
      "\u001b[91mData point [100.] is not unique. 3 duplicates registered. Continuing ...\u001b[0m\n",
      "\u001b[91mData point [100.] is not unique. 4 duplicates registered. Continuing ...\u001b[0m\n",
      "\u001b[91mData point [100.] is not unique. 5 duplicates registered. Continuing ...\u001b[0m\n",
      "\u001b[91mData point [100.] is not unique. 6 duplicates registered. Continuing ...\u001b[0m\n",
      "\u001b[91mData point [100.] is not unique. 7 duplicates registered. Continuing ...\u001b[0m\n",
      "\u001b[91mData point [100.] is not unique. 8 duplicates registered. Continuing ...\u001b[0m\n",
      "\u001b[91mData point [100.] is not unique. 9 duplicates registered. Continuing ...\u001b[0m\n",
      "\u001b[91mData point [100.] is not unique. 10 duplicates registered. Continuing ...\u001b[0m\n",
      "\u001b[91mData point [100.] is not unique. 11 duplicates registered. Continuing ...\u001b[0m\n",
      "\u001b[91mData point [100.] is not unique. 12 duplicates registered. Continuing ...\u001b[0m\n",
      "\u001b[91mData point [100.] is not unique. 13 duplicates registered. Continuing ...\u001b[0m\n",
      "\u001b[91mData point [100.] is not unique. 14 duplicates registered. Continuing ...\u001b[0m\n",
      "\u001b[91mData point [100.] is not unique. 15 duplicates registered. Continuing ...\u001b[0m\n"
     ]
    },
    {
     "name": "stderr",
     "output_type": "stream",
     "text": [
      "Running classifier:  36%|███▋      | 262/720 [14:49<22:40,  2.97s/it]"
     ]
    },
    {
     "name": "stdout",
     "output_type": "stream",
     "text": [
      "\u001b[91mData point [100.] is not unique. 1 duplicates registered. Continuing ...\u001b[0m\n",
      "\u001b[91mData point [100.] is not unique. 2 duplicates registered. Continuing ...\u001b[0m\n",
      "\u001b[91mData point [100.] is not unique. 3 duplicates registered. Continuing ...\u001b[0m\n",
      "\u001b[91mData point [100.] is not unique. 4 duplicates registered. Continuing ...\u001b[0m\n",
      "\u001b[91mData point [100.] is not unique. 5 duplicates registered. Continuing ...\u001b[0m\n",
      "\u001b[91mData point [100.] is not unique. 6 duplicates registered. Continuing ...\u001b[0m\n",
      "\u001b[91mData point [100.] is not unique. 7 duplicates registered. Continuing ...\u001b[0m\n",
      "\u001b[91mData point [100.] is not unique. 8 duplicates registered. Continuing ...\u001b[0m\n",
      "\u001b[91mData point [100.] is not unique. 9 duplicates registered. Continuing ...\u001b[0m\n",
      "\u001b[91mData point [100.] is not unique. 10 duplicates registered. Continuing ...\u001b[0m\n",
      "\u001b[91mData point [100.] is not unique. 11 duplicates registered. Continuing ...\u001b[0m\n",
      "\u001b[91mData point [100.] is not unique. 12 duplicates registered. Continuing ...\u001b[0m\n",
      "\u001b[91mData point [100.] is not unique. 13 duplicates registered. Continuing ...\u001b[0m\n",
      "\u001b[91mData point [100.] is not unique. 14 duplicates registered. Continuing ...\u001b[0m\n",
      "\u001b[91mData point [100.] is not unique. 15 duplicates registered. Continuing ...\u001b[0m\n",
      "\u001b[91mData point [100.] is not unique. 16 duplicates registered. Continuing ...\u001b[0m\n"
     ]
    },
    {
     "name": "stderr",
     "output_type": "stream",
     "text": [
      "Running classifier:  37%|███▋      | 268/720 [15:10<28:13,  3.75s/it]"
     ]
    },
    {
     "name": "stdout",
     "output_type": "stream",
     "text": [
      "\u001b[91mData point [100.] is not unique. 1 duplicates registered. Continuing ...\u001b[0m\n",
      "\u001b[91mData point [100.] is not unique. 2 duplicates registered. Continuing ...\u001b[0m\n",
      "\u001b[91mData point [100.] is not unique. 3 duplicates registered. Continuing ...\u001b[0m\n"
     ]
    },
    {
     "name": "stderr",
     "output_type": "stream",
     "text": [
      "Running classifier:  39%|███▊      | 278/720 [15:43<22:18,  3.03s/it]"
     ]
    },
    {
     "name": "stdout",
     "output_type": "stream",
     "text": [
      "\u001b[91mData point [100.] is not unique. 1 duplicates registered. Continuing ...\u001b[0m\n",
      "\u001b[91mData point [100.] is not unique. 2 duplicates registered. Continuing ...\u001b[0m\n",
      "\u001b[91mData point [100.] is not unique. 3 duplicates registered. Continuing ...\u001b[0m\n",
      "\u001b[91mData point [100.] is not unique. 4 duplicates registered. Continuing ...\u001b[0m\n"
     ]
    },
    {
     "name": "stderr",
     "output_type": "stream",
     "text": [
      "Running classifier:  39%|███▉      | 279/720 [15:46<22:08,  3.01s/it]"
     ]
    },
    {
     "name": "stdout",
     "output_type": "stream",
     "text": [
      "\u001b[91mData point [100.] is not unique. 1 duplicates registered. Continuing ...\u001b[0m\n",
      "\u001b[91mData point [100.] is not unique. 2 duplicates registered. Continuing ...\u001b[0m\n",
      "\u001b[91mData point [100.] is not unique. 3 duplicates registered. Continuing ...\u001b[0m\n",
      "\u001b[91mData point [100.] is not unique. 4 duplicates registered. Continuing ...\u001b[0m\n",
      "\u001b[91mData point [100.] is not unique. 5 duplicates registered. Continuing ...\u001b[0m\n"
     ]
    },
    {
     "name": "stderr",
     "output_type": "stream",
     "text": [
      "Running classifier:  39%|███▉      | 283/720 [15:59<23:43,  3.26s/it]"
     ]
    },
    {
     "name": "stdout",
     "output_type": "stream",
     "text": [
      "\u001b[91mData point [100.] is not unique. 1 duplicates registered. Continuing ...\u001b[0m\n"
     ]
    },
    {
     "name": "stderr",
     "output_type": "stream",
     "text": [
      "Running classifier:  42%|████▏     | 301/720 [17:00<23:26,  3.36s/it]"
     ]
    },
    {
     "name": "stdout",
     "output_type": "stream",
     "text": [
      "\u001b[91mData point [100.] is not unique. 1 duplicates registered. Continuing ...\u001b[0m\n",
      "\u001b[91mData point [100.] is not unique. 2 duplicates registered. Continuing ...\u001b[0m\n",
      "\u001b[91mData point [100.] is not unique. 3 duplicates registered. Continuing ...\u001b[0m\n",
      "\u001b[91mData point [100.] is not unique. 4 duplicates registered. Continuing ...\u001b[0m\n",
      "\u001b[91mData point [100.] is not unique. 5 duplicates registered. Continuing ...\u001b[0m\n",
      "\u001b[91mData point [100.] is not unique. 6 duplicates registered. Continuing ...\u001b[0m\n",
      "\u001b[91mData point [100.] is not unique. 7 duplicates registered. Continuing ...\u001b[0m\n",
      "\u001b[91mData point [100.] is not unique. 8 duplicates registered. Continuing ...\u001b[0m\n",
      "\u001b[91mData point [100.] is not unique. 9 duplicates registered. Continuing ...\u001b[0m\n",
      "\u001b[91mData point [100.] is not unique. 10 duplicates registered. Continuing ...\u001b[0m\n",
      "\u001b[91mData point [100.] is not unique. 11 duplicates registered. Continuing ...\u001b[0m\n",
      "\u001b[91mData point [100.] is not unique. 12 duplicates registered. Continuing ...\u001b[0m\n",
      "\u001b[91mData point [100.] is not unique. 13 duplicates registered. Continuing ...\u001b[0m\n",
      "\u001b[91mData point [100.] is not unique. 14 duplicates registered. Continuing ...\u001b[0m\n",
      "\u001b[91mData point [100.] is not unique. 15 duplicates registered. Continuing ...\u001b[0m\n",
      "\u001b[91mData point [100.] is not unique. 16 duplicates registered. Continuing ...\u001b[0m\n",
      "\u001b[91mData point [100.] is not unique. 17 duplicates registered. Continuing ...\u001b[0m\n",
      "\u001b[91mData point [100.] is not unique. 18 duplicates registered. Continuing ...\u001b[0m\n"
     ]
    },
    {
     "name": "stderr",
     "output_type": "stream",
     "text": [
      "Running classifier:  42%|████▏     | 305/720 [17:18<30:32,  4.42s/it]"
     ]
    },
    {
     "name": "stdout",
     "output_type": "stream",
     "text": [
      "\u001b[91mData point [100.] is not unique. 1 duplicates registered. Continuing ...\u001b[0m\n",
      "\u001b[91mData point [100.] is not unique. 2 duplicates registered. Continuing ...\u001b[0m\n",
      "\u001b[91mData point [100.] is not unique. 3 duplicates registered. Continuing ...\u001b[0m\n",
      "\u001b[91mData point [100.] is not unique. 4 duplicates registered. Continuing ...\u001b[0m\n",
      "\u001b[91mData point [100.] is not unique. 5 duplicates registered. Continuing ...\u001b[0m\n",
      "\u001b[91mData point [100.] is not unique. 6 duplicates registered. Continuing ...\u001b[0m\n",
      "\u001b[91mData point [100.] is not unique. 7 duplicates registered. Continuing ...\u001b[0m\n",
      "\u001b[91mData point [100.] is not unique. 8 duplicates registered. Continuing ...\u001b[0m\n",
      "\u001b[91mData point [100.] is not unique. 9 duplicates registered. Continuing ...\u001b[0m\n",
      "\u001b[91mData point [100.] is not unique. 10 duplicates registered. Continuing ...\u001b[0m\n",
      "\u001b[91mData point [100.] is not unique. 11 duplicates registered. Continuing ...\u001b[0m\n",
      "\u001b[91mData point [100.] is not unique. 12 duplicates registered. Continuing ...\u001b[0m\n",
      "\u001b[91mData point [100.] is not unique. 13 duplicates registered. Continuing ...\u001b[0m\n"
     ]
    },
    {
     "name": "stderr",
     "output_type": "stream",
     "text": [
      "Running classifier:  44%|████▍     | 319/720 [18:03<23:13,  3.47s/it]"
     ]
    },
    {
     "name": "stdout",
     "output_type": "stream",
     "text": [
      "\u001b[91mData point [100.] is not unique. 1 duplicates registered. Continuing ...\u001b[0m\n",
      "\u001b[91mData point [100.] is not unique. 2 duplicates registered. Continuing ...\u001b[0m\n",
      "\u001b[91mData point [100.] is not unique. 3 duplicates registered. Continuing ...\u001b[0m\n"
     ]
    },
    {
     "name": "stderr",
     "output_type": "stream",
     "text": [
      "Running classifier:  45%|████▍     | 323/720 [18:19<27:36,  4.17s/it]"
     ]
    },
    {
     "name": "stdout",
     "output_type": "stream",
     "text": [
      "\u001b[91mData point [100.] is not unique. 1 duplicates registered. Continuing ...\u001b[0m\n",
      "\u001b[91mData point [100.] is not unique. 2 duplicates registered. Continuing ...\u001b[0m\n",
      "\u001b[91mData point [100.] is not unique. 3 duplicates registered. Continuing ...\u001b[0m\n",
      "\u001b[91mData point [100.] is not unique. 4 duplicates registered. Continuing ...\u001b[0m\n",
      "\u001b[91mData point [100.] is not unique. 5 duplicates registered. Continuing ...\u001b[0m\n",
      "\u001b[91mData point [100.] is not unique. 6 duplicates registered. Continuing ...\u001b[0m\n",
      "\u001b[91mData point [100.] is not unique. 7 duplicates registered. Continuing ...\u001b[0m\n",
      "\u001b[91mData point [100.] is not unique. 8 duplicates registered. Continuing ...\u001b[0m\n",
      "\u001b[91mData point [100.] is not unique. 9 duplicates registered. Continuing ...\u001b[0m\n",
      "\u001b[91mData point [100.] is not unique. 10 duplicates registered. Continuing ...\u001b[0m\n",
      "\u001b[91mData point [100.] is not unique. 11 duplicates registered. Continuing ...\u001b[0m\n",
      "\u001b[91mData point [100.] is not unique. 12 duplicates registered. Continuing ...\u001b[0m\n",
      "\u001b[91mData point [100.] is not unique. 13 duplicates registered. Continuing ...\u001b[0m\n",
      "\u001b[91mData point [100.] is not unique. 14 duplicates registered. Continuing ...\u001b[0m\n",
      "\u001b[91mData point [100.] is not unique. 15 duplicates registered. Continuing ...\u001b[0m\n"
     ]
    },
    {
     "name": "stderr",
     "output_type": "stream",
     "text": [
      "Running classifier:  47%|████▋     | 337/720 [19:04<21:45,  3.41s/it]"
     ]
    },
    {
     "name": "stdout",
     "output_type": "stream",
     "text": [
      "\u001b[91mData point [100.] is not unique. 1 duplicates registered. Continuing ...\u001b[0m\n"
     ]
    },
    {
     "name": "stderr",
     "output_type": "stream",
     "text": [
      "Running classifier:  47%|████▋     | 339/720 [19:11<22:40,  3.57s/it]"
     ]
    },
    {
     "name": "stdout",
     "output_type": "stream",
     "text": [
      "\u001b[91mData point [100.] is not unique. 1 duplicates registered. Continuing ...\u001b[0m\n"
     ]
    },
    {
     "name": "stderr",
     "output_type": "stream",
     "text": [
      "Running classifier:  48%|████▊     | 349/720 [19:46<19:53,  3.22s/it]"
     ]
    },
    {
     "name": "stdout",
     "output_type": "stream",
     "text": [
      "\u001b[91mData point [0.01] is not unique. 1 duplicates registered. Continuing ...\u001b[0m\n",
      "\u001b[91mData point [0.01] is not unique. 2 duplicates registered. Continuing ...\u001b[0m\n",
      "\u001b[91mData point [0.01] is not unique. 3 duplicates registered. Continuing ...\u001b[0m\n",
      "\u001b[91mData point [0.01] is not unique. 4 duplicates registered. Continuing ...\u001b[0m\n"
     ]
    },
    {
     "name": "stderr",
     "output_type": "stream",
     "text": [
      "Running classifier:  49%|████▉     | 354/720 [20:02<19:56,  3.27s/it]"
     ]
    },
    {
     "name": "stdout",
     "output_type": "stream",
     "text": [
      "\u001b[91mData point [100.] is not unique. 1 duplicates registered. Continuing ...\u001b[0m\n",
      "\u001b[91mData point [100.] is not unique. 2 duplicates registered. Continuing ...\u001b[0m\n",
      "\u001b[91mData point [100.] is not unique. 3 duplicates registered. Continuing ...\u001b[0m\n",
      "\u001b[91mData point [100.] is not unique. 4 duplicates registered. Continuing ...\u001b[0m\n"
     ]
    },
    {
     "name": "stderr",
     "output_type": "stream",
     "text": [
      "Running classifier:  50%|████▉     | 357/720 [20:13<20:54,  3.46s/it]"
     ]
    },
    {
     "name": "stdout",
     "output_type": "stream",
     "text": [
      "\u001b[91mData point [100.] is not unique. 1 duplicates registered. Continuing ...\u001b[0m\n",
      "\u001b[91mData point [100.] is not unique. 2 duplicates registered. Continuing ...\u001b[0m\n",
      "\u001b[91mData point [100.] is not unique. 3 duplicates registered. Continuing ...\u001b[0m\n"
     ]
    },
    {
     "name": "stderr",
     "output_type": "stream",
     "text": [
      "Running classifier:  50%|████▉     | 359/720 [20:22<24:06,  4.01s/it]"
     ]
    },
    {
     "name": "stdout",
     "output_type": "stream",
     "text": [
      "\u001b[91mData point [100.] is not unique. 1 duplicates registered. Continuing ...\u001b[0m\n",
      "\u001b[91mData point [100.] is not unique. 2 duplicates registered. Continuing ...\u001b[0m\n",
      "\u001b[91mData point [100.] is not unique. 3 duplicates registered. Continuing ...\u001b[0m\n",
      "\u001b[91mData point [100.] is not unique. 4 duplicates registered. Continuing ...\u001b[0m\n",
      "\u001b[91mData point [100.] is not unique. 5 duplicates registered. Continuing ...\u001b[0m\n",
      "\u001b[91mData point [100.] is not unique. 6 duplicates registered. Continuing ...\u001b[0m\n",
      "\u001b[91mData point [100.] is not unique. 7 duplicates registered. Continuing ...\u001b[0m\n",
      "\u001b[91mData point [100.] is not unique. 8 duplicates registered. Continuing ...\u001b[0m\n",
      "\u001b[91mData point [100.] is not unique. 9 duplicates registered. Continuing ...\u001b[0m\n",
      "\u001b[91mData point [100.] is not unique. 10 duplicates registered. Continuing ...\u001b[0m\n",
      "\u001b[91mData point [100.] is not unique. 11 duplicates registered. Continuing ...\u001b[0m\n",
      "\u001b[91mData point [100.] is not unique. 12 duplicates registered. Continuing ...\u001b[0m\n"
     ]
    },
    {
     "name": "stderr",
     "output_type": "stream",
     "text": [
      "Running classifier:  52%|█████▏    | 373/720 [21:06<19:02,  3.29s/it]"
     ]
    },
    {
     "name": "stdout",
     "output_type": "stream",
     "text": [
      "\u001b[91mData point [100.] is not unique. 1 duplicates registered. Continuing ...\u001b[0m\n",
      "\u001b[91mData point [100.] is not unique. 2 duplicates registered. Continuing ...\u001b[0m\n",
      "\u001b[91mData point [100.] is not unique. 3 duplicates registered. Continuing ...\u001b[0m\n",
      "\u001b[91mData point [100.] is not unique. 4 duplicates registered. Continuing ...\u001b[0m\n",
      "\u001b[91mData point [100.] is not unique. 5 duplicates registered. Continuing ...\u001b[0m\n",
      "\u001b[91mData point [100.] is not unique. 6 duplicates registered. Continuing ...\u001b[0m\n",
      "\u001b[91mData point [100.] is not unique. 7 duplicates registered. Continuing ...\u001b[0m\n",
      "\u001b[91mData point [100.] is not unique. 8 duplicates registered. Continuing ...\u001b[0m\n",
      "\u001b[91mData point [100.] is not unique. 9 duplicates registered. Continuing ...\u001b[0m\n",
      "\u001b[91mData point [100.] is not unique. 10 duplicates registered. Continuing ...\u001b[0m\n",
      "\u001b[91mData point [100.] is not unique. 11 duplicates registered. Continuing ...\u001b[0m\n",
      "\u001b[91mData point [100.] is not unique. 12 duplicates registered. Continuing ...\u001b[0m\n",
      "\u001b[91mData point [100.] is not unique. 13 duplicates registered. Continuing ...\u001b[0m\n",
      "\u001b[91mData point [100.] is not unique. 14 duplicates registered. Continuing ...\u001b[0m\n",
      "\u001b[91mData point [100.] is not unique. 15 duplicates registered. Continuing ...\u001b[0m\n",
      "\u001b[91mData point [100.] is not unique. 16 duplicates registered. Continuing ...\u001b[0m\n",
      "\u001b[91mData point [100.] is not unique. 17 duplicates registered. Continuing ...\u001b[0m\n",
      "\u001b[91mData point [100.] is not unique. 18 duplicates registered. Continuing ...\u001b[0m\n"
     ]
    },
    {
     "name": "stderr",
     "output_type": "stream",
     "text": [
      "Running classifier:  52%|█████▏    | 375/720 [21:13<20:13,  3.52s/it]"
     ]
    },
    {
     "name": "stdout",
     "output_type": "stream",
     "text": [
      "\u001b[91mData point [100.] is not unique. 1 duplicates registered. Continuing ...\u001b[0m\n"
     ]
    },
    {
     "name": "stderr",
     "output_type": "stream",
     "text": [
      "Running classifier:  52%|█████▏    | 377/720 [21:22<22:58,  4.02s/it]"
     ]
    },
    {
     "name": "stdout",
     "output_type": "stream",
     "text": [
      "\u001b[91mData point [100.] is not unique. 1 duplicates registered. Continuing ...\u001b[0m\n",
      "\u001b[91mData point [100.] is not unique. 2 duplicates registered. Continuing ...\u001b[0m\n",
      "\u001b[91mData point [100.] is not unique. 3 duplicates registered. Continuing ...\u001b[0m\n",
      "\u001b[91mData point [100.] is not unique. 4 duplicates registered. Continuing ...\u001b[0m\n",
      "\u001b[91mData point [100.] is not unique. 5 duplicates registered. Continuing ...\u001b[0m\n",
      "\u001b[91mData point [100.] is not unique. 6 duplicates registered. Continuing ...\u001b[0m\n",
      "\u001b[91mData point [100.] is not unique. 7 duplicates registered. Continuing ...\u001b[0m\n",
      "\u001b[91mData point [100.] is not unique. 8 duplicates registered. Continuing ...\u001b[0m\n",
      "\u001b[91mData point [100.] is not unique. 9 duplicates registered. Continuing ...\u001b[0m\n",
      "\u001b[91mData point [100.] is not unique. 10 duplicates registered. Continuing ...\u001b[0m\n",
      "\u001b[91mData point [100.] is not unique. 11 duplicates registered. Continuing ...\u001b[0m\n",
      "\u001b[91mData point [100.] is not unique. 12 duplicates registered. Continuing ...\u001b[0m\n",
      "\u001b[91mData point [100.] is not unique. 13 duplicates registered. Continuing ...\u001b[0m\n",
      "\u001b[91mData point [100.] is not unique. 14 duplicates registered. Continuing ...\u001b[0m\n",
      "\u001b[91mData point [100.] is not unique. 15 duplicates registered. Continuing ...\u001b[0m\n",
      "\u001b[91mData point [100.] is not unique. 16 duplicates registered. Continuing ...\u001b[0m\n",
      "\u001b[91mData point [100.] is not unique. 17 duplicates registered. Continuing ...\u001b[0m\n"
     ]
    },
    {
     "name": "stderr",
     "output_type": "stream",
     "text": [
      "Running classifier:  54%|█████▍    | 392/720 [22:08<18:15,  3.34s/it]"
     ]
    },
    {
     "name": "stdout",
     "output_type": "stream",
     "text": [
      "\u001b[91mData point [100.] is not unique. 1 duplicates registered. Continuing ...\u001b[0m\n",
      "\u001b[91mData point [100.] is not unique. 2 duplicates registered. Continuing ...\u001b[0m\n",
      "\u001b[91mData point [100.] is not unique. 3 duplicates registered. Continuing ...\u001b[0m\n",
      "\u001b[91mData point [100.] is not unique. 4 duplicates registered. Continuing ...\u001b[0m\n",
      "\u001b[91mData point [100.] is not unique. 5 duplicates registered. Continuing ...\u001b[0m\n",
      "\u001b[91mData point [100.] is not unique. 6 duplicates registered. Continuing ...\u001b[0m\n",
      "\u001b[91mData point [100.] is not unique. 7 duplicates registered. Continuing ...\u001b[0m\n",
      "\u001b[91mData point [100.] is not unique. 8 duplicates registered. Continuing ...\u001b[0m\n",
      "\u001b[91mData point [100.] is not unique. 9 duplicates registered. Continuing ...\u001b[0m\n",
      "\u001b[91mData point [100.] is not unique. 10 duplicates registered. Continuing ...\u001b[0m\n",
      "\u001b[91mData point [100.] is not unique. 11 duplicates registered. Continuing ...\u001b[0m\n",
      "\u001b[91mData point [100.] is not unique. 12 duplicates registered. Continuing ...\u001b[0m\n",
      "\u001b[91mData point [100.] is not unique. 13 duplicates registered. Continuing ...\u001b[0m\n",
      "\u001b[91mData point [100.] is not unique. 14 duplicates registered. Continuing ...\u001b[0m\n",
      "\u001b[91mData point [100.] is not unique. 15 duplicates registered. Continuing ...\u001b[0m\n",
      "\u001b[91mData point [100.] is not unique. 16 duplicates registered. Continuing ...\u001b[0m\n",
      "\u001b[91mData point [100.] is not unique. 17 duplicates registered. Continuing ...\u001b[0m\n",
      "\u001b[91mData point [100.] is not unique. 18 duplicates registered. Continuing ...\u001b[0m\n",
      "\u001b[91mData point [100.] is not unique. 19 duplicates registered. Continuing ...\u001b[0m\n"
     ]
    },
    {
     "name": "stderr",
     "output_type": "stream",
     "text": [
      "Running classifier:  55%|█████▍    | 393/720 [22:12<18:34,  3.41s/it]"
     ]
    },
    {
     "name": "stdout",
     "output_type": "stream",
     "text": [
      "\u001b[91mData point [100.] is not unique. 1 duplicates registered. Continuing ...\u001b[0m\n",
      "\u001b[91mData point [100.] is not unique. 2 duplicates registered. Continuing ...\u001b[0m\n",
      "\u001b[91mData point [100.] is not unique. 3 duplicates registered. Continuing ...\u001b[0m\n",
      "\u001b[91mData point [100.] is not unique. 4 duplicates registered. Continuing ...\u001b[0m\n",
      "\u001b[91mData point [100.] is not unique. 5 duplicates registered. Continuing ...\u001b[0m\n",
      "\u001b[91mData point [100.] is not unique. 6 duplicates registered. Continuing ...\u001b[0m\n",
      "\u001b[91mData point [100.] is not unique. 7 duplicates registered. Continuing ...\u001b[0m\n",
      "\u001b[91mData point [100.] is not unique. 8 duplicates registered. Continuing ...\u001b[0m\n",
      "\u001b[91mData point [100.] is not unique. 9 duplicates registered. Continuing ...\u001b[0m\n",
      "\u001b[91mData point [100.] is not unique. 10 duplicates registered. Continuing ...\u001b[0m\n",
      "\u001b[91mData point [100.] is not unique. 11 duplicates registered. Continuing ...\u001b[0m\n",
      "\u001b[91mData point [100.] is not unique. 12 duplicates registered. Continuing ...\u001b[0m\n",
      "\u001b[91mData point [100.] is not unique. 13 duplicates registered. Continuing ...\u001b[0m\n"
     ]
    },
    {
     "name": "stderr",
     "output_type": "stream",
     "text": [
      "Running classifier:  55%|█████▍    | 394/720 [22:16<20:27,  3.77s/it]"
     ]
    },
    {
     "name": "stdout",
     "output_type": "stream",
     "text": [
      "\u001b[91mData point [100.] is not unique. 1 duplicates registered. Continuing ...\u001b[0m\n"
     ]
    },
    {
     "name": "stderr",
     "output_type": "stream",
     "text": [
      "Running classifier:  55%|█████▍    | 395/720 [22:21<21:49,  4.03s/it]"
     ]
    },
    {
     "name": "stdout",
     "output_type": "stream",
     "text": [
      "\u001b[91mData point [100.] is not unique. 1 duplicates registered. Continuing ...\u001b[0m\n",
      "\u001b[91mData point [100.] is not unique. 2 duplicates registered. Continuing ...\u001b[0m\n",
      "\u001b[91mData point [100.] is not unique. 3 duplicates registered. Continuing ...\u001b[0m\n"
     ]
    },
    {
     "name": "stderr",
     "output_type": "stream",
     "text": [
      "Running classifier:  57%|█████▋    | 411/720 [23:11<17:45,  3.45s/it]"
     ]
    },
    {
     "name": "stdout",
     "output_type": "stream",
     "text": [
      "\u001b[91mData point [100.] is not unique. 1 duplicates registered. Continuing ...\u001b[0m\n",
      "\u001b[91mData point [100.] is not unique. 2 duplicates registered. Continuing ...\u001b[0m\n",
      "\u001b[91mData point [100.] is not unique. 3 duplicates registered. Continuing ...\u001b[0m\n",
      "\u001b[91mData point [100.] is not unique. 4 duplicates registered. Continuing ...\u001b[0m\n",
      "\u001b[91mData point [100.] is not unique. 5 duplicates registered. Continuing ...\u001b[0m\n",
      "\u001b[91mData point [100.] is not unique. 6 duplicates registered. Continuing ...\u001b[0m\n",
      "\u001b[91mData point [100.] is not unique. 7 duplicates registered. Continuing ...\u001b[0m\n",
      "\u001b[91mData point [100.] is not unique. 8 duplicates registered. Continuing ...\u001b[0m\n",
      "\u001b[91mData point [100.] is not unique. 9 duplicates registered. Continuing ...\u001b[0m\n",
      "\u001b[91mData point [100.] is not unique. 10 duplicates registered. Continuing ...\u001b[0m\n",
      "\u001b[91mData point [100.] is not unique. 11 duplicates registered. Continuing ...\u001b[0m\n",
      "\u001b[91mData point [100.] is not unique. 12 duplicates registered. Continuing ...\u001b[0m\n",
      "\u001b[91mData point [100.] is not unique. 13 duplicates registered. Continuing ...\u001b[0m\n",
      "\u001b[91mData point [100.] is not unique. 14 duplicates registered. Continuing ...\u001b[0m\n",
      "\u001b[91mData point [100.] is not unique. 15 duplicates registered. Continuing ...\u001b[0m\n",
      "\u001b[91mData point [100.] is not unique. 16 duplicates registered. Continuing ...\u001b[0m\n",
      "\u001b[91mData point [100.] is not unique. 17 duplicates registered. Continuing ...\u001b[0m\n"
     ]
    },
    {
     "name": "stderr",
     "output_type": "stream",
     "text": [
      "Running classifier:  57%|█████▋    | 412/720 [23:15<19:21,  3.77s/it]"
     ]
    },
    {
     "name": "stdout",
     "output_type": "stream",
     "text": [
      "\u001b[91mData point [100.] is not unique. 1 duplicates registered. Continuing ...\u001b[0m\n",
      "\u001b[91mData point [100.] is not unique. 2 duplicates registered. Continuing ...\u001b[0m\n",
      "\u001b[91mData point [100.] is not unique. 3 duplicates registered. Continuing ...\u001b[0m\n",
      "\u001b[91mData point [100.] is not unique. 4 duplicates registered. Continuing ...\u001b[0m\n",
      "\u001b[91mData point [100.] is not unique. 5 duplicates registered. Continuing ...\u001b[0m\n",
      "\u001b[91mData point [100.] is not unique. 6 duplicates registered. Continuing ...\u001b[0m\n",
      "\u001b[91mData point [100.] is not unique. 7 duplicates registered. Continuing ...\u001b[0m\n",
      "\u001b[91mData point [100.] is not unique. 8 duplicates registered. Continuing ...\u001b[0m\n",
      "\u001b[91mData point [100.] is not unique. 9 duplicates registered. Continuing ...\u001b[0m\n",
      "\u001b[91mData point [100.] is not unique. 10 duplicates registered. Continuing ...\u001b[0m\n",
      "\u001b[91mData point [100.] is not unique. 11 duplicates registered. Continuing ...\u001b[0m\n"
     ]
    },
    {
     "name": "stderr",
     "output_type": "stream",
     "text": [
      "Running classifier:  59%|█████▉    | 424/720 [23:54<16:21,  3.32s/it]"
     ]
    },
    {
     "name": "stdout",
     "output_type": "stream",
     "text": [
      "\u001b[91mData point [100.] is not unique. 1 duplicates registered. Continuing ...\u001b[0m\n",
      "\u001b[91mData point [100.] is not unique. 2 duplicates registered. Continuing ...\u001b[0m\n",
      "\u001b[91mData point [100.] is not unique. 3 duplicates registered. Continuing ...\u001b[0m\n"
     ]
    },
    {
     "name": "stderr",
     "output_type": "stream",
     "text": [
      "Running classifier:  59%|█████▉    | 425/720 [23:58<16:22,  3.33s/it]"
     ]
    },
    {
     "name": "stdout",
     "output_type": "stream",
     "text": [
      "\u001b[91mData point [100.] is not unique. 1 duplicates registered. Continuing ...\u001b[0m\n",
      "\u001b[91mData point [100.] is not unique. 2 duplicates registered. Continuing ...\u001b[0m\n",
      "\u001b[91mData point [100.] is not unique. 3 duplicates registered. Continuing ...\u001b[0m\n",
      "\u001b[91mData point [100.] is not unique. 4 duplicates registered. Continuing ...\u001b[0m\n",
      "\u001b[91mData point [100.] is not unique. 5 duplicates registered. Continuing ...\u001b[0m\n"
     ]
    },
    {
     "name": "stderr",
     "output_type": "stream",
     "text": [
      "Running classifier:  61%|██████    | 439/720 [24:43<12:39,  2.70s/it]"
     ]
    },
    {
     "name": "stdout",
     "output_type": "stream",
     "text": [
      "\u001b[91mData point [100.] is not unique. 1 duplicates registered. Continuing ...\u001b[0m\n",
      "\u001b[91mData point [100.] is not unique. 2 duplicates registered. Continuing ...\u001b[0m\n",
      "\u001b[91mData point [100.] is not unique. 3 duplicates registered. Continuing ...\u001b[0m\n",
      "\u001b[91mData point [100.] is not unique. 4 duplicates registered. Continuing ...\u001b[0m\n",
      "\u001b[91mData point [100.] is not unique. 5 duplicates registered. Continuing ...\u001b[0m\n",
      "\u001b[91mData point [100.] is not unique. 6 duplicates registered. Continuing ...\u001b[0m\n",
      "\u001b[91mData point [100.] is not unique. 7 duplicates registered. Continuing ...\u001b[0m\n",
      "\u001b[91mData point [100.] is not unique. 8 duplicates registered. Continuing ...\u001b[0m\n",
      "\u001b[91mData point [100.] is not unique. 9 duplicates registered. Continuing ...\u001b[0m\n",
      "\u001b[91mData point [100.] is not unique. 10 duplicates registered. Continuing ...\u001b[0m\n",
      "\u001b[91mData point [100.] is not unique. 11 duplicates registered. Continuing ...\u001b[0m\n",
      "\u001b[91mData point [100.] is not unique. 12 duplicates registered. Continuing ...\u001b[0m\n",
      "\u001b[91mData point [100.] is not unique. 13 duplicates registered. Continuing ...\u001b[0m\n",
      "\u001b[91mData point [100.] is not unique. 14 duplicates registered. Continuing ...\u001b[0m\n",
      "\u001b[91mData point [100.] is not unique. 15 duplicates registered. Continuing ...\u001b[0m\n"
     ]
    },
    {
     "name": "stderr",
     "output_type": "stream",
     "text": [
      "Running classifier:  62%|██████▏   | 447/720 [25:13<17:26,  3.83s/it]"
     ]
    },
    {
     "name": "stdout",
     "output_type": "stream",
     "text": [
      "\u001b[91mData point [100.] is not unique. 1 duplicates registered. Continuing ...\u001b[0m\n",
      "\u001b[91mData point [100.] is not unique. 2 duplicates registered. Continuing ...\u001b[0m\n",
      "\u001b[91mData point [100.] is not unique. 3 duplicates registered. Continuing ...\u001b[0m\n",
      "\u001b[91mData point [100.] is not unique. 4 duplicates registered. Continuing ...\u001b[0m\n",
      "\u001b[91mData point [100.] is not unique. 5 duplicates registered. Continuing ...\u001b[0m\n",
      "\u001b[91mData point [100.] is not unique. 6 duplicates registered. Continuing ...\u001b[0m\n",
      "\u001b[91mData point [100.] is not unique. 7 duplicates registered. Continuing ...\u001b[0m\n",
      "\u001b[91mData point [100.] is not unique. 8 duplicates registered. Continuing ...\u001b[0m\n",
      "\u001b[91mData point [100.] is not unique. 9 duplicates registered. Continuing ...\u001b[0m\n"
     ]
    },
    {
     "name": "stderr",
     "output_type": "stream",
     "text": [
      "Running classifier:  62%|██████▏   | 448/720 [25:18<18:28,  4.08s/it]"
     ]
    },
    {
     "name": "stdout",
     "output_type": "stream",
     "text": [
      "\u001b[91mData point [100.] is not unique. 1 duplicates registered. Continuing ...\u001b[0m\n",
      "\u001b[91mData point [100.] is not unique. 2 duplicates registered. Continuing ...\u001b[0m\n",
      "\u001b[91mData point [100.] is not unique. 3 duplicates registered. Continuing ...\u001b[0m\n",
      "\u001b[91mData point [100.] is not unique. 4 duplicates registered. Continuing ...\u001b[0m\n",
      "\u001b[91mData point [100.] is not unique. 5 duplicates registered. Continuing ...\u001b[0m\n",
      "\u001b[91mData point [100.] is not unique. 6 duplicates registered. Continuing ...\u001b[0m\n",
      "\u001b[91mData point [100.] is not unique. 7 duplicates registered. Continuing ...\u001b[0m\n"
     ]
    },
    {
     "name": "stderr",
     "output_type": "stream",
     "text": [
      "Running classifier:  62%|██████▏   | 449/720 [25:22<19:08,  4.24s/it]"
     ]
    },
    {
     "name": "stdout",
     "output_type": "stream",
     "text": [
      "\u001b[91mData point [100.] is not unique. 1 duplicates registered. Continuing ...\u001b[0m\n",
      "\u001b[91mData point [100.] is not unique. 2 duplicates registered. Continuing ...\u001b[0m\n",
      "\u001b[91mData point [100.] is not unique. 3 duplicates registered. Continuing ...\u001b[0m\n",
      "\u001b[91mData point [100.] is not unique. 4 duplicates registered. Continuing ...\u001b[0m\n",
      "\u001b[91mData point [100.] is not unique. 5 duplicates registered. Continuing ...\u001b[0m\n",
      "\u001b[91mData point [100.] is not unique. 6 duplicates registered. Continuing ...\u001b[0m\n",
      "\u001b[91mData point [100.] is not unique. 7 duplicates registered. Continuing ...\u001b[0m\n",
      "\u001b[91mData point [100.] is not unique. 8 duplicates registered. Continuing ...\u001b[0m\n"
     ]
    },
    {
     "name": "stderr",
     "output_type": "stream",
     "text": [
      "Running classifier:  64%|██████▍   | 462/720 [26:04<14:24,  3.35s/it]"
     ]
    },
    {
     "name": "stdout",
     "output_type": "stream",
     "text": [
      "\u001b[91mData point [100.] is not unique. 1 duplicates registered. Continuing ...\u001b[0m\n",
      "\u001b[91mData point [100.] is not unique. 2 duplicates registered. Continuing ...\u001b[0m\n",
      "\u001b[91mData point [100.] is not unique. 3 duplicates registered. Continuing ...\u001b[0m\n",
      "\u001b[91mData point [100.] is not unique. 4 duplicates registered. Continuing ...\u001b[0m\n",
      "\u001b[91mData point [100.] is not unique. 5 duplicates registered. Continuing ...\u001b[0m\n",
      "\u001b[91mData point [100.] is not unique. 6 duplicates registered. Continuing ...\u001b[0m\n",
      "\u001b[91mData point [100.] is not unique. 7 duplicates registered. Continuing ...\u001b[0m\n",
      "\u001b[91mData point [100.] is not unique. 8 duplicates registered. Continuing ...\u001b[0m\n",
      "\u001b[91mData point [100.] is not unique. 9 duplicates registered. Continuing ...\u001b[0m\n",
      "\u001b[91mData point [100.] is not unique. 10 duplicates registered. Continuing ...\u001b[0m\n",
      "\u001b[91mData point [100.] is not unique. 11 duplicates registered. Continuing ...\u001b[0m\n",
      "\u001b[91mData point [100.] is not unique. 12 duplicates registered. Continuing ...\u001b[0m\n",
      "\u001b[91mData point [100.] is not unique. 13 duplicates registered. Continuing ...\u001b[0m\n",
      "\u001b[91mData point [100.] is not unique. 14 duplicates registered. Continuing ...\u001b[0m\n",
      "\u001b[91mData point [100.] is not unique. 15 duplicates registered. Continuing ...\u001b[0m\n",
      "\u001b[91mData point [100.] is not unique. 16 duplicates registered. Continuing ...\u001b[0m\n"
     ]
    },
    {
     "name": "stderr",
     "output_type": "stream",
     "text": [
      "Running classifier:  65%|██████▍   | 465/720 [26:15<14:57,  3.52s/it]"
     ]
    },
    {
     "name": "stdout",
     "output_type": "stream",
     "text": [
      "\u001b[91mData point [100.] is not unique. 1 duplicates registered. Continuing ...\u001b[0m\n",
      "\u001b[91mData point [100.] is not unique. 2 duplicates registered. Continuing ...\u001b[0m\n",
      "\u001b[91mData point [100.] is not unique. 3 duplicates registered. Continuing ...\u001b[0m\n",
      "\u001b[91mData point [100.] is not unique. 4 duplicates registered. Continuing ...\u001b[0m\n",
      "\u001b[91mData point [100.] is not unique. 5 duplicates registered. Continuing ...\u001b[0m\n",
      "\u001b[91mData point [100.] is not unique. 6 duplicates registered. Continuing ...\u001b[0m\n",
      "\u001b[91mData point [100.] is not unique. 7 duplicates registered. Continuing ...\u001b[0m\n",
      "\u001b[91mData point [100.] is not unique. 8 duplicates registered. Continuing ...\u001b[0m\n",
      "\u001b[91mData point [100.] is not unique. 9 duplicates registered. Continuing ...\u001b[0m\n",
      "\u001b[91mData point [100.] is not unique. 10 duplicates registered. Continuing ...\u001b[0m\n"
     ]
    },
    {
     "name": "stderr",
     "output_type": "stream",
     "text": [
      "Running classifier:  67%|██████▋   | 480/720 [27:04<12:31,  3.13s/it]"
     ]
    },
    {
     "name": "stdout",
     "output_type": "stream",
     "text": [
      "\u001b[91mData point [100.] is not unique. 1 duplicates registered. Continuing ...\u001b[0m\n",
      "\u001b[91mData point [100.] is not unique. 2 duplicates registered. Continuing ...\u001b[0m\n",
      "\u001b[91mData point [100.] is not unique. 3 duplicates registered. Continuing ...\u001b[0m\n",
      "\u001b[91mData point [100.] is not unique. 4 duplicates registered. Continuing ...\u001b[0m\n",
      "\u001b[91mData point [100.] is not unique. 5 duplicates registered. Continuing ...\u001b[0m\n",
      "\u001b[91mData point [100.] is not unique. 6 duplicates registered. Continuing ...\u001b[0m\n",
      "\u001b[91mData point [100.] is not unique. 7 duplicates registered. Continuing ...\u001b[0m\n",
      "\u001b[91mData point [100.] is not unique. 8 duplicates registered. Continuing ...\u001b[0m\n",
      "\u001b[91mData point [100.] is not unique. 9 duplicates registered. Continuing ...\u001b[0m\n",
      "\u001b[91mData point [100.] is not unique. 10 duplicates registered. Continuing ...\u001b[0m\n",
      "\u001b[91mData point [100.] is not unique. 11 duplicates registered. Continuing ...\u001b[0m\n",
      "\u001b[91mData point [100.] is not unique. 12 duplicates registered. Continuing ...\u001b[0m\n",
      "\u001b[91mData point [100.] is not unique. 13 duplicates registered. Continuing ...\u001b[0m\n",
      "\u001b[91mData point [100.] is not unique. 14 duplicates registered. Continuing ...\u001b[0m\n",
      "\u001b[91mData point [100.] is not unique. 15 duplicates registered. Continuing ...\u001b[0m\n",
      "\u001b[91mData point [100.] is not unique. 16 duplicates registered. Continuing ...\u001b[0m\n",
      "\u001b[91mData point [100.] is not unique. 17 duplicates registered. Continuing ...\u001b[0m\n"
     ]
    },
    {
     "name": "stderr",
     "output_type": "stream",
     "text": [
      "Running classifier:  67%|██████▋   | 481/720 [27:07<13:01,  3.27s/it]"
     ]
    },
    {
     "name": "stdout",
     "output_type": "stream",
     "text": [
      "\u001b[91mData point [100.] is not unique. 1 duplicates registered. Continuing ...\u001b[0m\n",
      "\u001b[91mData point [100.] is not unique. 2 duplicates registered. Continuing ...\u001b[0m\n",
      "\u001b[91mData point [100.] is not unique. 3 duplicates registered. Continuing ...\u001b[0m\n",
      "\u001b[91mData point [100.] is not unique. 4 duplicates registered. Continuing ...\u001b[0m\n",
      "\u001b[91mData point [100.] is not unique. 5 duplicates registered. Continuing ...\u001b[0m\n",
      "\u001b[91mData point [100.] is not unique. 6 duplicates registered. Continuing ...\u001b[0m\n",
      "\u001b[91mData point [100.] is not unique. 7 duplicates registered. Continuing ...\u001b[0m\n",
      "\u001b[91mData point [100.] is not unique. 8 duplicates registered. Continuing ...\u001b[0m\n",
      "\u001b[91mData point [100.] is not unique. 9 duplicates registered. Continuing ...\u001b[0m\n",
      "\u001b[91mData point [100.] is not unique. 10 duplicates registered. Continuing ...\u001b[0m\n",
      "\u001b[91mData point [100.] is not unique. 11 duplicates registered. Continuing ...\u001b[0m\n",
      "\u001b[91mData point [100.] is not unique. 12 duplicates registered. Continuing ...\u001b[0m\n",
      "\u001b[91mData point [100.] is not unique. 13 duplicates registered. Continuing ...\u001b[0m\n",
      "\u001b[91mData point [100.] is not unique. 14 duplicates registered. Continuing ...\u001b[0m\n",
      "\u001b[91mData point [100.] is not unique. 15 duplicates registered. Continuing ...\u001b[0m\n",
      "\u001b[91mData point [100.] is not unique. 16 duplicates registered. Continuing ...\u001b[0m\n",
      "\u001b[91mData point [100.] is not unique. 17 duplicates registered. Continuing ...\u001b[0m\n"
     ]
    },
    {
     "name": "stderr",
     "output_type": "stream",
     "text": [
      "Running classifier:  67%|██████▋   | 483/720 [27:14<13:26,  3.40s/it]"
     ]
    },
    {
     "name": "stdout",
     "output_type": "stream",
     "text": [
      "\u001b[91mData point [100.] is not unique. 1 duplicates registered. Continuing ...\u001b[0m\n",
      "\u001b[91mData point [100.] is not unique. 2 duplicates registered. Continuing ...\u001b[0m\n",
      "\u001b[91mData point [100.] is not unique. 3 duplicates registered. Continuing ...\u001b[0m\n",
      "\u001b[91mData point [100.] is not unique. 4 duplicates registered. Continuing ...\u001b[0m\n",
      "\u001b[91mData point [100.] is not unique. 5 duplicates registered. Continuing ...\u001b[0m\n",
      "\u001b[91mData point [100.] is not unique. 6 duplicates registered. Continuing ...\u001b[0m\n",
      "\u001b[91mData point [100.] is not unique. 7 duplicates registered. Continuing ...\u001b[0m\n",
      "\u001b[91mData point [100.] is not unique. 8 duplicates registered. Continuing ...\u001b[0m\n",
      "\u001b[91mData point [100.] is not unique. 9 duplicates registered. Continuing ...\u001b[0m\n",
      "\u001b[91mData point [100.] is not unique. 10 duplicates registered. Continuing ...\u001b[0m\n",
      "\u001b[91mData point [100.] is not unique. 11 duplicates registered. Continuing ...\u001b[0m\n",
      "\u001b[91mData point [100.] is not unique. 12 duplicates registered. Continuing ...\u001b[0m\n",
      "\u001b[91mData point [100.] is not unique. 13 duplicates registered. Continuing ...\u001b[0m\n",
      "\u001b[91mData point [100.] is not unique. 14 duplicates registered. Continuing ...\u001b[0m\n",
      "\u001b[91mData point [100.] is not unique. 15 duplicates registered. Continuing ...\u001b[0m\n",
      "\u001b[91mData point [100.] is not unique. 16 duplicates registered. Continuing ...\u001b[0m\n",
      "\u001b[91mData point [100.] is not unique. 17 duplicates registered. Continuing ...\u001b[0m\n"
     ]
    },
    {
     "name": "stderr",
     "output_type": "stream",
     "text": [
      "Running classifier:  67%|██████▋   | 485/720 [27:23<15:31,  3.97s/it]"
     ]
    },
    {
     "name": "stdout",
     "output_type": "stream",
     "text": [
      "\u001b[91mData point [100.] is not unique. 1 duplicates registered. Continuing ...\u001b[0m\n"
     ]
    },
    {
     "name": "stderr",
     "output_type": "stream",
     "text": [
      "Running classifier:  69%|██████▉   | 498/720 [28:03<11:54,  3.22s/it]"
     ]
    },
    {
     "name": "stdout",
     "output_type": "stream",
     "text": [
      "\u001b[91mData point [100.] is not unique. 1 duplicates registered. Continuing ...\u001b[0m\n",
      "\u001b[91mData point [100.] is not unique. 2 duplicates registered. Continuing ...\u001b[0m\n",
      "\u001b[91mData point [100.] is not unique. 3 duplicates registered. Continuing ...\u001b[0m\n"
     ]
    },
    {
     "name": "stderr",
     "output_type": "stream",
     "text": [
      "Running classifier:  70%|██████▉   | 503/720 [28:22<14:16,  3.95s/it]"
     ]
    },
    {
     "name": "stdout",
     "output_type": "stream",
     "text": [
      "\u001b[91mData point [100.] is not unique. 1 duplicates registered. Continuing ...\u001b[0m\n",
      "\u001b[91mData point [100.] is not unique. 2 duplicates registered. Continuing ...\u001b[0m\n",
      "\u001b[91mData point [100.] is not unique. 3 duplicates registered. Continuing ...\u001b[0m\n",
      "\u001b[91mData point [100.] is not unique. 4 duplicates registered. Continuing ...\u001b[0m\n",
      "\u001b[91mData point [100.] is not unique. 5 duplicates registered. Continuing ...\u001b[0m\n"
     ]
    },
    {
     "name": "stderr",
     "output_type": "stream",
     "text": [
      "Running classifier:  72%|███████▏  | 519/720 [29:14<12:26,  3.71s/it]"
     ]
    },
    {
     "name": "stdout",
     "output_type": "stream",
     "text": [
      "\u001b[91mData point [100.] is not unique. 1 duplicates registered. Continuing ...\u001b[0m\n",
      "\u001b[91mData point [100.] is not unique. 2 duplicates registered. Continuing ...\u001b[0m\n"
     ]
    },
    {
     "name": "stderr",
     "output_type": "stream",
     "text": [
      "Running classifier:  72%|███████▏  | 520/720 [29:19<13:10,  3.95s/it]"
     ]
    },
    {
     "name": "stdout",
     "output_type": "stream",
     "text": [
      "\u001b[91mData point [100.] is not unique. 1 duplicates registered. Continuing ...\u001b[0m\n",
      "\u001b[91mData point [100.] is not unique. 2 duplicates registered. Continuing ...\u001b[0m\n",
      "\u001b[91mData point [100.] is not unique. 3 duplicates registered. Continuing ...\u001b[0m\n",
      "\u001b[91mData point [100.] is not unique. 4 duplicates registered. Continuing ...\u001b[0m\n",
      "\u001b[91mData point [100.] is not unique. 5 duplicates registered. Continuing ...\u001b[0m\n",
      "\u001b[91mData point [100.] is not unique. 6 duplicates registered. Continuing ...\u001b[0m\n",
      "\u001b[91mData point [100.] is not unique. 7 duplicates registered. Continuing ...\u001b[0m\n",
      "\u001b[91mData point [100.] is not unique. 8 duplicates registered. Continuing ...\u001b[0m\n",
      "\u001b[91mData point [100.] is not unique. 9 duplicates registered. Continuing ...\u001b[0m\n",
      "\u001b[91mData point [100.] is not unique. 10 duplicates registered. Continuing ...\u001b[0m\n",
      "\u001b[91mData point [100.] is not unique. 11 duplicates registered. Continuing ...\u001b[0m\n",
      "\u001b[91mData point [100.] is not unique. 12 duplicates registered. Continuing ...\u001b[0m\n",
      "\u001b[91mData point [100.] is not unique. 13 duplicates registered. Continuing ...\u001b[0m\n",
      "\u001b[91mData point [100.] is not unique. 14 duplicates registered. Continuing ...\u001b[0m\n",
      "\u001b[91mData point [100.] is not unique. 15 duplicates registered. Continuing ...\u001b[0m\n",
      "\u001b[91mData point [100.] is not unique. 16 duplicates registered. Continuing ...\u001b[0m\n",
      "\u001b[91mData point [100.] is not unique. 17 duplicates registered. Continuing ...\u001b[0m\n"
     ]
    },
    {
     "name": "stderr",
     "output_type": "stream",
     "text": [
      "Running classifier:  72%|███████▏  | 521/720 [29:24<13:56,  4.20s/it]"
     ]
    },
    {
     "name": "stdout",
     "output_type": "stream",
     "text": [
      "\u001b[91mData point [100.] is not unique. 1 duplicates registered. Continuing ...\u001b[0m\n",
      "\u001b[91mData point [100.] is not unique. 2 duplicates registered. Continuing ...\u001b[0m\n",
      "\u001b[91mData point [100.] is not unique. 3 duplicates registered. Continuing ...\u001b[0m\n",
      "\u001b[91mData point [100.] is not unique. 4 duplicates registered. Continuing ...\u001b[0m\n",
      "\u001b[91mData point [100.] is not unique. 5 duplicates registered. Continuing ...\u001b[0m\n",
      "\u001b[91mData point [100.] is not unique. 6 duplicates registered. Continuing ...\u001b[0m\n",
      "\u001b[91mData point [100.] is not unique. 7 duplicates registered. Continuing ...\u001b[0m\n",
      "\u001b[91mData point [100.] is not unique. 8 duplicates registered. Continuing ...\u001b[0m\n",
      "\u001b[91mData point [100.] is not unique. 9 duplicates registered. Continuing ...\u001b[0m\n",
      "\u001b[91mData point [100.] is not unique. 10 duplicates registered. Continuing ...\u001b[0m\n",
      "\u001b[91mData point [100.] is not unique. 11 duplicates registered. Continuing ...\u001b[0m\n",
      "\u001b[91mData point [100.] is not unique. 12 duplicates registered. Continuing ...\u001b[0m\n",
      "\u001b[91mData point [100.] is not unique. 13 duplicates registered. Continuing ...\u001b[0m\n",
      "\u001b[91mData point [100.] is not unique. 14 duplicates registered. Continuing ...\u001b[0m\n",
      "\u001b[91mData point [100.] is not unique. 15 duplicates registered. Continuing ...\u001b[0m\n",
      "\u001b[91mData point [100.] is not unique. 16 duplicates registered. Continuing ...\u001b[0m\n",
      "\u001b[91mData point [100.] is not unique. 17 duplicates registered. Continuing ...\u001b[0m\n",
      "\u001b[91mData point [100.] is not unique. 18 duplicates registered. Continuing ...\u001b[0m\n",
      "\u001b[91mData point [100.] is not unique. 19 duplicates registered. Continuing ...\u001b[0m\n"
     ]
    },
    {
     "name": "stderr",
     "output_type": "stream",
     "text": [
      "Running classifier:  75%|███████▍  | 538/720 [30:17<11:41,  3.85s/it]"
     ]
    },
    {
     "name": "stdout",
     "output_type": "stream",
     "text": [
      "\u001b[91mData point [100.] is not unique. 1 duplicates registered. Continuing ...\u001b[0m\n",
      "\u001b[91mData point [100.] is not unique. 2 duplicates registered. Continuing ...\u001b[0m\n",
      "\u001b[91mData point [100.] is not unique. 3 duplicates registered. Continuing ...\u001b[0m\n",
      "\u001b[91mData point [100.] is not unique. 4 duplicates registered. Continuing ...\u001b[0m\n",
      "\u001b[91mData point [100.] is not unique. 5 duplicates registered. Continuing ...\u001b[0m\n",
      "\u001b[91mData point [100.] is not unique. 6 duplicates registered. Continuing ...\u001b[0m\n",
      "\u001b[91mData point [100.] is not unique. 7 duplicates registered. Continuing ...\u001b[0m\n",
      "\u001b[91mData point [100.] is not unique. 8 duplicates registered. Continuing ...\u001b[0m\n",
      "\u001b[91mData point [100.] is not unique. 9 duplicates registered. Continuing ...\u001b[0m\n",
      "\u001b[91mData point [100.] is not unique. 10 duplicates registered. Continuing ...\u001b[0m\n",
      "\u001b[91mData point [100.] is not unique. 11 duplicates registered. Continuing ...\u001b[0m\n",
      "\u001b[91mData point [100.] is not unique. 12 duplicates registered. Continuing ...\u001b[0m\n",
      "\u001b[91mData point [100.] is not unique. 13 duplicates registered. Continuing ...\u001b[0m\n",
      "\u001b[91mData point [100.] is not unique. 14 duplicates registered. Continuing ...\u001b[0m\n",
      "\u001b[91mData point [100.] is not unique. 15 duplicates registered. Continuing ...\u001b[0m\n",
      "\u001b[91mData point [100.] is not unique. 16 duplicates registered. Continuing ...\u001b[0m\n"
     ]
    },
    {
     "name": "stderr",
     "output_type": "stream",
     "text": [
      "Running classifier:  75%|███████▌  | 540/720 [30:25<12:30,  4.17s/it]"
     ]
    },
    {
     "name": "stdout",
     "output_type": "stream",
     "text": [
      "\u001b[91mData point [0.01] is not unique. 1 duplicates registered. Continuing ...\u001b[0m\n"
     ]
    },
    {
     "name": "stderr",
     "output_type": "stream",
     "text": [
      "Running classifier:  77%|███████▋  | 552/720 [31:01<09:19,  3.33s/it]"
     ]
    },
    {
     "name": "stdout",
     "output_type": "stream",
     "text": [
      "\u001b[91mData point [100.] is not unique. 1 duplicates registered. Continuing ...\u001b[0m\n",
      "\u001b[91mData point [100.] is not unique. 2 duplicates registered. Continuing ...\u001b[0m\n",
      "\u001b[91mData point [100.] is not unique. 3 duplicates registered. Continuing ...\u001b[0m\n",
      "\u001b[91mData point [100.] is not unique. 4 duplicates registered. Continuing ...\u001b[0m\n",
      "\u001b[91mData point [100.] is not unique. 5 duplicates registered. Continuing ...\u001b[0m\n",
      "\u001b[91mData point [100.] is not unique. 6 duplicates registered. Continuing ...\u001b[0m\n",
      "\u001b[91mData point [100.] is not unique. 7 duplicates registered. Continuing ...\u001b[0m\n",
      "\u001b[91mData point [100.] is not unique. 8 duplicates registered. Continuing ...\u001b[0m\n",
      "\u001b[91mData point [100.] is not unique. 9 duplicates registered. Continuing ...\u001b[0m\n",
      "\u001b[91mData point [100.] is not unique. 10 duplicates registered. Continuing ...\u001b[0m\n"
     ]
    },
    {
     "name": "stderr",
     "output_type": "stream",
     "text": [
      "Running classifier:  77%|███████▋  | 555/720 [31:14<10:47,  3.92s/it]"
     ]
    },
    {
     "name": "stdout",
     "output_type": "stream",
     "text": [
      "\u001b[91mData point [100.] is not unique. 1 duplicates registered. Continuing ...\u001b[0m\n",
      "\u001b[91mData point [100.] is not unique. 2 duplicates registered. Continuing ...\u001b[0m\n",
      "\u001b[91mData point [100.] is not unique. 3 duplicates registered. Continuing ...\u001b[0m\n",
      "\u001b[91mData point [100.] is not unique. 4 duplicates registered. Continuing ...\u001b[0m\n",
      "\u001b[91mData point [100.] is not unique. 5 duplicates registered. Continuing ...\u001b[0m\n",
      "\u001b[91mData point [100.] is not unique. 6 duplicates registered. Continuing ...\u001b[0m\n",
      "\u001b[91mData point [100.] is not unique. 7 duplicates registered. Continuing ...\u001b[0m\n",
      "\u001b[91mData point [100.] is not unique. 8 duplicates registered. Continuing ...\u001b[0m\n",
      "\u001b[91mData point [100.] is not unique. 9 duplicates registered. Continuing ...\u001b[0m\n",
      "\u001b[91mData point [100.] is not unique. 10 duplicates registered. Continuing ...\u001b[0m\n",
      "\u001b[91mData point [100.] is not unique. 11 duplicates registered. Continuing ...\u001b[0m\n",
      "\u001b[91mData point [100.] is not unique. 12 duplicates registered. Continuing ...\u001b[0m\n",
      "\u001b[91mData point [100.] is not unique. 13 duplicates registered. Continuing ...\u001b[0m\n",
      "\u001b[91mData point [100.] is not unique. 14 duplicates registered. Continuing ...\u001b[0m\n",
      "\u001b[91mData point [100.] is not unique. 15 duplicates registered. Continuing ...\u001b[0m\n",
      "\u001b[91mData point [100.] is not unique. 16 duplicates registered. Continuing ...\u001b[0m\n"
     ]
    },
    {
     "name": "stderr",
     "output_type": "stream",
     "text": [
      "Running classifier:  77%|███████▋  | 557/720 [31:23<11:48,  4.35s/it]"
     ]
    },
    {
     "name": "stdout",
     "output_type": "stream",
     "text": [
      "\u001b[91mData point [100.] is not unique. 1 duplicates registered. Continuing ...\u001b[0m\n",
      "\u001b[91mData point [100.] is not unique. 2 duplicates registered. Continuing ...\u001b[0m\n",
      "\u001b[91mData point [100.] is not unique. 3 duplicates registered. Continuing ...\u001b[0m\n"
     ]
    },
    {
     "name": "stderr",
     "output_type": "stream",
     "text": [
      "Running classifier:  80%|███████▉  | 573/720 [32:13<08:28,  3.46s/it]"
     ]
    },
    {
     "name": "stdout",
     "output_type": "stream",
     "text": [
      "\u001b[91mData point [100.] is not unique. 1 duplicates registered. Continuing ...\u001b[0m\n",
      "\u001b[91mData point [100.] is not unique. 2 duplicates registered. Continuing ...\u001b[0m\n",
      "\u001b[91mData point [100.] is not unique. 3 duplicates registered. Continuing ...\u001b[0m\n",
      "\u001b[91mData point [100.] is not unique. 4 duplicates registered. Continuing ...\u001b[0m\n",
      "\u001b[91mData point [100.] is not unique. 5 duplicates registered. Continuing ...\u001b[0m\n",
      "\u001b[91mData point [100.] is not unique. 6 duplicates registered. Continuing ...\u001b[0m\n",
      "\u001b[91mData point [100.] is not unique. 7 duplicates registered. Continuing ...\u001b[0m\n",
      "\u001b[91mData point [100.] is not unique. 8 duplicates registered. Continuing ...\u001b[0m\n",
      "\u001b[91mData point [100.] is not unique. 9 duplicates registered. Continuing ...\u001b[0m\n",
      "\u001b[91mData point [100.] is not unique. 10 duplicates registered. Continuing ...\u001b[0m\n",
      "\u001b[91mData point [100.] is not unique. 11 duplicates registered. Continuing ...\u001b[0m\n",
      "\u001b[91mData point [100.] is not unique. 12 duplicates registered. Continuing ...\u001b[0m\n",
      "\u001b[91mData point [100.] is not unique. 13 duplicates registered. Continuing ...\u001b[0m\n",
      "\u001b[91mData point [100.] is not unique. 14 duplicates registered. Continuing ...\u001b[0m\n",
      "\u001b[91mData point [100.] is not unique. 15 duplicates registered. Continuing ...\u001b[0m\n",
      "\u001b[91mData point [100.] is not unique. 16 duplicates registered. Continuing ...\u001b[0m\n",
      "\u001b[91mData point [100.] is not unique. 17 duplicates registered. Continuing ...\u001b[0m\n",
      "\u001b[91mData point [100.] is not unique. 18 duplicates registered. Continuing ...\u001b[0m\n",
      "\u001b[91mData point [100.] is not unique. 19 duplicates registered. Continuing ...\u001b[0m\n"
     ]
    },
    {
     "name": "stderr",
     "output_type": "stream",
     "text": [
      "Running classifier:  80%|███████▉  | 574/720 [32:18<09:11,  3.78s/it]"
     ]
    },
    {
     "name": "stdout",
     "output_type": "stream",
     "text": [
      "\u001b[91mData point [100.] is not unique. 1 duplicates registered. Continuing ...\u001b[0m\n",
      "\u001b[91mData point [100.] is not unique. 2 duplicates registered. Continuing ...\u001b[0m\n",
      "\u001b[91mData point [100.] is not unique. 3 duplicates registered. Continuing ...\u001b[0m\n",
      "\u001b[91mData point [100.] is not unique. 4 duplicates registered. Continuing ...\u001b[0m\n",
      "\u001b[91mData point [100.] is not unique. 5 duplicates registered. Continuing ...\u001b[0m\n",
      "\u001b[91mData point [100.] is not unique. 6 duplicates registered. Continuing ...\u001b[0m\n",
      "\u001b[91mData point [100.] is not unique. 7 duplicates registered. Continuing ...\u001b[0m\n",
      "\u001b[91mData point [100.] is not unique. 8 duplicates registered. Continuing ...\u001b[0m\n",
      "\u001b[91mData point [100.] is not unique. 9 duplicates registered. Continuing ...\u001b[0m\n",
      "\u001b[91mData point [100.] is not unique. 10 duplicates registered. Continuing ...\u001b[0m\n"
     ]
    },
    {
     "name": "stderr",
     "output_type": "stream",
     "text": [
      "Running classifier:  80%|███████▉  | 575/720 [32:22<09:42,  4.01s/it]"
     ]
    },
    {
     "name": "stdout",
     "output_type": "stream",
     "text": [
      "\u001b[91mData point [100.] is not unique. 1 duplicates registered. Continuing ...\u001b[0m\n",
      "\u001b[91mData point [100.] is not unique. 2 duplicates registered. Continuing ...\u001b[0m\n",
      "\u001b[91mData point [100.] is not unique. 3 duplicates registered. Continuing ...\u001b[0m\n",
      "\u001b[91mData point [100.] is not unique. 4 duplicates registered. Continuing ...\u001b[0m\n",
      "\u001b[91mData point [100.] is not unique. 5 duplicates registered. Continuing ...\u001b[0m\n",
      "\u001b[91mData point [100.] is not unique. 6 duplicates registered. Continuing ...\u001b[0m\n",
      "\u001b[91mData point [100.] is not unique. 7 duplicates registered. Continuing ...\u001b[0m\n",
      "\u001b[91mData point [100.] is not unique. 8 duplicates registered. Continuing ...\u001b[0m\n",
      "\u001b[91mData point [100.] is not unique. 9 duplicates registered. Continuing ...\u001b[0m\n"
     ]
    },
    {
     "name": "stderr",
     "output_type": "stream",
     "text": [
      "Running classifier:  82%|████████▏ | 590/720 [33:08<07:01,  3.25s/it]"
     ]
    },
    {
     "name": "stdout",
     "output_type": "stream",
     "text": [
      "\u001b[91mData point [100.] is not unique. 1 duplicates registered. Continuing ...\u001b[0m\n",
      "\u001b[91mData point [100.] is not unique. 2 duplicates registered. Continuing ...\u001b[0m\n",
      "\u001b[91mData point [100.] is not unique. 3 duplicates registered. Continuing ...\u001b[0m\n",
      "\u001b[91mData point [100.] is not unique. 4 duplicates registered. Continuing ...\u001b[0m\n",
      "\u001b[91mData point [100.] is not unique. 5 duplicates registered. Continuing ...\u001b[0m\n",
      "\u001b[91mData point [100.] is not unique. 6 duplicates registered. Continuing ...\u001b[0m\n",
      "\u001b[91mData point [100.] is not unique. 7 duplicates registered. Continuing ...\u001b[0m\n",
      "\u001b[91mData point [100.] is not unique. 8 duplicates registered. Continuing ...\u001b[0m\n",
      "\u001b[91mData point [100.] is not unique. 9 duplicates registered. Continuing ...\u001b[0m\n"
     ]
    },
    {
     "name": "stderr",
     "output_type": "stream",
     "text": [
      "Running classifier:  82%|████████▏ | 593/720 [33:20<08:16,  3.91s/it]"
     ]
    },
    {
     "name": "stdout",
     "output_type": "stream",
     "text": [
      "\u001b[91mData point [100.] is not unique. 1 duplicates registered. Continuing ...\u001b[0m\n",
      "\u001b[91mData point [100.] is not unique. 2 duplicates registered. Continuing ...\u001b[0m\n",
      "\u001b[91mData point [100.] is not unique. 3 duplicates registered. Continuing ...\u001b[0m\n",
      "\u001b[91mData point [100.] is not unique. 4 duplicates registered. Continuing ...\u001b[0m\n",
      "\u001b[91mData point [100.] is not unique. 5 duplicates registered. Continuing ...\u001b[0m\n",
      "\u001b[91mData point [100.] is not unique. 6 duplicates registered. Continuing ...\u001b[0m\n",
      "\u001b[91mData point [100.] is not unique. 7 duplicates registered. Continuing ...\u001b[0m\n",
      "\u001b[91mData point [100.] is not unique. 8 duplicates registered. Continuing ...\u001b[0m\n",
      "\u001b[91mData point [100.] is not unique. 9 duplicates registered. Continuing ...\u001b[0m\n",
      "\u001b[91mData point [100.] is not unique. 10 duplicates registered. Continuing ...\u001b[0m\n",
      "\u001b[91mData point [100.] is not unique. 11 duplicates registered. Continuing ...\u001b[0m\n",
      "\u001b[91mData point [100.] is not unique. 12 duplicates registered. Continuing ...\u001b[0m\n",
      "\u001b[91mData point [100.] is not unique. 13 duplicates registered. Continuing ...\u001b[0m\n",
      "\u001b[91mData point [100.] is not unique. 14 duplicates registered. Continuing ...\u001b[0m\n",
      "\u001b[91mData point [100.] is not unique. 15 duplicates registered. Continuing ...\u001b[0m\n",
      "\u001b[91mData point [100.] is not unique. 16 duplicates registered. Continuing ...\u001b[0m\n",
      "\u001b[91mData point [100.] is not unique. 17 duplicates registered. Continuing ...\u001b[0m\n",
      "\u001b[91mData point [100.] is not unique. 18 duplicates registered. Continuing ...\u001b[0m\n"
     ]
    },
    {
     "name": "stderr",
     "output_type": "stream",
     "text": [
      "Running classifier:  83%|████████▎ | 600/720 [33:40<05:25,  2.71s/it]"
     ]
    },
    {
     "name": "stdout",
     "output_type": "stream",
     "text": [
      "\u001b[91mData point [100.] is not unique. 1 duplicates registered. Continuing ...\u001b[0m\n",
      "\u001b[91mData point [100.] is not unique. 2 duplicates registered. Continuing ...\u001b[0m\n",
      "\u001b[91mData point [100.] is not unique. 3 duplicates registered. Continuing ...\u001b[0m\n",
      "\u001b[91mData point [100.] is not unique. 4 duplicates registered. Continuing ...\u001b[0m\n",
      "\u001b[91mData point [100.] is not unique. 5 duplicates registered. Continuing ...\u001b[0m\n"
     ]
    },
    {
     "name": "stderr",
     "output_type": "stream",
     "text": [
      "Running classifier:  84%|████████▍ | 604/720 [33:51<05:32,  2.87s/it]"
     ]
    },
    {
     "name": "stdout",
     "output_type": "stream",
     "text": [
      "\u001b[91mData point [100.] is not unique. 1 duplicates registered. Continuing ...\u001b[0m\n",
      "\u001b[91mData point [100.] is not unique. 2 duplicates registered. Continuing ...\u001b[0m\n",
      "\u001b[91mData point [100.] is not unique. 3 duplicates registered. Continuing ...\u001b[0m\n"
     ]
    },
    {
     "name": "stderr",
     "output_type": "stream",
     "text": [
      "Running classifier:  88%|████████▊ | 634/720 [35:25<03:51,  2.69s/it]"
     ]
    },
    {
     "name": "stdout",
     "output_type": "stream",
     "text": [
      "\u001b[91mData point [100.] is not unique. 1 duplicates registered. Continuing ...\u001b[0m\n",
      "\u001b[91mData point [100.] is not unique. 2 duplicates registered. Continuing ...\u001b[0m\n",
      "\u001b[91mData point [100.] is not unique. 3 duplicates registered. Continuing ...\u001b[0m\n",
      "\u001b[91mData point [100.] is not unique. 4 duplicates registered. Continuing ...\u001b[0m\n",
      "\u001b[91mData point [100.] is not unique. 5 duplicates registered. Continuing ...\u001b[0m\n",
      "\u001b[91mData point [100.] is not unique. 6 duplicates registered. Continuing ...\u001b[0m\n",
      "\u001b[91mData point [100.] is not unique. 7 duplicates registered. Continuing ...\u001b[0m\n",
      "\u001b[91mData point [100.] is not unique. 8 duplicates registered. Continuing ...\u001b[0m\n",
      "\u001b[91mData point [100.] is not unique. 9 duplicates registered. Continuing ...\u001b[0m\n",
      "\u001b[91mData point [100.] is not unique. 10 duplicates registered. Continuing ...\u001b[0m\n",
      "\u001b[91mData point [100.] is not unique. 11 duplicates registered. Continuing ...\u001b[0m\n",
      "\u001b[91mData point [100.] is not unique. 12 duplicates registered. Continuing ...\u001b[0m\n",
      "\u001b[91mData point [100.] is not unique. 13 duplicates registered. Continuing ...\u001b[0m\n",
      "\u001b[91mData point [100.] is not unique. 14 duplicates registered. Continuing ...\u001b[0m\n",
      "\u001b[91mData point [100.] is not unique. 15 duplicates registered. Continuing ...\u001b[0m\n",
      "\u001b[91mData point [100.] is not unique. 16 duplicates registered. Continuing ...\u001b[0m\n"
     ]
    },
    {
     "name": "stderr",
     "output_type": "stream",
     "text": [
      "Running classifier:  88%|████████▊ | 636/720 [35:30<03:37,  2.59s/it]"
     ]
    },
    {
     "name": "stdout",
     "output_type": "stream",
     "text": [
      "\u001b[91mData point [100.] is not unique. 1 duplicates registered. Continuing ...\u001b[0m\n",
      "\u001b[91mData point [100.] is not unique. 2 duplicates registered. Continuing ...\u001b[0m\n",
      "\u001b[91mData point [100.] is not unique. 3 duplicates registered. Continuing ...\u001b[0m\n",
      "\u001b[91mData point [100.] is not unique. 4 duplicates registered. Continuing ...\u001b[0m\n",
      "\u001b[91mData point [100.] is not unique. 5 duplicates registered. Continuing ...\u001b[0m\n",
      "\u001b[91mData point [100.] is not unique. 6 duplicates registered. Continuing ...\u001b[0m\n",
      "\u001b[91mData point [100.] is not unique. 7 duplicates registered. Continuing ...\u001b[0m\n",
      "\u001b[91mData point [100.] is not unique. 8 duplicates registered. Continuing ...\u001b[0m\n",
      "\u001b[91mData point [100.] is not unique. 9 duplicates registered. Continuing ...\u001b[0m\n",
      "\u001b[91mData point [100.] is not unique. 10 duplicates registered. Continuing ...\u001b[0m\n",
      "\u001b[91mData point [100.] is not unique. 11 duplicates registered. Continuing ...\u001b[0m\n",
      "\u001b[91mData point [100.] is not unique. 12 duplicates registered. Continuing ...\u001b[0m\n",
      "\u001b[91mData point [100.] is not unique. 13 duplicates registered. Continuing ...\u001b[0m\n",
      "\u001b[91mData point [100.] is not unique. 14 duplicates registered. Continuing ...\u001b[0m\n",
      "\u001b[91mData point [100.] is not unique. 15 duplicates registered. Continuing ...\u001b[0m\n",
      "\u001b[91mData point [100.] is not unique. 16 duplicates registered. Continuing ...\u001b[0m\n"
     ]
    },
    {
     "name": "stderr",
     "output_type": "stream",
     "text": [
      "Running classifier:  89%|████████▉ | 640/720 [35:42<04:02,  3.03s/it]"
     ]
    },
    {
     "name": "stdout",
     "output_type": "stream",
     "text": [
      "\u001b[91mData point [100.] is not unique. 1 duplicates registered. Continuing ...\u001b[0m\n",
      "\u001b[91mData point [100.] is not unique. 2 duplicates registered. Continuing ...\u001b[0m\n",
      "\u001b[91mData point [100.] is not unique. 3 duplicates registered. Continuing ...\u001b[0m\n",
      "\u001b[91mData point [100.] is not unique. 4 duplicates registered. Continuing ...\u001b[0m\n",
      "\u001b[91mData point [100.] is not unique. 5 duplicates registered. Continuing ...\u001b[0m\n",
      "\u001b[91mData point [100.] is not unique. 6 duplicates registered. Continuing ...\u001b[0m\n",
      "\u001b[91mData point [100.] is not unique. 7 duplicates registered. Continuing ...\u001b[0m\n",
      "\u001b[91mData point [100.] is not unique. 8 duplicates registered. Continuing ...\u001b[0m\n",
      "\u001b[91mData point [100.] is not unique. 9 duplicates registered. Continuing ...\u001b[0m\n"
     ]
    },
    {
     "name": "stderr",
     "output_type": "stream",
     "text": [
      "Running classifier:  89%|████████▉ | 644/720 [35:56<04:07,  3.25s/it]"
     ]
    },
    {
     "name": "stdout",
     "output_type": "stream",
     "text": [
      "\u001b[91mData point [100.] is not unique. 1 duplicates registered. Continuing ...\u001b[0m\n",
      "\u001b[91mData point [100.] is not unique. 2 duplicates registered. Continuing ...\u001b[0m\n",
      "\u001b[91mData point [100.] is not unique. 3 duplicates registered. Continuing ...\u001b[0m\n",
      "\u001b[91mData point [100.] is not unique. 4 duplicates registered. Continuing ...\u001b[0m\n",
      "\u001b[91mData point [100.] is not unique. 5 duplicates registered. Continuing ...\u001b[0m\n"
     ]
    },
    {
     "name": "stderr",
     "output_type": "stream",
     "text": [
      "Running classifier:  90%|████████▉ | 645/720 [35:59<04:08,  3.31s/it]"
     ]
    },
    {
     "name": "stdout",
     "output_type": "stream",
     "text": [
      "\u001b[91mData point [100.] is not unique. 1 duplicates registered. Continuing ...\u001b[0m\n",
      "\u001b[91mData point [100.] is not unique. 2 duplicates registered. Continuing ...\u001b[0m\n",
      "\u001b[91mData point [100.] is not unique. 3 duplicates registered. Continuing ...\u001b[0m\n",
      "\u001b[91mData point [100.] is not unique. 4 duplicates registered. Continuing ...\u001b[0m\n",
      "\u001b[91mData point [100.] is not unique. 5 duplicates registered. Continuing ...\u001b[0m\n",
      "\u001b[91mData point [100.] is not unique. 6 duplicates registered. Continuing ...\u001b[0m\n",
      "\u001b[91mData point [100.] is not unique. 7 duplicates registered. Continuing ...\u001b[0m\n",
      "\u001b[91mData point [100.] is not unique. 8 duplicates registered. Continuing ...\u001b[0m\n",
      "\u001b[91mData point [100.] is not unique. 9 duplicates registered. Continuing ...\u001b[0m\n",
      "\u001b[91mData point [100.] is not unique. 10 duplicates registered. Continuing ...\u001b[0m\n",
      "\u001b[91mData point [100.] is not unique. 11 duplicates registered. Continuing ...\u001b[0m\n",
      "\u001b[91mData point [100.] is not unique. 12 duplicates registered. Continuing ...\u001b[0m\n",
      "\u001b[91mData point [100.] is not unique. 13 duplicates registered. Continuing ...\u001b[0m\n",
      "\u001b[91mData point [100.] is not unique. 14 duplicates registered. Continuing ...\u001b[0m\n",
      "\u001b[91mData point [100.] is not unique. 15 duplicates registered. Continuing ...\u001b[0m\n",
      "\u001b[91mData point [100.] is not unique. 16 duplicates registered. Continuing ...\u001b[0m\n",
      "\u001b[91mData point [100.] is not unique. 17 duplicates registered. Continuing ...\u001b[0m\n",
      "\u001b[91mData point [100.] is not unique. 18 duplicates registered. Continuing ...\u001b[0m\n"
     ]
    },
    {
     "name": "stderr",
     "output_type": "stream",
     "text": [
      "Running classifier:  90%|████████▉ | 647/720 [36:08<04:47,  3.93s/it]"
     ]
    },
    {
     "name": "stdout",
     "output_type": "stream",
     "text": [
      "\u001b[91mData point [100.] is not unique. 1 duplicates registered. Continuing ...\u001b[0m\n",
      "\u001b[91mData point [100.] is not unique. 2 duplicates registered. Continuing ...\u001b[0m\n",
      "\u001b[91mData point [100.] is not unique. 3 duplicates registered. Continuing ...\u001b[0m\n",
      "\u001b[91mData point [100.] is not unique. 4 duplicates registered. Continuing ...\u001b[0m\n",
      "\u001b[91mData point [100.] is not unique. 5 duplicates registered. Continuing ...\u001b[0m\n",
      "\u001b[91mData point [100.] is not unique. 6 duplicates registered. Continuing ...\u001b[0m\n",
      "\u001b[91mData point [100.] is not unique. 7 duplicates registered. Continuing ...\u001b[0m\n",
      "\u001b[91mData point [100.] is not unique. 8 duplicates registered. Continuing ...\u001b[0m\n",
      "\u001b[91mData point [100.] is not unique. 9 duplicates registered. Continuing ...\u001b[0m\n",
      "\u001b[91mData point [100.] is not unique. 10 duplicates registered. Continuing ...\u001b[0m\n",
      "\u001b[91mData point [100.] is not unique. 11 duplicates registered. Continuing ...\u001b[0m\n",
      "\u001b[91mData point [100.] is not unique. 12 duplicates registered. Continuing ...\u001b[0m\n"
     ]
    },
    {
     "name": "stderr",
     "output_type": "stream",
     "text": [
      "Running classifier:  95%|█████████▍| 681/720 [37:52<02:16,  3.51s/it]"
     ]
    },
    {
     "name": "stdout",
     "output_type": "stream",
     "text": [
      "\u001b[91mData point [100.] is not unique. 1 duplicates registered. Continuing ...\u001b[0m\n",
      "\u001b[91mData point [100.] is not unique. 2 duplicates registered. Continuing ...\u001b[0m\n",
      "\u001b[91mData point [100.] is not unique. 3 duplicates registered. Continuing ...\u001b[0m\n",
      "\u001b[91mData point [100.] is not unique. 4 duplicates registered. Continuing ...\u001b[0m\n",
      "\u001b[91mData point [100.] is not unique. 5 duplicates registered. Continuing ...\u001b[0m\n",
      "\u001b[91mData point [100.] is not unique. 6 duplicates registered. Continuing ...\u001b[0m\n",
      "\u001b[91mData point [100.] is not unique. 7 duplicates registered. Continuing ...\u001b[0m\n",
      "\u001b[91mData point [100.] is not unique. 8 duplicates registered. Continuing ...\u001b[0m\n"
     ]
    },
    {
     "name": "stderr",
     "output_type": "stream",
     "text": [
      "Running classifier:  96%|█████████▌| 690/720 [38:21<01:20,  2.68s/it]"
     ]
    },
    {
     "name": "stdout",
     "output_type": "stream",
     "text": [
      "\u001b[91mData point [100.] is not unique. 1 duplicates registered. Continuing ...\u001b[0m\n",
      "\u001b[91mData point [100.] is not unique. 2 duplicates registered. Continuing ...\u001b[0m\n",
      "\u001b[91mData point [100.] is not unique. 3 duplicates registered. Continuing ...\u001b[0m\n",
      "\u001b[91mData point [100.] is not unique. 4 duplicates registered. Continuing ...\u001b[0m\n",
      "\u001b[91mData point [100.] is not unique. 5 duplicates registered. Continuing ...\u001b[0m\n",
      "\u001b[91mData point [100.] is not unique. 6 duplicates registered. Continuing ...\u001b[0m\n"
     ]
    },
    {
     "name": "stderr",
     "output_type": "stream",
     "text": [
      "Running classifier:  97%|█████████▋| 698/720 [38:48<01:14,  3.40s/it]"
     ]
    },
    {
     "name": "stdout",
     "output_type": "stream",
     "text": [
      "\u001b[91mData point [100.] is not unique. 1 duplicates registered. Continuing ...\u001b[0m\n"
     ]
    },
    {
     "name": "stderr",
     "output_type": "stream",
     "text": [
      "Running classifier:  97%|█████████▋| 699/720 [38:51<01:14,  3.53s/it]"
     ]
    },
    {
     "name": "stdout",
     "output_type": "stream",
     "text": [
      "\u001b[91mData point [100.] is not unique. 1 duplicates registered. Continuing ...\u001b[0m\n",
      "\u001b[91mData point [100.] is not unique. 2 duplicates registered. Continuing ...\u001b[0m\n",
      "\u001b[91mData point [100.] is not unique. 3 duplicates registered. Continuing ...\u001b[0m\n",
      "\u001b[91mData point [100.] is not unique. 4 duplicates registered. Continuing ...\u001b[0m\n",
      "\u001b[91mData point [100.] is not unique. 5 duplicates registered. Continuing ...\u001b[0m\n",
      "\u001b[91mData point [100.] is not unique. 6 duplicates registered. Continuing ...\u001b[0m\n"
     ]
    },
    {
     "name": "stderr",
     "output_type": "stream",
     "text": [
      "Running classifier:  97%|█████████▋| 700/720 [38:56<01:18,  3.94s/it]"
     ]
    },
    {
     "name": "stdout",
     "output_type": "stream",
     "text": [
      "\u001b[91mData point [100.] is not unique. 1 duplicates registered. Continuing ...\u001b[0m\n",
      "\u001b[91mData point [100.] is not unique. 2 duplicates registered. Continuing ...\u001b[0m\n",
      "\u001b[91mData point [100.] is not unique. 3 duplicates registered. Continuing ...\u001b[0m\n",
      "\u001b[91mData point [100.] is not unique. 4 duplicates registered. Continuing ...\u001b[0m\n",
      "\u001b[91mData point [100.] is not unique. 5 duplicates registered. Continuing ...\u001b[0m\n",
      "\u001b[91mData point [100.] is not unique. 6 duplicates registered. Continuing ...\u001b[0m\n",
      "\u001b[91mData point [100.] is not unique. 7 duplicates registered. Continuing ...\u001b[0m\n",
      "\u001b[91mData point [100.] is not unique. 8 duplicates registered. Continuing ...\u001b[0m\n",
      "\u001b[91mData point [100.] is not unique. 9 duplicates registered. Continuing ...\u001b[0m\n",
      "\u001b[91mData point [100.] is not unique. 10 duplicates registered. Continuing ...\u001b[0m\n",
      "\u001b[91mData point [100.] is not unique. 11 duplicates registered. Continuing ...\u001b[0m\n",
      "\u001b[91mData point [100.] is not unique. 12 duplicates registered. Continuing ...\u001b[0m\n",
      "\u001b[91mData point [100.] is not unique. 13 duplicates registered. Continuing ...\u001b[0m\n",
      "\u001b[91mData point [100.] is not unique. 14 duplicates registered. Continuing ...\u001b[0m\n",
      "\u001b[91mData point [100.] is not unique. 15 duplicates registered. Continuing ...\u001b[0m\n",
      "\u001b[91mData point [100.] is not unique. 16 duplicates registered. Continuing ...\u001b[0m\n",
      "\u001b[91mData point [100.] is not unique. 17 duplicates registered. Continuing ...\u001b[0m\n",
      "\u001b[91mData point [100.] is not unique. 18 duplicates registered. Continuing ...\u001b[0m\n"
     ]
    },
    {
     "name": "stderr",
     "output_type": "stream",
     "text": [
      "Running classifier: 100%|██████████| 720/720 [40:03<00:00,  4.21s/it]"
     ]
    },
    {
     "data": {
      "text/html": [
       "<div>\n",
       "<style scoped>\n",
       "    .dataframe tbody tr th:only-of-type {\n",
       "        vertical-align: middle;\n",
       "    }\n",
       "\n",
       "    .dataframe tbody tr th {\n",
       "        vertical-align: top;\n",
       "    }\n",
       "\n",
       "    .dataframe thead th {\n",
       "        text-align: right;\n",
       "    }\n",
       "</style>\n",
       "<table border=\"1\" class=\"dataframe\">\n",
       "  <thead>\n",
       "    <tr style=\"text-align: right;\">\n",
       "      <th></th>\n",
       "      <th>test_size</th>\n",
       "      <th>Normalized ../data/data-norm/nthroot 0.0</th>\n",
       "      <th>Normalized ../data/data-norm/nthroot 0.03448</th>\n",
       "      <th>Normalized ../data/data-norm/nthroot 0.06897</th>\n",
       "      <th>Normalized ../data/data-norm/nthroot 0.1034</th>\n",
       "      <th>Normalized ../data/data-norm/nthroot 0.1379</th>\n",
       "      <th>Normalized ../data/data-norm/nthroot 0.1724</th>\n",
       "      <th>Normalized ../data/data-norm/nthroot 0.2069</th>\n",
       "      <th>Normalized ../data/data-norm/nthroot 0.2414</th>\n",
       "      <th>Normalized ../data/data-norm/nthroot 0.2759</th>\n",
       "      <th>...</th>\n",
       "      <th>Normalized ../data/data-norm/nthroot 1.0</th>\n",
       "      <th>Normalized ../data/data-norm/norm 2</th>\n",
       "      <th>Normalized ../data/data-norm/norm 21</th>\n",
       "      <th>Normalized ../data/data-norm/norm 3</th>\n",
       "      <th>Normalized ../data/data-norm/norm 31</th>\n",
       "      <th>Normalized ../data/data-norm/norm 4</th>\n",
       "      <th>Normalized ../data/data-norm/norm 41</th>\n",
       "      <th>Normalized ../data/data-norm/norm 5</th>\n",
       "      <th>Normalized ../data/data-norm/norm 51</th>\n",
       "      <th>Normalized ../data/data-norm/nthroot log</th>\n",
       "    </tr>\n",
       "  </thead>\n",
       "  <tbody>\n",
       "    <tr>\n",
       "      <th>0</th>\n",
       "      <td>0.20</td>\n",
       "      <td>55.842965</td>\n",
       "      <td>77.967345</td>\n",
       "      <td>77.527059</td>\n",
       "      <td>78.211949</td>\n",
       "      <td>76.982817</td>\n",
       "      <td>77.459793</td>\n",
       "      <td>78.291445</td>\n",
       "      <td>78.847918</td>\n",
       "      <td>77.924540</td>\n",
       "      <td>...</td>\n",
       "      <td>75.882101</td>\n",
       "      <td>78.939644</td>\n",
       "      <td>80.602947</td>\n",
       "      <td>76.365193</td>\n",
       "      <td>70.506941</td>\n",
       "      <td>72.445423</td>\n",
       "      <td>70.072770</td>\n",
       "      <td>80.810860</td>\n",
       "      <td>76.163395</td>\n",
       "      <td>78.309790</td>\n",
       "    </tr>\n",
       "    <tr>\n",
       "      <th>1</th>\n",
       "      <td>0.25</td>\n",
       "      <td>47.972014</td>\n",
       "      <td>77.391262</td>\n",
       "      <td>76.412740</td>\n",
       "      <td>77.043887</td>\n",
       "      <td>76.486129</td>\n",
       "      <td>77.229806</td>\n",
       "      <td>76.843290</td>\n",
       "      <td>77.469544</td>\n",
       "      <td>76.339351</td>\n",
       "      <td>...</td>\n",
       "      <td>75.522286</td>\n",
       "      <td>78.585058</td>\n",
       "      <td>80.189833</td>\n",
       "      <td>71.397818</td>\n",
       "      <td>70.893879</td>\n",
       "      <td>74.582905</td>\n",
       "      <td>70.174666</td>\n",
       "      <td>79.245560</td>\n",
       "      <td>75.429326</td>\n",
       "      <td>76.437203</td>\n",
       "    </tr>\n",
       "    <tr>\n",
       "      <th>2</th>\n",
       "      <td>0.33</td>\n",
       "      <td>55.203469</td>\n",
       "      <td>73.815877</td>\n",
       "      <td>74.268031</td>\n",
       "      <td>74.879549</td>\n",
       "      <td>75.479950</td>\n",
       "      <td>74.223556</td>\n",
       "      <td>75.027796</td>\n",
       "      <td>72.492773</td>\n",
       "      <td>74.668297</td>\n",
       "      <td>...</td>\n",
       "      <td>74.179082</td>\n",
       "      <td>76.669632</td>\n",
       "      <td>78.848862</td>\n",
       "      <td>69.998518</td>\n",
       "      <td>70.402491</td>\n",
       "      <td>69.968868</td>\n",
       "      <td>70.072641</td>\n",
       "      <td>77.214439</td>\n",
       "      <td>71.862723</td>\n",
       "      <td>75.157512</td>\n",
       "    </tr>\n",
       "    <tr>\n",
       "      <th>3</th>\n",
       "      <td>0.40</td>\n",
       "      <td>55.095863</td>\n",
       "      <td>74.623123</td>\n",
       "      <td>74.415191</td>\n",
       "      <td>74.464116</td>\n",
       "      <td>74.188912</td>\n",
       "      <td>73.173715</td>\n",
       "      <td>74.442712</td>\n",
       "      <td>73.152310</td>\n",
       "      <td>74.393787</td>\n",
       "      <td>...</td>\n",
       "      <td>74.060484</td>\n",
       "      <td>75.937987</td>\n",
       "      <td>77.506651</td>\n",
       "      <td>71.751827</td>\n",
       "      <td>69.317800</td>\n",
       "      <td>69.482922</td>\n",
       "      <td>69.644987</td>\n",
       "      <td>76.833930</td>\n",
       "      <td>71.180014</td>\n",
       "      <td>73.678256</td>\n",
       "    </tr>\n",
       "    <tr>\n",
       "      <th>4</th>\n",
       "      <td>0.50</td>\n",
       "      <td>55.186164</td>\n",
       "      <td>71.011302</td>\n",
       "      <td>72.351876</td>\n",
       "      <td>73.195851</td>\n",
       "      <td>72.806889</td>\n",
       "      <td>72.660111</td>\n",
       "      <td>72.085229</td>\n",
       "      <td>72.525564</td>\n",
       "      <td>72.006948</td>\n",
       "      <td>...</td>\n",
       "      <td>72.909634</td>\n",
       "      <td>74.536425</td>\n",
       "      <td>76.295318</td>\n",
       "      <td>69.249963</td>\n",
       "      <td>69.210822</td>\n",
       "      <td>70.367924</td>\n",
       "      <td>69.301336</td>\n",
       "      <td>74.350506</td>\n",
       "      <td>68.772934</td>\n",
       "      <td>71.887079</td>\n",
       "    </tr>\n",
       "    <tr>\n",
       "      <th>5</th>\n",
       "      <td>0.75</td>\n",
       "      <td>51.770308</td>\n",
       "      <td>68.843877</td>\n",
       "      <td>68.794951</td>\n",
       "      <td>68.555213</td>\n",
       "      <td>69.197775</td>\n",
       "      <td>68.597616</td>\n",
       "      <td>68.041489</td>\n",
       "      <td>68.953145</td>\n",
       "      <td>69.104816</td>\n",
       "      <td>...</td>\n",
       "      <td>70.381786</td>\n",
       "      <td>72.324152</td>\n",
       "      <td>72.342091</td>\n",
       "      <td>67.540812</td>\n",
       "      <td>67.557121</td>\n",
       "      <td>67.716946</td>\n",
       "      <td>67.950161</td>\n",
       "      <td>69.804459</td>\n",
       "      <td>67.320645</td>\n",
       "      <td>65.145066</td>\n",
       "    </tr>\n",
       "  </tbody>\n",
       "</table>\n",
       "<p>6 rows × 41 columns</p>\n",
       "</div>"
      ],
      "text/plain": [
       "   test_size  Normalized ../data/data-norm/nthroot 0.0  \\\n",
       "0       0.20                                 55.842965   \n",
       "1       0.25                                 47.972014   \n",
       "2       0.33                                 55.203469   \n",
       "3       0.40                                 55.095863   \n",
       "4       0.50                                 55.186164   \n",
       "5       0.75                                 51.770308   \n",
       "\n",
       "   Normalized ../data/data-norm/nthroot 0.03448  \\\n",
       "0                                     77.967345   \n",
       "1                                     77.391262   \n",
       "2                                     73.815877   \n",
       "3                                     74.623123   \n",
       "4                                     71.011302   \n",
       "5                                     68.843877   \n",
       "\n",
       "   Normalized ../data/data-norm/nthroot 0.06897  \\\n",
       "0                                     77.527059   \n",
       "1                                     76.412740   \n",
       "2                                     74.268031   \n",
       "3                                     74.415191   \n",
       "4                                     72.351876   \n",
       "5                                     68.794951   \n",
       "\n",
       "   Normalized ../data/data-norm/nthroot 0.1034  \\\n",
       "0                                    78.211949   \n",
       "1                                    77.043887   \n",
       "2                                    74.879549   \n",
       "3                                    74.464116   \n",
       "4                                    73.195851   \n",
       "5                                    68.555213   \n",
       "\n",
       "   Normalized ../data/data-norm/nthroot 0.1379  \\\n",
       "0                                    76.982817   \n",
       "1                                    76.486129   \n",
       "2                                    75.479950   \n",
       "3                                    74.188912   \n",
       "4                                    72.806889   \n",
       "5                                    69.197775   \n",
       "\n",
       "   Normalized ../data/data-norm/nthroot 0.1724  \\\n",
       "0                                    77.459793   \n",
       "1                                    77.229806   \n",
       "2                                    74.223556   \n",
       "3                                    73.173715   \n",
       "4                                    72.660111   \n",
       "5                                    68.597616   \n",
       "\n",
       "   Normalized ../data/data-norm/nthroot 0.2069  \\\n",
       "0                                    78.291445   \n",
       "1                                    76.843290   \n",
       "2                                    75.027796   \n",
       "3                                    74.442712   \n",
       "4                                    72.085229   \n",
       "5                                    68.041489   \n",
       "\n",
       "   Normalized ../data/data-norm/nthroot 0.2414  \\\n",
       "0                                    78.847918   \n",
       "1                                    77.469544   \n",
       "2                                    72.492773   \n",
       "3                                    73.152310   \n",
       "4                                    72.525564   \n",
       "5                                    68.953145   \n",
       "\n",
       "   Normalized ../data/data-norm/nthroot 0.2759  ...  \\\n",
       "0                                    77.924540  ...   \n",
       "1                                    76.339351  ...   \n",
       "2                                    74.668297  ...   \n",
       "3                                    74.393787  ...   \n",
       "4                                    72.006948  ...   \n",
       "5                                    69.104816  ...   \n",
       "\n",
       "   Normalized ../data/data-norm/nthroot 1.0  \\\n",
       "0                                 75.882101   \n",
       "1                                 75.522286   \n",
       "2                                 74.179082   \n",
       "3                                 74.060484   \n",
       "4                                 72.909634   \n",
       "5                                 70.381786   \n",
       "\n",
       "   Normalized ../data/data-norm/norm 2  Normalized ../data/data-norm/norm 21  \\\n",
       "0                            78.939644                             80.602947   \n",
       "1                            78.585058                             80.189833   \n",
       "2                            76.669632                             78.848862   \n",
       "3                            75.937987                             77.506651   \n",
       "4                            74.536425                             76.295318   \n",
       "5                            72.324152                             72.342091   \n",
       "\n",
       "   Normalized ../data/data-norm/norm 3  Normalized ../data/data-norm/norm 31  \\\n",
       "0                            76.365193                             70.506941   \n",
       "1                            71.397818                             70.893879   \n",
       "2                            69.998518                             70.402491   \n",
       "3                            71.751827                             69.317800   \n",
       "4                            69.249963                             69.210822   \n",
       "5                            67.540812                             67.557121   \n",
       "\n",
       "   Normalized ../data/data-norm/norm 4  Normalized ../data/data-norm/norm 41  \\\n",
       "0                            72.445423                             70.072770   \n",
       "1                            74.582905                             70.174666   \n",
       "2                            69.968868                             70.072641   \n",
       "3                            69.482922                             69.644987   \n",
       "4                            70.367924                             69.301336   \n",
       "5                            67.716946                             67.950161   \n",
       "\n",
       "   Normalized ../data/data-norm/norm 5  Normalized ../data/data-norm/norm 51  \\\n",
       "0                            80.810860                             76.163395   \n",
       "1                            79.245560                             75.429326   \n",
       "2                            77.214439                             71.862723   \n",
       "3                            76.833930                             71.180014   \n",
       "4                            74.350506                             68.772934   \n",
       "5                            69.804459                             67.320645   \n",
       "\n",
       "   Normalized ../data/data-norm/nthroot log  \n",
       "0                                 78.309790  \n",
       "1                                 76.437203  \n",
       "2                                 75.157512  \n",
       "3                                 73.678256  \n",
       "4                                 71.887079  \n",
       "5                                 65.145066  \n",
       "\n",
       "[6 rows x 41 columns]"
      ]
     },
     "metadata": {},
     "output_type": "display_data"
    }
   ],
   "source": [
    "accuracies = pd.DataFrame({'test_size': test_size_values})\n",
    "\n",
    "# Setting progress bar for each time the classifier will be run during this step\n",
    "pbar = tqdm(total=len(norm_data_names)*num_runs*len(test_size_values), desc='Running classifier', leave=True)\n",
    "\n",
    "for path in norm_data_names:\n",
    "    path = '../data/data-norm/' + path\n",
    "    data = pd.read_csv(path,na_values='-')\n",
    "    data.fillna(0,inplace=True)\n",
    "    data_label = 'Normalized {} {}'.format(*path.split('_')[:2])\n",
    "    truth_labels = data.iloc[:, 0].values\n",
    "    image_data = data.iloc[:, 1:].values\n",
    "    all_acc_dataset = []\n",
    "    for test_size in test_size_values:\n",
    "        acc = []\n",
    "        idx = 1\n",
    "        while idx <= num_runs:\n",
    "            accuracy = run_classifier(image_data, truth_labels, test_size, state=random.randint(0, 10000))\n",
    "            acc.append(accuracy)\n",
    "            pbar.update(1)\n",
    "            idx += 1\n",
    "        avg_acc = np.average(acc)\n",
    "        all_acc_dataset.append(avg_acc)\n",
    "    temp_df = pd.DataFrame({str(data_label): all_acc_dataset})\n",
    "    accuracies = pd.concat([accuracies, temp_df], axis=1)\n",
    "display(accuracies)"
   ]
  },
  {
   "cell_type": "code",
   "execution_count": 10,
   "metadata": {},
   "outputs": [
    {
     "data": {
      "image/png": "[encoded data removed]",
      "text/plain": [
       "<Figure size 1200x400 with 1 Axes>"
      ]
     },
     "metadata": {},
     "output_type": "display_data"
    }
   ],
   "source": [
    "plt.figure(figsize=(12,4))\n",
    "\n",
    "for path in norm_data_names:\n",
    "    path = '../data/data-norm/' + path\n",
    "    data = pd.read_csv(path,na_values='-')\n",
    "    data.fillna(0,inplace=True)\n",
    "    data_label = 'Normalized {} {}'.format(*path.split('_')[:2])\n",
    "    plt.plot(accuracies['test_size'].values, accuracies[data_label].values, label=data_label)\n",
    "\n",
    "plt.title(\"MuyGPs Stellar Blending 2-class\")    \n",
    "plt.legend(fontsize=10)   \n",
    "plt.tick_params(labelsize=10)\n",
    "plt.xlabel(\"Test size (as a ratio to full data size)\", fontsize=10)\n",
    "plt.ylabel(\"Accuracy [%]\", fontsize=10)\n",
    "plt.savefig(\"muygps_.png\")\n",
    "plt.show()"
   ]
  },
  {
   "cell_type": "code",
   "execution_count": null,
   "metadata": {},
   "outputs": [],
   "source": []
  }
 ],
 "metadata": {
  "kernelspec": {
   "display_name": "Python 3 (ipykernel)",
   "language": "python",
   "name": "python3"
  },
  "language_info": {
   "codemirror_mode": {
    "name": "ipython",
    "version": 3
   },
   "file_extension": ".py",
   "mimetype": "text/x-python",
   "name": "python",
   "nbconvert_exporter": "python",
   "pygments_lexer": "ipython3",
   "version": "3.8.18"
  },
  "vscode": {
   "interpreter": {
    "hash": "611680c3a571b4cc3609a25adc9d467ee0ee0a175b157eb6c71343c892809ab8"
   }
  }
 },
 "nbformat": 4,
 "nbformat_minor": 2
}
